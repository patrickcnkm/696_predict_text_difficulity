{
 "cells": [
  {
   "cell_type": "markdown",
   "id": "7bc61cc2",
   "metadata": {},
   "source": [
    "## Introduction\n",
    "####  Data analysis & visualiztion on the skills of data scientists from the job description of 2 hiring websites"
   ]
  },
  {
   "cell_type": "code",
   "execution_count": 31,
   "id": "80d71309-6e54-453e-922e-781160d69450",
   "metadata": {},
   "outputs": [
    {
     "name": "stderr",
     "output_type": "stream",
     "text": [
      "/opt/conda/lib/python3.7/site-packages/ipykernel/ipkernel.py:287: DeprecationWarning:\n",
      "\n",
      "`should_run_async` will not call `transform_cell` automatically in the future. Please pass the result to `transformed_cell` argument and any exception that happen during thetransform in `preprocessing_exc_tuple` in IPython 7.17 and above.\n",
      "\n"
     ]
    },
    {
     "name": "stdout",
     "output_type": "stream",
     "text": [
      "Requirement already satisfied: tqdm in /opt/conda/lib/python3.7/site-packages (4.42.1)\n",
      "\u001b[33mWARNING: Running pip as the 'root' user can result in broken permissions and conflicting behaviour with the system package manager. It is recommended to use a virtual environment instead: https://pip.pypa.io/warnings/venv\u001b[0m\u001b[33m\n",
      "\u001b[0m"
     ]
    }
   ],
   "source": [
    "#!pip install altair pyLDAvis tqdm dtale transformers spacy scattertext\n",
    "#!pip install Flask==2.1.0\n",
    "#!pip install sentence_transformers\n",
    "#!pip3 install torch torchvision torchaudio --extra-index-url https://download.pytorch.org/whl/cu116\n",
    "#!pip3 install transformers\n",
    "!pip install tqdm"
   ]
  },
  {
   "cell_type": "code",
   "execution_count": 3,
   "id": "6b656938",
   "metadata": {
    "ExecuteTime": {
     "end_time": "2022-05-24T13:09:30.917706Z",
     "start_time": "2022-05-24T13:09:30.847089Z"
    }
   },
   "outputs": [
    {
     "name": "stderr",
     "output_type": "stream",
     "text": [
      "/opt/conda/lib/python3.7/site-packages/transformers/image_utils.py:239: DeprecationWarning:\n",
      "\n",
      "BILINEAR is deprecated and will be removed in Pillow 10 (2023-07-01). Use Resampling.BILINEAR instead.\n",
      "\n",
      "/opt/conda/lib/python3.7/site-packages/transformers/image_utils.py:396: DeprecationWarning:\n",
      "\n",
      "NEAREST is deprecated and will be removed in Pillow 10 (2023-07-01). Use Resampling.NEAREST or Dither.NONE instead.\n",
      "\n",
      "/opt/conda/lib/python3.7/site-packages/h5py/__init__.py:46: DeprecationWarning:\n",
      "\n",
      "`np.typeDict` is a deprecated alias for `np.sctypeDict`.\n",
      "\n"
     ]
    }
   ],
   "source": [
    "from __future__ import print_function\n",
    "import pandas as pd\n",
    "import numpy as np\n",
    "\n",
    "# Text preprocessing\n",
    "import os,re\n",
    "\n",
    "# Disable warning of 3 types\n",
    "import warnings\n",
    "\n",
    "#Plotting\n",
    "import matplotlib.pyplot as plt\n",
    "import matplotlib.cm as cm\n",
    "import altair as alt\n",
    "import pyLDAvis\n",
    "import pyLDAvis.sklearn\n",
    "pyLDAvis.enable_notebook()\n",
    "\n",
    "\n",
    "# Other utils\n",
    "from tqdm import tqdm  # Progress bar\n",
    "from datetime import datetime\n",
    "from dateutil import parser\n",
    "\n",
    "#EDA tools.\n",
    "import dtale\n",
    "\n",
    "# nlp text cleaning\n",
    "import nltk\n",
    "import re\n",
    "import string\n",
    "from nltk.tokenize import word_tokenize, sent_tokenize\n",
    "from nltk.corpus import stopwords\n",
    "from nltk.stem import PorterStemmer # or LancasterStemmer, RegexpStemmer, SnowballStemmer\n",
    "\n",
    "# Transformers\n",
    "from transformers import pipeline\n",
    "import ipywidgets as widgets\n",
    "from transformers import pipeline\n",
    "from sentence_transformers import SentenceTransformer\n",
    "\n",
    "# Clustering algorithms\n",
    "from sklearn.decomposition import PCA\n",
    "from sklearn.cluster import KMeans, MiniBatchKMeans\n",
    "from sklearn.decomposition import LatentDirichletAllocation\n",
    "from scipy.cluster.hierarchy import ward, dendrogram\n",
    "from sklearn.metrics.pairwise import cosine_similarity\n",
    "\n",
    "from sklearn.feature_extraction.text import CountVectorizer, TfidfVectorizer, ENGLISH_STOP_WORDS\n",
    "from nltk.stem.snowball import SnowballStemmer\n",
    "\n",
    "# Visualizing text\n",
    "import spacy\n",
    "import scattertext"
   ]
  },
  {
   "cell_type": "code",
   "execution_count": 4,
   "id": "ce1d0c7e",
   "metadata": {
    "ExecuteTime": {
     "end_time": "2022-05-23T12:57:41.656630Z",
     "start_time": "2022-05-23T12:57:41.573082Z"
    }
   },
   "outputs": [
    {
     "name": "stderr",
     "output_type": "stream",
     "text": [
      "/opt/conda/lib/python3.7/site-packages/ipykernel/ipkernel.py:287: DeprecationWarning:\n",
      "\n",
      "`should_run_async` will not call `transform_cell` automatically in the future. Please pass the result to `transformed_cell` argument and any exception that happen during thetransform in `preprocessing_exc_tuple` in IPython 7.17 and above.\n",
      "\n"
     ]
    }
   ],
   "source": [
    "# load training data\n",
    "train_data_path=\"./01_data/WikiLarge_Train.csv\"\n",
    "train_data=pd.read_csv(train_data_path)"
   ]
  },
  {
   "cell_type": "code",
   "execution_count": 5,
   "id": "ebe614fd",
   "metadata": {
    "ExecuteTime": {
     "end_time": "2022-05-23T12:57:41.812197Z",
     "start_time": "2022-05-23T12:57:41.778710Z"
    }
   },
   "outputs": [
    {
     "name": "stderr",
     "output_type": "stream",
     "text": [
      "/opt/conda/lib/python3.7/site-packages/ipykernel/ipkernel.py:287: DeprecationWarning:\n",
      "\n",
      "`should_run_async` will not call `transform_cell` automatically in the future. Please pass the result to `transformed_cell` argument and any exception that happen during thetransform in `preprocessing_exc_tuple` in IPython 7.17 and above.\n",
      "\n"
     ]
    },
    {
     "data": {
      "text/plain": [
       "416768"
      ]
     },
     "execution_count": 5,
     "metadata": {},
     "output_type": "execute_result"
    }
   ],
   "source": [
    "len(train_data)"
   ]
  },
  {
   "cell_type": "code",
   "execution_count": 6,
   "id": "6fbcec39",
   "metadata": {
    "ExecuteTime": {
     "end_time": "2022-05-23T12:57:42.013465Z",
     "start_time": "2022-05-23T12:57:41.970409Z"
    }
   },
   "outputs": [
    {
     "name": "stderr",
     "output_type": "stream",
     "text": [
      "/opt/conda/lib/python3.7/site-packages/ipykernel/ipkernel.py:287: DeprecationWarning:\n",
      "\n",
      "`should_run_async` will not call `transform_cell` automatically in the future. Please pass the result to `transformed_cell` argument and any exception that happen during thetransform in `preprocessing_exc_tuple` in IPython 7.17 and above.\n",
      "\n"
     ]
    },
    {
     "data": {
      "text/html": [
       "<div>\n",
       "<style scoped>\n",
       "    .dataframe tbody tr th:only-of-type {\n",
       "        vertical-align: middle;\n",
       "    }\n",
       "\n",
       "    .dataframe tbody tr th {\n",
       "        vertical-align: top;\n",
       "    }\n",
       "\n",
       "    .dataframe thead th {\n",
       "        text-align: right;\n",
       "    }\n",
       "</style>\n",
       "<table border=\"1\" class=\"dataframe\">\n",
       "  <thead>\n",
       "    <tr style=\"text-align: right;\">\n",
       "      <th></th>\n",
       "      <th>original_text</th>\n",
       "      <th>label</th>\n",
       "    </tr>\n",
       "  </thead>\n",
       "  <tbody>\n",
       "    <tr>\n",
       "      <th>0</th>\n",
       "      <td>There is manuscript evidence that Austen conti...</td>\n",
       "      <td>1</td>\n",
       "    </tr>\n",
       "    <tr>\n",
       "      <th>1</th>\n",
       "      <td>In a remarkable comparative analysis , Mandaea...</td>\n",
       "      <td>1</td>\n",
       "    </tr>\n",
       "    <tr>\n",
       "      <th>2</th>\n",
       "      <td>Before Persephone was released to Hermes , who...</td>\n",
       "      <td>1</td>\n",
       "    </tr>\n",
       "    <tr>\n",
       "      <th>3</th>\n",
       "      <td>Cogeneration plants are commonly found in dist...</td>\n",
       "      <td>1</td>\n",
       "    </tr>\n",
       "    <tr>\n",
       "      <th>4</th>\n",
       "      <td>Geneva -LRB- , ; , ; , ; ; -RRB- is the second...</td>\n",
       "      <td>1</td>\n",
       "    </tr>\n",
       "  </tbody>\n",
       "</table>\n",
       "</div>"
      ],
      "text/plain": [
       "                                       original_text  label\n",
       "0  There is manuscript evidence that Austen conti...      1\n",
       "1  In a remarkable comparative analysis , Mandaea...      1\n",
       "2  Before Persephone was released to Hermes , who...      1\n",
       "3  Cogeneration plants are commonly found in dist...      1\n",
       "4  Geneva -LRB- , ; , ; , ; ; -RRB- is the second...      1"
      ]
     },
     "execution_count": 6,
     "metadata": {},
     "output_type": "execute_result"
    }
   ],
   "source": [
    "train_data.head()"
   ]
  },
  {
   "cell_type": "markdown",
   "id": "92a17c8a",
   "metadata": {},
   "source": [
    "## Embedding-based clustering analysis"
   ]
  },
  {
   "cell_type": "code",
   "execution_count": 7,
   "id": "181c71fa",
   "metadata": {
    "ExecuteTime": {
     "end_time": "2022-05-23T12:58:17.840572Z",
     "start_time": "2022-05-23T12:57:42.943915Z"
    }
   },
   "outputs": [
    {
     "name": "stderr",
     "output_type": "stream",
     "text": [
      "/opt/conda/lib/python3.7/site-packages/ipykernel/ipkernel.py:287: DeprecationWarning:\n",
      "\n",
      "`should_run_async` will not call `transform_cell` automatically in the future. Please pass the result to `transformed_cell` argument and any exception that happen during thetransform in `preprocessing_exc_tuple` in IPython 7.17 and above.\n",
      "\n"
     ]
    }
   ],
   "source": [
    "\n",
    "onlinemodel='distiluse-base-multilingual-cased-v2'\n",
    "embedder = SentenceTransformer(onlinemodel)"
   ]
  },
  {
   "cell_type": "code",
   "execution_count": 32,
   "id": "4ff76874",
   "metadata": {
    "ExecuteTime": {
     "end_time": "2022-05-24T15:46:05.862384Z",
     "start_time": "2022-05-24T15:41:22.390856Z"
    }
   },
   "outputs": [
    {
     "name": "stderr",
     "output_type": "stream",
     "text": [
      "/opt/conda/lib/python3.7/site-packages/ipykernel/ipkernel.py:287: DeprecationWarning:\n",
      "\n",
      "`should_run_async` will not call `transform_cell` automatically in the future. Please pass the result to `transformed_cell` argument and any exception that happen during thetransform in `preprocessing_exc_tuple` in IPython 7.17 and above.\n",
      "\n"
     ]
    }
   ],
   "source": [
    "from tqdm.notebook import tqdm\n",
    "s_train=train_data.sample(n=round(len(train_data)*0.2))\n",
    "queries_0 = list(s_train[s_train['label']==0]['original_text'])\n",
    "query_embeddings_0=embedder.encode(queries_0)"
   ]
  },
  {
   "cell_type": "code",
   "execution_count": 33,
   "id": "a9afcef2",
   "metadata": {
    "ExecuteTime": {
     "end_time": "2022-05-24T15:56:08.917844Z",
     "start_time": "2022-05-24T15:56:08.883043Z"
    }
   },
   "outputs": [
    {
     "name": "stderr",
     "output_type": "stream",
     "text": [
      "/opt/conda/lib/python3.7/site-packages/ipykernel/ipkernel.py:287: DeprecationWarning:\n",
      "\n",
      "`should_run_async` will not call `transform_cell` automatically in the future. Please pass the result to `transformed_cell` argument and any exception that happen during thetransform in `preprocessing_exc_tuple` in IPython 7.17 and above.\n",
      "\n"
     ]
    }
   ],
   "source": [
    "def remove_sim(i,queries,embeddings,threshold=0.9):\n",
    "    np_em=np.array(embeddings)\n",
    "    sim=cosine_similarity([embeddings[i]],np_em[0:])\n",
    "    \n",
    "    sim[np.where(sim>=1)]=0\n",
    "    #print(sim)\n",
    "    x=np.argmax(sim)\n",
    "    \n",
    "    if sim[0][x]>=threshold:\n",
    "        #print(x,sim[0][x],queries[i],queries[x])\n",
    "        return queries[x]\n",
    "    else:\n",
    "        return queries[i]\n"
   ]
  },
  {
   "cell_type": "code",
   "execution_count": 34,
   "id": "d6be78b7",
   "metadata": {
    "ExecuteTime": {
     "end_time": "2022-05-23T13:19:44.235711Z",
     "start_time": "2022-05-23T13:06:56.213250Z"
    }
   },
   "outputs": [
    {
     "name": "stderr",
     "output_type": "stream",
     "text": [
      "/opt/conda/lib/python3.7/site-packages/ipykernel/ipkernel.py:287: DeprecationWarning:\n",
      "\n",
      "`should_run_async` will not call `transform_cell` automatically in the future. Please pass the result to `transformed_cell` argument and any exception that happen during thetransform in `preprocessing_exc_tuple` in IPython 7.17 and above.\n",
      "\n"
     ]
    },
    {
     "name": "stdout",
     "output_type": "stream",
     "text": [
      "k:  1 sse:  38101.76171875\n",
      "k:  2 sse:  37139.1640625\n",
      "k:  3 sse:  36401.046875\n",
      "k:  4 sse:  35728.08984375\n",
      "k:  5 sse:  35300.16015625\n",
      "k:  6 sse:  34939.27734375\n",
      "k:  7 sse:  34677.65625\n",
      "k:  8 sse:  34422.4609375\n",
      "k:  9 sse:  34238.5625\n",
      "k:  10 sse:  34069.21484375\n",
      "k:  11 sse:  33909.42578125\n",
      "k:  12 sse:  33752.01171875\n",
      "k:  13 sse:  33622.3359375\n",
      "k:  14 sse:  33495.140625\n"
     ]
    },
    {
     "data": {
      "text/plain": [
       "array([3, 5, 3, ..., 1, 4, 7], dtype=int32)"
      ]
     },
     "execution_count": 34,
     "metadata": {},
     "output_type": "execute_result"
    }
   ],
   "source": [
    "# Elbow criterion - Determine optimal numbers of clusters by elbow rule.\n",
    "def elbow_plot(data, maxK=15, seed_centroids=None):\n",
    "    \"\"\"\n",
    "        parameters:\n",
    "        - data: pandas DataFrame (data to be fitted)\n",
    "        - maxK (default = 10): integer (maximum number of clusters with which to run k-means)\n",
    "        - seed_centroids (default = None ): float (initial value of centroids for k-means)\n",
    "    \"\"\"\n",
    "    sse = []\n",
    "    K= range(1, maxK)\n",
    "    for k in K:\n",
    "        if seed_centroids is not None:\n",
    "            seeds = seed_centroids.head(k)\n",
    "            kmeans = KMeans(n_clusters=k, max_iter=500, n_init=100, random_state=0, init=np.reshape(seeds, (k,1))).fit(data)\n",
    "            #data[\"clusters\"] = kmeans.labels_\n",
    "        else:\n",
    "            kmeans = KMeans(n_clusters=k, max_iter=300, n_init=100, random_state=0).fit(data)\n",
    "            #data[\"clusters\"] = kmeans.labels_\n",
    "        print(\"k: \", k,\"sse: \",kmeans.inertia_)\n",
    "        # Inertia: Sum of distances of samples to their closest cluster center\n",
    "        sse.append(kmeans.inertia_)\n",
    "    plt.figure()\n",
    "    plt.plot(K,sse,'bx-')\n",
    "    plt.xlabel('k')\n",
    "    plt.ylabel('Sum_of_squared_distances')\n",
    "    plt.title('Elbow Method For Optimal k')\n",
    "    plt.show()\n",
    "    return kmeans.labels_\n",
    "\n",
    "# Run Elbow\n",
    "elbow_plot(query_embeddings_0)"
   ]
  },
  {
   "cell_type": "code",
   "execution_count": 35,
   "id": "90999961",
   "metadata": {
    "ExecuteTime": {
     "end_time": "2022-05-23T13:20:11.332906Z",
     "start_time": "2022-05-23T13:19:44.276200Z"
    }
   },
   "outputs": [
    {
     "name": "stderr",
     "output_type": "stream",
     "text": [
      "/opt/conda/lib/python3.7/site-packages/ipykernel/ipkernel.py:287: DeprecationWarning:\n",
      "\n",
      "`should_run_async` will not call `transform_cell` automatically in the future. Please pass the result to `transformed_cell` argument and any exception that happen during thetransform in `preprocessing_exc_tuple` in IPython 7.17 and above.\n",
      "\n"
     ]
    },
    {
     "data": {
      "text/html": [
       "<div>\n",
       "<style scoped>\n",
       "    .dataframe tbody tr th:only-of-type {\n",
       "        vertical-align: middle;\n",
       "    }\n",
       "\n",
       "    .dataframe tbody tr th {\n",
       "        vertical-align: top;\n",
       "    }\n",
       "\n",
       "    .dataframe thead th {\n",
       "        text-align: right;\n",
       "    }\n",
       "</style>\n",
       "<table border=\"1\" class=\"dataframe\">\n",
       "  <thead>\n",
       "    <tr style=\"text-align: right;\">\n",
       "      <th></th>\n",
       "      <th>cluster_id</th>\n",
       "      <th>sentence_id</th>\n",
       "      <th>sentence</th>\n",
       "    </tr>\n",
       "  </thead>\n",
       "  <tbody>\n",
       "    <tr>\n",
       "      <th>0</th>\n",
       "      <td>3</td>\n",
       "      <td>0</td>\n",
       "      <td>It let people get to the oceanfront in automob...</td>\n",
       "    </tr>\n",
       "    <tr>\n",
       "      <th>1</th>\n",
       "      <td>3</td>\n",
       "      <td>1</td>\n",
       "      <td>Later he discovered that Marsh had gone -- beh...</td>\n",
       "    </tr>\n",
       "    <tr>\n",
       "      <th>2</th>\n",
       "      <td>3</td>\n",
       "      <td>2</td>\n",
       "      <td>Many people never returned to Darwin .</td>\n",
       "    </tr>\n",
       "    <tr>\n",
       "      <th>3</th>\n",
       "      <td>2</td>\n",
       "      <td>3</td>\n",
       "      <td>Buffy the Vampire Slayer</td>\n",
       "    </tr>\n",
       "    <tr>\n",
       "      <th>4</th>\n",
       "      <td>0</td>\n",
       "      <td>4</td>\n",
       "      <td>Arbore is a commune found in Suceava County , ...</td>\n",
       "    </tr>\n",
       "  </tbody>\n",
       "</table>\n",
       "</div>"
      ],
      "text/plain": [
       "  cluster_id sentence_id                                           sentence\n",
       "0          3           0  It let people get to the oceanfront in automob...\n",
       "1          3           1  Later he discovered that Marsh had gone -- beh...\n",
       "2          3           2             Many people never returned to Darwin .\n",
       "3          2           3                           Buffy the Vampire Slayer\n",
       "4          0           4  Arbore is a commune found in Suceava County , ..."
      ]
     },
     "execution_count": 35,
     "metadata": {},
     "output_type": "execute_result"
    }
   ],
   "source": [
    "# As clustering algorithm KMeams is a perfect fit.\n",
    "num_clusters = 4\n",
    "clf = KMeans(n_clusters=num_clusters, \n",
    "            max_iter=100, \n",
    "            init='k-means++', \n",
    "            n_init=1)\n",
    "clf.fit_predict(query_embeddings_0)\n",
    "cluster_assignment = clf.labels_\n",
    "\n",
    "cdf=pd.DataFrame(columns=[\"cluster_id\",\"sentence_id\",\"sentence\"])\n",
    "\n",
    "for i in range(len(cluster_assignment)):\n",
    "    new_row=pd.Series(data={\"cluster_id\":cluster_assignment[i],\n",
    "                                \"sentence_id\":i,\n",
    "                                \"sentence\":queries_0[i]\n",
    "                           }\n",
    "                            )\n",
    "    cdf=cdf.append(new_row,ignore_index=True)\n",
    "\n",
    "cdf.head()"
   ]
  },
  {
   "cell_type": "code",
   "execution_count": 36,
   "id": "02017529",
   "metadata": {
    "ExecuteTime": {
     "end_time": "2022-05-23T13:20:13.179075Z",
     "start_time": "2022-05-23T13:20:12.022360Z"
    }
   },
   "outputs": [
    {
     "name": "stderr",
     "output_type": "stream",
     "text": [
      "/opt/conda/lib/python3.7/site-packages/ipykernel/ipkernel.py:287: DeprecationWarning:\n",
      "\n",
      "`should_run_async` will not call `transform_cell` automatically in the future. Please pass the result to `transformed_cell` argument and any exception that happen during thetransform in `preprocessing_exc_tuple` in IPython 7.17 and above.\n",
      "\n"
     ]
    }
   ],
   "source": [
    "# Using PCA to reduce the dimension to project the result to 2-d scatter plot\n",
    "\n",
    "pca = PCA(n_components=2)\n",
    "principalComponents = pca.fit_transform(query_embeddings_0)\n",
    "\n",
    "df_pca = pd.DataFrame(data = principalComponents\n",
    "             , columns = ['principal component 1', 'principal component 2'])\n",
    "\n",
    "df_pca['sentence']=queries_0"
   ]
  },
  {
   "cell_type": "code",
   "execution_count": 37,
   "id": "7ba935cd",
   "metadata": {
    "ExecuteTime": {
     "end_time": "2022-05-23T13:20:13.454814Z",
     "start_time": "2022-05-23T13:20:13.422731Z"
    }
   },
   "outputs": [
    {
     "name": "stderr",
     "output_type": "stream",
     "text": [
      "/opt/conda/lib/python3.7/site-packages/ipykernel/ipkernel.py:287: DeprecationWarning:\n",
      "\n",
      "`should_run_async` will not call `transform_cell` automatically in the future. Please pass the result to `transformed_cell` argument and any exception that happen during thetransform in `preprocessing_exc_tuple` in IPython 7.17 and above.\n",
      "\n"
     ]
    }
   ],
   "source": [
    "# Combine PCA results with K-means results to see clustering\n",
    "df_k=df_pca.merge(cdf,right_on=['sentence'],left_on=['sentence'])"
   ]
  },
  {
   "cell_type": "code",
   "execution_count": 38,
   "id": "67e41775",
   "metadata": {
    "ExecuteTime": {
     "end_time": "2022-05-23T13:20:18.091874Z",
     "start_time": "2022-05-23T13:20:14.911942Z"
    }
   },
   "outputs": [
    {
     "name": "stderr",
     "output_type": "stream",
     "text": [
      "/opt/conda/lib/python3.7/site-packages/ipykernel/ipkernel.py:287: DeprecationWarning:\n",
      "\n",
      "`should_run_async` will not call `transform_cell` automatically in the future. Please pass the result to `transformed_cell` argument and any exception that happen during thetransform in `preprocessing_exc_tuple` in IPython 7.17 and above.\n",
      "\n",
      "/opt/conda/lib/python3.7/site-packages/sklearn/feature_extraction/text.py:2032: UserWarning:\n",
      "\n",
      "Only (<class 'numpy.float64'>, <class 'numpy.float32'>, <class 'numpy.float16'>) 'dtype' should be used. <class 'numpy.int64'> 'dtype' will be converted to np.float64.\n",
      "\n"
     ]
    }
   ],
   "source": [
    "tf_vectorizer = CountVectorizer(strip_accents = 'unicode',\n",
    "                                stop_words = 'english',\n",
    "                                lowercase = True,\n",
    "                                token_pattern = r'\\b[a-zA-Z]{3,}\\b',\n",
    "                                max_df = 0.5, \n",
    "                                min_df = 10)\n",
    "dtm_tf = tf_vectorizer.fit_transform(df_pca['sentence'])\n",
    "tfidf_vectorizer = TfidfVectorizer(**tf_vectorizer.get_params())\n",
    "dtm_tfidf = tfidf_vectorizer.fit_transform(df_pca['sentence'])"
   ]
  },
  {
   "cell_type": "code",
   "execution_count": 39,
   "id": "c9e17826",
   "metadata": {
    "ExecuteTime": {
     "end_time": "2022-05-23T13:20:57.159038Z",
     "start_time": "2022-05-23T13:20:18.111039Z"
    }
   },
   "outputs": [
    {
     "name": "stderr",
     "output_type": "stream",
     "text": [
      "/opt/conda/lib/python3.7/site-packages/ipykernel/ipkernel.py:287: DeprecationWarning:\n",
      "\n",
      "`should_run_async` will not call `transform_cell` automatically in the future. Please pass the result to `transformed_cell` argument and any exception that happen during thetransform in `preprocessing_exc_tuple` in IPython 7.17 and above.\n",
      "\n"
     ]
    },
    {
     "data": {
      "text/plain": [
       "LatentDirichletAllocation(n_components=3, random_state=0)"
      ]
     },
     "execution_count": 39,
     "metadata": {},
     "output_type": "execute_result"
    }
   ],
   "source": [
    "# Using LDA to cluster skills\n",
    "lda_tf = LatentDirichletAllocation(n_components=3, random_state=0)\n",
    "lda_tf.fit(dtm_tf)\n",
    "# for TFIDF DTM\n",
    "lda_tfidf = LatentDirichletAllocation(n_components=3, random_state=0)\n",
    "lda_tfidf.fit(dtm_tfidf)"
   ]
  },
  {
   "cell_type": "code",
   "execution_count": 40,
   "id": "8a5b5509",
   "metadata": {
    "ExecuteTime": {
     "end_time": "2022-05-23T13:21:11.866248Z",
     "start_time": "2022-05-23T13:20:57.181672Z"
    }
   },
   "outputs": [
    {
     "name": "stderr",
     "output_type": "stream",
     "text": [
      "/opt/conda/lib/python3.7/site-packages/ipykernel/ipkernel.py:287: DeprecationWarning:\n",
      "\n",
      "`should_run_async` will not call `transform_cell` automatically in the future. Please pass the result to `transformed_cell` argument and any exception that happen during thetransform in `preprocessing_exc_tuple` in IPython 7.17 and above.\n",
      "\n",
      "/opt/conda/lib/python3.7/site-packages/sklearn/utils/deprecation.py:87: FutureWarning:\n",
      "\n",
      "Function get_feature_names is deprecated; get_feature_names is deprecated in 1.0 and will be removed in 1.2. Please use get_feature_names_out instead.\n",
      "\n",
      "/opt/conda/lib/python3.7/site-packages/pyLDAvis/_prepare.py:247: FutureWarning:\n",
      "\n",
      "In a future version of pandas all arguments of DataFrame.drop except for the argument 'labels' will be keyword-only\n",
      "\n"
     ]
    },
    {
     "data": {
      "text/html": [
       "\n",
       "<link rel=\"stylesheet\" type=\"text/css\" href=\"https://cdn.jsdelivr.net/gh/bmabey/pyLDAvis@3.3.1/pyLDAvis/js/ldavis.v1.0.0.css\">\n",
       "\n",
       "\n",
       "<div id=\"ldavis_el2761397496858029606843245001\"></div>\n",
       "<script type=\"text/javascript\">\n",
       "\n",
       "var ldavis_el2761397496858029606843245001_data = {\"mdsDat\": {\"x\": [-0.13129754983812592, -0.17453221284477963, 0.3058297626829055], \"y\": [0.20459107656693087, -0.1861769915640059, -0.01841408500292494], \"topics\": [1, 2, 3], \"cluster\": [1, 1, 1], \"Freq\": [43.10636731022912, 30.462596610830815, 26.43103607894006]}, \"tinfo\": {\"Term\": [\"lrb\", \"rrb\", \"born\", \"france\", \"region\", \"city\", \"department\", \"football\", \"commune\", \"player\", \"united\", \"states\", \"national\", \"pas\", \"calais\", \"north\", \"county\", \"german\", \"district\", \"town\", \"south\", \"area\", \"april\", \"died\", \"state\", \"march\", \"river\", \"located\", \"november\", \"northwest\", \"won\", \"album\", \"game\", \"championship\", \"place\", \"movie\", \"references\", \"film\", \"award\", \"took\", \"video\", \"song\", \"websites\", \"band\", \"play\", \"different\", \"match\", \"songs\", \"players\", \"worked\", \"languages\", \"wrestling\", \"title\", \"metal\", \"event\", \"sold\", \"cup\", \"started\", \"wwe\", \"teams\", \"music\", \"did\", \"character\", \"language\", \"series\", \"produced\", \"means\", \"year\", \"book\", \"history\", \"said\", \"released\", \"best\", \"world\", \"work\", \"time\", \"used\", \"century\", \"written\", \"new\", \"use\", \"university\", \"war\", \"people\", \"like\", \"called\", \"later\", \"years\", \"group\", \"american\", \"county\", \"district\", \"city\", \"area\", \"river\", \"capital\", \"largest\", \"municipality\", \"population\", \"hurricane\", \"near\", \"water\", \"tropical\", \"sea\", \"pakistan\", \"storm\", \"switzerland\", \"park\", \"province\", \"canton\", \"station\", \"lake\", \"areas\", \"railway\", \"village\", \"miles\", \"islands\", \"florida\", \"coast\", \"africa\", \"town\", \"national\", \"republic\", \"large\", \"center\", \"located\", \"island\", \"states\", \"united\", \"south\", \"state\", \"east\", \"northern\", \"small\", \"london\", \"west\", \"team\", \"north\", \"known\", \"called\", \"new\", \"people\", \"rrb\", \"lrb\", \"born\", \"france\", \"region\", \"department\", \"commune\", \"player\", \"football\", \"pas\", \"calais\", \"april\", \"northwest\", \"nord\", \"aisne\", \"picardie\", \"calvados\", \"italian\", \"normandie\", \"basse\", \"saint\", \"loire\", \"japanese\", \"pays\", \"emperor\", \"gironde\", \"aquitaine\", \"composer\", \"alpes\", \"duke\", \"brazilian\", \"writer\", \"lrb\", \"rrb\", \"died\", \"german\", \"southwest\", \"march\", \"plays\", \"november\", \"february\", \"july\", \"june\", \"october\", \"king\", \"north\", \"december\", \"american\", \"august\", \"september\", \"january\", \"english\", \"known\"], \"Freq\": [8850.0, 8870.0, 1785.0, 1579.0, 1354.0, 1495.0, 1213.0, 1150.0, 928.0, 878.0, 1281.0, 1120.0, 694.0, 560.0, 560.0, 1171.0, 514.0, 473.0, 500.0, 504.0, 712.0, 474.0, 415.0, 417.0, 633.0, 429.0, 415.0, 448.0, 410.0, 334.0, 395.78947662162955, 422.6522542711262, 413.8860844570681, 247.60169382379019, 298.4328950641844, 302.25013713507553, 223.5472251741443, 242.72190247158167, 202.3656177873479, 200.4230609036002, 192.74633600555555, 265.6153273486055, 186.97168400628956, 417.08306685993927, 237.7665101392617, 385.35433606840667, 161.96333928936048, 143.6711869512556, 142.68901994825242, 157.0451570958283, 138.83486728208268, 152.23029531931766, 148.36496429500107, 126.35012184328458, 131.12731626832672, 126.32754408966534, 126.32734541179988, 355.93358886679215, 116.73207058963789, 114.80553059832084, 493.67525630688954, 244.46769007603754, 172.13661102297587, 333.4870836786263, 441.08503104358954, 144.43884023216762, 238.87901922418104, 519.1227054417329, 297.65844152778766, 344.4524929590274, 309.33369698862754, 347.9519083016864, 293.9078335149087, 790.7050810545846, 292.52220992738114, 631.2088772076804, 765.267326809129, 315.0574812284147, 249.61786566890882, 803.4807985020793, 349.29490754985244, 401.2819525216083, 391.7401891719535, 650.338226835152, 379.3801511747781, 625.5118712324114, 330.2414304396557, 342.7293005412714, 303.1294661269996, 310.48023057944874, 514.0276547739389, 500.2484226563698, 1493.652726718338, 473.6089009745507, 414.6247732430443, 361.4812191295024, 310.2785479219352, 278.8184759255671, 282.74387792488386, 257.1764817903471, 280.69624813757315, 295.4084994273735, 237.4925134957485, 233.53282495088587, 214.84918381647893, 209.93298018662614, 207.95296476256934, 205.97379164711197, 343.2857050944088, 184.35520106170821, 184.3131573397125, 172.52846630886305, 161.6534373320443, 150.8748296123566, 151.84663115408418, 143.00487641877578, 185.11563999969127, 142.0024080887056, 141.01377859662907, 142.96632726392068, 502.33055112025266, 685.3747125770465, 198.68770674039905, 304.733594423128, 261.5039336950157, 436.97339270568756, 277.97122024603726, 984.0687701504413, 1054.0541916633647, 617.8109356424651, 556.091251239584, 364.945755414607, 227.23535843720563, 311.2769852765522, 299.60021273883547, 411.624262828517, 399.8304398559728, 503.0589356051963, 454.1116253097671, 404.9378358655228, 343.02471902096136, 339.5970447716676, 311.6753050195648, 302.5371462992199, 1784.5691514107216, 1579.2397940380151, 1353.67202115723, 1213.0897650486882, 927.8550631223326, 878.2684497869684, 1149.041253828216, 559.6843340019973, 559.6843087951233, 414.8691877066449, 334.0879346481334, 275.45797513198437, 251.18325628007938, 236.01108300814002, 225.89642987789185, 225.85547364682347, 211.73574051202507, 210.72426139539328, 231.8669939513857, 184.42406545367982, 319.43500471701054, 176.33064936143273, 156.06706401758672, 136.88611066494101, 120.70222989683398, 125.72648089908819, 116.65578395847577, 118.64196964874826, 115.61800296314254, 149.77474508097583, 8546.032894272033, 8556.954731920663, 414.7953994626088, 466.15000073559094, 155.4228245424531, 415.1227841973829, 320.6602908922513, 386.98135379861196, 387.38633173354987, 372.18740685143985, 367.280423328781, 374.19001517703185, 299.7305794324086, 668.0602720433639, 342.36074698349455, 542.9685433651281, 330.196733244473, 354.239141909337, 337.2488748292921, 364.76511728171903, 347.367626184465], \"Total\": [8850.0, 8870.0, 1785.0, 1579.0, 1354.0, 1495.0, 1213.0, 1150.0, 928.0, 878.0, 1281.0, 1120.0, 694.0, 560.0, 560.0, 1171.0, 514.0, 473.0, 500.0, 504.0, 712.0, 474.0, 415.0, 417.0, 633.0, 429.0, 415.0, 448.0, 410.0, 334.0, 396.47559547118664, 423.420717755797, 414.76803524935497, 248.2874880215869, 299.2925666654305, 303.14592557059103, 224.23090292550268, 243.4796058425089, 203.06181941599297, 201.1377642308682, 193.43909780777938, 266.5841299886759, 187.6653080575154, 418.63785863383396, 238.67454103851586, 386.8737784905517, 162.6462420032646, 144.36382739338427, 143.40244122593958, 157.83890467680192, 139.5534765350995, 153.0293578970243, 149.17800204064622, 127.042996356863, 131.85504847934695, 127.0433420812638, 127.04417436613709, 358.01661687680246, 117.42038824965444, 115.49564928034525, 497.673731805647, 246.39066201142577, 173.24295456203637, 337.9615729886782, 448.7582353014509, 145.33054715080021, 241.59749806657902, 533.4271913149402, 305.39682922925175, 360.2582458546415, 329.5584124519298, 375.5787529664987, 314.25679787400355, 935.694268278853, 313.2255238940843, 775.0149468859049, 1009.7665368968842, 347.6555698322763, 263.3564836936636, 1147.9686589769822, 401.7846309857918, 493.2344776466578, 482.39652017882315, 1094.196823601748, 488.4680993344044, 1129.0519312817426, 436.50803390655193, 528.6374843837873, 391.90503500706046, 898.2613753563378, 514.6965796202591, 500.91896064097637, 1495.8305821326262, 474.3464864366515, 415.30042178843644, 362.1580804080407, 310.98370163112565, 279.491717128116, 283.4284985817868, 257.8412474406155, 281.459177812998, 296.21891669230763, 238.15890367834893, 234.22250461354912, 215.5240327097933, 210.6033650824207, 208.63546752855814, 206.6670296443109, 344.4564932667265, 185.0163842830746, 185.0169804290821, 173.2069223535226, 162.38030671410525, 151.55651125024679, 152.54049403867936, 143.6837280223299, 186.00557459927902, 142.6993490973865, 141.71456096404154, 143.68300123884862, 504.9064269751171, 694.9030794741457, 199.77296596600485, 308.9387721217784, 264.6871441189575, 448.0520284666642, 284.2882527022907, 1120.7767871296235, 1281.1050817513612, 712.0837786136999, 633.0392964478413, 402.5204864240653, 234.08795727713144, 366.9874086474322, 356.6743692887418, 575.1972823520521, 648.0136108612883, 1171.450586804463, 1039.2872926192383, 1129.0519312817426, 1147.9686589769822, 1094.196823601748, 8870.020593999248, 8850.040958296297, 1785.2330177253807, 1579.9030042797153, 1354.3431720040953, 1213.7480173611305, 928.5112932298645, 878.947686283535, 1150.0158999081407, 560.3334257388584, 560.333425099182, 415.6862691464957, 334.77268627383626, 276.1080020451617, 251.83254560537702, 236.66037208315703, 226.54559340008518, 226.5439659575109, 212.38489783002743, 211.3734195280441, 232.61159691108406, 185.0749280485314, 320.5876258009668, 176.9830145204121, 156.75221658348156, 137.5354982987886, 121.35183924214282, 126.40776061687028, 117.30591341997126, 119.32738473242838, 116.29351626522825, 150.6722132918769, 8850.040958296297, 8870.020593999248, 417.6087579803078, 473.08042144221395, 156.73510979183925, 429.16882252908533, 331.4567273943883, 410.533196228032, 431.8968181136083, 426.80197903392695, 421.9291174828608, 438.57635328480404, 348.6236877270873, 1171.450586804463, 428.64926890559127, 898.2613753563378, 422.00745286417816, 483.0485185166441, 439.93669714908, 525.9125360954273, 1039.2872926192383], \"Category\": [\"Default\", \"Default\", \"Default\", \"Default\", \"Default\", \"Default\", \"Default\", \"Default\", \"Default\", \"Default\", \"Default\", \"Default\", \"Default\", \"Default\", \"Default\", \"Default\", \"Default\", \"Default\", \"Default\", \"Default\", \"Default\", \"Default\", \"Default\", \"Default\", \"Default\", \"Default\", \"Default\", \"Default\", \"Default\", \"Default\", \"Topic1\", \"Topic1\", \"Topic1\", \"Topic1\", \"Topic1\", \"Topic1\", \"Topic1\", \"Topic1\", \"Topic1\", \"Topic1\", \"Topic1\", \"Topic1\", \"Topic1\", \"Topic1\", \"Topic1\", \"Topic1\", \"Topic1\", \"Topic1\", \"Topic1\", \"Topic1\", \"Topic1\", \"Topic1\", \"Topic1\", \"Topic1\", \"Topic1\", \"Topic1\", \"Topic1\", \"Topic1\", \"Topic1\", \"Topic1\", \"Topic1\", \"Topic1\", \"Topic1\", \"Topic1\", \"Topic1\", \"Topic1\", \"Topic1\", \"Topic1\", \"Topic1\", \"Topic1\", \"Topic1\", \"Topic1\", \"Topic1\", \"Topic1\", \"Topic1\", \"Topic1\", \"Topic1\", \"Topic1\", \"Topic1\", \"Topic1\", \"Topic1\", \"Topic1\", \"Topic1\", \"Topic1\", \"Topic1\", \"Topic1\", \"Topic1\", \"Topic1\", \"Topic1\", \"Topic1\", \"Topic2\", \"Topic2\", \"Topic2\", \"Topic2\", \"Topic2\", \"Topic2\", \"Topic2\", \"Topic2\", \"Topic2\", \"Topic2\", \"Topic2\", \"Topic2\", \"Topic2\", \"Topic2\", \"Topic2\", \"Topic2\", \"Topic2\", \"Topic2\", \"Topic2\", \"Topic2\", \"Topic2\", \"Topic2\", \"Topic2\", \"Topic2\", \"Topic2\", \"Topic2\", \"Topic2\", \"Topic2\", \"Topic2\", \"Topic2\", \"Topic2\", \"Topic2\", \"Topic2\", \"Topic2\", \"Topic2\", \"Topic2\", \"Topic2\", \"Topic2\", \"Topic2\", \"Topic2\", \"Topic2\", \"Topic2\", \"Topic2\", \"Topic2\", \"Topic2\", \"Topic2\", \"Topic2\", \"Topic2\", \"Topic2\", \"Topic2\", \"Topic2\", \"Topic2\", \"Topic2\", \"Topic2\", \"Topic3\", \"Topic3\", \"Topic3\", \"Topic3\", \"Topic3\", \"Topic3\", \"Topic3\", \"Topic3\", \"Topic3\", \"Topic3\", \"Topic3\", \"Topic3\", \"Topic3\", \"Topic3\", \"Topic3\", \"Topic3\", \"Topic3\", \"Topic3\", \"Topic3\", \"Topic3\", \"Topic3\", \"Topic3\", \"Topic3\", \"Topic3\", \"Topic3\", \"Topic3\", \"Topic3\", \"Topic3\", \"Topic3\", \"Topic3\", \"Topic3\", \"Topic3\", \"Topic3\", \"Topic3\", \"Topic3\", \"Topic3\", \"Topic3\", \"Topic3\", \"Topic3\", \"Topic3\", \"Topic3\", \"Topic3\", \"Topic3\", \"Topic3\", \"Topic3\", \"Topic3\", \"Topic3\", \"Topic3\", \"Topic3\", \"Topic3\", \"Topic3\"], \"logprob\": [30.0, 29.0, 28.0, 27.0, 26.0, 25.0, 24.0, 23.0, 22.0, 21.0, 20.0, 19.0, 18.0, 17.0, 16.0, 15.0, 14.0, 13.0, 12.0, 11.0, 10.0, 9.0, 8.0, 7.0, 6.0, 5.0, 4.0, 3.0, 2.0, 1.0, -5.6802, -5.6146, -5.6355, -6.1493, -5.9626, -5.9499, -6.2515, -6.1692, -6.351, -6.3607, -6.3997, -6.0791, -6.4302, -5.6278, -6.1898, -5.7069, -6.5737, -6.6936, -6.7004, -6.6046, -6.7278, -6.6357, -6.6614, -6.8221, -6.7849, -6.8222, -6.8222, -5.7864, -6.9012, -6.9179, -5.4592, -6.162, -6.5128, -5.8515, -5.5719, -6.6883, -6.1852, -5.409, -5.9652, -5.8192, -5.9267, -5.809, -5.9778, -4.9882, -5.9826, -5.2135, -5.0209, -5.9084, -6.1412, -4.9722, -5.8052, -5.6664, -5.6905, -5.1836, -5.7226, -5.2225, -5.8613, -5.8242, -5.9469, -5.923, -5.0717, -5.0988, -4.005, -5.1536, -5.2866, -5.4237, -5.5765, -5.6834, -5.6694, -5.7642, -5.6767, -5.6256, -5.8438, -5.8606, -5.944, -5.9671, -5.9766, -5.9862, -5.4754, -6.0971, -6.0973, -6.1634, -6.2285, -6.2975, -6.2911, -6.3511, -6.093, -6.3581, -6.3651, -6.3513, -5.0947, -4.784, -6.0222, -5.5945, -5.7475, -5.2341, -5.6864, -4.4222, -4.3535, -4.8878, -4.993, -5.4142, -5.888, -5.5733, -5.6115, -5.2938, -5.3229, -5.0932, -5.1956, -5.3102, -5.4761, -5.4862, -5.572, -5.6017, -3.685, -3.8073, -3.9614, -4.0711, -4.3391, -4.394, -4.1253, -4.8446, -4.8446, -5.144, -5.3606, -5.5535, -5.6458, -5.7081, -5.7519, -5.7521, -5.8166, -5.8214, -5.7258, -5.9547, -5.4054, -5.9996, -6.1217, -6.2528, -6.3787, -6.3379, -6.4127, -6.3959, -6.4217, -6.1628, -2.1188, -2.1175, -5.1442, -5.0275, -6.1258, -5.1434, -5.4016, -5.2136, -5.2126, -5.2526, -5.2659, -5.2472, -5.4691, -4.6676, -5.3361, -4.8749, -5.3723, -5.302, -5.3512, -5.2727, -5.3216], \"loglift\": [30.0, 29.0, 28.0, 27.0, 26.0, 25.0, 24.0, 23.0, 22.0, 21.0, 20.0, 19.0, 18.0, 17.0, 16.0, 15.0, 14.0, 13.0, 12.0, 11.0, 10.0, 9.0, 8.0, 7.0, 6.0, 5.0, 4.0, 3.0, 2.0, 1.0, 0.8398, 0.8397, 0.8394, 0.8387, 0.8386, 0.8385, 0.8384, 0.8384, 0.8381, 0.8379, 0.8379, 0.8379, 0.8378, 0.8378, 0.8377, 0.8376, 0.8373, 0.8367, 0.8365, 0.8365, 0.8363, 0.8363, 0.836, 0.836, 0.836, 0.8358, 0.8358, 0.8357, 0.8356, 0.8355, 0.8334, 0.8337, 0.8351, 0.8282, 0.8243, 0.8353, 0.8302, 0.8143, 0.8158, 0.7966, 0.7782, 0.7651, 0.7746, 0.6731, 0.7731, 0.6363, 0.5643, 0.743, 0.7879, 0.4847, 0.7015, 0.6352, 0.6333, 0.3212, 0.5888, 0.2509, 0.5625, 0.4081, 0.5846, -0.2208, 1.1874, 1.1873, 1.1872, 1.1871, 1.187, 1.1868, 1.1864, 1.1863, 1.1863, 1.1861, 1.186, 1.1859, 1.1859, 1.1857, 1.1855, 1.1855, 1.1854, 1.1853, 1.1853, 1.1851, 1.1849, 1.1847, 1.1842, 1.1842, 1.1841, 1.1839, 1.1839, 1.1838, 1.1837, 1.1837, 1.1836, 1.1749, 1.1832, 1.175, 1.1766, 1.1636, 1.1662, 1.0586, 0.9936, 1.0467, 1.0591, 1.0907, 1.159, 1.024, 1.0143, 0.8541, 0.7058, 0.3434, 0.3607, 0.1633, -0.0193, 0.0187, -2.1598, -2.1873, 1.3303, 1.3302, 1.3301, 1.3301, 1.3299, 1.3299, 1.3298, 1.3295, 1.3295, 1.3287, 1.3286, 1.3283, 1.328, 1.3279, 1.3278, 1.3276, 1.3276, 1.3276, 1.3274, 1.3271, 1.327, 1.3269, 1.3263, 1.3259, 1.3253, 1.3252, 1.3251, 1.3249, 1.3248, 1.3247, 1.2957, 1.2947, 1.3239, 1.3159, 1.3222, 1.2974, 1.2975, 1.2716, 1.2219, 1.1937, 1.1919, 1.1719, 1.1795, 0.769, 1.1059, 0.8272, 1.0853, 1.0205, 1.0648, 0.9647, 0.2347]}, \"token.table\": {\"Topic\": [2, 3, 1, 3, 1, 2, 3, 3, 3, 2, 2, 1, 2, 3, 1, 1, 2, 3, 3, 1, 2, 3, 1, 2, 3, 3, 3, 3, 1, 2, 3, 3, 2, 2, 1, 2, 3, 1, 2, 3, 1, 1, 2, 1, 2, 2, 3, 3, 2, 1, 1, 2, 3, 3, 1, 2, 1, 2, 3, 1, 2, 2, 3, 2, 3, 3, 1, 2, 3, 1, 1, 2, 3, 1, 2, 2, 3, 3, 1, 3, 1, 2, 3, 3, 1, 2, 3, 1, 2, 3, 2, 1, 2, 2, 3, 3, 1, 2, 3, 1, 3, 1, 2, 3, 1, 2, 3, 1, 2, 3, 1, 2, 3, 2, 1, 3, 1, 1, 2, 2, 1, 2, 3, 1, 2, 3, 2, 3, 3, 1, 2, 3, 1, 2, 3, 1, 3, 1, 1, 2, 1, 2, 1, 3, 2, 1, 3, 1, 2, 3, 2, 1, 2, 3, 3, 3, 2, 3, 1, 2, 3, 1, 2, 3, 1, 2, 3, 2, 2, 3, 3, 1, 2, 3, 3, 1, 1, 3, 3, 1, 2, 3, 2, 1, 2, 2, 3, 2, 1, 3, 1, 2, 3, 1, 2, 2, 1, 2, 3, 1, 2, 3, 3, 2, 1, 2, 3, 1, 2, 3, 1, 2, 3, 1, 1, 3, 1, 2, 3, 2, 3, 1, 2, 1, 2, 3, 1, 2, 2, 2, 2, 1, 2, 3, 1, 1, 2, 3, 1, 1, 2, 3, 2, 1, 2, 1, 2, 3, 1, 2, 3, 1, 2, 3, 1, 2, 1, 2, 3, 2, 1, 2, 3, 1, 1, 2, 3, 1, 1, 2, 3, 1, 1, 3, 1, 3, 1, 1, 2, 3, 1, 2, 3], \"Freq\": [0.9952464715174397, 0.9966940507892827, 0.9990063836318004, 0.9973921739232697, 0.34511113190971154, 0.05009677721270006, 0.604501111699914, 0.9983490694847709, 0.997100668235932, 0.9992695499037964, 0.997657925879061, 0.026065890366017582, 0.19193973814976584, 0.7819767109805275, 0.9947709548794216, 0.9960876480708676, 0.0023886993958533993, 0.0023886993958533993, 0.9982333657236663, 0.9355406215202218, 0.0509137753208284, 0.0127284438302071, 0.9757796135345623, 0.0032744282333374577, 0.0229209976333622, 0.9998694748959563, 0.9974760736913412, 0.9994049523297258, 0.5544474816931947, 0.3587080352807409, 0.0876841864019589, 0.9975916838994893, 0.9945065174253999, 0.996802279251271, 0.011334135664147402, 0.9898478480022065, 0.0037780452213824678, 0.9060691883980725, 0.03739333158468236, 0.05752820243797286, 0.9988421163552071, 0.9928253673277588, 0.005772240507719528, 0.001337049812919704, 0.998776210251019, 0.9949577449262758, 0.9994493408603724, 0.9967742438052821, 0.9986466208483977, 0.9917810134046147, 0.18663276903341636, 0.013997457677506228, 0.797855087617855, 0.9993837128049389, 0.9902972702296854, 0.008117190739587585, 0.004789171591306304, 0.002394585795653152, 0.9937531051960581, 0.9951566154267096, 0.0025848223777317136, 0.9981654504756609, 0.9972564157576864, 0.9067861445826224, 0.09192078725906036, 0.9952012379800642, 0.29852872716369744, 0.007605827443661082, 0.6940317542340737, 0.9935152389748589, 0.07872250633496557, 0.025469046167194743, 0.8960473515185787, 0.9980302011708565, 0.9950991430457807, 0.0008695531949426756, 0.9991166209891343, 0.9994284432162802, 0.9981482776297039, 0.0024109861778495263, 0.00845522202716773, 0.006341416520375797, 0.9850333661650404, 0.9961064721078389, 0.773146484312306, 0.2066827235290323, 0.020413108496694546, 0.9548705795308807, 0.04163679852605585, 0.002775786568403723, 0.9967373434275318, 0.021105339186432214, 0.9778807156380259, 0.9945938469777297, 0.005376182956636377, 0.9975988503811534, 0.22048626683927192, 0.01363832578387249, 0.7660192981941715, 0.003119271985316235, 0.995047763315879, 0.053889159680235936, 0.07263321522118757, 0.8715985826542508, 0.03555099512801298, 0.09243258733283374, 0.8698143474653842, 0.12334216381091591, 0.01721053448524408, 0.8605267242622041, 0.22900308864566826, 0.43683782455938397, 0.3338826544539785, 0.9988053459370391, 0.9853191209142454, 0.011835665116087033, 0.9960339466357881, 0.012947549355906899, 0.987250638387901, 0.9968368064758182, 0.7559998313127193, 0.2290908579735513, 0.013745451478413077, 0.7758950902145552, 0.2149577426715786, 0.008188866387488709, 0.9753331582841245, 0.024550720231408165, 0.9941919304799106, 0.06448458869042144, 0.8411033307446275, 0.09812872192020654, 0.0001129938273407164, 0.03423712968423707, 0.9656452484537623, 0.03262119535500788, 0.9669854337377336, 0.9960267019065118, 0.9892486549431766, 0.008278231422118632, 0.9917902097181869, 0.9952414373447798, 0.9962198879353759, 0.0032987413507793903, 0.9982406737016445, 0.9926181922595793, 0.008037394269308334, 0.004317148806233801, 0.9857489774233845, 0.010073347214545536, 0.9983685811329163, 0.6994964485490374, 0.2987886448970359, 0.0008711039209826119, 0.995987070143007, 0.9981877344671868, 0.42938217425978387, 0.5702331856968899, 0.02563139116505996, 0.9697209657447685, 0.9976919076569938, 0.05115298882757213, 0.0073075698325103045, 0.9426765083938293, 0.061562826627058614, 0.08436387352596922, 0.8527591540192564, 0.9975685648453929, 0.9967724428736461, 0.9994049511888056, 0.9944457126404143, 0.5940430331906893, 0.31073020197666823, 0.09504688531051028, 0.997209621208045, 0.9956812603806648, 0.9971738039776643, 0.004189805899065816, 0.998921794438595, 0.9971936236057132, 0.030169850763358815, 0.9684522095038179, 0.9984881598571388, 0.9908446835377315, 0.006880865857900913, 0.9957716190717918, 0.0029031242538536204, 0.996328028102152, 0.9989702448570196, 0.9997466137008779, 0.9265699863246558, 0.007987672295902205, 0.06390137836721764, 0.00500568230122873, 0.9961307779445173, 0.9992766157396549, 0.00011273930983615987, 0.035174664668881875, 0.9647102742680199, 0.9376183047521855, 0.060687268915999064, 0.0030343634457999534, 0.9973707376622419, 0.9990500288863522, 0.08073723136500252, 0.18631668776539043, 0.7328456385438691, 0.9827117706347175, 0.0022283713619834864, 0.015598599533884405, 0.1416942346650286, 0.847440518861998, 0.010899556512694508, 0.9917875107489189, 0.9978088343492139, 0.0037511610313880218, 0.9974797883933012, 0.8678754081480915, 0.1320069391034314, 0.00638019140273105, 0.9889296674233128, 0.994367253412999, 0.0055863328843426905, 0.12005573812946059, 0.8783025052628959, 0.0015796807648613236, 0.12134441180594412, 0.8779625089488898, 0.994503313010927, 0.9971350643795052, 0.9969541730555896, 0.37653530097260546, 0.6172709852009926, 0.0061727098520099255, 0.995708502584871, 0.8141778459053303, 0.1806416773799465, 0.003870893086713139, 0.9921033796904905, 0.9943433584676705, 0.9942436324438779, 0.003961130009736565, 0.995133905722399, 0.17719077321094923, 0.8227272024860813, 0.8130007494878886, 0.006082299871480463, 0.1804415628539204, 0.8686245642191863, 0.09955582397927637, 0.029866747193782912, 0.7576008632162868, 0.21589148781849743, 0.025748526070096023, 0.9977300462380376, 0.9964567176598871, 0.812609510231721, 0.17205762589090012, 0.016583867555749407, 0.9958850815271404, 0.9964548159465281, 0.7162759850242713, 0.2833810329100879, 0.9988004420029398, 0.9354282382781697, 0.06385175687905595, 0.0031925878439527976, 0.9946850576635735, 0.8453615959997186, 0.15282769687479109, 0.0021374503059411343, 0.9932734613072285, 0.006636923810648719, 0.9955385715973077, 0.9492836344625565, 0.04936274899205294, 0.9964198019107157, 0.972953775979481, 0.026245381240294283, 0.0018746700885924489, 0.6488378333591348, 0.3461729548242614, 0.0056749664725288754], \"Term\": [\"africa\", \"aisne\", \"album\", \"alpes\", \"american\", \"american\", \"american\", \"april\", \"aquitaine\", \"area\", \"areas\", \"august\", \"august\", \"august\", \"award\", \"band\", \"band\", \"band\", \"basse\", \"best\", \"best\", \"best\", \"book\", \"book\", \"book\", \"born\", \"brazilian\", \"calais\", \"called\", \"called\", \"called\", \"calvados\", \"canton\", \"capital\", \"center\", \"center\", \"center\", \"century\", \"century\", \"century\", \"championship\", \"character\", \"character\", \"city\", \"city\", \"coast\", \"commune\", \"composer\", \"county\", \"cup\", \"december\", \"december\", \"december\", \"department\", \"did\", \"did\", \"died\", \"died\", \"died\", \"different\", \"different\", \"district\", \"duke\", \"east\", \"east\", \"emperor\", \"english\", \"english\", \"english\", \"event\", \"february\", \"february\", \"february\", \"film\", \"florida\", \"football\", \"football\", \"france\", \"game\", \"game\", \"german\", \"german\", \"german\", \"gironde\", \"group\", \"group\", \"group\", \"history\", \"history\", \"history\", \"hurricane\", \"island\", \"island\", \"islands\", \"islands\", \"italian\", \"january\", \"january\", \"january\", \"japanese\", \"japanese\", \"july\", \"july\", \"july\", \"june\", \"june\", \"june\", \"king\", \"king\", \"king\", \"known\", \"known\", \"known\", \"lake\", \"language\", \"language\", \"languages\", \"large\", \"large\", \"largest\", \"later\", \"later\", \"later\", \"like\", \"like\", \"like\", \"located\", \"located\", \"loire\", \"london\", \"london\", \"london\", \"lrb\", \"lrb\", \"lrb\", \"march\", \"march\", \"match\", \"means\", \"means\", \"metal\", \"miles\", \"movie\", \"movie\", \"municipality\", \"music\", \"music\", \"national\", \"national\", \"national\", \"near\", \"new\", \"new\", \"new\", \"nord\", \"normandie\", \"north\", \"north\", \"northern\", \"northern\", \"northwest\", \"november\", \"november\", \"november\", \"october\", \"october\", \"october\", \"pakistan\", \"park\", \"pas\", \"pays\", \"people\", \"people\", \"people\", \"picardie\", \"place\", \"play\", \"play\", \"player\", \"players\", \"plays\", \"plays\", \"population\", \"produced\", \"produced\", \"province\", \"province\", \"railway\", \"references\", \"region\", \"released\", \"released\", \"released\", \"republic\", \"republic\", \"river\", \"rrb\", \"rrb\", \"rrb\", \"said\", \"said\", \"said\", \"saint\", \"sea\", \"september\", \"september\", \"september\", \"series\", \"series\", \"series\", \"small\", \"small\", \"small\", \"sold\", \"song\", \"song\", \"songs\", \"south\", \"south\", \"southwest\", \"southwest\", \"started\", \"started\", \"state\", \"state\", \"state\", \"states\", \"states\", \"station\", \"storm\", \"switzerland\", \"team\", \"team\", \"team\", \"teams\", \"time\", \"time\", \"time\", \"title\", \"took\", \"town\", \"town\", \"tropical\", \"united\", \"united\", \"university\", \"university\", \"university\", \"use\", \"use\", \"use\", \"used\", \"used\", \"used\", \"video\", \"village\", \"war\", \"war\", \"war\", \"water\", \"websites\", \"west\", \"west\", \"won\", \"work\", \"work\", \"work\", \"worked\", \"world\", \"world\", \"world\", \"wrestling\", \"writer\", \"writer\", \"written\", \"written\", \"wwe\", \"year\", \"year\", \"year\", \"years\", \"years\", \"years\"]}, \"R\": 30, \"lambda.step\": 0.01, \"plot.opts\": {\"xlab\": \"PC1\", \"ylab\": \"PC2\"}, \"topic.order\": [3, 1, 2]};\n",
       "\n",
       "function LDAvis_load_lib(url, callback){\n",
       "  var s = document.createElement('script');\n",
       "  s.src = url;\n",
       "  s.async = true;\n",
       "  s.onreadystatechange = s.onload = callback;\n",
       "  s.onerror = function(){console.warn(\"failed to load library \" + url);};\n",
       "  document.getElementsByTagName(\"head\")[0].appendChild(s);\n",
       "}\n",
       "\n",
       "if(typeof(LDAvis) !== \"undefined\"){\n",
       "   // already loaded: just create the visualization\n",
       "   !function(LDAvis){\n",
       "       new LDAvis(\"#\" + \"ldavis_el2761397496858029606843245001\", ldavis_el2761397496858029606843245001_data);\n",
       "   }(LDAvis);\n",
       "}else if(typeof define === \"function\" && define.amd){\n",
       "   // require.js is available: use it to load d3/LDAvis\n",
       "   require.config({paths: {d3: \"https://d3js.org/d3.v5\"}});\n",
       "   require([\"d3\"], function(d3){\n",
       "      window.d3 = d3;\n",
       "      LDAvis_load_lib(\"https://cdn.jsdelivr.net/gh/bmabey/pyLDAvis@3.3.1/pyLDAvis/js/ldavis.v3.0.0.js\", function(){\n",
       "        new LDAvis(\"#\" + \"ldavis_el2761397496858029606843245001\", ldavis_el2761397496858029606843245001_data);\n",
       "      });\n",
       "    });\n",
       "}else{\n",
       "    // require.js not available: dynamically load d3 & LDAvis\n",
       "    LDAvis_load_lib(\"https://d3js.org/d3.v5.js\", function(){\n",
       "         LDAvis_load_lib(\"https://cdn.jsdelivr.net/gh/bmabey/pyLDAvis@3.3.1/pyLDAvis/js/ldavis.v3.0.0.js\", function(){\n",
       "                 new LDAvis(\"#\" + \"ldavis_el2761397496858029606843245001\", ldavis_el2761397496858029606843245001_data);\n",
       "            })\n",
       "         });\n",
       "}\n",
       "</script>"
      ],
      "text/plain": [
       "PreparedData(topic_coordinates=              x         y  topics  cluster       Freq\n",
       "topic                                                \n",
       "2     -0.131298  0.204591       1        1  43.106367\n",
       "0     -0.174532 -0.186177       2        1  30.462597\n",
       "1      0.305830 -0.018414       3        1  26.431036, topic_info=           Term         Freq        Total Category  logprob  loglift\n",
       "2681        lrb  8850.000000  8850.000000  Default  30.0000  30.0000\n",
       "3912        rrb  8870.000000  8870.000000  Default  29.0000  29.0000\n",
       "525        born  1785.000000  1785.000000  Default  28.0000  28.0000\n",
       "1821     france  1579.000000  1579.000000  Default  27.0000  27.0000\n",
       "3730     region  1354.000000  1354.000000  Default  26.0000  26.0000\n",
       "...         ...          ...          ...      ...      ...      ...\n",
       "323      august   330.196733   422.007453   Topic3  -5.3723   1.0853\n",
       "4052  september   354.239142   483.048519   Topic3  -5.3020   1.0205\n",
       "2365    january   337.248875   439.936697   Topic3  -5.3512   1.0648\n",
       "1539    english   364.765117   525.912536   Topic3  -5.2727   0.9647\n",
       "2475      known   347.367626  1039.287293   Topic3  -5.3216   0.2347\n",
       "\n",
       "[195 rows x 6 columns], token_table=      Topic      Freq      Term\n",
       "term                           \n",
       "83        2  0.995246    africa\n",
       "109       3  0.996694     aisne\n",
       "115       1  0.999006     album\n",
       "137       3  0.997392     alpes\n",
       "149       1  0.345111  american\n",
       "...     ...       ...       ...\n",
       "5044      2  0.026245      year\n",
       "5044      3  0.001875      year\n",
       "5046      1  0.648838     years\n",
       "5046      2  0.346173     years\n",
       "5046      3  0.005675     years\n",
       "\n",
       "[283 rows x 3 columns], R=30, lambda_step=0.01, plot_opts={'xlab': 'PC1', 'ylab': 'PC2'}, topic_order=[3, 1, 2])"
      ]
     },
     "execution_count": 40,
     "metadata": {},
     "output_type": "execute_result"
    }
   ],
   "source": [
    "pyLDAvis.sklearn.prepare(lda_tf, dtm_tf, tf_vectorizer)"
   ]
  },
  {
   "cell_type": "code",
   "execution_count": 41,
   "id": "fe353397",
   "metadata": {
    "ExecuteTime": {
     "end_time": "2022-05-23T13:21:11.906457Z",
     "start_time": "2022-05-23T13:21:11.891603Z"
    }
   },
   "outputs": [
    {
     "name": "stderr",
     "output_type": "stream",
     "text": [
      "/opt/conda/lib/python3.7/site-packages/ipykernel/ipkernel.py:287: DeprecationWarning:\n",
      "\n",
      "`should_run_async` will not call `transform_cell` automatically in the future. Please pass the result to `transformed_cell` argument and any exception that happen during thetransform in `preprocessing_exc_tuple` in IPython 7.17 and above.\n",
      "\n"
     ]
    }
   ],
   "source": [
    "# The above result present topic modelling may not suggest meaningful clustering.\n",
    "# However, it may suggest I can combine all skills into sentence, then using topic modelling to analysis."
   ]
  },
  {
   "cell_type": "code",
   "execution_count": 42,
   "id": "aa5a91e9",
   "metadata": {
    "ExecuteTime": {
     "end_time": "2022-05-23T13:21:12.799068Z",
     "start_time": "2022-05-23T13:21:11.987753Z"
    }
   },
   "outputs": [
    {
     "name": "stderr",
     "output_type": "stream",
     "text": [
      "/opt/conda/lib/python3.7/site-packages/ipykernel/ipkernel.py:287: DeprecationWarning:\n",
      "\n",
      "`should_run_async` will not call `transform_cell` automatically in the future. Please pass the result to `transformed_cell` argument and any exception that happen during thetransform in `preprocessing_exc_tuple` in IPython 7.17 and above.\n",
      "\n"
     ]
    },
    {
     "ename": "MaxRowsError",
     "evalue": "The number of rows in your dataset is greater than the maximum allowed (5000). For information on how to plot larger datasets in Altair, see the documentation",
     "output_type": "error",
     "traceback": [
      "\u001b[0;31m---------------------------------------------------------------------------\u001b[0m",
      "\u001b[0;31mMaxRowsError\u001b[0m                              Traceback (most recent call last)",
      "\u001b[0;32m/opt/conda/lib/python3.7/site-packages/altair/vegalite/v4/api.py\u001b[0m in \u001b[0;36mto_dict\u001b[0;34m(self, *args, **kwargs)\u001b[0m\n\u001b[1;32m   2018\u001b[0m             \u001b[0mcopy\u001b[0m\u001b[0;34m.\u001b[0m\u001b[0mdata\u001b[0m \u001b[0;34m=\u001b[0m \u001b[0mcore\u001b[0m\u001b[0;34m.\u001b[0m\u001b[0mInlineData\u001b[0m\u001b[0;34m(\u001b[0m\u001b[0mvalues\u001b[0m\u001b[0;34m=\u001b[0m\u001b[0;34m[\u001b[0m\u001b[0;34m{\u001b[0m\u001b[0;34m}\u001b[0m\u001b[0;34m]\u001b[0m\u001b[0;34m)\u001b[0m\u001b[0;34m\u001b[0m\u001b[0;34m\u001b[0m\u001b[0m\n\u001b[1;32m   2019\u001b[0m             \u001b[0;32mreturn\u001b[0m \u001b[0msuper\u001b[0m\u001b[0;34m(\u001b[0m\u001b[0mChart\u001b[0m\u001b[0;34m,\u001b[0m \u001b[0mcopy\u001b[0m\u001b[0;34m)\u001b[0m\u001b[0;34m.\u001b[0m\u001b[0mto_dict\u001b[0m\u001b[0;34m(\u001b[0m\u001b[0;34m*\u001b[0m\u001b[0margs\u001b[0m\u001b[0;34m,\u001b[0m \u001b[0;34m**\u001b[0m\u001b[0mkwargs\u001b[0m\u001b[0;34m)\u001b[0m\u001b[0;34m\u001b[0m\u001b[0;34m\u001b[0m\u001b[0m\n\u001b[0;32m-> 2020\u001b[0;31m         \u001b[0;32mreturn\u001b[0m \u001b[0msuper\u001b[0m\u001b[0;34m(\u001b[0m\u001b[0;34m)\u001b[0m\u001b[0;34m.\u001b[0m\u001b[0mto_dict\u001b[0m\u001b[0;34m(\u001b[0m\u001b[0;34m*\u001b[0m\u001b[0margs\u001b[0m\u001b[0;34m,\u001b[0m \u001b[0;34m**\u001b[0m\u001b[0mkwargs\u001b[0m\u001b[0;34m)\u001b[0m\u001b[0;34m\u001b[0m\u001b[0;34m\u001b[0m\u001b[0m\n\u001b[0m\u001b[1;32m   2021\u001b[0m \u001b[0;34m\u001b[0m\u001b[0m\n\u001b[1;32m   2022\u001b[0m     \u001b[0;32mdef\u001b[0m \u001b[0madd_selection\u001b[0m\u001b[0;34m(\u001b[0m\u001b[0mself\u001b[0m\u001b[0;34m,\u001b[0m \u001b[0;34m*\u001b[0m\u001b[0mselections\u001b[0m\u001b[0;34m)\u001b[0m\u001b[0;34m:\u001b[0m\u001b[0;34m\u001b[0m\u001b[0;34m\u001b[0m\u001b[0m\n",
      "\u001b[0;32m/opt/conda/lib/python3.7/site-packages/altair/vegalite/v4/api.py\u001b[0m in \u001b[0;36mto_dict\u001b[0;34m(self, *args, **kwargs)\u001b[0m\n\u001b[1;32m    372\u001b[0m         \u001b[0mcopy\u001b[0m \u001b[0;34m=\u001b[0m \u001b[0mself\u001b[0m\u001b[0;34m.\u001b[0m\u001b[0mcopy\u001b[0m\u001b[0;34m(\u001b[0m\u001b[0mdeep\u001b[0m\u001b[0;34m=\u001b[0m\u001b[0;32mFalse\u001b[0m\u001b[0;34m)\u001b[0m\u001b[0;34m\u001b[0m\u001b[0;34m\u001b[0m\u001b[0m\n\u001b[1;32m    373\u001b[0m         \u001b[0moriginal_data\u001b[0m \u001b[0;34m=\u001b[0m \u001b[0mgetattr\u001b[0m\u001b[0;34m(\u001b[0m\u001b[0mcopy\u001b[0m\u001b[0;34m,\u001b[0m \u001b[0;34m\"data\"\u001b[0m\u001b[0;34m,\u001b[0m \u001b[0mUndefined\u001b[0m\u001b[0;34m)\u001b[0m\u001b[0;34m\u001b[0m\u001b[0;34m\u001b[0m\u001b[0m\n\u001b[0;32m--> 374\u001b[0;31m         \u001b[0mcopy\u001b[0m\u001b[0;34m.\u001b[0m\u001b[0mdata\u001b[0m \u001b[0;34m=\u001b[0m \u001b[0m_prepare_data\u001b[0m\u001b[0;34m(\u001b[0m\u001b[0moriginal_data\u001b[0m\u001b[0;34m,\u001b[0m \u001b[0mcontext\u001b[0m\u001b[0;34m)\u001b[0m\u001b[0;34m\u001b[0m\u001b[0;34m\u001b[0m\u001b[0m\n\u001b[0m\u001b[1;32m    375\u001b[0m \u001b[0;34m\u001b[0m\u001b[0m\n\u001b[1;32m    376\u001b[0m         \u001b[0;32mif\u001b[0m \u001b[0moriginal_data\u001b[0m \u001b[0;32mis\u001b[0m \u001b[0;32mnot\u001b[0m \u001b[0mUndefined\u001b[0m\u001b[0;34m:\u001b[0m\u001b[0;34m\u001b[0m\u001b[0;34m\u001b[0m\u001b[0m\n",
      "\u001b[0;32m/opt/conda/lib/python3.7/site-packages/altair/vegalite/v4/api.py\u001b[0m in \u001b[0;36m_prepare_data\u001b[0;34m(data, context)\u001b[0m\n\u001b[1;32m     87\u001b[0m     \u001b[0;31m# convert dataframes  or objects with __geo_interface__ to dict\u001b[0m\u001b[0;34m\u001b[0m\u001b[0;34m\u001b[0m\u001b[0;34m\u001b[0m\u001b[0m\n\u001b[1;32m     88\u001b[0m     \u001b[0;32mif\u001b[0m \u001b[0misinstance\u001b[0m\u001b[0;34m(\u001b[0m\u001b[0mdata\u001b[0m\u001b[0;34m,\u001b[0m \u001b[0mpd\u001b[0m\u001b[0;34m.\u001b[0m\u001b[0mDataFrame\u001b[0m\u001b[0;34m)\u001b[0m \u001b[0;32mor\u001b[0m \u001b[0mhasattr\u001b[0m\u001b[0;34m(\u001b[0m\u001b[0mdata\u001b[0m\u001b[0;34m,\u001b[0m \u001b[0;34m\"__geo_interface__\"\u001b[0m\u001b[0;34m)\u001b[0m\u001b[0;34m:\u001b[0m\u001b[0;34m\u001b[0m\u001b[0;34m\u001b[0m\u001b[0m\n\u001b[0;32m---> 89\u001b[0;31m         \u001b[0mdata\u001b[0m \u001b[0;34m=\u001b[0m \u001b[0m_pipe\u001b[0m\u001b[0;34m(\u001b[0m\u001b[0mdata\u001b[0m\u001b[0;34m,\u001b[0m \u001b[0mdata_transformers\u001b[0m\u001b[0;34m.\u001b[0m\u001b[0mget\u001b[0m\u001b[0;34m(\u001b[0m\u001b[0;34m)\u001b[0m\u001b[0;34m)\u001b[0m\u001b[0;34m\u001b[0m\u001b[0;34m\u001b[0m\u001b[0m\n\u001b[0m\u001b[1;32m     90\u001b[0m \u001b[0;34m\u001b[0m\u001b[0m\n\u001b[1;32m     91\u001b[0m     \u001b[0;31m# convert string input to a URLData\u001b[0m\u001b[0;34m\u001b[0m\u001b[0;34m\u001b[0m\u001b[0;34m\u001b[0m\u001b[0m\n",
      "\u001b[0;32m/opt/conda/lib/python3.7/site-packages/toolz/functoolz.py\u001b[0m in \u001b[0;36mpipe\u001b[0;34m(data, *funcs)\u001b[0m\n\u001b[1;32m    632\u001b[0m     \"\"\"\n\u001b[1;32m    633\u001b[0m     \u001b[0;32mfor\u001b[0m \u001b[0mfunc\u001b[0m \u001b[0;32min\u001b[0m \u001b[0mfuncs\u001b[0m\u001b[0;34m:\u001b[0m\u001b[0;34m\u001b[0m\u001b[0;34m\u001b[0m\u001b[0m\n\u001b[0;32m--> 634\u001b[0;31m         \u001b[0mdata\u001b[0m \u001b[0;34m=\u001b[0m \u001b[0mfunc\u001b[0m\u001b[0;34m(\u001b[0m\u001b[0mdata\u001b[0m\u001b[0;34m)\u001b[0m\u001b[0;34m\u001b[0m\u001b[0;34m\u001b[0m\u001b[0m\n\u001b[0m\u001b[1;32m    635\u001b[0m     \u001b[0;32mreturn\u001b[0m \u001b[0mdata\u001b[0m\u001b[0;34m\u001b[0m\u001b[0;34m\u001b[0m\u001b[0m\n\u001b[1;32m    636\u001b[0m \u001b[0;34m\u001b[0m\u001b[0m\n",
      "\u001b[0;32m/opt/conda/lib/python3.7/site-packages/toolz/functoolz.py\u001b[0m in \u001b[0;36m__call__\u001b[0;34m(self, *args, **kwargs)\u001b[0m\n\u001b[1;32m    301\u001b[0m     \u001b[0;32mdef\u001b[0m \u001b[0m__call__\u001b[0m\u001b[0;34m(\u001b[0m\u001b[0mself\u001b[0m\u001b[0;34m,\u001b[0m \u001b[0;34m*\u001b[0m\u001b[0margs\u001b[0m\u001b[0;34m,\u001b[0m \u001b[0;34m**\u001b[0m\u001b[0mkwargs\u001b[0m\u001b[0;34m)\u001b[0m\u001b[0;34m:\u001b[0m\u001b[0;34m\u001b[0m\u001b[0;34m\u001b[0m\u001b[0m\n\u001b[1;32m    302\u001b[0m         \u001b[0;32mtry\u001b[0m\u001b[0;34m:\u001b[0m\u001b[0;34m\u001b[0m\u001b[0;34m\u001b[0m\u001b[0m\n\u001b[0;32m--> 303\u001b[0;31m             \u001b[0;32mreturn\u001b[0m \u001b[0mself\u001b[0m\u001b[0;34m.\u001b[0m\u001b[0m_partial\u001b[0m\u001b[0;34m(\u001b[0m\u001b[0;34m*\u001b[0m\u001b[0margs\u001b[0m\u001b[0;34m,\u001b[0m \u001b[0;34m**\u001b[0m\u001b[0mkwargs\u001b[0m\u001b[0;34m)\u001b[0m\u001b[0;34m\u001b[0m\u001b[0;34m\u001b[0m\u001b[0m\n\u001b[0m\u001b[1;32m    304\u001b[0m         \u001b[0;32mexcept\u001b[0m \u001b[0mTypeError\u001b[0m \u001b[0;32mas\u001b[0m \u001b[0mexc\u001b[0m\u001b[0;34m:\u001b[0m\u001b[0;34m\u001b[0m\u001b[0;34m\u001b[0m\u001b[0m\n\u001b[1;32m    305\u001b[0m             \u001b[0;32mif\u001b[0m \u001b[0mself\u001b[0m\u001b[0;34m.\u001b[0m\u001b[0m_should_curry\u001b[0m\u001b[0;34m(\u001b[0m\u001b[0margs\u001b[0m\u001b[0;34m,\u001b[0m \u001b[0mkwargs\u001b[0m\u001b[0;34m,\u001b[0m \u001b[0mexc\u001b[0m\u001b[0;34m)\u001b[0m\u001b[0;34m:\u001b[0m\u001b[0;34m\u001b[0m\u001b[0;34m\u001b[0m\u001b[0m\n",
      "\u001b[0;32m/opt/conda/lib/python3.7/site-packages/altair/vegalite/data.py\u001b[0m in \u001b[0;36mdefault_data_transformer\u001b[0;34m(data, max_rows)\u001b[0m\n\u001b[1;32m     17\u001b[0m \u001b[0;34m@\u001b[0m\u001b[0mcurried\u001b[0m\u001b[0;34m.\u001b[0m\u001b[0mcurry\u001b[0m\u001b[0;34m\u001b[0m\u001b[0;34m\u001b[0m\u001b[0m\n\u001b[1;32m     18\u001b[0m \u001b[0;32mdef\u001b[0m \u001b[0mdefault_data_transformer\u001b[0m\u001b[0;34m(\u001b[0m\u001b[0mdata\u001b[0m\u001b[0;34m,\u001b[0m \u001b[0mmax_rows\u001b[0m\u001b[0;34m=\u001b[0m\u001b[0;36m5000\u001b[0m\u001b[0;34m)\u001b[0m\u001b[0;34m:\u001b[0m\u001b[0;34m\u001b[0m\u001b[0;34m\u001b[0m\u001b[0m\n\u001b[0;32m---> 19\u001b[0;31m     \u001b[0;32mreturn\u001b[0m \u001b[0mcurried\u001b[0m\u001b[0;34m.\u001b[0m\u001b[0mpipe\u001b[0m\u001b[0;34m(\u001b[0m\u001b[0mdata\u001b[0m\u001b[0;34m,\u001b[0m \u001b[0mlimit_rows\u001b[0m\u001b[0;34m(\u001b[0m\u001b[0mmax_rows\u001b[0m\u001b[0;34m=\u001b[0m\u001b[0mmax_rows\u001b[0m\u001b[0;34m)\u001b[0m\u001b[0;34m,\u001b[0m \u001b[0mto_values\u001b[0m\u001b[0;34m)\u001b[0m\u001b[0;34m\u001b[0m\u001b[0;34m\u001b[0m\u001b[0m\n\u001b[0m\u001b[1;32m     20\u001b[0m \u001b[0;34m\u001b[0m\u001b[0m\n\u001b[1;32m     21\u001b[0m \u001b[0;34m\u001b[0m\u001b[0m\n",
      "\u001b[0;32m/opt/conda/lib/python3.7/site-packages/toolz/functoolz.py\u001b[0m in \u001b[0;36mpipe\u001b[0;34m(data, *funcs)\u001b[0m\n\u001b[1;32m    632\u001b[0m     \"\"\"\n\u001b[1;32m    633\u001b[0m     \u001b[0;32mfor\u001b[0m \u001b[0mfunc\u001b[0m \u001b[0;32min\u001b[0m \u001b[0mfuncs\u001b[0m\u001b[0;34m:\u001b[0m\u001b[0;34m\u001b[0m\u001b[0;34m\u001b[0m\u001b[0m\n\u001b[0;32m--> 634\u001b[0;31m         \u001b[0mdata\u001b[0m \u001b[0;34m=\u001b[0m \u001b[0mfunc\u001b[0m\u001b[0;34m(\u001b[0m\u001b[0mdata\u001b[0m\u001b[0;34m)\u001b[0m\u001b[0;34m\u001b[0m\u001b[0;34m\u001b[0m\u001b[0m\n\u001b[0m\u001b[1;32m    635\u001b[0m     \u001b[0;32mreturn\u001b[0m \u001b[0mdata\u001b[0m\u001b[0;34m\u001b[0m\u001b[0;34m\u001b[0m\u001b[0m\n\u001b[1;32m    636\u001b[0m \u001b[0;34m\u001b[0m\u001b[0m\n",
      "\u001b[0;32m/opt/conda/lib/python3.7/site-packages/toolz/functoolz.py\u001b[0m in \u001b[0;36m__call__\u001b[0;34m(self, *args, **kwargs)\u001b[0m\n\u001b[1;32m    301\u001b[0m     \u001b[0;32mdef\u001b[0m \u001b[0m__call__\u001b[0m\u001b[0;34m(\u001b[0m\u001b[0mself\u001b[0m\u001b[0;34m,\u001b[0m \u001b[0;34m*\u001b[0m\u001b[0margs\u001b[0m\u001b[0;34m,\u001b[0m \u001b[0;34m**\u001b[0m\u001b[0mkwargs\u001b[0m\u001b[0;34m)\u001b[0m\u001b[0;34m:\u001b[0m\u001b[0;34m\u001b[0m\u001b[0;34m\u001b[0m\u001b[0m\n\u001b[1;32m    302\u001b[0m         \u001b[0;32mtry\u001b[0m\u001b[0;34m:\u001b[0m\u001b[0;34m\u001b[0m\u001b[0;34m\u001b[0m\u001b[0m\n\u001b[0;32m--> 303\u001b[0;31m             \u001b[0;32mreturn\u001b[0m \u001b[0mself\u001b[0m\u001b[0;34m.\u001b[0m\u001b[0m_partial\u001b[0m\u001b[0;34m(\u001b[0m\u001b[0;34m*\u001b[0m\u001b[0margs\u001b[0m\u001b[0;34m,\u001b[0m \u001b[0;34m**\u001b[0m\u001b[0mkwargs\u001b[0m\u001b[0;34m)\u001b[0m\u001b[0;34m\u001b[0m\u001b[0;34m\u001b[0m\u001b[0m\n\u001b[0m\u001b[1;32m    304\u001b[0m         \u001b[0;32mexcept\u001b[0m \u001b[0mTypeError\u001b[0m \u001b[0;32mas\u001b[0m \u001b[0mexc\u001b[0m\u001b[0;34m:\u001b[0m\u001b[0;34m\u001b[0m\u001b[0;34m\u001b[0m\u001b[0m\n\u001b[1;32m    305\u001b[0m             \u001b[0;32mif\u001b[0m \u001b[0mself\u001b[0m\u001b[0;34m.\u001b[0m\u001b[0m_should_curry\u001b[0m\u001b[0;34m(\u001b[0m\u001b[0margs\u001b[0m\u001b[0;34m,\u001b[0m \u001b[0mkwargs\u001b[0m\u001b[0;34m,\u001b[0m \u001b[0mexc\u001b[0m\u001b[0;34m)\u001b[0m\u001b[0;34m:\u001b[0m\u001b[0;34m\u001b[0m\u001b[0;34m\u001b[0m\u001b[0m\n",
      "\u001b[0;32m/opt/conda/lib/python3.7/site-packages/altair/utils/data.py\u001b[0m in \u001b[0;36mlimit_rows\u001b[0;34m(data, max_rows)\u001b[0m\n\u001b[1;32m     82\u001b[0m             \u001b[0;34m\"than the maximum allowed ({}). \"\u001b[0m\u001b[0;34m\u001b[0m\u001b[0;34m\u001b[0m\u001b[0m\n\u001b[1;32m     83\u001b[0m             \u001b[0;34m\"For information on how to plot larger datasets \"\u001b[0m\u001b[0;34m\u001b[0m\u001b[0;34m\u001b[0m\u001b[0m\n\u001b[0;32m---> 84\u001b[0;31m             \u001b[0;34m\"in Altair, see the documentation\"\u001b[0m\u001b[0;34m.\u001b[0m\u001b[0mformat\u001b[0m\u001b[0;34m(\u001b[0m\u001b[0mmax_rows\u001b[0m\u001b[0;34m)\u001b[0m\u001b[0;34m\u001b[0m\u001b[0;34m\u001b[0m\u001b[0m\n\u001b[0m\u001b[1;32m     85\u001b[0m         )\n\u001b[1;32m     86\u001b[0m     \u001b[0;32mreturn\u001b[0m \u001b[0mdata\u001b[0m\u001b[0;34m\u001b[0m\u001b[0;34m\u001b[0m\u001b[0m\n",
      "\u001b[0;31mMaxRowsError\u001b[0m: The number of rows in your dataset is greater than the maximum allowed (5000). For information on how to plot larger datasets in Altair, see the documentation"
     ]
    },
    {
     "data": {
      "text/plain": [
       "alt.Chart(...)"
      ]
     },
     "execution_count": 42,
     "metadata": {},
     "output_type": "execute_result"
    }
   ],
   "source": [
    "    height=600\n",
    "    width=800\n",
    "    # Create scatter plot to display death and confirmed cases by countries\n",
    "    scat=alt.Chart(df_k).mark_circle(size=100).encode(\n",
    "        y=alt.Y(\"principal component 1\", axis=alt.Axis(format='f', title='PC 1')),\n",
    "        x=alt.X(\"principal component 2\",axis=alt.Axis(format='f', title='PC 2')),\n",
    "        #color=alt.condition(select_country,alt.value(\"red\"),alt.value(\"#66B2FF\")),\n",
    "        color='cluster_id',\n",
    "        tooltip=[\"sentence\"]\n",
    "    ).properties(\n",
    "        height=height, width=width,\n",
    "        title = alt.TitleParams(text = 'Clusters of sentence',\n",
    "                                anchor='middle',\n",
    "                                font = 'Ubuntu Mono', \n",
    "                                fontSize = 16, \n",
    "                                color = '#3E454F', \n",
    "                                )\n",
    "    )\n",
    "    scat"
   ]
  },
  {
   "cell_type": "code",
   "execution_count": null,
   "id": "90bcfb39",
   "metadata": {
    "ExecuteTime": {
     "end_time": "2022-05-23T13:21:12.837855Z",
     "start_time": "2022-05-23T13:21:12.829145Z"
    }
   },
   "outputs": [],
   "source": [
    "# The clustering of embedding based also has no clue on the skills clustering."
   ]
  },
  {
   "cell_type": "code",
   "execution_count": null,
   "id": "525f53d0",
   "metadata": {
    "ExecuteTime": {
     "end_time": "2022-05-23T13:25:20.613388Z",
     "start_time": "2022-05-23T13:25:19.955552Z"
    }
   },
   "outputs": [],
   "source": [
    "pyLDAvis.sklearn.prepare(lda_tf, dtm_tf, tf_vectorizer)"
   ]
  },
  {
   "cell_type": "code",
   "execution_count": null,
   "id": "69c63c4b",
   "metadata": {
    "ExecuteTime": {
     "end_time": "2022-05-23T13:25:20.649287Z",
     "start_time": "2022-05-23T13:25:20.621633Z"
    }
   },
   "outputs": [],
   "source": [
    "def top_tfidf_feats(row, features, top_n=20):\n",
    "    topn_ids = np.argsort(row)[::-1][:top_n]\n",
    "    top_feats = [(features[i], row[i]) for i in topn_ids]\n",
    "    df = pd.DataFrame(top_feats, columns=['features', 'score'])\n",
    "    return df\n",
    "\n",
    "def top_feats_in_doc(X, features, row_id, top_n=25):\n",
    "    row = np.squeeze(X[row_id].toarray())\n",
    "    return top_tfidf_feats(row, features, top_n)\n",
    "\n",
    "def top_mean_feats(X, features, grp_ids=None, min_tfidf=0.1, top_n=25):\n",
    "    if grp_ids:\n",
    "        D = X[grp_ids].toarray()\n",
    "    else:\n",
    "        D = X.toarray()\n",
    "\n",
    "    D[D < min_tfidf] = 0\n",
    "    tfidf_means = np.mean(D, axis=0)\n",
    "    return top_tfidf_feats(tfidf_means, features, top_n)"
   ]
  },
  {
   "cell_type": "code",
   "execution_count": null,
   "id": "b7619344",
   "metadata": {
    "ExecuteTime": {
     "end_time": "2022-05-23T13:25:21.292771Z",
     "start_time": "2022-05-23T13:25:20.680088Z"
    }
   },
   "outputs": [],
   "source": [
    "\n",
    "stemmer = SnowballStemmer(\"english\")\n",
    "def tokenize_and_stem(text):\n",
    "    # first tokenize by sentence, then by word to ensure that punctuation is caught as it's own token\n",
    "    tokens = [word for sent in nltk.sent_tokenize(text) for word in nltk.word_tokenize(sent)]\n",
    "    filtered_tokens = []\n",
    "    # filter out any tokens not containing letters (e.g., numeric tokens, raw punctuation)\n",
    "    for token in tokens:\n",
    "        if re.search('[a-zA-Z]', token):\n",
    "            filtered_tokens.append(token)\n",
    "    stems = [stemmer.stem(t) for t in filtered_tokens]\n",
    "    return stems\n",
    "\n",
    "def tokenize_only(text):\n",
    "    # first tokenize by sentence, then by word to ensure that punctuation is caught as it's own token\n",
    "    tokens = [word.lower() for sent in nltk.sent_tokenize(text) for word in nltk.word_tokenize(sent)]\n",
    "    filtered_tokens = []\n",
    "    # filter out any tokens not containing letters (e.g., numeric tokens, raw punctuation)\n",
    "    for token in tokens:\n",
    "        if re.search('[a-zA-Z]', token):\n",
    "            filtered_tokens.append(token)\n",
    "    return filtered_tokens"
   ]
  },
  {
   "cell_type": "code",
   "execution_count": null,
   "id": "eca2436e",
   "metadata": {
    "ExecuteTime": {
     "end_time": "2022-05-23T13:25:22.003442Z",
     "start_time": "2022-05-23T13:25:21.317478Z"
    }
   },
   "outputs": [],
   "source": [
    "# At this point we are going to tokenize the bodies and convert them\n",
    "# into a document-term matrix.\n",
    "\n",
    "# Some note on min_df and max_df\n",
    "# max_df=0.5 means \"ignore all terms that appear in more then 50% of the documents\"\n",
    "# min_df=2 means \"ignore all terms that appear in less then 2 documents\"\n",
    "stopwords = ENGLISH_STOP_WORDS.union(['data','scientist'])\n",
    "vect = TfidfVectorizer(analyzer='word', stop_words=stopwords, max_df=0.5, min_df=2,use_idf=True,max_features=200000, \n",
    "                       tokenizer=tokenize_only,ngram_range=(1,3))\n",
    "\n",
    "X = vect.fit_transform(df_tk['titles'].values)\n",
    "print(X.shape)\n",
    "features = vect.get_feature_names()"
   ]
  },
  {
   "cell_type": "code",
   "execution_count": null,
   "id": "1f6de309",
   "metadata": {
    "ExecuteTime": {
     "end_time": "2022-05-23T13:25:22.053074Z",
     "start_time": "2022-05-23T13:25:22.015362Z"
    }
   },
   "outputs": [],
   "source": [
    "def top_feats_per_cluster(X, y, features, min_tfidf=0.1, top_n=25):\n",
    "    dfs = []\n",
    "\n",
    "    labels = np.unique(y)\n",
    "    for label in labels:\n",
    "        ids = np.where(y==label) \n",
    "        feats_df = top_mean_feats(X, features, ids, min_tfidf=min_tfidf, top_n=top_n)\n",
    "        feats_df.label = label\n",
    "        dfs.append(feats_df)\n",
    "    return dfs\n",
    "\n",
    "def plot_tfidf_classfeats_h(dfs):\n",
    "    fig = plt.figure(figsize=(15, 9+len(dfs)*6), facecolor=\"w\")\n",
    "    x = np.arange(len(dfs[0]))\n",
    "    for i, df in enumerate(dfs):\n",
    "        ax = fig.add_subplot(len(dfs),3, i+1)\n",
    "        ax.spines[\"top\"].set_visible(False)\n",
    "        ax.spines[\"right\"].set_visible(False)\n",
    "        ax.set_frame_on(False)\n",
    "        ax.get_xaxis().tick_bottom()\n",
    "        ax.get_yaxis().tick_left()\n",
    "        ax.set_xlabel(\"Tf-Idf Score\", labelpad=16, fontsize=14)\n",
    "        ax.set_title(\"cluster = \" + str(df.label), fontsize=16)\n",
    "        ax.ticklabel_format(axis='x', style='sci', scilimits=(-2,2))\n",
    "        ax.barh(x, df.score, align='center', color='#7530FF')\n",
    "        ax.set_yticks(x)\n",
    "        ax.set_ylim([-1, x[-1]+1])\n",
    "        yticks = ax.set_yticklabels(df.features)\n",
    "        plt.subplots_adjust(bottom=0.09, right=0.97, left=0.15, top=0.95, wspace=0.52)\n",
    "    plt.show()"
   ]
  },
  {
   "cell_type": "code",
   "execution_count": null,
   "id": "fde2f604",
   "metadata": {
    "ExecuteTime": {
     "end_time": "2022-05-23T13:25:23.599535Z",
     "start_time": "2022-05-23T13:25:22.074185Z"
    }
   },
   "outputs": [],
   "source": [
    "#Use this to print the top terms per cluster with matplotlib.\n",
    "plot_tfidf_classfeats_h(top_feats_per_cluster(X, t_clf.labels_, features, 0.1, 25))"
   ]
  },
  {
   "cell_type": "code",
   "execution_count": null,
   "id": "c7bfd53f",
   "metadata": {
    "ExecuteTime": {
     "end_time": "2022-05-23T13:25:23.627224Z",
     "start_time": "2022-05-23T13:25:23.609612Z"
    }
   },
   "outputs": [],
   "source": [
    "# The above is more than clear, the tiltes are consisted of 3 types: junior, senior, and others"
   ]
  },
  {
   "cell_type": "code",
   "execution_count": null,
   "id": "95fec65b",
   "metadata": {
    "ExecuteTime": {
     "end_time": "2022-05-23T13:25:23.803671Z",
     "start_time": "2022-05-23T13:25:23.667288Z"
    }
   },
   "outputs": [],
   "source": [
    "# Perform EDA to check main table\n",
    "d3 = dtale.show(df_tk)\n",
    "d3.open_browser()"
   ]
  },
  {
   "cell_type": "code",
   "execution_count": null,
   "id": "685606cd",
   "metadata": {
    "ExecuteTime": {
     "end_time": "2022-05-23T13:25:23.832476Z",
     "start_time": "2022-05-23T13:25:23.816644Z"
    }
   },
   "outputs": [],
   "source": [
    "# Decide to divide the job postings into 3 types:junior, senior, and others\n",
    "def ds_level(title=''):\n",
    "    jr = [\"junior\", \"jr\", \"jr.\",\"intern\",\"internship\",\"young\",\"student\",\"analyst\",\"associate\"]\n",
    "    sr = [\"sr.\",\"sr\",\"senior\",\"lead\",\"leading\",\"principal\",\"president\"]\n",
    "\n",
    "    if any(x in title.lower() for x in jr):\n",
    "        return \"junior\"\n",
    "\n",
    "    if any(x in title.lower() for x in sr):\n",
    "        return \"senior\"\n",
    "    \n",
    "    return \"others\"\n"
   ]
  },
  {
   "cell_type": "code",
   "execution_count": null,
   "id": "2f1983cd",
   "metadata": {
    "ExecuteTime": {
     "end_time": "2022-05-23T13:25:23.914966Z",
     "start_time": "2022-05-23T13:25:23.856750Z"
    }
   },
   "outputs": [],
   "source": [
    "df_skills"
   ]
  },
  {
   "cell_type": "code",
   "execution_count": null,
   "id": "7b844c83",
   "metadata": {
    "ExecuteTime": {
     "end_time": "2022-05-23T13:25:23.971502Z",
     "start_time": "2022-05-23T13:25:23.929759Z"
    }
   },
   "outputs": [],
   "source": [
    "df_main['type']=df_main['title'].apply(lambda x: ds_level(x))"
   ]
  },
  {
   "cell_type": "code",
   "execution_count": null,
   "id": "cb461c30",
   "metadata": {
    "ExecuteTime": {
     "end_time": "2022-05-23T13:25:24.011179Z",
     "start_time": "2022-05-23T13:25:23.994207Z"
    }
   },
   "outputs": [],
   "source": [
    "df_main['id']=df_main['id'].astype('int64')"
   ]
  },
  {
   "cell_type": "code",
   "execution_count": null,
   "id": "918c2d3d",
   "metadata": {
    "ExecuteTime": {
     "end_time": "2022-05-23T13:25:24.562871Z",
     "start_time": "2022-05-23T13:25:24.275675Z"
    }
   },
   "outputs": [],
   "source": [
    "df_full=df_skills.merge(df_main,how='left',left_on=['id'],right_on=['id'])"
   ]
  },
  {
   "cell_type": "code",
   "execution_count": null,
   "id": "cda3360a",
   "metadata": {
    "ExecuteTime": {
     "end_time": "2022-05-23T13:25:27.448358Z",
     "start_time": "2022-05-23T13:25:24.640947Z"
    }
   },
   "outputs": [],
   "source": [
    "# Perform EDA to check main table\n",
    "d4 = dtale.show(df_full)\n",
    "d4.open_browser()"
   ]
  },
  {
   "cell_type": "code",
   "execution_count": null,
   "id": "c4d7b0d1",
   "metadata": {
    "ExecuteTime": {
     "end_time": "2022-05-23T13:25:34.442656Z",
     "start_time": "2022-05-23T13:25:27.463650Z"
    }
   },
   "outputs": [],
   "source": [
    "# Using scattertext to visualize the skills by types\n",
    "nlp = spacy.load('en_core_web_sm')"
   ]
  },
  {
   "cell_type": "code",
   "execution_count": null,
   "id": "89a83f26",
   "metadata": {
    "ExecuteTime": {
     "end_time": "2022-05-23T13:30:55.799182Z",
     "start_time": "2022-05-23T13:25:34.465572Z"
    }
   },
   "outputs": [],
   "source": [
    "    corpus = (scattertext.CorpusFromPandas(df_full,\n",
    "                                           category_col='type', \n",
    "                                           text_col='skill',\n",
    "                                           nlp=nlp)\n",
    "              .build()\n",
    "              .remove_terms(nlp.Defaults.stop_words, ignore_absences=True)\n",
    "              )"
   ]
  },
  {
   "cell_type": "code",
   "execution_count": null,
   "id": "f482052f",
   "metadata": {
    "ExecuteTime": {
     "end_time": "2022-05-23T13:30:55.921417Z",
     "start_time": "2022-05-23T13:30:55.827781Z"
    }
   },
   "outputs": [],
   "source": [
    "df = corpus.get_term_freq_df()"
   ]
  },
  {
   "cell_type": "code",
   "execution_count": null,
   "id": "18e946a8",
   "metadata": {
    "ExecuteTime": {
     "end_time": "2022-05-23T13:30:56.054409Z",
     "start_time": "2022-05-23T13:30:55.952931Z"
    }
   },
   "outputs": [],
   "source": [
    "df"
   ]
  },
  {
   "cell_type": "code",
   "execution_count": null,
   "id": "63bebb0d",
   "metadata": {
    "ExecuteTime": {
     "end_time": "2022-05-23T13:31:01.715627Z",
     "start_time": "2022-05-23T13:30:56.099214Z"
    }
   },
   "outputs": [],
   "source": [
    "html = scattertext.produce_scattertext_explorer(\n",
    "                   corpus,\n",
    "                   category='senior',\n",
    "                   category_name='senior',\n",
    "                   not_category_name=['junior'],\n",
    "                   width_in_pixels=1000,\n",
    "                   )"
   ]
  },
  {
   "cell_type": "code",
   "execution_count": null,
   "id": "6caa06b9",
   "metadata": {
    "ExecuteTime": {
     "end_time": "2022-05-23T13:31:01.813609Z",
     "start_time": "2022-05-23T13:31:01.730750Z"
    }
   },
   "outputs": [],
   "source": [
    "#open(\"ds_skills.html\", 'wb').write(html.encode('utf-8'))\n",
    "#with open(\"ds_skills.html\", 'w') as outf: outf.write(html)\n",
    "from IPython.display import IFrame    \n",
    "display(IFrame(\"ds_skills.html\", width=900, height=650))"
   ]
  },
  {
   "cell_type": "code",
   "execution_count": null,
   "id": "575849a8",
   "metadata": {
    "ExecuteTime": {
     "end_time": "2022-05-24T13:09:41.903919Z",
     "start_time": "2022-05-24T13:09:41.066465Z"
    }
   },
   "outputs": [],
   "source": [
    "\n",
    "# data clean for data jobs\n",
    "data_file= './01_Data/Output/datajobs.csv'\n",
    "df_data=pd.read_csv(data_file)\n",
    "# Drop the duplicated job postings \n",
    "df_data.drop_duplicates(subset=['employer','description','title','location'],inplace=True)\n",
    "# Drop the job posting with same id even the above would be a little different.\n",
    "df_data.drop_duplicates(subset=['id'],inplace=True)\n",
    "# drop na\n",
    "df_data.dropna(subset=['description'],inplace=True)\n",
    "# Change string to datetime\n",
    "df_data['posting_date']=df_data['posting_date'].apply(lambda x: parser.parse(x))"
   ]
  },
  {
   "cell_type": "code",
   "execution_count": null,
   "id": "e5fd15a5",
   "metadata": {
    "ExecuteTime": {
     "end_time": "2022-05-24T13:18:23.857799Z",
     "start_time": "2022-05-24T13:18:23.759023Z"
    }
   },
   "outputs": [],
   "source": [
    "#remove data scientists job from data jobs\n",
    "print(len(df_data))\n",
    "ds_list=df_main['id'].unique()\n",
    "df_data['id']=df_data['id']=df_data['id'].apply(lambda x: None if x in (ds_list) else x)\n",
    "df_data.dropna(subset=['id'],inplace=True)\n",
    "print(len(df_data))"
   ]
  },
  {
   "cell_type": "code",
   "execution_count": null,
   "id": "208ee1ea",
   "metadata": {
    "ExecuteTime": {
     "end_time": "2022-05-24T13:24:15.699582Z",
     "start_time": "2022-05-24T13:18:45.953601Z"
    }
   },
   "outputs": [],
   "source": [
    "# Convert titles to embedding\n",
    "titles = list(df_data['title'].unique())\n",
    "titles_embeddings = embedder.encode(titles)"
   ]
  },
  {
   "cell_type": "code",
   "execution_count": null,
   "id": "cf7b9851",
   "metadata": {
    "ExecuteTime": {
     "end_time": "2022-05-24T13:26:09.928133Z",
     "start_time": "2022-05-24T13:25:10.232041Z"
    }
   },
   "outputs": [],
   "source": [
    "# Run Elbow to decide K for k-means\n",
    "elbow_plot(titles_embeddings,maxK=8)"
   ]
  },
  {
   "cell_type": "code",
   "execution_count": null,
   "id": "e63442d6",
   "metadata": {
    "ExecuteTime": {
     "end_time": "2022-05-24T13:26:27.556268Z",
     "start_time": "2022-05-24T13:26:20.419343Z"
    }
   },
   "outputs": [],
   "source": [
    "# As clustering algorithm KMeams is a perfect fit.\n",
    "num_clusters = 3\n",
    "t_clf = KMeans(n_clusters=num_clusters, \n",
    "            max_iter=100, \n",
    "            init='k-means++', \n",
    "            n_init=1)\n",
    "t_clf.fit_predict(titles_embeddings)\n",
    "t_cluster_assignment = t_clf.labels_\n",
    "\n",
    "t_cdf=pd.DataFrame(columns=[\"cluster_id\",\"sentence_id\",\"sentence\"])\n",
    "\n",
    "for i in range(len(t_cluster_assignment)):\n",
    "    new_row=pd.Series(data={\"cluster_id\":t_cluster_assignment[i],\n",
    "                                \"sentence_id\":i,\n",
    "                                \"sentence\":titles[i]\n",
    "                           }\n",
    "                            )\n",
    "    t_cdf=t_cdf.append(new_row,ignore_index=True)\n",
    "\n",
    "t_cdf.head()"
   ]
  },
  {
   "cell_type": "code",
   "execution_count": null,
   "id": "863a70d1",
   "metadata": {
    "ExecuteTime": {
     "end_time": "2022-05-24T13:26:52.553120Z",
     "start_time": "2022-05-24T13:26:52.450489Z"
    }
   },
   "outputs": [],
   "source": [
    "# Using PCA to reduce the dimension to project the result to 2-d scatter plot\n",
    "\n",
    "t_pca = PCA(n_components=2)\n",
    "t_principalComponents = t_pca.fit_transform(titles_embeddings)\n",
    "\n",
    "\n",
    "df_tpca = pd.DataFrame(data = t_principalComponents\n",
    "             , columns = ['principal component 1', 'principal component 2'])\n",
    "\n",
    "df_tpca['titles']=titles"
   ]
  },
  {
   "cell_type": "code",
   "execution_count": null,
   "id": "79f1640a",
   "metadata": {
    "ExecuteTime": {
     "end_time": "2022-05-24T13:28:30.482734Z",
     "start_time": "2022-05-24T13:28:30.457168Z"
    }
   },
   "outputs": [],
   "source": [
    "# Combine PCA results with K-means results to see clustering\n",
    "df_tk=df_tpca.merge(t_cdf,right_on=['sentence'],left_on=['titles'])"
   ]
  },
  {
   "cell_type": "code",
   "execution_count": null,
   "id": "f542e9b3",
   "metadata": {},
   "outputs": [],
   "source": []
  },
  {
   "cell_type": "code",
   "execution_count": null,
   "id": "bac064d0",
   "metadata": {
    "ExecuteTime": {
     "end_time": "2022-05-24T13:28:35.160857Z",
     "start_time": "2022-05-24T13:28:34.473282Z"
    }
   },
   "outputs": [],
   "source": [
    "# At this point we are going to tokenize the bodies and convert them\n",
    "# into a document-term matrix.\n",
    "\n",
    "# Some note on min_df and max_df\n",
    "# max_df=0.5 means \"ignore all terms that appear in more then 50% of the documents\"\n",
    "# min_df=2 means \"ignore all terms that appear in less then 2 documents\"\n",
    "stopwords = ENGLISH_STOP_WORDS.union(['data','scientist'])\n",
    "vect = TfidfVectorizer(analyzer='word', stop_words=stopwords, max_df=0.5, min_df=2,use_idf=True,max_features=200000, \n",
    "                       tokenizer=tokenize_only,ngram_range=(1,3))\n",
    "\n",
    "X = vect.fit_transform(df_tk['titles'].values)\n",
    "print(X.shape)\n",
    "features = vect.get_feature_names()"
   ]
  },
  {
   "cell_type": "code",
   "execution_count": null,
   "id": "214998dd",
   "metadata": {
    "ExecuteTime": {
     "end_time": "2022-05-24T13:29:02.313799Z",
     "start_time": "2022-05-24T13:29:02.028561Z"
    }
   },
   "outputs": [],
   "source": [
    "    height=600\n",
    "    width=800\n",
    "    # Create scatter plot to display death and confirmed cases by countries\n",
    "    tscat=alt.Chart(df_tk).mark_circle(size=100).encode(\n",
    "        y=alt.Y(\"principal component 1\", axis=alt.Axis(format='f', title='PC 1')),\n",
    "        x=alt.X(\"principal component 2\",axis=alt.Axis(format='f', title='PC 2')),\n",
    "        #color=alt.condition(select_country,alt.value(\"red\"),alt.value(\"#66B2FF\")),\n",
    "        color=alt.Color('cluster_id', scale=alt.Scale(scheme='accent')),\n",
    "        tooltip=[\"titles\"]\n",
    "    ).properties(\n",
    "        height=height, width=width,\n",
    "        title = alt.TitleParams(text = 'Clusters of titles',\n",
    "                                anchor='middle',\n",
    "                                font = 'Ubuntu Mono', \n",
    "                                fontSize = 16, \n",
    "                                color = '#3E454F', \n",
    "                                )\n",
    "    )\n",
    "    tscat"
   ]
  },
  {
   "cell_type": "code",
   "execution_count": null,
   "id": "59deabca",
   "metadata": {
    "ExecuteTime": {
     "end_time": "2022-05-24T13:30:28.904037Z",
     "start_time": "2022-05-24T13:30:27.394383Z"
    }
   },
   "outputs": [],
   "source": [
    "#Use this to print the top terms per cluster with matplotlib.\n",
    "plot_tfidf_classfeats_h(top_feats_per_cluster(X, t_clf.labels_, features, 0.1, 25))"
   ]
  },
  {
   "cell_type": "code",
   "execution_count": null,
   "id": "4b944433",
   "metadata": {
    "ExecuteTime": {
     "end_time": "2022-05-24T13:38:15.913949Z",
     "start_time": "2022-05-24T13:38:15.889417Z"
    }
   },
   "outputs": [],
   "source": [
    "# Select data scientist jobs\n",
    "print(len(df_data))\n",
    "df_de=df_data[df_data['title'].str.contains(r'^(?=.*data)(?=.*engineer)',case=False)]\n",
    "print(len(df_de))"
   ]
  },
  {
   "cell_type": "code",
   "execution_count": null,
   "id": "6d5e0cd8",
   "metadata": {},
   "outputs": [],
   "source": []
  }
 ],
 "metadata": {
  "instance_type": "ml.g4dn.xlarge",
  "kernelspec": {
   "display_name": "Python 3 (Data Science)",
   "language": "python",
   "name": "python3__SAGEMAKER_INTERNAL__arn:aws:sagemaker:us-west-1:742091327244:image/datascience-1.0"
  },
  "language_info": {
   "codemirror_mode": {
    "name": "ipython",
    "version": 3
   },
   "file_extension": ".py",
   "mimetype": "text/x-python",
   "name": "python",
   "nbconvert_exporter": "python",
   "pygments_lexer": "ipython3",
   "version": "3.7.10"
  }
 },
 "nbformat": 4,
 "nbformat_minor": 5
}
