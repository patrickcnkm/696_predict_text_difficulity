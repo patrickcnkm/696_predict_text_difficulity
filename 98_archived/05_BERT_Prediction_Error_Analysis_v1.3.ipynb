{
 "cells": [
  {
   "cell_type": "markdown",
   "id": "6b3c1e9a",
   "metadata": {},
   "source": [
    "# BERT Prediction Error Analysis"
   ]
  },
  {
   "cell_type": "markdown",
   "id": "bb64fc66",
   "metadata": {},
   "source": [
    "As the result of text classification by 3 types of BERT models ( BERT_BASED_UNCASED, BERT_LARGE_UNCASED, DISTILBERT), it is found that:\n",
    " - The smaller the model is, the higher the accuracies. Distilbert achieved 77.8% in contrast that Bert_large_uncased only achieved 70& around.\n",
    "\n",
    "In order to improve the accuracy level, we will perform the further study on those records whose prediction result are wrong, and see whether there are some ways.\n",
    "\n",
    "Given Bert_large_uncased does not achieved high accuracy, in order to save the potential efforts, we take the remaining 2 models for the error analysis."
   ]
  },
  {
   "cell_type": "code",
   "execution_count": 1,
   "id": "bb7d23c3",
   "metadata": {},
   "outputs": [],
   "source": [
    "import warnings\n",
    "# Disable 3 types of warning\n",
    "warnings.filterwarnings(\"ignore\",category=DeprecationWarning)\n",
    "warnings.filterwarnings(\"ignore\",category=(FutureWarning))\n",
    "warnings.filterwarnings(\"ignore\",category=(RuntimeWarning))"
   ]
  },
  {
   "cell_type": "code",
   "execution_count": 2,
   "id": "aebc74e0",
   "metadata": {},
   "outputs": [],
   "source": [
    "import torch\n",
    "#Enable GPU\n",
    "device = torch.device(\"cuda\" if torch.cuda.is_available() else \"cpu\")"
   ]
  },
  {
   "cell_type": "code",
   "execution_count": 3,
   "id": "6649879f",
   "metadata": {},
   "outputs": [],
   "source": [
    "import pandas as pd\n",
    "from sklearn.model_selection import train_test_split\n",
    "\n",
    "RANDOM_STATE=1\n",
    "#################### split data into train,dev,test##################\n",
    "def train_dev_test(dataset,random_state=RANDOM_STATE):\n",
    "    texts=list(dataset[\"original_text\"])\n",
    "    labels=list(dataset[\"label\"])\n",
    "    \n",
    "    target_names = list(set(labels))\n",
    "    label2idx = {label: idx for idx, label in enumerate(target_names)}\n",
    "    print(label2idx)\n",
    "\n",
    "    rest_texts, test_texts, rest_labels, test_labels = train_test_split(texts, labels, test_size=0.1, random_state=1)\n",
    "    train_texts, dev_texts, train_labels, dev_labels = train_test_split(rest_texts, rest_labels, test_size=0.1, random_state=1)\n",
    "\n",
    "    print(\"Train size:\", len(train_texts))\n",
    "    print(\"Dev size:\", len(dev_texts))\n",
    "    print(\"Test size:\", len(test_texts))\n",
    "    return (train_texts,dev_texts,test_texts),(train_labels,dev_labels,test_labels),(target_names,label2idx)"
   ]
  },
  {
   "cell_type": "code",
   "execution_count": 4,
   "id": "3133966c",
   "metadata": {},
   "outputs": [],
   "source": [
    "import logging\n",
    "\n",
    "logging.basicConfig(format = '%(asctime)s - %(levelname)s - %(name)s -   %(message)s',\n",
    "                    datefmt = '%m/%d/%Y %H:%M:%S',\n",
    "                    level = logging.INFO)\n",
    "logger = logging.getLogger(__name__)"
   ]
  },
  {
   "cell_type": "code",
   "execution_count": 5,
   "id": "80206732",
   "metadata": {},
   "outputs": [],
   "source": [
    "import numpy as np\n",
    "#################### Both class and the following function are used to prepare for input items##################\n",
    "\n",
    "class BertInputItem(object):\n",
    "    \"\"\"An item with all the necessary attributes for finetuning BERT.\"\"\"\n",
    "\n",
    "    def __init__(self, text, input_ids, input_mask, segment_ids, label_id):\n",
    "        self.text = text\n",
    "        self.input_ids = input_ids\n",
    "        self.input_mask = input_mask\n",
    "        self.segment_ids = segment_ids\n",
    "        self.label_id = label_id\n",
    "        \n",
    "\n",
    "def convert_examples_to_inputs(example_texts, example_labels, label2idx, max_seq_length, tokenizer):\n",
    "    \"\"\"Loads a data file into a list of `InputBatch`s.\"\"\"\n",
    "    \n",
    "    input_items = []\n",
    "    examples = zip(example_texts, example_labels)\n",
    "    for (ex_index, (text, label)) in enumerate(examples):\n",
    "\n",
    "        # Create a list of token ids\n",
    "        input_ids = tokenizer.encode(f\"[CLS] {text} [SEP]\")\n",
    "        if len(input_ids) > max_seq_length:\n",
    "            input_ids = input_ids[:max_seq_length]\n",
    "\n",
    "        # All our tokens are in the first input segment (id 0).\n",
    "        segment_ids = [0] * len(input_ids)\n",
    "\n",
    "        # The mask has 1 for real tokens and 0 for padding tokens. Only real\n",
    "        # tokens are attended to.\n",
    "        input_mask = [1] * len(input_ids)\n",
    "\n",
    "        # Zero-pad up to the sequence length.\n",
    "        padding = [0] * (max_seq_length - len(input_ids))\n",
    "        input_ids += padding\n",
    "        input_mask += padding\n",
    "        segment_ids += padding\n",
    "\n",
    "        assert len(input_ids) == max_seq_length\n",
    "        assert len(input_mask) == max_seq_length\n",
    "        assert len(segment_ids) == max_seq_length\n",
    "\n",
    "        label_id = label2idx[label]\n",
    "\n",
    "        input_items.append(\n",
    "            BertInputItem(text=text,\n",
    "                          input_ids=input_ids,\n",
    "                          input_mask=input_mask,\n",
    "                          segment_ids=segment_ids,\n",
    "                          label_id=label_id))\n",
    "\n",
    "        \n",
    "    return input_items\n"
   ]
  },
  {
   "cell_type": "code",
   "execution_count": 6,
   "id": "eb7b4d29",
   "metadata": {},
   "outputs": [],
   "source": [
    "from torch.utils.data import TensorDataset, DataLoader, SequentialSampler\n",
    "\n",
    "#################### convert data for model input ##################\n",
    "\n",
    "def get_data_loader(features, max_seq_length, batch_size, shuffle=True): \n",
    "\n",
    "    all_input_ids = torch.tensor([f.input_ids for f in features], dtype=torch.long)\n",
    "    all_input_mask = torch.tensor([f.input_mask for f in features], dtype=torch.long)\n",
    "    all_segment_ids = torch.tensor([f.segment_ids for f in features], dtype=torch.long)\n",
    "    all_label_ids = torch.tensor([f.label_id for f in features], dtype=torch.long)\n",
    "    data = TensorDataset(all_input_ids, all_input_mask, all_segment_ids, all_label_ids)\n",
    "\n",
    "    #dataloader = DataLoader(data, shuffle=shuffle, batch_size=batch_size)\n",
    "    # dataloader tuning in https://pytorch.org/tutorials/recipes/recipes/tuning_guide.html\n",
    "   \n",
    "    dataloader = DataLoader(data, shuffle=shuffle, batch_size=batch_size,num_workers=2,pin_memory=True)\n",
    "    return dataloader"
   ]
  },
  {
   "cell_type": "code",
   "execution_count": 7,
   "id": "6fc1df8e",
   "metadata": {},
   "outputs": [],
   "source": [
    "from tqdm import trange\n",
    "from tqdm.notebook import tqdm\n",
    "\n",
    "def evaluate(model, dataloader):\n",
    "    model.eval()\n",
    "    \n",
    "    eval_loss = 0\n",
    "    nb_eval_steps = 0\n",
    "    predicted_labels, correct_labels = [], []\n",
    "\n",
    "    for step, batch in enumerate(tqdm(dataloader, desc=\"Evaluation iteration\")):\n",
    "        batch = tuple(t.to(device) for t in batch)\n",
    "        input_ids, input_mask, segment_ids, label_ids = batch\n",
    "\n",
    "        with torch.no_grad():\n",
    "            #tmp_eval_loss, logits = model(input_ids, attention_mask=input_mask,\n",
    "            #                              token_type_ids=segment_ids, labels=label_ids)[:2]\n",
    "            tmp_eval_loss, logits = model(input_ids, attention_mask=input_mask,\n",
    "                                         labels=label_ids)[:2]  # for distilbert\n",
    "        outputs = np.argmax(logits.to('cpu'), axis=1)\n",
    "        label_ids = label_ids.to('cpu').numpy()\n",
    "        \n",
    "        predicted_labels += list(outputs)\n",
    "        correct_labels += list(label_ids)\n",
    "        \n",
    "        eval_loss += tmp_eval_loss.mean().item()\n",
    "        nb_eval_steps += 1\n",
    "\n",
    "    eval_loss = eval_loss / nb_eval_steps\n",
    "    \n",
    "    correct_labels = np.array(correct_labels)\n",
    "    predicted_labels = np.array(predicted_labels)\n",
    "        \n",
    "    return eval_loss, correct_labels, predicted_labels"
   ]
  },
  {
   "cell_type": "code",
   "execution_count": 8,
   "id": "b598c5fa",
   "metadata": {},
   "outputs": [],
   "source": [
    "import os\n",
    "from tqdm import trange\n",
    "from tqdm.notebook import tqdm\n",
    "from sklearn.metrics import classification_report, precision_recall_fscore_support\n",
    "from transformers import AdamW,get_linear_schedule_with_warmup\n",
    "\n",
    "\n",
    "def train(model_name,train_texts,train_labels,dev_texts,dev_labels,target_names,label2idx,params):\n",
    "    \n",
    "    \n",
    "    ## Initialize bert model   \n",
    "    tokenizer = DistilBertTokenizer.from_pretrained(model_name,target_names=target_names)\n",
    "    # Using trained model\n",
    "    model=DistilBertForSequenceClassification.from_pretrained(model_name,num_labels = len(target_names),\n",
    "                                                             output_attentions = False,\n",
    "                                                             output_hidden_states = False)  \n",
    "    \n",
    "    ## Prepare for data loading and parameter setting for bert model\n",
    "    train_features = convert_examples_to_inputs(train_texts,train_labels, label2idx, params['MAX_SEQ_LENGTH'], tokenizer)\n",
    "    train_dataloader = get_data_loader(train_features, params['MAX_SEQ_LENGTH'], params['BATCH_SIZE'], shuffle=True)\n",
    "    dev_features = convert_examples_to_inputs(dev_texts,dev_labels, label2idx, params['MAX_SEQ_LENGTH'], tokenizer)\n",
    "    dev_dataloader = get_data_loader(dev_features, params['MAX_SEQ_LENGTH'], params['BATCH_SIZE'], shuffle=True)\n",
    "\n",
    "    num_train_steps = int(len(train_dataloader.dataset) / params['BATCH_SIZE'] /params['GRADIENT_ACCUMULATION_STEPS'] * params['NUM_TRAIN_EPOCHS'])\n",
    "    num_warmup_steps = params['NUM_WARMUP_STEPS']\n",
    "\n",
    "    param_optimizer = list(model.named_parameters())\n",
    "    no_decay = ['bias', 'LayerNorm.bias', 'LayerNorm.weight']\n",
    "    optimizer_grouped_parameters = [\n",
    "        {'params': [p for n, p in param_optimizer if not any(nd in n for nd in no_decay)], 'weight_decay': 0.01},\n",
    "        {'params': [p for n, p in param_optimizer if any(nd in n for nd in no_decay)], 'weight_decay': 0.0}\n",
    "        ]\n",
    "\n",
    "    optimizer = AdamW(optimizer_grouped_parameters, lr=params['LEARNING_RATE'], correct_bias=False)\n",
    "    scheduler = get_linear_schedule_with_warmup(optimizer, num_warmup_steps=num_warmup_steps,num_training_steps=num_train_steps)\n",
    "    \n",
    "    ##Enable GPU if has\n",
    "    device = torch.device(\"cuda\" if torch.cuda.is_available() else \"cpu\")\n",
    "    model.to(device)\n",
    "    \n",
    "    ## Start to training \n",
    "    torch.backends.cudnn.benchmark = True # tuning guide:https://pytorch.org/tutorials/recipes/recipes/tuning_guide.html\n",
    "\n",
    "    loss_history = []\n",
    "    no_improvement = 0\n",
    "    PATIENCE=2\n",
    "    for _ in trange(int(params[\"NUM_TRAIN_EPOCHS\"]), desc=\"Epoch\"):\n",
    "        model.train()\n",
    "        tr_loss = 0\n",
    "        nb_tr_examples, nb_tr_steps = 0, 0\n",
    "\n",
    "        for step, batch in enumerate(tqdm(train_dataloader, desc=\"Training iteration\")):\n",
    "            batch = tuple(t.to(device) for t in batch)\n",
    "            input_ids, input_mask, segment_ids, label_ids = batch\n",
    "            #outputs = model(input_ids, attention_mask=input_mask, token_type_ids=segment_ids, labels=label_ids) # non-distillbert\n",
    "            outputs = model(input_ids, attention_mask=input_mask,labels=label_ids)\n",
    "            loss = outputs[0]\n",
    "\n",
    "            if params['GRADIENT_ACCUMULATION_STEPS'] > 1:\n",
    "                loss = loss / params['GRADIENT_ACCUMULATION_STEPS']\n",
    "\n",
    "            loss.backward()\n",
    "            tr_loss += loss.item()\n",
    "\n",
    "            if (step + 1) % params['GRADIENT_ACCUMULATION_STEPS'] == 0:\n",
    "                torch.nn.utils.clip_grad_norm_(model.parameters(),params['MAX_GRAD_NORM'])  \n",
    "\n",
    "                optimizer.step()\n",
    "                optimizer.zero_grad(set_to_none=True)\n",
    "                scheduler.step()\n",
    "        dev_loss, _, _ = evaluate(model, dev_dataloader)\n",
    "            #print(\"Dev loss:\", dev_loss)\n",
    "    \n",
    "        print(\"Loss history:\", loss_history)\n",
    "        print(\"Dev loss:\", dev_loss)\n",
    "\n",
    "        if len(loss_history) == 0 or dev_loss < min(loss_history):\n",
    "            no_improvement = 0\n",
    "            model_to_save = model.module if hasattr(model, 'module') else model\n",
    "            output_model_file = os.path.join(OUTPUT_DIR, MODEL_FILE_NAME)\n",
    "            torch.save(model_to_save.state_dict(), output_model_file)\n",
    "        else:\n",
    "            no_improvement += 1\n",
    "\n",
    "        if no_improvement >= PATIENCE: \n",
    "            print(\"No improvement on development set. Finish training.\")\n",
    "            break\n",
    "\n",
    "\n",
    "        loss_history.append(dev_loss)\n",
    "    "
   ]
  },
  {
   "cell_type": "code",
   "execution_count": 9,
   "id": "63b9c70a",
   "metadata": {},
   "outputs": [],
   "source": [
    "from transformers import BertForSequenceClassification,DistilBertForSequenceClassification\n",
    "from transformers import BertTokenizer,DistilBertTokenizer\n",
    "import os\n",
    "from sklearn.metrics import classification_report, precision_recall_fscore_support\n",
    "\n",
    "OUTPUT_DIR = \"./tmp/\"\n",
    "MODEL_FILE_NAME = \"pytorch_model.bin\"\n",
    "\n",
    "\n",
    "# Evaluate the dataset based on trained distilbert model\n",
    "def data_evaluation(texts,labels,model_name,params,trained=True,OUTPUT_DIR = OUTPUT_DIR, MODEL_FILE_NAME = MODEL_FILE_NAME):\n",
    "    # Convert test data of submission to features\n",
    "    target_names = list(set(labels))\n",
    "    label2idx = {label: idx for idx, label in enumerate(target_names)}\n",
    "    \n",
    "    # Enable GPU\n",
    "    device = torch.device(\"cuda\" if torch.cuda.is_available() else \"cpu\")\n",
    "    \n",
    "    # Select bert model\n",
    "    #BERT_MODEL = \"distilbert-base-uncased\"\n",
    "    tokenizer = DistilBertTokenizer.from_pretrained(model_name)\n",
    "       \n",
    "    if trained:\n",
    "        # Using trained model\n",
    "        model_state_dict = torch.load(os.path.join(OUTPUT_DIR, MODEL_FILE_NAME), map_location=lambda storage, loc: storage)\n",
    "        model=DistilBertForSequenceClassification.from_pretrained(model_name, state_dict=model_state_dict, num_labels = len(target_names),\n",
    "                                                                 output_attentions = False,\n",
    "                                                                 output_hidden_states = False)\n",
    "    else:\n",
    "        # Using pretrained model without training\n",
    "        model=DistilBertForSequenceClassification.from_pretrained(BERT_MODEL,num_labels = len(target_names),\n",
    "                                                                 output_attentions = False,\n",
    "                                                                 output_hidden_states = False)        \n",
    "    model.to(device)\n",
    "    \n",
    "    # Convert text and labels to embeddings \n",
    "    features = convert_examples_to_inputs(texts, labels, label2idx,  params['MAX_SEQ_LENGTH'], tokenizer)\n",
    "    dataloader = get_data_loader(features, params['MAX_SEQ_LENGTH'], params['BATCH_SIZE'], shuffle=False)\n",
    "    \n",
    "    # Predict the result, and discard the evaluatoin result, only take the prediction result.\n",
    "    _, correct, predicted = evaluate(model, dataloader)\n",
    "    print(\"Errors performance:\", precision_recall_fscore_support(correct, predicted, average=\"micro\"))\n",
    "\n",
    "    bert_accuracy = np.mean(predicted == correct)\n",
    "    \n",
    "    #print(bert_accuracy)\n",
    "    print(classification_report(correct, predicted))\n",
    "\n",
    "    return correct,predicted, bert_accuracy "
   ]
  },
  {
   "cell_type": "markdown",
   "id": "f43ef8bb",
   "metadata": {},
   "source": [
    "##### Import dataset"
   ]
  },
  {
   "cell_type": "code",
   "execution_count": 10,
   "id": "d88cb406",
   "metadata": {},
   "outputs": [],
   "source": [
    "import pandas as pd\n",
    "# load train data\n",
    "source_train_data_path=\"./01_data/WikiLarge_Train.csv\"\n",
    "source_train_data=pd.read_csv(source_train_data_path)\n",
    "\n",
    "RANDOM_STATE=1\n",
    "PORTION=0.01\n",
    "size=round(len(source_train_data)*PORTION)\n",
    "train_data=source_train_data.sample(n=size,random_state=RANDOM_STATE)"
   ]
  },
  {
   "cell_type": "code",
   "execution_count": 11,
   "id": "e982e3da",
   "metadata": {},
   "outputs": [
    {
     "data": {
      "text/plain": [
       "Text(0.5, 0, 'length')"
      ]
     },
     "execution_count": 11,
     "metadata": {},
     "output_type": "execute_result"
    },
    {
     "data": {
      "image/png": "[encoded data removed]",
      "text/plain": [
       "<Figure size 720x576 with 1 Axes>"
      ]
     },
     "metadata": {
      "needs_background": "light"
     },
     "output_type": "display_data"
    }
   ],
   "source": [
    "import matplotlib.pyplot as plt\n",
    "import seaborn as sns\n",
    "# Plot histogram with the length. Truncate max length to 5000 tokens.\n",
    "plt.style.use(\"ggplot\")\n",
    "\n",
    "plt.figure(figsize=(10, 8))\n",
    "train_data['length'] = train_data['original_text'].apply(lambda x: len(x.split()))\n",
    "sns.distplot(train_data[train_data['length'] < 5000]['length'])\n",
    "plt.title('Frequence of sentences of a given length', fontsize=14)\n",
    "plt.xlabel('length', fontsize=14)"
   ]
  },
  {
   "cell_type": "code",
   "execution_count": 12,
   "id": "3135c022",
   "metadata": {},
   "outputs": [
    {
     "name": "stdout",
     "output_type": "stream",
     "text": [
      "count    4168.000000\n",
      "mean       21.913628\n",
      "std        12.775337\n",
      "min         1.000000\n",
      "25%        13.000000\n",
      "50%        20.000000\n",
      "75%        29.000000\n",
      "max        79.000000\n",
      "Name: original_text, dtype: float64\n"
     ]
    }
   ],
   "source": [
    "# BERT token length should not be more than 512.\n",
    "data_describe=train_data['original_text'].apply(lambda x: len(x.split())).describe()\n",
    "print(data_describe)\n",
    "MAX_SEQ_LENGTH=int(data_describe['max'])\n",
    "if MAX_SEQ_LENGTH>512:\n",
    "    MAX_SEQ_LENGTH=512"
   ]
  },
  {
   "cell_type": "code",
   "execution_count": 13,
   "id": "c5caba0c",
   "metadata": {},
   "outputs": [
    {
     "name": "stdout",
     "output_type": "stream",
     "text": [
      "{0: 0, 1: 1}\n",
      "Train size: 3375\n",
      "Dev size: 376\n",
      "Test size: 417\n"
     ]
    }
   ],
   "source": [
    "\n",
    "(train_texts,dev_texts,test_texts),(train_labels,dev_labels,test_labels),(target_names,label2idx)=train_dev_test(train_data,random_state=RANDOM_STATE)"
   ]
  },
  {
   "cell_type": "code",
   "execution_count": 14,
   "id": "2c2e6f4f",
   "metadata": {},
   "outputs": [],
   "source": [
    "params={\n",
    "        \"GRADIENT_ACCUMULATION_STEPS\":1,\n",
    "        \"NUM_TRAIN_EPOCHS\":8,\n",
    "        \"LEARNING_RATE\":2e-5,\n",
    "        \"WARMUP_PROPORTION\":0.1,\n",
    "        \"MAX_GRAD_NORM\":5,\n",
    "        \"MAX_SEQ_LENGTH\":MAX_SEQ_LENGTH,\n",
    "        \"BATCH_SIZE\":16,\n",
    "        \"NUM_WARMUP_STEPS\":600\n",
    "}\n",
    "BERT_MODEL = \"distilbert-base-uncased\""
   ]
  },
  {
   "cell_type": "markdown",
   "id": "228c8665",
   "metadata": {},
   "source": [
    "##### Initial accuracy for pretrain model"
   ]
  },
  {
   "cell_type": "code",
   "execution_count": 15,
   "id": "d026f946",
   "metadata": {},
   "outputs": [
    {
     "name": "stderr",
     "output_type": "stream",
     "text": [
      "Some weights of the model checkpoint at distilbert-base-uncased were not used when initializing DistilBertForSequenceClassification: ['vocab_transform.weight', 'vocab_layer_norm.weight', 'vocab_transform.bias', 'vocab_layer_norm.bias', 'vocab_projector.weight', 'vocab_projector.bias']\n",
      "- This IS expected if you are initializing DistilBertForSequenceClassification from the checkpoint of a model trained on another task or with another architecture (e.g. initializing a BertForSequenceClassification model from a BertForPreTraining model).\n",
      "- This IS NOT expected if you are initializing DistilBertForSequenceClassification from the checkpoint of a model that you expect to be exactly identical (initializing a BertForSequenceClassification model from a BertForSequenceClassification model).\n",
      "Some weights of DistilBertForSequenceClassification were not initialized from the model checkpoint at distilbert-base-uncased and are newly initialized: ['pre_classifier.weight', 'pre_classifier.bias', 'classifier.weight', 'classifier.bias']\n",
      "You should probably TRAIN this model on a down-stream task to be able to use it for predictions and inference.\n"
     ]
    },
    {
     "data": {
      "application/vnd.jupyter.widget-view+json": {
       "model_id": "7ce8b9da041d45f7ba5a77556a9ee258",
       "version_major": 2,
       "version_minor": 0
      },
      "text/plain": [
       "Evaluation iteration:   0%|          | 0/27 [00:00<?, ?it/s]"
      ]
     },
     "metadata": {},
     "output_type": "display_data"
    },
    {
     "name": "stdout",
     "output_type": "stream",
     "text": [
      "Errors performance: (0.5227817745803357, 0.5227817745803357, 0.5227817745803357, None)\n",
      "              precision    recall  f1-score   support\n",
      "\n",
      "           0       0.41      0.04      0.07       196\n",
      "           1       0.53      0.95      0.68       221\n",
      "\n",
      "    accuracy                           0.52       417\n",
      "   macro avg       0.47      0.50      0.37       417\n",
      "weighted avg       0.47      0.52      0.39       417\n",
      "\n"
     ]
    }
   ],
   "source": [
    "_,_,init_acc=data_evaluation(test_texts,test_labels,BERT_MODEL,params,trained=False,OUTPUT_DIR = OUTPUT_DIR, MODEL_FILE_NAME = MODEL_FILE_NAME)"
   ]
  },
  {
   "cell_type": "markdown",
   "id": "f69004e9",
   "metadata": {},
   "source": [
    "##### Train model without any preprocessing."
   ]
  },
  {
   "cell_type": "code",
   "execution_count": 16,
   "id": "c4de7ad2",
   "metadata": {},
   "outputs": [
    {
     "name": "stderr",
     "output_type": "stream",
     "text": [
      "Some weights of the model checkpoint at distilbert-base-uncased were not used when initializing DistilBertForSequenceClassification: ['vocab_transform.weight', 'vocab_layer_norm.weight', 'vocab_transform.bias', 'vocab_layer_norm.bias', 'vocab_projector.weight', 'vocab_projector.bias']\n",
      "- This IS expected if you are initializing DistilBertForSequenceClassification from the checkpoint of a model trained on another task or with another architecture (e.g. initializing a BertForSequenceClassification model from a BertForPreTraining model).\n",
      "- This IS NOT expected if you are initializing DistilBertForSequenceClassification from the checkpoint of a model that you expect to be exactly identical (initializing a BertForSequenceClassification model from a BertForSequenceClassification model).\n",
      "Some weights of DistilBertForSequenceClassification were not initialized from the model checkpoint at distilbert-base-uncased and are newly initialized: ['pre_classifier.weight', 'pre_classifier.bias', 'classifier.weight', 'classifier.bias']\n",
      "You should probably TRAIN this model on a down-stream task to be able to use it for predictions and inference.\n",
      "Epoch:   0%|                                                                                     | 0/8 [00:00<?, ?it/s]"
     ]
    },
    {
     "data": {
      "application/vnd.jupyter.widget-view+json": {
       "model_id": "fffa25cc5e6f4265978dee52f5753dbc",
       "version_major": 2,
       "version_minor": 0
      },
      "text/plain": [
       "Training iteration:   0%|          | 0/211 [00:00<?, ?it/s]"
      ]
     },
     "metadata": {},
     "output_type": "display_data"
    },
    {
     "data": {
      "application/vnd.jupyter.widget-view+json": {
       "model_id": "49373c820e8a4d6d80b3035a02490e8e",
       "version_major": 2,
       "version_minor": 0
      },
      "text/plain": [
       "Evaluation iteration:   0%|          | 0/24 [00:00<?, ?it/s]"
      ]
     },
     "metadata": {},
     "output_type": "display_data"
    },
    {
     "name": "stdout",
     "output_type": "stream",
     "text": [
      "Loss history: []\n",
      "Dev loss: 0.6223116430143515\n"
     ]
    },
    {
     "name": "stderr",
     "output_type": "stream",
     "text": [
      "\r",
      "Epoch:  12%|█████████▋                                                                   | 1/8 [00:40<04:44, 40.63s/it]"
     ]
    },
    {
     "data": {
      "application/vnd.jupyter.widget-view+json": {
       "model_id": "f4b618ed5175428bb46045850007c494",
       "version_major": 2,
       "version_minor": 0
      },
      "text/plain": [
       "Training iteration:   0%|          | 0/211 [00:00<?, ?it/s]"
      ]
     },
     "metadata": {},
     "output_type": "display_data"
    },
    {
     "data": {
      "application/vnd.jupyter.widget-view+json": {
       "model_id": "9309498f8d0b4080beaee10aee870189",
       "version_major": 2,
       "version_minor": 0
      },
      "text/plain": [
       "Evaluation iteration:   0%|          | 0/24 [00:00<?, ?it/s]"
      ]
     },
     "metadata": {},
     "output_type": "display_data"
    },
    {
     "name": "stderr",
     "output_type": "stream",
     "text": [
      "\r",
      "Epoch:  25%|███████████████████▎                                                         | 2/8 [01:20<04:00, 40.14s/it]"
     ]
    },
    {
     "name": "stdout",
     "output_type": "stream",
     "text": [
      "Loss history: [0.6223116430143515]\n",
      "Dev loss: 0.6304677041868368\n"
     ]
    },
    {
     "data": {
      "application/vnd.jupyter.widget-view+json": {
       "model_id": "58f3c41366d44cd48dfc96233d73cbab",
       "version_major": 2,
       "version_minor": 0
      },
      "text/plain": [
       "Training iteration:   0%|          | 0/211 [00:00<?, ?it/s]"
      ]
     },
     "metadata": {},
     "output_type": "display_data"
    },
    {
     "data": {
      "application/vnd.jupyter.widget-view+json": {
       "model_id": "d31ee16203ec4880adc066254ee225ab",
       "version_major": 2,
       "version_minor": 0
      },
      "text/plain": [
       "Evaluation iteration:   0%|          | 0/24 [00:00<?, ?it/s]"
      ]
     },
     "metadata": {},
     "output_type": "display_data"
    },
    {
     "name": "stderr",
     "output_type": "stream",
     "text": [
      "\r",
      "Epoch:  25%|███████████████████▎                                                         | 2/8 [02:00<06:00, 60.10s/it]"
     ]
    },
    {
     "name": "stdout",
     "output_type": "stream",
     "text": [
      "Loss history: [0.6223116430143515, 0.6304677041868368]\n",
      "Dev loss: 0.6753258295357227\n",
      "No improvement on development set. Finish training.\n"
     ]
    },
    {
     "name": "stderr",
     "output_type": "stream",
     "text": [
      "\n"
     ]
    }
   ],
   "source": [
    "train(BERT_MODEL,train_texts,train_labels,dev_texts,dev_labels,target_names,label2idx,params)"
   ]
  },
  {
   "cell_type": "markdown",
   "id": "5f40858b",
   "metadata": {},
   "source": [
    "##### Accuracy after training"
   ]
  },
  {
   "cell_type": "code",
   "execution_count": 17,
   "id": "4beb3298",
   "metadata": {},
   "outputs": [
    {
     "data": {
      "application/vnd.jupyter.widget-view+json": {
       "model_id": "7363e341b2a44e71bf3ebb54f5ba4181",
       "version_major": 2,
       "version_minor": 0
      },
      "text/plain": [
       "Evaluation iteration:   0%|          | 0/27 [00:00<?, ?it/s]"
      ]
     },
     "metadata": {},
     "output_type": "display_data"
    },
    {
     "name": "stdout",
     "output_type": "stream",
     "text": [
      "Errors performance: (0.6666666666666666, 0.6666666666666666, 0.6666666666666666, None)\n",
      "              precision    recall  f1-score   support\n",
      "\n",
      "           0       0.64      0.67      0.65       196\n",
      "           1       0.69      0.67      0.68       221\n",
      "\n",
      "    accuracy                           0.67       417\n",
      "   macro avg       0.67      0.67      0.67       417\n",
      "weighted avg       0.67      0.67      0.67       417\n",
      "\n"
     ]
    }
   ],
   "source": [
    "_,_,orig_acc=data_evaluation(test_texts,test_labels,BERT_MODEL,params,trained=True,OUTPUT_DIR = OUTPUT_DIR, MODEL_FILE_NAME = MODEL_FILE_NAME)"
   ]
  },
  {
   "cell_type": "markdown",
   "id": "4f866ef2",
   "metadata": {},
   "source": [
    "##### Remove stopwords"
   ]
  },
  {
   "cell_type": "code",
   "execution_count": 18,
   "id": "3f02461f",
   "metadata": {},
   "outputs": [
    {
     "name": "stderr",
     "output_type": "stream",
     "text": [
      "[nltk_data] Downloading package omw-1.4 to\n",
      "[nltk_data]     C:\\Users\\patri\\AppData\\Roaming\\nltk_data...\n",
      "[nltk_data]   Package omw-1.4 is already up-to-date!\n"
     ]
    }
   ],
   "source": [
    "from text_preprocessing import preprocess_text\n",
    "from text_preprocessing import remove_punctuation,remove_special_character,normalize_unicode,check_spelling,remove_stopword,lemmatize_word\n",
    "# Preprocess text using custom preprocess functions in the pipeline \n",
    "#STOPWORDS=['-RRB-','-LRB-'] # remove customized stopwords\n",
    "#preprocess_functions = [to_lower, remove_punctuation,remove_special_character,normalize_unicode,remove_stopword,lemmatize_word]\n"
   ]
  },
  {
   "cell_type": "code",
   "execution_count": 19,
   "id": "b99a2ea3",
   "metadata": {},
   "outputs": [],
   "source": [
    "process_data=train_data.copy()\n",
    "process_data['original_text'] = process_data['original_text'].apply(lambda x:' '.join(remove_stopword(x)))"
   ]
  },
  {
   "cell_type": "code",
   "execution_count": 20,
   "id": "4096def9",
   "metadata": {},
   "outputs": [
    {
     "data": {
      "text/html": [
       "<div>\n",
       "<style scoped>\n",
       "    .dataframe tbody tr th:only-of-type {\n",
       "        vertical-align: middle;\n",
       "    }\n",
       "\n",
       "    .dataframe tbody tr th {\n",
       "        vertical-align: top;\n",
       "    }\n",
       "\n",
       "    .dataframe thead th {\n",
       "        text-align: right;\n",
       "    }\n",
       "</style>\n",
       "<table border=\"1\" class=\"dataframe\">\n",
       "  <thead>\n",
       "    <tr style=\"text-align: right;\">\n",
       "      <th></th>\n",
       "      <th>original_text</th>\n",
       "      <th>label</th>\n",
       "      <th>length</th>\n",
       "    </tr>\n",
       "  </thead>\n",
       "  <tbody>\n",
       "    <tr>\n",
       "      <th>314316</th>\n",
       "      <td>The Yarra Trams fleet consists 500 trams , ope...</td>\n",
       "      <td>0</td>\n",
       "      <td>18</td>\n",
       "    </tr>\n",
       "    <tr>\n",
       "      <th>136396</th>\n",
       "      <td>Still Life concept album , explained Åkerfeldt...</td>\n",
       "      <td>1</td>\n",
       "      <td>39</td>\n",
       "    </tr>\n",
       "    <tr>\n",
       "      <th>377680</th>\n",
       "      <td>Romana , short Romanadvoratrelundar , fictiona...</td>\n",
       "      <td>0</td>\n",
       "      <td>20</td>\n",
       "    </tr>\n",
       "    <tr>\n",
       "      <th>280270</th>\n",
       "      <td>A minor scale music theory scale least three s...</td>\n",
       "      <td>0</td>\n",
       "      <td>35</td>\n",
       "    </tr>\n",
       "    <tr>\n",
       "      <th>285587</th>\n",
       "      <td>The show also created character Frasier Crane .</td>\n",
       "      <td>0</td>\n",
       "      <td>9</td>\n",
       "    </tr>\n",
       "    <tr>\n",
       "      <th>...</th>\n",
       "      <td>...</td>\n",
       "      <td>...</td>\n",
       "      <td>...</td>\n",
       "    </tr>\n",
       "    <tr>\n",
       "      <th>145077</th>\n",
       "      <td>In paintball , bunker obstacle field play used...</td>\n",
       "      <td>1</td>\n",
       "      <td>25</td>\n",
       "    </tr>\n",
       "    <tr>\n",
       "      <th>35542</th>\n",
       "      <td>La Ferrière-Harang commune Calvados department...</td>\n",
       "      <td>1</td>\n",
       "      <td>17</td>\n",
       "    </tr>\n",
       "    <tr>\n",
       "      <th>238435</th>\n",
       "      <td>The British Rail Class 325 dual-voltage altern...</td>\n",
       "      <td>0</td>\n",
       "      <td>26</td>\n",
       "    </tr>\n",
       "    <tr>\n",
       "      <th>324621</th>\n",
       "      <td>When Palmengarten returned city 's control 196...</td>\n",
       "      <td>0</td>\n",
       "      <td>21</td>\n",
       "    </tr>\n",
       "    <tr>\n",
       "      <th>38232</th>\n",
       "      <td>Pong -LRB- marketed PONG -RRB- one earliest ar...</td>\n",
       "      <td>1</td>\n",
       "      <td>52</td>\n",
       "    </tr>\n",
       "  </tbody>\n",
       "</table>\n",
       "<p>4168 rows × 3 columns</p>\n",
       "</div>"
      ],
      "text/plain": [
       "                                            original_text  label  length\n",
       "314316  The Yarra Trams fleet consists 500 trams , ope...      0      18\n",
       "136396  Still Life concept album , explained Åkerfeldt...      1      39\n",
       "377680  Romana , short Romanadvoratrelundar , fictiona...      0      20\n",
       "280270  A minor scale music theory scale least three s...      0      35\n",
       "285587    The show also created character Frasier Crane .      0       9\n",
       "...                                                   ...    ...     ...\n",
       "145077  In paintball , bunker obstacle field play used...      1      25\n",
       "35542   La Ferrière-Harang commune Calvados department...      1      17\n",
       "238435  The British Rail Class 325 dual-voltage altern...      0      26\n",
       "324621  When Palmengarten returned city 's control 196...      0      21\n",
       "38232   Pong -LRB- marketed PONG -RRB- one earliest ar...      1      52\n",
       "\n",
       "[4168 rows x 3 columns]"
      ]
     },
     "execution_count": 20,
     "metadata": {},
     "output_type": "execute_result"
    }
   ],
   "source": [
    "process_data"
   ]
  },
  {
   "cell_type": "code",
   "execution_count": 21,
   "id": "81320b13",
   "metadata": {},
   "outputs": [
    {
     "name": "stdout",
     "output_type": "stream",
     "text": [
      "{0: 0, 1: 1}\n",
      "Train size: 3375\n",
      "Dev size: 376\n",
      "Test size: 417\n"
     ]
    }
   ],
   "source": [
    "(train_texts,dev_texts,test_texts),(train_labels,dev_labels,test_labels),(target_names,label2idx)=train_dev_test(process_data,random_state=RANDOM_STATE)"
   ]
  },
  {
   "cell_type": "code",
   "execution_count": 22,
   "id": "2f11b57e",
   "metadata": {},
   "outputs": [
    {
     "name": "stderr",
     "output_type": "stream",
     "text": [
      "Some weights of the model checkpoint at distilbert-base-uncased were not used when initializing DistilBertForSequenceClassification: ['vocab_transform.weight', 'vocab_layer_norm.weight', 'vocab_transform.bias', 'vocab_layer_norm.bias', 'vocab_projector.weight', 'vocab_projector.bias']\n",
      "- This IS expected if you are initializing DistilBertForSequenceClassification from the checkpoint of a model trained on another task or with another architecture (e.g. initializing a BertForSequenceClassification model from a BertForPreTraining model).\n",
      "- This IS NOT expected if you are initializing DistilBertForSequenceClassification from the checkpoint of a model that you expect to be exactly identical (initializing a BertForSequenceClassification model from a BertForSequenceClassification model).\n",
      "Some weights of DistilBertForSequenceClassification were not initialized from the model checkpoint at distilbert-base-uncased and are newly initialized: ['pre_classifier.weight', 'pre_classifier.bias', 'classifier.weight', 'classifier.bias']\n",
      "You should probably TRAIN this model on a down-stream task to be able to use it for predictions and inference.\n",
      "Epoch:   0%|                                                                                     | 0/8 [00:00<?, ?it/s]"
     ]
    },
    {
     "data": {
      "application/vnd.jupyter.widget-view+json": {
       "model_id": "2ff68dbce68d417a93410e59425a0fbd",
       "version_major": 2,
       "version_minor": 0
      },
      "text/plain": [
       "Training iteration:   0%|          | 0/211 [00:00<?, ?it/s]"
      ]
     },
     "metadata": {},
     "output_type": "display_data"
    },
    {
     "data": {
      "application/vnd.jupyter.widget-view+json": {
       "model_id": "c2d1b1d20bea4f35b168bb087aa7ce50",
       "version_major": 2,
       "version_minor": 0
      },
      "text/plain": [
       "Evaluation iteration:   0%|          | 0/24 [00:00<?, ?it/s]"
      ]
     },
     "metadata": {},
     "output_type": "display_data"
    },
    {
     "name": "stdout",
     "output_type": "stream",
     "text": [
      "Loss history: []\n",
      "Dev loss: 0.6449858819444975\n"
     ]
    },
    {
     "name": "stderr",
     "output_type": "stream",
     "text": [
      "\r",
      "Epoch:  12%|█████████▋                                                                   | 1/8 [00:40<04:43, 40.53s/it]"
     ]
    },
    {
     "data": {
      "application/vnd.jupyter.widget-view+json": {
       "model_id": "46bab807262a481ba92250839f95edc9",
       "version_major": 2,
       "version_minor": 0
      },
      "text/plain": [
       "Training iteration:   0%|          | 0/211 [00:00<?, ?it/s]"
      ]
     },
     "metadata": {},
     "output_type": "display_data"
    },
    {
     "data": {
      "application/vnd.jupyter.widget-view+json": {
       "model_id": "1dedae58dbd9469698d2f8058a4b6f54",
       "version_major": 2,
       "version_minor": 0
      },
      "text/plain": [
       "Evaluation iteration:   0%|          | 0/24 [00:00<?, ?it/s]"
      ]
     },
     "metadata": {},
     "output_type": "display_data"
    },
    {
     "name": "stdout",
     "output_type": "stream",
     "text": [
      "Loss history: [0.6449858819444975]\n",
      "Dev loss: 0.5820029315849146\n"
     ]
    },
    {
     "name": "stderr",
     "output_type": "stream",
     "text": [
      "\r",
      "Epoch:  25%|███████████████████▎                                                         | 2/8 [01:20<04:02, 40.43s/it]"
     ]
    },
    {
     "data": {
      "application/vnd.jupyter.widget-view+json": {
       "model_id": "dcdbb549740b4584b63028af35d21a95",
       "version_major": 2,
       "version_minor": 0
      },
      "text/plain": [
       "Training iteration:   0%|          | 0/211 [00:00<?, ?it/s]"
      ]
     },
     "metadata": {},
     "output_type": "display_data"
    },
    {
     "data": {
      "application/vnd.jupyter.widget-view+json": {
       "model_id": "5ebf0a0a494c492c8158b751ec972ca9",
       "version_major": 2,
       "version_minor": 0
      },
      "text/plain": [
       "Evaluation iteration:   0%|          | 0/24 [00:00<?, ?it/s]"
      ]
     },
     "metadata": {},
     "output_type": "display_data"
    },
    {
     "name": "stderr",
     "output_type": "stream",
     "text": [
      "\r",
      "Epoch:  38%|████████████████████████████▉                                                | 3/8 [02:00<03:19, 39.99s/it]"
     ]
    },
    {
     "name": "stdout",
     "output_type": "stream",
     "text": [
      "Loss history: [0.6449858819444975, 0.5820029315849146]\n",
      "Dev loss: 0.6511865258216858\n"
     ]
    },
    {
     "data": {
      "application/vnd.jupyter.widget-view+json": {
       "model_id": "d98364c0946142e29c601b89904327d8",
       "version_major": 2,
       "version_minor": 0
      },
      "text/plain": [
       "Training iteration:   0%|          | 0/211 [00:00<?, ?it/s]"
      ]
     },
     "metadata": {},
     "output_type": "display_data"
    },
    {
     "data": {
      "application/vnd.jupyter.widget-view+json": {
       "model_id": "861e054f8a324cba87e5638927fb584b",
       "version_major": 2,
       "version_minor": 0
      },
      "text/plain": [
       "Evaluation iteration:   0%|          | 0/24 [00:00<?, ?it/s]"
      ]
     },
     "metadata": {},
     "output_type": "display_data"
    },
    {
     "name": "stderr",
     "output_type": "stream",
     "text": [
      "\r",
      "Epoch:  38%|████████████████████████████▉                                                | 3/8 [02:40<04:27, 53.42s/it]"
     ]
    },
    {
     "name": "stdout",
     "output_type": "stream",
     "text": [
      "Loss history: [0.6449858819444975, 0.5820029315849146, 0.6511865258216858]\n",
      "Dev loss: 0.8664342053234577\n",
      "No improvement on development set. Finish training.\n"
     ]
    },
    {
     "name": "stderr",
     "output_type": "stream",
     "text": [
      "\n"
     ]
    }
   ],
   "source": [
    "train(BERT_MODEL,train_texts,train_labels,dev_texts,dev_labels,target_names,label2idx,params)"
   ]
  },
  {
   "cell_type": "code",
   "execution_count": 23,
   "id": "78d0cb7e",
   "metadata": {},
   "outputs": [
    {
     "data": {
      "application/vnd.jupyter.widget-view+json": {
       "model_id": "25a4696ccab741d8ab91c4e0f5d58826",
       "version_major": 2,
       "version_minor": 0
      },
      "text/plain": [
       "Evaluation iteration:   0%|          | 0/27 [00:00<?, ?it/s]"
      ]
     },
     "metadata": {},
     "output_type": "display_data"
    },
    {
     "name": "stdout",
     "output_type": "stream",
     "text": [
      "Errors performance: (0.6786570743405276, 0.6786570743405276, 0.6786570743405276, None)\n",
      "              precision    recall  f1-score   support\n",
      "\n",
      "           0       0.68      0.60      0.64       196\n",
      "           1       0.68      0.75      0.71       221\n",
      "\n",
      "    accuracy                           0.68       417\n",
      "   macro avg       0.68      0.67      0.67       417\n",
      "weighted avg       0.68      0.68      0.68       417\n",
      "\n"
     ]
    }
   ],
   "source": [
    "_,_,sw_acc=data_evaluation(test_texts,test_labels,BERT_MODEL,params,trained=True,OUTPUT_DIR = OUTPUT_DIR, MODEL_FILE_NAME = MODEL_FILE_NAME)"
   ]
  },
  {
   "cell_type": "markdown",
   "id": "031671e3",
   "metadata": {},
   "source": [
    "##### Spelling correction "
   ]
  },
  {
   "cell_type": "code",
   "execution_count": 24,
   "id": "d46e4ed3",
   "metadata": {},
   "outputs": [
    {
     "data": {
      "text/plain": [
       "str"
      ]
     },
     "execution_count": 24,
     "metadata": {},
     "output_type": "execute_result"
    }
   ],
   "source": [
    "type('dfdf')"
   ]
  },
  {
   "cell_type": "code",
   "execution_count": 25,
   "id": "7f524f11",
   "metadata": {},
   "outputs": [],
   "source": [
    "process_data=train_data.copy()\n",
    "process_data['original_text'] = process_data['original_text'].apply(lambda x:' '.join(check_spelling(x)) if type(x)=='str' else x)"
   ]
  },
  {
   "cell_type": "code",
   "execution_count": 26,
   "id": "aa8581c5",
   "metadata": {},
   "outputs": [
    {
     "data": {
      "text/html": [
       "<div>\n",
       "<style scoped>\n",
       "    .dataframe tbody tr th:only-of-type {\n",
       "        vertical-align: middle;\n",
       "    }\n",
       "\n",
       "    .dataframe tbody tr th {\n",
       "        vertical-align: top;\n",
       "    }\n",
       "\n",
       "    .dataframe thead th {\n",
       "        text-align: right;\n",
       "    }\n",
       "</style>\n",
       "<table border=\"1\" class=\"dataframe\">\n",
       "  <thead>\n",
       "    <tr style=\"text-align: right;\">\n",
       "      <th></th>\n",
       "      <th>original_text</th>\n",
       "      <th>label</th>\n",
       "      <th>length</th>\n",
       "    </tr>\n",
       "  </thead>\n",
       "  <tbody>\n",
       "    <tr>\n",
       "      <th>314316</th>\n",
       "      <td>The Yarra Trams fleet consists of 500 trams , ...</td>\n",
       "      <td>0</td>\n",
       "      <td>18</td>\n",
       "    </tr>\n",
       "    <tr>\n",
       "      <th>136396</th>\n",
       "      <td>Still Life is a concept album , as explained b...</td>\n",
       "      <td>1</td>\n",
       "      <td>39</td>\n",
       "    </tr>\n",
       "    <tr>\n",
       "      <th>377680</th>\n",
       "      <td>Romana , short for Romanadvoratrelundar , is a...</td>\n",
       "      <td>0</td>\n",
       "      <td>20</td>\n",
       "    </tr>\n",
       "    <tr>\n",
       "      <th>280270</th>\n",
       "      <td>A minor scale in music theory is any scale tha...</td>\n",
       "      <td>0</td>\n",
       "      <td>35</td>\n",
       "    </tr>\n",
       "    <tr>\n",
       "      <th>285587</th>\n",
       "      <td>The show also created the character Frasier Cr...</td>\n",
       "      <td>0</td>\n",
       "      <td>9</td>\n",
       "    </tr>\n",
       "    <tr>\n",
       "      <th>...</th>\n",
       "      <td>...</td>\n",
       "      <td>...</td>\n",
       "      <td>...</td>\n",
       "    </tr>\n",
       "    <tr>\n",
       "      <th>145077</th>\n",
       "      <td>In paintball , a bunker is an obstacle on the ...</td>\n",
       "      <td>1</td>\n",
       "      <td>25</td>\n",
       "    </tr>\n",
       "    <tr>\n",
       "      <th>35542</th>\n",
       "      <td>La Ferrière-Harang is a commune in the Calvado...</td>\n",
       "      <td>1</td>\n",
       "      <td>17</td>\n",
       "    </tr>\n",
       "    <tr>\n",
       "      <th>238435</th>\n",
       "      <td>The British Rail Class 325 is a dual-voltage a...</td>\n",
       "      <td>0</td>\n",
       "      <td>26</td>\n",
       "    </tr>\n",
       "    <tr>\n",
       "      <th>324621</th>\n",
       "      <td>When the Palmengarten was returned to the city...</td>\n",
       "      <td>0</td>\n",
       "      <td>21</td>\n",
       "    </tr>\n",
       "    <tr>\n",
       "      <th>38232</th>\n",
       "      <td>Pong -LRB- marketed as PONG -RRB- is one of th...</td>\n",
       "      <td>1</td>\n",
       "      <td>52</td>\n",
       "    </tr>\n",
       "  </tbody>\n",
       "</table>\n",
       "<p>4168 rows × 3 columns</p>\n",
       "</div>"
      ],
      "text/plain": [
       "                                            original_text  label  length\n",
       "314316  The Yarra Trams fleet consists of 500 trams , ...      0      18\n",
       "136396  Still Life is a concept album , as explained b...      1      39\n",
       "377680  Romana , short for Romanadvoratrelundar , is a...      0      20\n",
       "280270  A minor scale in music theory is any scale tha...      0      35\n",
       "285587  The show also created the character Frasier Cr...      0       9\n",
       "...                                                   ...    ...     ...\n",
       "145077  In paintball , a bunker is an obstacle on the ...      1      25\n",
       "35542   La Ferrière-Harang is a commune in the Calvado...      1      17\n",
       "238435  The British Rail Class 325 is a dual-voltage a...      0      26\n",
       "324621  When the Palmengarten was returned to the city...      0      21\n",
       "38232   Pong -LRB- marketed as PONG -RRB- is one of th...      1      52\n",
       "\n",
       "[4168 rows x 3 columns]"
      ]
     },
     "execution_count": 26,
     "metadata": {},
     "output_type": "execute_result"
    }
   ],
   "source": [
    "process_data"
   ]
  },
  {
   "cell_type": "code",
   "execution_count": 27,
   "id": "33f534ad",
   "metadata": {},
   "outputs": [
    {
     "name": "stdout",
     "output_type": "stream",
     "text": [
      "{0: 0, 1: 1}\n",
      "Train size: 3375\n",
      "Dev size: 376\n",
      "Test size: 417\n"
     ]
    }
   ],
   "source": [
    "(train_texts,dev_texts,test_texts),(train_labels,dev_labels,test_labels),(target_names,label2idx)=train_dev_test(process_data,random_state=RANDOM_STATE)"
   ]
  },
  {
   "cell_type": "code",
   "execution_count": 28,
   "id": "b608b890",
   "metadata": {},
   "outputs": [
    {
     "name": "stderr",
     "output_type": "stream",
     "text": [
      "Some weights of the model checkpoint at distilbert-base-uncased were not used when initializing DistilBertForSequenceClassification: ['vocab_transform.weight', 'vocab_layer_norm.weight', 'vocab_transform.bias', 'vocab_layer_norm.bias', 'vocab_projector.weight', 'vocab_projector.bias']\n",
      "- This IS expected if you are initializing DistilBertForSequenceClassification from the checkpoint of a model trained on another task or with another architecture (e.g. initializing a BertForSequenceClassification model from a BertForPreTraining model).\n",
      "- This IS NOT expected if you are initializing DistilBertForSequenceClassification from the checkpoint of a model that you expect to be exactly identical (initializing a BertForSequenceClassification model from a BertForSequenceClassification model).\n",
      "Some weights of DistilBertForSequenceClassification were not initialized from the model checkpoint at distilbert-base-uncased and are newly initialized: ['pre_classifier.weight', 'pre_classifier.bias', 'classifier.weight', 'classifier.bias']\n",
      "You should probably TRAIN this model on a down-stream task to be able to use it for predictions and inference.\n",
      "Epoch:   0%|                                                                                     | 0/8 [00:00<?, ?it/s]"
     ]
    },
    {
     "data": {
      "application/vnd.jupyter.widget-view+json": {
       "model_id": "8b1532441b7f4b0fae5d0760f344d6b9",
       "version_major": 2,
       "version_minor": 0
      },
      "text/plain": [
       "Training iteration:   0%|          | 0/211 [00:00<?, ?it/s]"
      ]
     },
     "metadata": {},
     "output_type": "display_data"
    },
    {
     "data": {
      "application/vnd.jupyter.widget-view+json": {
       "model_id": "e8fbb83ec5f243b7b00f4e20f5acde48",
       "version_major": 2,
       "version_minor": 0
      },
      "text/plain": [
       "Evaluation iteration:   0%|          | 0/24 [00:00<?, ?it/s]"
      ]
     },
     "metadata": {},
     "output_type": "display_data"
    },
    {
     "name": "stdout",
     "output_type": "stream",
     "text": [
      "Loss history: []\n",
      "Dev loss: 0.6348510943353176\n"
     ]
    },
    {
     "name": "stderr",
     "output_type": "stream",
     "text": [
      "\r",
      "Epoch:  12%|█████████▋                                                                   | 1/8 [00:40<04:46, 40.88s/it]"
     ]
    },
    {
     "data": {
      "application/vnd.jupyter.widget-view+json": {
       "model_id": "bde748ae24574a6a9e4f4d9d3aff9010",
       "version_major": 2,
       "version_minor": 0
      },
      "text/plain": [
       "Training iteration:   0%|          | 0/211 [00:00<?, ?it/s]"
      ]
     },
     "metadata": {},
     "output_type": "display_data"
    },
    {
     "data": {
      "application/vnd.jupyter.widget-view+json": {
       "model_id": "df108c87acc844b0a0687e54a1c351e8",
       "version_major": 2,
       "version_minor": 0
      },
      "text/plain": [
       "Evaluation iteration:   0%|          | 0/24 [00:00<?, ?it/s]"
      ]
     },
     "metadata": {},
     "output_type": "display_data"
    },
    {
     "name": "stdout",
     "output_type": "stream",
     "text": [
      "Loss history: [0.6348510943353176]\n",
      "Dev loss: 0.5921247117221355\n"
     ]
    },
    {
     "name": "stderr",
     "output_type": "stream",
     "text": [
      "\r",
      "Epoch:  25%|███████████████████▎                                                         | 2/8 [01:21<04:04, 40.79s/it]"
     ]
    },
    {
     "data": {
      "application/vnd.jupyter.widget-view+json": {
       "model_id": "1aee949519a54615a9e2bdf27d71aad5",
       "version_major": 2,
       "version_minor": 0
      },
      "text/plain": [
       "Training iteration:   0%|          | 0/211 [00:00<?, ?it/s]"
      ]
     },
     "metadata": {},
     "output_type": "display_data"
    },
    {
     "data": {
      "application/vnd.jupyter.widget-view+json": {
       "model_id": "91157b8fdb6c4e46a0b053318cd25f32",
       "version_major": 2,
       "version_minor": 0
      },
      "text/plain": [
       "Evaluation iteration:   0%|          | 0/24 [00:00<?, ?it/s]"
      ]
     },
     "metadata": {},
     "output_type": "display_data"
    },
    {
     "name": "stderr",
     "output_type": "stream",
     "text": [
      "\r",
      "Epoch:  38%|████████████████████████████▉                                                | 3/8 [02:01<03:21, 40.38s/it]"
     ]
    },
    {
     "name": "stdout",
     "output_type": "stream",
     "text": [
      "Loss history: [0.6348510943353176, 0.5921247117221355]\n",
      "Dev loss: 0.6170806580533584\n"
     ]
    },
    {
     "data": {
      "application/vnd.jupyter.widget-view+json": {
       "model_id": "7d2d7058390941c188b5a1c616d6872f",
       "version_major": 2,
       "version_minor": 0
      },
      "text/plain": [
       "Training iteration:   0%|          | 0/211 [00:00<?, ?it/s]"
      ]
     },
     "metadata": {},
     "output_type": "display_data"
    },
    {
     "data": {
      "application/vnd.jupyter.widget-view+json": {
       "model_id": "ae44167a8d234bdcb3b44c307df33ee6",
       "version_major": 2,
       "version_minor": 0
      },
      "text/plain": [
       "Evaluation iteration:   0%|          | 0/24 [00:00<?, ?it/s]"
      ]
     },
     "metadata": {},
     "output_type": "display_data"
    },
    {
     "name": "stderr",
     "output_type": "stream",
     "text": [
      "\r",
      "Epoch:  38%|████████████████████████████▉                                                | 3/8 [02:41<04:29, 53.84s/it]"
     ]
    },
    {
     "name": "stdout",
     "output_type": "stream",
     "text": [
      "Loss history: [0.6348510943353176, 0.5921247117221355, 0.6170806580533584]\n",
      "Dev loss: 0.9130118054648241\n",
      "No improvement on development set. Finish training.\n"
     ]
    },
    {
     "name": "stderr",
     "output_type": "stream",
     "text": [
      "\n"
     ]
    }
   ],
   "source": [
    "train(BERT_MODEL,train_texts,train_labels,dev_texts,dev_labels,target_names,label2idx,params)"
   ]
  },
  {
   "cell_type": "code",
   "execution_count": 29,
   "id": "cb9bbc2b",
   "metadata": {},
   "outputs": [
    {
     "data": {
      "application/vnd.jupyter.widget-view+json": {
       "model_id": "3fc9f58619884ba9b097b5205f6e3cae",
       "version_major": 2,
       "version_minor": 0
      },
      "text/plain": [
       "Evaluation iteration:   0%|          | 0/27 [00:00<?, ?it/s]"
      ]
     },
     "metadata": {},
     "output_type": "display_data"
    },
    {
     "name": "stdout",
     "output_type": "stream",
     "text": [
      "Errors performance: (0.6546762589928058, 0.6546762589928058, 0.6546762589928058, None)\n",
      "              precision    recall  f1-score   support\n",
      "\n",
      "           0       0.62      0.69      0.65       196\n",
      "           1       0.70      0.62      0.66       221\n",
      "\n",
      "    accuracy                           0.65       417\n",
      "   macro avg       0.66      0.66      0.65       417\n",
      "weighted avg       0.66      0.65      0.65       417\n",
      "\n"
     ]
    }
   ],
   "source": [
    "_,_,pc_acc=data_evaluation(test_texts,test_labels,BERT_MODEL,params,trained=True,OUTPUT_DIR = OUTPUT_DIR, MODEL_FILE_NAME = MODEL_FILE_NAME)"
   ]
  },
  {
   "cell_type": "markdown",
   "id": "9bd88bcc",
   "metadata": {},
   "source": [
    "##### Lemmatization "
   ]
  },
  {
   "cell_type": "code",
   "execution_count": 30,
   "id": "c77e6a1a",
   "metadata": {},
   "outputs": [],
   "source": [
    "process_data=train_data.copy()\n",
    "process_data['original_text'] = process_data['original_text'].apply(lambda x:' '.join(lemmatize_word(x)))"
   ]
  },
  {
   "cell_type": "code",
   "execution_count": 31,
   "id": "6c8e7217",
   "metadata": {},
   "outputs": [
    {
     "data": {
      "text/plain": [
       "314316    The Yarra Trams fleet consists of 500 tram , o...\n",
       "136396    Still Life is a concept album , a explained by...\n",
       "377680    Romana , short for Romanadvoratrelundar , is a...\n",
       "280270    A minor scale in music theory is any scale tha...\n",
       "285587    The show also created the character Frasier Cr...\n",
       "                                ...                        \n",
       "145077    In paintball , a bunker is an obstacle on the ...\n",
       "35542     La Ferrière-Harang is a commune in the Calvado...\n",
       "238435    The British Rail Class 325 is a dual-voltage a...\n",
       "324621    When the Palmengarten wa returned to the city ...\n",
       "38232     Pong -LRB- marketed a PONG -RRB- is one of the...\n",
       "Name: original_text, Length: 4168, dtype: object"
      ]
     },
     "execution_count": 31,
     "metadata": {},
     "output_type": "execute_result"
    }
   ],
   "source": [
    "process_data['original_text']"
   ]
  },
  {
   "cell_type": "code",
   "execution_count": 32,
   "id": "f5fb8b26",
   "metadata": {},
   "outputs": [
    {
     "name": "stdout",
     "output_type": "stream",
     "text": [
      "{0: 0, 1: 1}\n",
      "Train size: 3375\n",
      "Dev size: 376\n",
      "Test size: 417\n"
     ]
    }
   ],
   "source": [
    "(train_texts,dev_texts,test_texts),(train_labels,dev_labels,test_labels),(target_names,label2idx)=train_dev_test(process_data,random_state=RANDOM_STATE)"
   ]
  },
  {
   "cell_type": "code",
   "execution_count": 33,
   "id": "ba27962d",
   "metadata": {},
   "outputs": [
    {
     "name": "stderr",
     "output_type": "stream",
     "text": [
      "Some weights of the model checkpoint at distilbert-base-uncased were not used when initializing DistilBertForSequenceClassification: ['vocab_transform.weight', 'vocab_layer_norm.weight', 'vocab_transform.bias', 'vocab_layer_norm.bias', 'vocab_projector.weight', 'vocab_projector.bias']\n",
      "- This IS expected if you are initializing DistilBertForSequenceClassification from the checkpoint of a model trained on another task or with another architecture (e.g. initializing a BertForSequenceClassification model from a BertForPreTraining model).\n",
      "- This IS NOT expected if you are initializing DistilBertForSequenceClassification from the checkpoint of a model that you expect to be exactly identical (initializing a BertForSequenceClassification model from a BertForSequenceClassification model).\n",
      "Some weights of DistilBertForSequenceClassification were not initialized from the model checkpoint at distilbert-base-uncased and are newly initialized: ['pre_classifier.weight', 'pre_classifier.bias', 'classifier.weight', 'classifier.bias']\n",
      "You should probably TRAIN this model on a down-stream task to be able to use it for predictions and inference.\n",
      "Epoch:   0%|                                                                                     | 0/8 [00:00<?, ?it/s]"
     ]
    },
    {
     "data": {
      "application/vnd.jupyter.widget-view+json": {
       "model_id": "c71ef6ea13164181a5e6a1adb4563482",
       "version_major": 2,
       "version_minor": 0
      },
      "text/plain": [
       "Training iteration:   0%|          | 0/211 [00:00<?, ?it/s]"
      ]
     },
     "metadata": {},
     "output_type": "display_data"
    },
    {
     "data": {
      "application/vnd.jupyter.widget-view+json": {
       "model_id": "ca020a44c0d946ab815b3ec8342e3338",
       "version_major": 2,
       "version_minor": 0
      },
      "text/plain": [
       "Evaluation iteration:   0%|          | 0/24 [00:00<?, ?it/s]"
      ]
     },
     "metadata": {},
     "output_type": "display_data"
    },
    {
     "name": "stdout",
     "output_type": "stream",
     "text": [
      "Loss history: []\n",
      "Dev loss: 0.6362876519560814\n"
     ]
    },
    {
     "name": "stderr",
     "output_type": "stream",
     "text": [
      "\r",
      "Epoch:  12%|█████████▋                                                                   | 1/8 [00:41<04:47, 41.05s/it]"
     ]
    },
    {
     "data": {
      "application/vnd.jupyter.widget-view+json": {
       "model_id": "da9e806f1e3942158e2671b6a367f5aa",
       "version_major": 2,
       "version_minor": 0
      },
      "text/plain": [
       "Training iteration:   0%|          | 0/211 [00:00<?, ?it/s]"
      ]
     },
     "metadata": {},
     "output_type": "display_data"
    },
    {
     "data": {
      "application/vnd.jupyter.widget-view+json": {
       "model_id": "39e6bf31584c4768b94ffdf7a00122f5",
       "version_major": 2,
       "version_minor": 0
      },
      "text/plain": [
       "Evaluation iteration:   0%|          | 0/24 [00:00<?, ?it/s]"
      ]
     },
     "metadata": {},
     "output_type": "display_data"
    },
    {
     "name": "stdout",
     "output_type": "stream",
     "text": [
      "Loss history: [0.6362876519560814]\n",
      "Dev loss: 0.5928014839688936\n"
     ]
    },
    {
     "name": "stderr",
     "output_type": "stream",
     "text": [
      "\r",
      "Epoch:  25%|███████████████████▎                                                         | 2/8 [01:21<04:05, 40.88s/it]"
     ]
    },
    {
     "data": {
      "application/vnd.jupyter.widget-view+json": {
       "model_id": "5e7b22ea14fa4eacbb11c5643b971f19",
       "version_major": 2,
       "version_minor": 0
      },
      "text/plain": [
       "Training iteration:   0%|          | 0/211 [00:00<?, ?it/s]"
      ]
     },
     "metadata": {},
     "output_type": "display_data"
    },
    {
     "data": {
      "application/vnd.jupyter.widget-view+json": {
       "model_id": "7a0100433d5e419aa0ff4c214e6604c2",
       "version_major": 2,
       "version_minor": 0
      },
      "text/plain": [
       "Evaluation iteration:   0%|          | 0/24 [00:00<?, ?it/s]"
      ]
     },
     "metadata": {},
     "output_type": "display_data"
    },
    {
     "name": "stderr",
     "output_type": "stream",
     "text": [
      "\r",
      "Epoch:  38%|████████████████████████████▉                                                | 3/8 [02:01<03:22, 40.44s/it]"
     ]
    },
    {
     "name": "stdout",
     "output_type": "stream",
     "text": [
      "Loss history: [0.6362876519560814, 0.5928014839688936]\n",
      "Dev loss: 0.6533676118900379\n"
     ]
    },
    {
     "data": {
      "application/vnd.jupyter.widget-view+json": {
       "model_id": "1b3bed7ae76c4f219120a9f1b0608709",
       "version_major": 2,
       "version_minor": 0
      },
      "text/plain": [
       "Training iteration:   0%|          | 0/211 [00:00<?, ?it/s]"
      ]
     },
     "metadata": {},
     "output_type": "display_data"
    },
    {
     "data": {
      "application/vnd.jupyter.widget-view+json": {
       "model_id": "ed5cf183920345099e3eba1579e8cfb6",
       "version_major": 2,
       "version_minor": 0
      },
      "text/plain": [
       "Evaluation iteration:   0%|          | 0/24 [00:00<?, ?it/s]"
      ]
     },
     "metadata": {},
     "output_type": "display_data"
    },
    {
     "name": "stderr",
     "output_type": "stream",
     "text": [
      "\r",
      "Epoch:  38%|████████████████████████████▉                                                | 3/8 [02:41<04:29, 53.92s/it]"
     ]
    },
    {
     "name": "stdout",
     "output_type": "stream",
     "text": [
      "Loss history: [0.6362876519560814, 0.5928014839688936, 0.6533676118900379]\n",
      "Dev loss: 1.0288410174349945\n",
      "No improvement on development set. Finish training.\n"
     ]
    },
    {
     "name": "stderr",
     "output_type": "stream",
     "text": [
      "\n"
     ]
    }
   ],
   "source": [
    "train(BERT_MODEL,train_texts,train_labels,dev_texts,dev_labels,target_names,label2idx,params)"
   ]
  },
  {
   "cell_type": "code",
   "execution_count": 34,
   "id": "23954a9d",
   "metadata": {},
   "outputs": [
    {
     "data": {
      "application/vnd.jupyter.widget-view+json": {
       "model_id": "5720abae0c8b45dc8cafe095d98e36f0",
       "version_major": 2,
       "version_minor": 0
      },
      "text/plain": [
       "Evaluation iteration:   0%|          | 0/27 [00:00<?, ?it/s]"
      ]
     },
     "metadata": {},
     "output_type": "display_data"
    },
    {
     "name": "stdout",
     "output_type": "stream",
     "text": [
      "Errors performance: (0.6762589928057554, 0.6762589928057554, 0.6762589928057554, None)\n",
      "              precision    recall  f1-score   support\n",
      "\n",
      "           0       0.65      0.67      0.66       196\n",
      "           1       0.70      0.68      0.69       221\n",
      "\n",
      "    accuracy                           0.68       417\n",
      "   macro avg       0.68      0.68      0.68       417\n",
      "weighted avg       0.68      0.68      0.68       417\n",
      "\n"
     ]
    }
   ],
   "source": [
    "_,_,lm_acc=data_evaluation(test_texts,test_labels,BERT_MODEL,params,trained=True,OUTPUT_DIR = OUTPUT_DIR, MODEL_FILE_NAME = MODEL_FILE_NAME)"
   ]
  },
  {
   "cell_type": "markdown",
   "id": "9c8bf41f",
   "metadata": {},
   "source": [
    "##### Check the duplicated data and create the data set without duplicates"
   ]
  },
  {
   "cell_type": "code",
   "execution_count": 35,
   "id": "767783f8",
   "metadata": {},
   "outputs": [],
   "source": [
    "train_data_unique=train_data.copy()\n",
    "train_data_unique['duplicated']=train_data_unique.duplicated(subset=['original_text'])\n",
    "#train_data_unique=train_data[train_data['duplicated']==False]\n",
    "#print(\"Duplicated records: %.2f%%\" %(100*(len(train_data)-len(train_data_unique))/len(train_data)))"
   ]
  },
  {
   "cell_type": "code",
   "execution_count": 36,
   "id": "f66e4835",
   "metadata": {},
   "outputs": [
    {
     "data": {
      "text/html": [
       "<div>\n",
       "<style scoped>\n",
       "    .dataframe tbody tr th:only-of-type {\n",
       "        vertical-align: middle;\n",
       "    }\n",
       "\n",
       "    .dataframe tbody tr th {\n",
       "        vertical-align: top;\n",
       "    }\n",
       "\n",
       "    .dataframe thead th {\n",
       "        text-align: right;\n",
       "    }\n",
       "</style>\n",
       "<table border=\"1\" class=\"dataframe\">\n",
       "  <thead>\n",
       "    <tr style=\"text-align: right;\">\n",
       "      <th></th>\n",
       "      <th>original_text</th>\n",
       "      <th>label</th>\n",
       "      <th>length</th>\n",
       "      <th>duplicated</th>\n",
       "    </tr>\n",
       "  </thead>\n",
       "  <tbody>\n",
       "    <tr>\n",
       "      <th>314316</th>\n",
       "      <td>The Yarra Trams fleet consists of 500 trams , ...</td>\n",
       "      <td>0</td>\n",
       "      <td>18</td>\n",
       "      <td>False</td>\n",
       "    </tr>\n",
       "    <tr>\n",
       "      <th>136396</th>\n",
       "      <td>Still Life is a concept album , as explained b...</td>\n",
       "      <td>1</td>\n",
       "      <td>39</td>\n",
       "      <td>False</td>\n",
       "    </tr>\n",
       "    <tr>\n",
       "      <th>377680</th>\n",
       "      <td>Romana , short for Romanadvoratrelundar , is a...</td>\n",
       "      <td>0</td>\n",
       "      <td>20</td>\n",
       "      <td>False</td>\n",
       "    </tr>\n",
       "    <tr>\n",
       "      <th>280270</th>\n",
       "      <td>A minor scale in music theory is any scale tha...</td>\n",
       "      <td>0</td>\n",
       "      <td>35</td>\n",
       "      <td>False</td>\n",
       "    </tr>\n",
       "    <tr>\n",
       "      <th>285587</th>\n",
       "      <td>The show also created the character Frasier Cr...</td>\n",
       "      <td>0</td>\n",
       "      <td>9</td>\n",
       "      <td>False</td>\n",
       "    </tr>\n",
       "    <tr>\n",
       "      <th>...</th>\n",
       "      <td>...</td>\n",
       "      <td>...</td>\n",
       "      <td>...</td>\n",
       "      <td>...</td>\n",
       "    </tr>\n",
       "    <tr>\n",
       "      <th>145077</th>\n",
       "      <td>In paintball , a bunker is an obstacle on the ...</td>\n",
       "      <td>1</td>\n",
       "      <td>25</td>\n",
       "      <td>False</td>\n",
       "    </tr>\n",
       "    <tr>\n",
       "      <th>35542</th>\n",
       "      <td>La Ferrière-Harang is a commune in the Calvado...</td>\n",
       "      <td>1</td>\n",
       "      <td>17</td>\n",
       "      <td>False</td>\n",
       "    </tr>\n",
       "    <tr>\n",
       "      <th>238435</th>\n",
       "      <td>The British Rail Class 325 is a dual-voltage a...</td>\n",
       "      <td>0</td>\n",
       "      <td>26</td>\n",
       "      <td>False</td>\n",
       "    </tr>\n",
       "    <tr>\n",
       "      <th>324621</th>\n",
       "      <td>When the Palmengarten was returned to the city...</td>\n",
       "      <td>0</td>\n",
       "      <td>21</td>\n",
       "      <td>False</td>\n",
       "    </tr>\n",
       "    <tr>\n",
       "      <th>38232</th>\n",
       "      <td>Pong -LRB- marketed as PONG -RRB- is one of th...</td>\n",
       "      <td>1</td>\n",
       "      <td>52</td>\n",
       "      <td>False</td>\n",
       "    </tr>\n",
       "  </tbody>\n",
       "</table>\n",
       "<p>4168 rows × 4 columns</p>\n",
       "</div>"
      ],
      "text/plain": [
       "                                            original_text  label  length  \\\n",
       "314316  The Yarra Trams fleet consists of 500 trams , ...      0      18   \n",
       "136396  Still Life is a concept album , as explained b...      1      39   \n",
       "377680  Romana , short for Romanadvoratrelundar , is a...      0      20   \n",
       "280270  A minor scale in music theory is any scale tha...      0      35   \n",
       "285587  The show also created the character Frasier Cr...      0       9   \n",
       "...                                                   ...    ...     ...   \n",
       "145077  In paintball , a bunker is an obstacle on the ...      1      25   \n",
       "35542   La Ferrière-Harang is a commune in the Calvado...      1      17   \n",
       "238435  The British Rail Class 325 is a dual-voltage a...      0      26   \n",
       "324621  When the Palmengarten was returned to the city...      0      21   \n",
       "38232   Pong -LRB- marketed as PONG -RRB- is one of th...      1      52   \n",
       "\n",
       "        duplicated  \n",
       "314316       False  \n",
       "136396       False  \n",
       "377680       False  \n",
       "280270       False  \n",
       "285587       False  \n",
       "...            ...  \n",
       "145077       False  \n",
       "35542        False  \n",
       "238435       False  \n",
       "324621       False  \n",
       "38232        False  \n",
       "\n",
       "[4168 rows x 4 columns]"
      ]
     },
     "execution_count": 36,
     "metadata": {},
     "output_type": "execute_result"
    }
   ],
   "source": [
    "train_data_unique"
   ]
  },
  {
   "cell_type": "code",
   "execution_count": 37,
   "id": "d1022835",
   "metadata": {},
   "outputs": [],
   "source": [
    "process_data=train_data_unique.copy()\n",
    "process_data=process_data[(process_data['duplicated']==False)]"
   ]
  },
  {
   "cell_type": "code",
   "execution_count": 38,
   "id": "c5a2d666",
   "metadata": {},
   "outputs": [
    {
     "name": "stdout",
     "output_type": "stream",
     "text": [
      "{0: 0, 1: 1}\n",
      "Train size: 3319\n",
      "Dev size: 369\n",
      "Test size: 410\n"
     ]
    }
   ],
   "source": [
    "(train_texts,dev_texts,test_texts),(train_labels,dev_labels,test_labels),(target_names,label2idx)=train_dev_test(process_data,random_state=RANDOM_STATE)"
   ]
  },
  {
   "cell_type": "code",
   "execution_count": 39,
   "id": "5e9cae0e",
   "metadata": {},
   "outputs": [
    {
     "name": "stderr",
     "output_type": "stream",
     "text": [
      "Some weights of the model checkpoint at distilbert-base-uncased were not used when initializing DistilBertForSequenceClassification: ['vocab_transform.weight', 'vocab_layer_norm.weight', 'vocab_transform.bias', 'vocab_layer_norm.bias', 'vocab_projector.weight', 'vocab_projector.bias']\n",
      "- This IS expected if you are initializing DistilBertForSequenceClassification from the checkpoint of a model trained on another task or with another architecture (e.g. initializing a BertForSequenceClassification model from a BertForPreTraining model).\n",
      "- This IS NOT expected if you are initializing DistilBertForSequenceClassification from the checkpoint of a model that you expect to be exactly identical (initializing a BertForSequenceClassification model from a BertForSequenceClassification model).\n",
      "Some weights of DistilBertForSequenceClassification were not initialized from the model checkpoint at distilbert-base-uncased and are newly initialized: ['pre_classifier.weight', 'pre_classifier.bias', 'classifier.weight', 'classifier.bias']\n",
      "You should probably TRAIN this model on a down-stream task to be able to use it for predictions and inference.\n",
      "Epoch:   0%|                                                                                     | 0/8 [00:00<?, ?it/s]"
     ]
    },
    {
     "data": {
      "application/vnd.jupyter.widget-view+json": {
       "model_id": "0ac26354692c432f8eb4a85fa710bc96",
       "version_major": 2,
       "version_minor": 0
      },
      "text/plain": [
       "Training iteration:   0%|          | 0/208 [00:00<?, ?it/s]"
      ]
     },
     "metadata": {},
     "output_type": "display_data"
    },
    {
     "data": {
      "application/vnd.jupyter.widget-view+json": {
       "model_id": "dcede95f4f904dbea0a3f4d9a8b4fa6d",
       "version_major": 2,
       "version_minor": 0
      },
      "text/plain": [
       "Evaluation iteration:   0%|          | 0/24 [00:00<?, ?it/s]"
      ]
     },
     "metadata": {},
     "output_type": "display_data"
    },
    {
     "name": "stdout",
     "output_type": "stream",
     "text": [
      "Loss history: []\n",
      "Dev loss: 0.6140957226355871\n"
     ]
    },
    {
     "name": "stderr",
     "output_type": "stream",
     "text": [
      "\r",
      "Epoch:  12%|█████████▋                                                                   | 1/8 [00:40<04:42, 40.39s/it]"
     ]
    },
    {
     "data": {
      "application/vnd.jupyter.widget-view+json": {
       "model_id": "58e4f3487e01403e839b22bbfc601188",
       "version_major": 2,
       "version_minor": 0
      },
      "text/plain": [
       "Training iteration:   0%|          | 0/208 [00:00<?, ?it/s]"
      ]
     },
     "metadata": {},
     "output_type": "display_data"
    },
    {
     "data": {
      "application/vnd.jupyter.widget-view+json": {
       "model_id": "45a2acb6261144dea25a0c94dfdbd096",
       "version_major": 2,
       "version_minor": 0
      },
      "text/plain": [
       "Evaluation iteration:   0%|          | 0/24 [00:00<?, ?it/s]"
      ]
     },
     "metadata": {},
     "output_type": "display_data"
    },
    {
     "name": "stdout",
     "output_type": "stream",
     "text": [
      "Loss history: [0.6140957226355871]\n",
      "Dev loss: 0.5418222869435946\n"
     ]
    },
    {
     "name": "stderr",
     "output_type": "stream",
     "text": [
      "\r",
      "Epoch:  25%|███████████████████▎                                                         | 2/8 [01:20<04:01, 40.32s/it]"
     ]
    },
    {
     "data": {
      "application/vnd.jupyter.widget-view+json": {
       "model_id": "a8116044bbd34e7282a992990e084e80",
       "version_major": 2,
       "version_minor": 0
      },
      "text/plain": [
       "Training iteration:   0%|          | 0/208 [00:00<?, ?it/s]"
      ]
     },
     "metadata": {},
     "output_type": "display_data"
    },
    {
     "data": {
      "application/vnd.jupyter.widget-view+json": {
       "model_id": "acaf718f79fe4065a82a7032dba1b3d3",
       "version_major": 2,
       "version_minor": 0
      },
      "text/plain": [
       "Evaluation iteration:   0%|          | 0/24 [00:00<?, ?it/s]"
      ]
     },
     "metadata": {},
     "output_type": "display_data"
    },
    {
     "name": "stderr",
     "output_type": "stream",
     "text": [
      "\r",
      "Epoch:  38%|████████████████████████████▉                                                | 3/8 [01:59<03:19, 39.84s/it]"
     ]
    },
    {
     "name": "stdout",
     "output_type": "stream",
     "text": [
      "Loss history: [0.6140957226355871, 0.5418222869435946]\n",
      "Dev loss: 0.6547409277409315\n"
     ]
    },
    {
     "data": {
      "application/vnd.jupyter.widget-view+json": {
       "model_id": "e2410dff802346f0b8bed6bde73bd54c",
       "version_major": 2,
       "version_minor": 0
      },
      "text/plain": [
       "Training iteration:   0%|          | 0/208 [00:00<?, ?it/s]"
      ]
     },
     "metadata": {},
     "output_type": "display_data"
    },
    {
     "data": {
      "application/vnd.jupyter.widget-view+json": {
       "model_id": "e387bc05172243a4859ff3bf3641664c",
       "version_major": 2,
       "version_minor": 0
      },
      "text/plain": [
       "Evaluation iteration:   0%|          | 0/24 [00:00<?, ?it/s]"
      ]
     },
     "metadata": {},
     "output_type": "display_data"
    },
    {
     "name": "stderr",
     "output_type": "stream",
     "text": [
      "\r",
      "Epoch:  38%|████████████████████████████▉                                                | 3/8 [02:39<04:25, 53.10s/it]"
     ]
    },
    {
     "name": "stdout",
     "output_type": "stream",
     "text": [
      "Loss history: [0.6140957226355871, 0.5418222869435946, 0.6547409277409315]\n",
      "Dev loss: 1.0030118270466726\n",
      "No improvement on development set. Finish training.\n"
     ]
    },
    {
     "name": "stderr",
     "output_type": "stream",
     "text": [
      "\n"
     ]
    }
   ],
   "source": [
    "train(BERT_MODEL,train_texts,train_labels,dev_texts,dev_labels,target_names,label2idx,params)"
   ]
  },
  {
   "cell_type": "code",
   "execution_count": 40,
   "id": "caa91be4",
   "metadata": {},
   "outputs": [
    {
     "data": {
      "application/vnd.jupyter.widget-view+json": {
       "model_id": "afb8512c717745dbb5eae3436d160f2a",
       "version_major": 2,
       "version_minor": 0
      },
      "text/plain": [
       "Evaluation iteration:   0%|          | 0/26 [00:00<?, ?it/s]"
      ]
     },
     "metadata": {},
     "output_type": "display_data"
    },
    {
     "name": "stdout",
     "output_type": "stream",
     "text": [
      "Errors performance: (0.6707317073170732, 0.6707317073170732, 0.6707317073170732, None)\n",
      "              precision    recall  f1-score   support\n",
      "\n",
      "           0       0.67      0.65      0.66       201\n",
      "           1       0.67      0.69      0.68       209\n",
      "\n",
      "    accuracy                           0.67       410\n",
      "   macro avg       0.67      0.67      0.67       410\n",
      "weighted avg       0.67      0.67      0.67       410\n",
      "\n"
     ]
    }
   ],
   "source": [
    "_,_,dup_acc=data_evaluation(test_texts,test_labels,BERT_MODEL,params,trained=True,OUTPUT_DIR = OUTPUT_DIR, MODEL_FILE_NAME = MODEL_FILE_NAME)"
   ]
  },
  {
   "cell_type": "markdown",
   "id": "39051967",
   "metadata": {},
   "source": [
    "##### Remove the records which have the different labels\n",
    "The sentences with different labels should impact the train performance as well as prediction results "
   ]
  },
  {
   "cell_type": "code",
   "execution_count": 41,
   "id": "621ce4be",
   "metadata": {},
   "outputs": [],
   "source": [
    "# look for the records with different labels \n",
    "def duple_labels(data):\n",
    "    df_by=pd.DataFrame(data.groupby(['original_text','label']).count().reset_index()[[\"original_text\",\"label\"]])\n",
    "    df_by=df_by.groupby(by='original_text').count().sort_values('label',ascending=False).reset_index()\n",
    "    diff_labels=df_by[df_by['label']>1]\n",
    "    print(\"Records with different labels: %.2f%%\" %(100*len(diff_labels)/len(data)))\n",
    "    return diff_labels"
   ]
  },
  {
   "cell_type": "code",
   "execution_count": 42,
   "id": "6f886a9c",
   "metadata": {},
   "outputs": [
    {
     "name": "stdout",
     "output_type": "stream",
     "text": [
      "Records with different labels: 0.02%\n"
     ]
    }
   ],
   "source": [
    "df_duple_labels=duple_labels(train_data)"
   ]
  },
  {
   "cell_type": "code",
   "execution_count": 43,
   "id": "9b3d15d4",
   "metadata": {},
   "outputs": [],
   "source": [
    "# Indentify double labels in data\n",
    "train_data_unique=train_data_unique.merge(df_duple_labels,how=\"left\",left_on=\"original_text\",right_on=\"original_text\")\n",
    "train_data_unique['label_y']=train_data_unique['label_y'].apply(lambda x: '0' if pd.isnull(x) else '1') # 0 means 1 label, 1 means 2 labels\n",
    "train_data_unique=pd.DataFrame(train_data_unique[['original_text','label_x','label_y','duplicated']])\n",
    "train_data_unique.columns=['original_text','label','dulabel','duplicated']"
   ]
  },
  {
   "cell_type": "code",
   "execution_count": 44,
   "id": "25546482",
   "metadata": {},
   "outputs": [
    {
     "data": {
      "text/html": [
       "<div>\n",
       "<style scoped>\n",
       "    .dataframe tbody tr th:only-of-type {\n",
       "        vertical-align: middle;\n",
       "    }\n",
       "\n",
       "    .dataframe tbody tr th {\n",
       "        vertical-align: top;\n",
       "    }\n",
       "\n",
       "    .dataframe thead th {\n",
       "        text-align: right;\n",
       "    }\n",
       "</style>\n",
       "<table border=\"1\" class=\"dataframe\">\n",
       "  <thead>\n",
       "    <tr style=\"text-align: right;\">\n",
       "      <th></th>\n",
       "      <th>original_text</th>\n",
       "      <th>label</th>\n",
       "      <th>dulabel</th>\n",
       "      <th>duplicated</th>\n",
       "    </tr>\n",
       "  </thead>\n",
       "  <tbody>\n",
       "    <tr>\n",
       "      <th>0</th>\n",
       "      <td>The Yarra Trams fleet consists of 500 trams , ...</td>\n",
       "      <td>0</td>\n",
       "      <td>0</td>\n",
       "      <td>False</td>\n",
       "    </tr>\n",
       "    <tr>\n",
       "      <th>1</th>\n",
       "      <td>Still Life is a concept album , as explained b...</td>\n",
       "      <td>1</td>\n",
       "      <td>0</td>\n",
       "      <td>False</td>\n",
       "    </tr>\n",
       "    <tr>\n",
       "      <th>2</th>\n",
       "      <td>Romana , short for Romanadvoratrelundar , is a...</td>\n",
       "      <td>0</td>\n",
       "      <td>0</td>\n",
       "      <td>False</td>\n",
       "    </tr>\n",
       "    <tr>\n",
       "      <th>3</th>\n",
       "      <td>A minor scale in music theory is any scale tha...</td>\n",
       "      <td>0</td>\n",
       "      <td>0</td>\n",
       "      <td>False</td>\n",
       "    </tr>\n",
       "    <tr>\n",
       "      <th>4</th>\n",
       "      <td>The show also created the character Frasier Cr...</td>\n",
       "      <td>0</td>\n",
       "      <td>0</td>\n",
       "      <td>False</td>\n",
       "    </tr>\n",
       "    <tr>\n",
       "      <th>...</th>\n",
       "      <td>...</td>\n",
       "      <td>...</td>\n",
       "      <td>...</td>\n",
       "      <td>...</td>\n",
       "    </tr>\n",
       "    <tr>\n",
       "      <th>4163</th>\n",
       "      <td>In paintball , a bunker is an obstacle on the ...</td>\n",
       "      <td>1</td>\n",
       "      <td>0</td>\n",
       "      <td>False</td>\n",
       "    </tr>\n",
       "    <tr>\n",
       "      <th>4164</th>\n",
       "      <td>La Ferrière-Harang is a commune in the Calvado...</td>\n",
       "      <td>1</td>\n",
       "      <td>0</td>\n",
       "      <td>False</td>\n",
       "    </tr>\n",
       "    <tr>\n",
       "      <th>4165</th>\n",
       "      <td>The British Rail Class 325 is a dual-voltage a...</td>\n",
       "      <td>0</td>\n",
       "      <td>0</td>\n",
       "      <td>False</td>\n",
       "    </tr>\n",
       "    <tr>\n",
       "      <th>4166</th>\n",
       "      <td>When the Palmengarten was returned to the city...</td>\n",
       "      <td>0</td>\n",
       "      <td>0</td>\n",
       "      <td>False</td>\n",
       "    </tr>\n",
       "    <tr>\n",
       "      <th>4167</th>\n",
       "      <td>Pong -LRB- marketed as PONG -RRB- is one of th...</td>\n",
       "      <td>1</td>\n",
       "      <td>0</td>\n",
       "      <td>False</td>\n",
       "    </tr>\n",
       "  </tbody>\n",
       "</table>\n",
       "<p>4168 rows × 4 columns</p>\n",
       "</div>"
      ],
      "text/plain": [
       "                                          original_text  label dulabel  \\\n",
       "0     The Yarra Trams fleet consists of 500 trams , ...      0       0   \n",
       "1     Still Life is a concept album , as explained b...      1       0   \n",
       "2     Romana , short for Romanadvoratrelundar , is a...      0       0   \n",
       "3     A minor scale in music theory is any scale tha...      0       0   \n",
       "4     The show also created the character Frasier Cr...      0       0   \n",
       "...                                                 ...    ...     ...   \n",
       "4163  In paintball , a bunker is an obstacle on the ...      1       0   \n",
       "4164  La Ferrière-Harang is a commune in the Calvado...      1       0   \n",
       "4165  The British Rail Class 325 is a dual-voltage a...      0       0   \n",
       "4166  When the Palmengarten was returned to the city...      0       0   \n",
       "4167  Pong -LRB- marketed as PONG -RRB- is one of th...      1       0   \n",
       "\n",
       "      duplicated  \n",
       "0          False  \n",
       "1          False  \n",
       "2          False  \n",
       "3          False  \n",
       "4          False  \n",
       "...          ...  \n",
       "4163       False  \n",
       "4164       False  \n",
       "4165       False  \n",
       "4166       False  \n",
       "4167       False  \n",
       "\n",
       "[4168 rows x 4 columns]"
      ]
     },
     "execution_count": 44,
     "metadata": {},
     "output_type": "execute_result"
    }
   ],
   "source": [
    "train_data_unique"
   ]
  },
  {
   "cell_type": "markdown",
   "id": "0c762bfe",
   "metadata": {},
   "source": [
    "##### Accuracy of removing records with duplicate text or different label"
   ]
  },
  {
   "cell_type": "code",
   "execution_count": 45,
   "id": "921b8793",
   "metadata": {},
   "outputs": [],
   "source": [
    "process_data=train_data_unique.copy()\n",
    "process_data=process_data[(process_data['dulabel']=='0')]"
   ]
  },
  {
   "cell_type": "code",
   "execution_count": 46,
   "id": "bf88e2b8",
   "metadata": {},
   "outputs": [
    {
     "data": {
      "text/html": [
       "<div>\n",
       "<style scoped>\n",
       "    .dataframe tbody tr th:only-of-type {\n",
       "        vertical-align: middle;\n",
       "    }\n",
       "\n",
       "    .dataframe tbody tr th {\n",
       "        vertical-align: top;\n",
       "    }\n",
       "\n",
       "    .dataframe thead th {\n",
       "        text-align: right;\n",
       "    }\n",
       "</style>\n",
       "<table border=\"1\" class=\"dataframe\">\n",
       "  <thead>\n",
       "    <tr style=\"text-align: right;\">\n",
       "      <th></th>\n",
       "      <th>original_text</th>\n",
       "      <th>label</th>\n",
       "      <th>dulabel</th>\n",
       "      <th>duplicated</th>\n",
       "    </tr>\n",
       "  </thead>\n",
       "  <tbody>\n",
       "    <tr>\n",
       "      <th>0</th>\n",
       "      <td>The Yarra Trams fleet consists of 500 trams , ...</td>\n",
       "      <td>0</td>\n",
       "      <td>0</td>\n",
       "      <td>False</td>\n",
       "    </tr>\n",
       "    <tr>\n",
       "      <th>1</th>\n",
       "      <td>Still Life is a concept album , as explained b...</td>\n",
       "      <td>1</td>\n",
       "      <td>0</td>\n",
       "      <td>False</td>\n",
       "    </tr>\n",
       "    <tr>\n",
       "      <th>2</th>\n",
       "      <td>Romana , short for Romanadvoratrelundar , is a...</td>\n",
       "      <td>0</td>\n",
       "      <td>0</td>\n",
       "      <td>False</td>\n",
       "    </tr>\n",
       "    <tr>\n",
       "      <th>3</th>\n",
       "      <td>A minor scale in music theory is any scale tha...</td>\n",
       "      <td>0</td>\n",
       "      <td>0</td>\n",
       "      <td>False</td>\n",
       "    </tr>\n",
       "    <tr>\n",
       "      <th>4</th>\n",
       "      <td>The show also created the character Frasier Cr...</td>\n",
       "      <td>0</td>\n",
       "      <td>0</td>\n",
       "      <td>False</td>\n",
       "    </tr>\n",
       "    <tr>\n",
       "      <th>...</th>\n",
       "      <td>...</td>\n",
       "      <td>...</td>\n",
       "      <td>...</td>\n",
       "      <td>...</td>\n",
       "    </tr>\n",
       "    <tr>\n",
       "      <th>4163</th>\n",
       "      <td>In paintball , a bunker is an obstacle on the ...</td>\n",
       "      <td>1</td>\n",
       "      <td>0</td>\n",
       "      <td>False</td>\n",
       "    </tr>\n",
       "    <tr>\n",
       "      <th>4164</th>\n",
       "      <td>La Ferrière-Harang is a commune in the Calvado...</td>\n",
       "      <td>1</td>\n",
       "      <td>0</td>\n",
       "      <td>False</td>\n",
       "    </tr>\n",
       "    <tr>\n",
       "      <th>4165</th>\n",
       "      <td>The British Rail Class 325 is a dual-voltage a...</td>\n",
       "      <td>0</td>\n",
       "      <td>0</td>\n",
       "      <td>False</td>\n",
       "    </tr>\n",
       "    <tr>\n",
       "      <th>4166</th>\n",
       "      <td>When the Palmengarten was returned to the city...</td>\n",
       "      <td>0</td>\n",
       "      <td>0</td>\n",
       "      <td>False</td>\n",
       "    </tr>\n",
       "    <tr>\n",
       "      <th>4167</th>\n",
       "      <td>Pong -LRB- marketed as PONG -RRB- is one of th...</td>\n",
       "      <td>1</td>\n",
       "      <td>0</td>\n",
       "      <td>False</td>\n",
       "    </tr>\n",
       "  </tbody>\n",
       "</table>\n",
       "<p>4165 rows × 4 columns</p>\n",
       "</div>"
      ],
      "text/plain": [
       "                                          original_text  label dulabel  \\\n",
       "0     The Yarra Trams fleet consists of 500 trams , ...      0       0   \n",
       "1     Still Life is a concept album , as explained b...      1       0   \n",
       "2     Romana , short for Romanadvoratrelundar , is a...      0       0   \n",
       "3     A minor scale in music theory is any scale tha...      0       0   \n",
       "4     The show also created the character Frasier Cr...      0       0   \n",
       "...                                                 ...    ...     ...   \n",
       "4163  In paintball , a bunker is an obstacle on the ...      1       0   \n",
       "4164  La Ferrière-Harang is a commune in the Calvado...      1       0   \n",
       "4165  The British Rail Class 325 is a dual-voltage a...      0       0   \n",
       "4166  When the Palmengarten was returned to the city...      0       0   \n",
       "4167  Pong -LRB- marketed as PONG -RRB- is one of th...      1       0   \n",
       "\n",
       "      duplicated  \n",
       "0          False  \n",
       "1          False  \n",
       "2          False  \n",
       "3          False  \n",
       "4          False  \n",
       "...          ...  \n",
       "4163       False  \n",
       "4164       False  \n",
       "4165       False  \n",
       "4166       False  \n",
       "4167       False  \n",
       "\n",
       "[4165 rows x 4 columns]"
      ]
     },
     "execution_count": 46,
     "metadata": {},
     "output_type": "execute_result"
    }
   ],
   "source": [
    "process_data"
   ]
  },
  {
   "cell_type": "code",
   "execution_count": 47,
   "id": "7bb7e9bd",
   "metadata": {},
   "outputs": [
    {
     "name": "stdout",
     "output_type": "stream",
     "text": [
      "{0: 0, 1: 1}\n",
      "Train size: 3373\n",
      "Dev size: 375\n",
      "Test size: 417\n"
     ]
    }
   ],
   "source": [
    "(train_texts,dev_texts,test_texts),(train_labels,dev_labels,test_labels),(target_names,label2idx)=train_dev_test(process_data,random_state=RANDOM_STATE)"
   ]
  },
  {
   "cell_type": "code",
   "execution_count": 48,
   "id": "dfe8d806",
   "metadata": {},
   "outputs": [
    {
     "name": "stderr",
     "output_type": "stream",
     "text": [
      "Some weights of the model checkpoint at distilbert-base-uncased were not used when initializing DistilBertForSequenceClassification: ['vocab_transform.weight', 'vocab_layer_norm.weight', 'vocab_transform.bias', 'vocab_layer_norm.bias', 'vocab_projector.weight', 'vocab_projector.bias']\n",
      "- This IS expected if you are initializing DistilBertForSequenceClassification from the checkpoint of a model trained on another task or with another architecture (e.g. initializing a BertForSequenceClassification model from a BertForPreTraining model).\n",
      "- This IS NOT expected if you are initializing DistilBertForSequenceClassification from the checkpoint of a model that you expect to be exactly identical (initializing a BertForSequenceClassification model from a BertForSequenceClassification model).\n",
      "Some weights of DistilBertForSequenceClassification were not initialized from the model checkpoint at distilbert-base-uncased and are newly initialized: ['pre_classifier.weight', 'pre_classifier.bias', 'classifier.weight', 'classifier.bias']\n",
      "You should probably TRAIN this model on a down-stream task to be able to use it for predictions and inference.\n",
      "Epoch:   0%|                                                                                     | 0/8 [00:00<?, ?it/s]"
     ]
    },
    {
     "data": {
      "application/vnd.jupyter.widget-view+json": {
       "model_id": "b35a40c9263d4384baf3934bebe3f721",
       "version_major": 2,
       "version_minor": 0
      },
      "text/plain": [
       "Training iteration:   0%|          | 0/211 [00:00<?, ?it/s]"
      ]
     },
     "metadata": {},
     "output_type": "display_data"
    },
    {
     "data": {
      "application/vnd.jupyter.widget-view+json": {
       "model_id": "bb71479c2f7d476397ebe9817bbb6882",
       "version_major": 2,
       "version_minor": 0
      },
      "text/plain": [
       "Evaluation iteration:   0%|          | 0/24 [00:00<?, ?it/s]"
      ]
     },
     "metadata": {},
     "output_type": "display_data"
    },
    {
     "name": "stdout",
     "output_type": "stream",
     "text": [
      "Loss history: []\n",
      "Dev loss: 0.6254049700995287\n"
     ]
    },
    {
     "name": "stderr",
     "output_type": "stream",
     "text": [
      "\r",
      "Epoch:  12%|█████████▋                                                                   | 1/8 [00:40<04:46, 40.88s/it]"
     ]
    },
    {
     "data": {
      "application/vnd.jupyter.widget-view+json": {
       "model_id": "f7db65534a294f519a0c9bfcaf742295",
       "version_major": 2,
       "version_minor": 0
      },
      "text/plain": [
       "Training iteration:   0%|          | 0/211 [00:00<?, ?it/s]"
      ]
     },
     "metadata": {},
     "output_type": "display_data"
    },
    {
     "data": {
      "application/vnd.jupyter.widget-view+json": {
       "model_id": "1176cb2a1f4c411b954ffa741cc0f6f6",
       "version_major": 2,
       "version_minor": 0
      },
      "text/plain": [
       "Evaluation iteration:   0%|          | 0/24 [00:00<?, ?it/s]"
      ]
     },
     "metadata": {},
     "output_type": "display_data"
    },
    {
     "name": "stdout",
     "output_type": "stream",
     "text": [
      "Loss history: [0.6254049700995287]\n",
      "Dev loss: 0.5567222212751707\n"
     ]
    },
    {
     "name": "stderr",
     "output_type": "stream",
     "text": [
      "\r",
      "Epoch:  25%|███████████████████▎                                                         | 2/8 [01:21<04:05, 40.84s/it]"
     ]
    },
    {
     "data": {
      "application/vnd.jupyter.widget-view+json": {
       "model_id": "5ace65aaede242cbad6a5b1006b05de9",
       "version_major": 2,
       "version_minor": 0
      },
      "text/plain": [
       "Training iteration:   0%|          | 0/211 [00:00<?, ?it/s]"
      ]
     },
     "metadata": {},
     "output_type": "display_data"
    },
    {
     "data": {
      "application/vnd.jupyter.widget-view+json": {
       "model_id": "ad58690f6af34e3c9e6433fea570162f",
       "version_major": 2,
       "version_minor": 0
      },
      "text/plain": [
       "Evaluation iteration:   0%|          | 0/24 [00:00<?, ?it/s]"
      ]
     },
     "metadata": {},
     "output_type": "display_data"
    },
    {
     "name": "stderr",
     "output_type": "stream",
     "text": [
      "\r",
      "Epoch:  38%|████████████████████████████▉                                                | 3/8 [02:01<03:22, 40.41s/it]"
     ]
    },
    {
     "name": "stdout",
     "output_type": "stream",
     "text": [
      "Loss history: [0.6254049700995287, 0.5567222212751707]\n",
      "Dev loss: 0.5894718704124292\n"
     ]
    },
    {
     "data": {
      "application/vnd.jupyter.widget-view+json": {
       "model_id": "23a044b0c65a4bd8b2676ba253b6a573",
       "version_major": 2,
       "version_minor": 0
      },
      "text/plain": [
       "Training iteration:   0%|          | 0/211 [00:00<?, ?it/s]"
      ]
     },
     "metadata": {},
     "output_type": "display_data"
    },
    {
     "data": {
      "application/vnd.jupyter.widget-view+json": {
       "model_id": "27afee87745e4b0eb1c5cf35916eef9a",
       "version_major": 2,
       "version_minor": 0
      },
      "text/plain": [
       "Evaluation iteration:   0%|          | 0/24 [00:00<?, ?it/s]"
      ]
     },
     "metadata": {},
     "output_type": "display_data"
    },
    {
     "name": "stderr",
     "output_type": "stream",
     "text": [
      "\r",
      "Epoch:  38%|████████████████████████████▉                                                | 3/8 [02:41<04:29, 53.89s/it]"
     ]
    },
    {
     "name": "stdout",
     "output_type": "stream",
     "text": [
      "Loss history: [0.6254049700995287, 0.5567222212751707, 0.5894718704124292]\n",
      "Dev loss: 0.8305967810253302\n",
      "No improvement on development set. Finish training.\n"
     ]
    },
    {
     "name": "stderr",
     "output_type": "stream",
     "text": [
      "\n"
     ]
    }
   ],
   "source": [
    "train(BERT_MODEL,train_texts,train_labels,dev_texts,dev_labels,target_names,label2idx,params)"
   ]
  },
  {
   "cell_type": "code",
   "execution_count": 49,
   "id": "67f7bacc",
   "metadata": {},
   "outputs": [
    {
     "data": {
      "application/vnd.jupyter.widget-view+json": {
       "model_id": "7ff4219824fa408d99119966f977c44d",
       "version_major": 2,
       "version_minor": 0
      },
      "text/plain": [
       "Evaluation iteration:   0%|          | 0/27 [00:00<?, ?it/s]"
      ]
     },
     "metadata": {},
     "output_type": "display_data"
    },
    {
     "name": "stdout",
     "output_type": "stream",
     "text": [
      "Errors performance: (0.697841726618705, 0.697841726618705, 0.697841726618705, None)\n",
      "              precision    recall  f1-score   support\n",
      "\n",
      "           0       0.70      0.68      0.69       209\n",
      "           1       0.69      0.71      0.70       208\n",
      "\n",
      "    accuracy                           0.70       417\n",
      "   macro avg       0.70      0.70      0.70       417\n",
      "weighted avg       0.70      0.70      0.70       417\n",
      "\n"
     ]
    }
   ],
   "source": [
    "_,_,duo_acc=data_evaluation(test_texts,test_labels,BERT_MODEL,params,trained=True,OUTPUT_DIR = OUTPUT_DIR, MODEL_FILE_NAME = MODEL_FILE_NAME)"
   ]
  },
  {
   "cell_type": "markdown",
   "id": "b2ad5940",
   "metadata": {},
   "source": [
    "##### Compare the results from different text processing"
   ]
  },
  {
   "cell_type": "code",
   "execution_count": 51,
   "id": "3e2094b0",
   "metadata": {},
   "outputs": [],
   "source": [
    "df_acc=pd.DataFrame(columns=['description','accuracy'])\n",
    "df_acc['description']=['Pretrain','Fine tune without preprocessing',\n",
    "                       'Removal of stopwords','Correction of spelling',\n",
    "                      'Lemmatization','Removal of duplicate records',\n",
    "                      'Removal of mislabeling']\n",
    "df_acc['accuracy']=[init_acc,orig_acc,sw_acc,pc_acc,lm_acc,dup_acc,duo_acc]"
   ]
  },
  {
   "cell_type": "code",
   "execution_count": 57,
   "id": "8eacf29d",
   "metadata": {},
   "outputs": [
    {
     "data": {
      "text/plain": [
       "<AxesSubplot:xlabel='accuracy', ylabel='description'>"
      ]
     },
     "execution_count": 57,
     "metadata": {},
     "output_type": "execute_result"
    },
    {
     "data": {
      "image/png": "[encoded data removed]",
      "text/plain": [
       "<Figure size 432x288 with 1 Axes>"
      ]
     },
     "metadata": {
      "needs_background": "light"
     },
     "output_type": "display_data"
    }
   ],
   "source": [
    "sns.barplot(data=df_acc, y=\"description\", x=\"accuracy\")"
   ]
  },
  {
   "cell_type": "code",
   "execution_count": null,
   "id": "b0a514b9",
   "metadata": {},
   "outputs": [],
   "source": [
    "error_data['duplicated']=error_data.duplicated(subset=['original_text'])\n",
    "error_data_unique=error_data[error_data['duplicated']==False]"
   ]
  },
  {
   "cell_type": "code",
   "execution_count": null,
   "id": "f8fe47f2",
   "metadata": {},
   "outputs": [],
   "source": [
    "error_data_unique"
   ]
  },
  {
   "cell_type": "code",
   "execution_count": null,
   "id": "f248fba1",
   "metadata": {},
   "outputs": [],
   "source": [
    "# Create dataframe with corrected \n",
    "test_full=test_data_unique.merge(error_data_unique,how=\"left\",left_on=\"original_text\",right_on=\"original_text\")\n",
    "test_full['label_y']=test_full['label_y'].apply(lambda x: '1' if pd.isnull(x) else '0')\n",
    "test_full['duplicated']=test_full.duplicated(subset=['original_text'])\n",
    "test_full_unique=test_full[test_full['duplicated']==False]\n",
    "test_full=pd.DataFrame(test_full[['original_text','label_x','label_y','duplicated','dulabel']])\n",
    "test_full.columns=['original_text','label','correct','duplicated','dulabel']\n",
    "test_full"
   ]
  },
  {
   "cell_type": "code",
   "execution_count": null,
   "id": "6093b67f",
   "metadata": {},
   "outputs": [],
   "source": [
    "#test_full.to_csv(\"./00_error_analysis/test_full.csv\",index=False)"
   ]
  },
  {
   "cell_type": "code",
   "execution_count": null,
   "id": "409061c6",
   "metadata": {},
   "outputs": [],
   "source": [
    "import matplotlib.pyplot as plt\n",
    "# TRAIN SET \n",
    "test_full['original_text'].apply(lambda x: len(x.split())).plot(kind='hist');\n",
    "plt.yscale('log');\n",
    "plt.title('Distribution of original text length in words')"
   ]
  },
  {
   "cell_type": "code",
   "execution_count": null,
   "id": "554f9032",
   "metadata": {},
   "outputs": [],
   "source": [
    "error_data['original_text'].apply(lambda x: len(x.split())).describe()"
   ]
  },
  {
   "cell_type": "code",
   "execution_count": null,
   "id": "6ad857e7",
   "metadata": {},
   "outputs": [],
   "source": [
    "error_data"
   ]
  },
  {
   "cell_type": "markdown",
   "id": "1c9ece0e",
   "metadata": {},
   "source": [
    "### Rerun the prediction to confirm the errors"
   ]
  },
  {
   "cell_type": "code",
   "execution_count": null,
   "id": "636566a1",
   "metadata": {},
   "outputs": [],
   "source": [
    "import pandas as pd\n",
    "\n",
    "# import bert test error data\n",
    "error_data_path=\"./tmp/test_error_2022-10-13.csv\"\n",
    "error_data=pd.read_csv(error_data_path)\n",
    "\n",
    "# import bert full test data\n",
    "test_data_path=\"./tmp/test_full_2022-10-13.csv\"\n",
    "test_data=pd.read_csv(test_data_path)"
   ]
  },
  {
   "cell_type": "markdown",
   "id": "b2ed0826",
   "metadata": {},
   "source": [
    "##### Import 2 models for comparison: fine tuning model, and pretrained model without fine tuning"
   ]
  },
  {
   "cell_type": "code",
   "execution_count": null,
   "id": "8343b87f",
   "metadata": {},
   "outputs": [],
   "source": [
    "\n",
    "    target_names = list(set(test_full['label']))\n",
    "    label2idx = {label: idx for idx, label in enumerate(target_names)}\n",
    "    \n",
    "    # Enable GPU\n",
    "    device = torch.device(\"cuda\" if torch.cuda.is_available() else \"cpu\")\n",
    "    \n",
    "    # Select bert model\n",
    "    BERT_MODEL = \"distilbert-base-uncased\"\n",
    "    tokenizer = DistilBertTokenizer.from_pretrained(BERT_MODEL)\n",
    "    \n",
    "    # Using trained model\n",
    "    model_state_dict = torch.load(os.path.join(OUTPUT_DIR, MODEL_FILE_NAME), map_location=lambda storage, loc: storage)\n",
    "    model=DistilBertForSequenceClassification.from_pretrained(BERT_MODEL, state_dict=model_state_dict, num_labels = len(target_names),\n",
    "                                                             output_attentions = False,\n",
    "                                                             output_hidden_states = False)"
   ]
  },
  {
   "cell_type": "code",
   "execution_count": null,
   "id": "1ca99675",
   "metadata": {},
   "outputs": [],
   "source": [
    "    # Select bert model\n",
    "    BERT_MODEL = \"distilbert-base-uncased\"\n",
    "    v_tokenizer = DistilBertTokenizer.from_pretrained(BERT_MODEL)\n",
    "    \n",
    "    # Using trained model\n",
    "    v_model=DistilBertForSequenceClassification.from_pretrained(BERT_MODEL,num_labels = len(target_names),\n",
    "                                                             output_attentions = False,\n",
    "                                                             output_hidden_states = False)   "
   ]
  },
  {
   "cell_type": "markdown",
   "id": "c4491211",
   "metadata": {},
   "source": [
    "Check result on pretrained model"
   ]
  },
  {
   "cell_type": "code",
   "execution_count": null,
   "id": "50f9544b",
   "metadata": {},
   "outputs": [],
   "source": [
    "#str_to_predict = \"olawe\"\n",
    "str_to_predict = \"He also worked extensively on animal behavior -LRB- ethology -RRB- .\""
   ]
  },
  {
   "cell_type": "code",
   "execution_count": null,
   "id": "4d1caee7",
   "metadata": {},
   "outputs": [],
   "source": [
    "features = convert_examples_to_inputs([str_to_predict],[1], label2idx, MAX_SEQ_LENGTH, v_tokenizer)"
   ]
  },
  {
   "cell_type": "code",
   "execution_count": null,
   "id": "5c6eb895",
   "metadata": {},
   "outputs": [],
   "source": [
    "v_tokenizer.tokenize(str_to_predict)"
   ]
  },
  {
   "cell_type": "code",
   "execution_count": null,
   "id": "bfe848e5",
   "metadata": {},
   "outputs": [],
   "source": [
    "inputs = v_tokenizer(str_to_predict, return_tensors=\"pt\")\n",
    "\n",
    "with torch.no_grad():\n",
    "    logits = v_model(**inputs).logits\n",
    "\n",
    "predicted_class_id = logits.argmax().item()\n",
    "v_model.config.id2label[predicted_class_id]"
   ]
  },
  {
   "cell_type": "code",
   "execution_count": null,
   "id": "a066fd3d",
   "metadata": {},
   "outputs": [],
   "source": [
    "inputs"
   ]
  },
  {
   "cell_type": "code",
   "execution_count": null,
   "id": "258bfb6f",
   "metadata": {},
   "outputs": [],
   "source": [
    "import lime\n",
    "import torch\n",
    "import torch.nn.functional as F\n",
    "from lime.lime_text import LimeTextExplainer\n",
    "\n",
    "def predictor(texts):\n",
    "    with torch.no_grad():\n",
    "        outputs = v_model(**v_tokenizer(texts, return_tensors=\"pt\", padding=True))\n",
    "        #print(outputs.logits)\n",
    "        probas = F.softmax(outputs.logits,dim=1).detach().numpy()\n",
    "    return probas\n",
    "\n",
    "explainer = LimeTextExplainer(class_names=target_names)\n"
   ]
  },
  {
   "cell_type": "code",
   "execution_count": null,
   "id": "f9f05793",
   "metadata": {},
   "outputs": [],
   "source": [
    "exp = explainer.explain_instance(str_to_predict, predictor, num_features=200, num_samples=20)\n",
    "exp.show_in_notebook(text=str_to_predict)"
   ]
  },
  {
   "cell_type": "code",
   "execution_count": null,
   "id": "c5bc80e8",
   "metadata": {},
   "outputs": [],
   "source": [
    "from transformers_interpret import SequenceClassificationExplainer\n",
    "cls_explainer = SequenceClassificationExplainer(\n",
    "    v_model,\n",
    "    v_tokenizer)\n",
    "word_attributions = cls_explainer(str_to_predict)\n",
    "word_attributions"
   ]
  },
  {
   "cell_type": "markdown",
   "id": "9d47cb7b",
   "metadata": {},
   "source": [
    " Check result on fine tuning model"
   ]
  },
  {
   "cell_type": "code",
   "execution_count": null,
   "id": "6340ac08",
   "metadata": {},
   "outputs": [],
   "source": [
    "inputs = tokenizer(str_to_predict, return_tensors=\"pt\")\n",
    "\n",
    "with torch.no_grad():\n",
    "    logits = model(**inputs).logits\n",
    "\n",
    "predicted_class_id = logits.argmax().item()\n",
    "model.config.id2label[predicted_class_id]"
   ]
  },
  {
   "cell_type": "code",
   "execution_count": null,
   "id": "826fd98c",
   "metadata": {},
   "outputs": [],
   "source": [
    "def predictor(texts):\n",
    "    with torch.no_grad():\n",
    "        outputs = model(**tokenizer(texts, return_tensors=\"pt\", padding=True))\n",
    "        #print(outputs.logits)\n",
    "        probas = F.softmax(outputs.logits,dim=1).detach().numpy()\n",
    "    return probas\n",
    "\n",
    "explainer = LimeTextExplainer(class_names=target_names)"
   ]
  },
  {
   "cell_type": "code",
   "execution_count": null,
   "id": "7f24d7bc",
   "metadata": {},
   "outputs": [],
   "source": [
    "exp = explainer.explain_instance(str_to_predict, predictor, num_features=200, num_samples=20)\n",
    "exp.show_in_notebook(text=str_to_predict)"
   ]
  },
  {
   "cell_type": "markdown",
   "id": "000f0a23",
   "metadata": {},
   "source": [
    "The above presents the fine tuning process actually changed the prediction result. That could be caused by:\n",
    "- The word is attributed to be difficultly understood.\n",
    "- The similar words or sentence are trained as difficult one.\n",
    "\n",
    "Thus, the next tasks are to confirm the aboves."
   ]
  },
  {
   "cell_type": "markdown",
   "id": "c2c64237",
   "metadata": {},
   "source": [
    "##### Sentencebert to find the similiar sentences to check whether the similiar sentences may impact the classifier."
   ]
  },
  {
   "cell_type": "code",
   "execution_count": null,
   "id": "a4093374",
   "metadata": {},
   "outputs": [],
   "source": [
    "from sentence_transformers import SentenceTransformer\n",
    "onlinemodel='all-mpnet-base-v2'\n",
    "embedder = SentenceTransformer(onlinemodel)"
   ]
  },
  {
   "cell_type": "code",
   "execution_count": null,
   "id": "c5ed1824",
   "metadata": {},
   "outputs": [],
   "source": [
    "# load training data\n",
    "train_data_path=\"./01_data/WikiLarge_Train.csv\"\n",
    "train_data=pd.read_csv(train_data_path)\n",
    "texts=train_data['original_text']"
   ]
  },
  {
   "cell_type": "code",
   "execution_count": null,
   "id": "87784d5b",
   "metadata": {},
   "outputs": [],
   "source": [
    "if os.path.exists(\"./tmp/embeddings.csv\"):\n",
    "    query_embeddings= np.loadtxt(\"./tmp/embeddings.csv\", delimiter=\",\")\n",
    "else:\n",
    "    # Sampling data given the full train data volume is big\n",
    "    query_embeddings=embedder.encode(texts)\n",
    "    np.savetxt(\"./tmp/embeddings.csv\", query_embeddings, delimiter=\",\")"
   ]
  },
  {
   "cell_type": "code",
   "execution_count": null,
   "id": "447edc5e",
   "metadata": {},
   "outputs": [],
   "source": [
    "# work out the similarity and identify the record of self\n",
    "from sklearn.metrics.pairwise import cosine_similarity\n",
    "sim=cosine_similarity([embedder.encode(str_to_predict)],query_embeddings)\n",
    "j=np.argmax(sim)\n",
    "#sim.argsort()[-3:][::-1][0][:-1]"
   ]
  },
  {
   "cell_type": "code",
   "execution_count": null,
   "id": "73b7b321",
   "metadata": {},
   "outputs": [],
   "source": [
    "# produce the fine tuning dataset\n",
    "f_texts=[]\n",
    "f_labels=[]\n",
    "for i in np.where(sim[0]>0.7)[0]:\n",
    "    if i!=j:\n",
    "        f_texts.append(train_data.iloc[i]['original_text'])\n",
    "        f_labels.append(train_data.iloc[i]['label'])\n",
    "    #print(i,train_data.iloc[i]['label'].values,train_data.iloc[i]['original_text'].values,sim[0][i])\n",
    "    "
   ]
  },
  {
   "cell_type": "code",
   "execution_count": null,
   "id": "34def62d",
   "metadata": {},
   "outputs": [],
   "source": [
    "f_texts"
   ]
  },
  {
   "cell_type": "code",
   "execution_count": null,
   "id": "7d4c4158",
   "metadata": {},
   "outputs": [],
   "source": [
    "f_labels.count(1),f_labels.count(0)"
   ]
  },
  {
   "cell_type": "code",
   "execution_count": null,
   "id": "b5fa77d6",
   "metadata": {},
   "outputs": [],
   "source": [
    "f_labels"
   ]
  },
  {
   "cell_type": "code",
   "execution_count": null,
   "id": "39ba41c9",
   "metadata": {},
   "outputs": [],
   "source": [
    "f_labels=[1,0,0]"
   ]
  },
  {
   "cell_type": "code",
   "execution_count": null,
   "id": "7e1d39df",
   "metadata": {},
   "outputs": [],
   "source": []
  },
  {
   "cell_type": "code",
   "execution_count": null,
   "id": "03bb7f06",
   "metadata": {},
   "outputs": [],
   "source": []
  },
  {
   "cell_type": "markdown",
   "id": "678a062f",
   "metadata": {},
   "source": [
    "Fine tuning the pretrained model with the above similar data"
   ]
  },
  {
   "cell_type": "code",
   "execution_count": null,
   "id": "d732fe8c",
   "metadata": {},
   "outputs": [],
   "source": [
    "    # Select bert model\n",
    "    BERT_MODEL = \"distilbert-base-uncased\"\n",
    "    f_tokenizer = DistilBertTokenizer.from_pretrained(BERT_MODEL)\n",
    "    \n",
    "    # Using trained model\n",
    "    f_model=DistilBertForSequenceClassification.from_pretrained(BERT_MODEL,num_labels = len(target_names),\n",
    "                                                             output_attentions = False,\n",
    "                                                             output_hidden_states = False)   "
   ]
  },
  {
   "cell_type": "code",
   "execution_count": null,
   "id": "d86d1903",
   "metadata": {},
   "outputs": [],
   "source": [
    "# convert selected data into training set\n",
    "f_features = convert_examples_to_inputs(f_texts,f_labels, label2idx, MAX_SEQ_LENGTH, f_tokenizer)\n",
    "f_train_dataloader = get_data_loader(f_features, MAX_SEQ_LENGTH, BATCH_SIZE, shuffle=True)"
   ]
  },
  {
   "cell_type": "code",
   "execution_count": null,
   "id": "7c9d090b",
   "metadata": {},
   "outputs": [],
   "source": [
    "from transformers import AdamW,get_linear_schedule_with_warmup\n",
    "\n",
    "GRADIENT_ACCUMULATION_STEPS = 1\n",
    "# Tuning in https://mccormickml.com/2019/07/22/BERT-fine-tuning/#41-bertforsequenceclassification\n",
    "#NUM_TRAIN_EPOCHS = 20\n",
    "NUM_TRAIN_EPOCHS = 8\n",
    "#LEARNING_RATE = 5e-5\n",
    "LEARNING_RATE = 1e-5\n",
    "WARMUP_PROPORTION = 0.1\n",
    "MAX_GRAD_NORM = 5\n",
    "\n",
    "num_train_steps = int(len(f_train_dataloader.dataset) / BATCH_SIZE / GRADIENT_ACCUMULATION_STEPS * NUM_TRAIN_EPOCHS)\n",
    "num_warmup_steps = 600 #int(WARMUP_PROPORTION * num_train_steps)\n",
    "\n",
    "param_optimizer = list(f_model.named_parameters())\n",
    "no_decay = ['bias', 'LayerNorm.bias', 'LayerNorm.weight']\n",
    "optimizer_grouped_parameters = [\n",
    "    {'params': [p for n, p in param_optimizer if not any(nd in n for nd in no_decay)], 'weight_decay': 0.01},\n",
    "    {'params': [p for n, p in param_optimizer if any(nd in n for nd in no_decay)], 'weight_decay': 0.0}\n",
    "    ]\n",
    "\n",
    "optimizer = AdamW(optimizer_grouped_parameters, lr=LEARNING_RATE, correct_bias=False)\n",
    "scheduler = get_linear_schedule_with_warmup(optimizer, num_warmup_steps=num_warmup_steps,num_training_steps=num_train_steps)\n"
   ]
  },
  {
   "cell_type": "code",
   "execution_count": null,
   "id": "ba77d76f",
   "metadata": {},
   "outputs": [],
   "source": [
    "f_model.to(device)"
   ]
  },
  {
   "cell_type": "code",
   "execution_count": null,
   "id": "3849a1fb",
   "metadata": {},
   "outputs": [],
   "source": [
    "import os\n",
    "from tqdm import trange\n",
    "#from tqdm import tqdm_notebook as tqdm\n",
    "from tqdm.notebook import tqdm\n",
    "from sklearn.metrics import classification_report, precision_recall_fscore_support\n",
    "\n",
    " # tuning guide:https://pytorch.org/tutorials/recipes/recipes/tuning_guide.html\n",
    "torch.backends.cudnn.benchmark = True\n",
    "\n",
    "loss_history = []\n",
    "no_improvement = 0\n",
    "NUM_TRAIN_EPOCHS=8\n",
    "for _ in trange(int(NUM_TRAIN_EPOCHS), desc=\"Epoch\"):\n",
    "    f_model.train()\n",
    "    tr_loss = 0\n",
    "    nb_tr_examples, nb_tr_steps = 0, 0\n",
    "    \n",
    "    for step, batch in enumerate(tqdm(f_train_dataloader, desc=\"Training iteration\")):\n",
    "        batch = tuple(t.to(device) for t in batch)\n",
    "        input_ids, input_mask, segment_ids, label_ids = batch\n",
    "        #outputs = model(input_ids, attention_mask=input_mask, token_type_ids=segment_ids, labels=label_ids)\n",
    "        outputs = f_model(input_ids, attention_mask=input_mask,labels=label_ids)\n",
    "        loss = outputs[0]\n",
    "\n",
    "        if GRADIENT_ACCUMULATION_STEPS > 1:\n",
    "            loss = loss / GRADIENT_ACCUMULATION_STEPS\n",
    "\n",
    "        loss.backward()\n",
    "        tr_loss += loss.item()\n",
    "\n",
    "        if (step + 1) % GRADIENT_ACCUMULATION_STEPS == 0:\n",
    "            torch.nn.utils.clip_grad_norm_(f_model.parameters(), MAX_GRAD_NORM)  \n",
    "            \n",
    "            optimizer.step()\n",
    "            optimizer.zero_grad(set_to_none=True)\n",
    "            scheduler.step()"
   ]
  },
  {
   "cell_type": "code",
   "execution_count": null,
   "id": "585a8bb7",
   "metadata": {},
   "outputs": [],
   "source": [
    "# Confirm the error data should not be predicted correctly.\n",
    "texts=[str_to_predict]\n",
    "labels=[0]"
   ]
  },
  {
   "cell_type": "code",
   "execution_count": null,
   "id": "0dda16ef",
   "metadata": {},
   "outputs": [],
   "source": [
    "\n",
    "    # Enable GPU\n",
    "    device = torch.device(\"cuda\" if torch.cuda.is_available() else \"cpu\")\n",
    "    f_model.to(device)\n",
    "    \n",
    "    # Convert text and labels to embeddings \n",
    "    features = convert_examples_to_inputs(texts, labels, label2idx, MAX_SEQ_LENGTH, tokenizer)\n",
    "    dataloader = get_data_loader(features, MAX_SEQ_LENGTH, BATCH_SIZE, shuffle=False)\n",
    "    \n",
    "    # Predict the result, and discard the evaluatoin result, only take the prediction result.\n",
    "    _, correct, predicted = evaluate(f_model, dataloader)"
   ]
  },
  {
   "cell_type": "code",
   "execution_count": null,
   "id": "008c1725",
   "metadata": {},
   "outputs": [],
   "source": [
    "print(correct,predicted)"
   ]
  },
  {
   "cell_type": "code",
   "execution_count": null,
   "id": "b3bc2f5e",
   "metadata": {},
   "outputs": [],
   "source": [
    "f_model.to(device)"
   ]
  },
  {
   "cell_type": "code",
   "execution_count": null,
   "id": "a758a7fc",
   "metadata": {},
   "outputs": [],
   "source": [
    "f_inputs = f_tokenizer(str_to_predict, return_tensors=\"pt\")\n",
    "\n",
    "with torch.no_grad():\n",
    "    f_logits = f_model(**f_inputs.to(device)).logits\n",
    "\n",
    "predicted_class_id = f_logits.argmax().item()\n",
    "f_model.config.id2label[predicted_class_id]"
   ]
  },
  {
   "cell_type": "code",
   "execution_count": null,
   "id": "6e1e9d73",
   "metadata": {},
   "outputs": [],
   "source": [
    "import matplotlib.pyplot as plt\n",
    "import seaborn as sns\n",
    "# Plot histogram with the length. Truncate max length to 5000 tokens.\n",
    "plt.style.use(\"ggplot\")\n",
    "\n",
    "plt.figure(figsize=(10, 8))\n",
    "train_data['length'] = train_data['original_text'].apply(lambda x: len(x.split()))\n",
    "sns.distplot(train_data[train_data['length'] < 5000]['length'])\n",
    "plt.title('Frequence of documents of a given length', fontsize=14)\n",
    "plt.xlabel('length', fontsize=14)"
   ]
  },
  {
   "cell_type": "markdown",
   "id": "a42eb843",
   "metadata": {},
   "source": [
    "##### BERT-topic model"
   ]
  },
  {
   "cell_type": "code",
   "execution_count": null,
   "id": "e92ab77b",
   "metadata": {},
   "outputs": [],
   "source": [
    "from bertopic import BERTopic\n",
    "\n",
    "from transformers.pipelines import pipeline\n",
    "\n",
    "#sentence_model = SentenceTransformer(\"xlm-r-bert-base-nli-stsb-mean-tokens\", device=\"cuda\")\n",
    "topic_model = BERTopic(language=\"english\", calculate_probabilities=True, verbose=True)\n",
    "#topics, probs = topic_model.fit_transform(train_data['original_text'])"
   ]
  },
  {
   "cell_type": "code",
   "execution_count": null,
   "id": "bbd5fcb0",
   "metadata": {},
   "outputs": [],
   "source": [
    "# topics for error data\n",
    "err_topics, err_probs = topic_model.fit_transform(test_data['original_text'])"
   ]
  },
  {
   "cell_type": "code",
   "execution_count": null,
   "id": "f0f7804d",
   "metadata": {},
   "outputs": [],
   "source": [
    "error_data[error_data['original_text']==\"olawe\"]"
   ]
  },
  {
   "cell_type": "code",
   "execution_count": null,
   "id": "45c6d22f",
   "metadata": {},
   "outputs": [],
   "source": [
    "docs=error_data['original_text'].to_list()"
   ]
  },
  {
   "cell_type": "code",
   "execution_count": null,
   "id": "ec2ea042",
   "metadata": {},
   "outputs": [],
   "source": [
    "dir(topic_model)"
   ]
  },
  {
   "cell_type": "code",
   "execution_count": null,
   "id": "1c77711a",
   "metadata": {},
   "outputs": [],
   "source": [
    "topic_model.get_topic_info()"
   ]
  },
  {
   "cell_type": "code",
   "execution_count": null,
   "id": "496d14ab",
   "metadata": {},
   "outputs": [],
   "source": [
    "topic_model.visualize_distribution(probs[200], min_probability=0.015)"
   ]
  },
  {
   "cell_type": "code",
   "execution_count": null,
   "id": "62a08712",
   "metadata": {},
   "outputs": [],
   "source": [
    "topic_model.visualize_barchart(top_n_topics=5)"
   ]
  },
  {
   "cell_type": "code",
   "execution_count": null,
   "id": "005e70d5",
   "metadata": {},
   "outputs": [],
   "source": [
    "topic_model.visualize_heatmap(n_clusters=20, width=1000, height=1000)"
   ]
  },
  {
   "cell_type": "code",
   "execution_count": null,
   "id": "faa530fd",
   "metadata": {},
   "outputs": [],
   "source": [
    "# Look for sentences with similiar words count\n",
    "width=0\n",
    "df_range=train_data[train_data['length']<=train_data.iloc[j]['length']+width].reset_index()"
   ]
  },
  {
   "cell_type": "code",
   "execution_count": null,
   "id": "01ae62cb",
   "metadata": {},
   "outputs": [],
   "source": [
    "len(df_range)"
   ]
  },
  {
   "cell_type": "code",
   "execution_count": null,
   "id": "53992ca5",
   "metadata": {},
   "outputs": [],
   "source": [
    "embedding_range=embedder.encode(df_range['original_text'])"
   ]
  },
  {
   "cell_type": "code",
   "execution_count": null,
   "id": "cf849090",
   "metadata": {},
   "outputs": [],
   "source": [
    "# Clustering algorithms\n",
    "from sklearn.decomposition import PCA\n",
    "from sklearn.cluster import KMeans, MiniBatchKMeans\n",
    "from sklearn.metrics.pairwise import cosine_similarity\n",
    "\n",
    "# Elbow criterion - Determine optimal numbers of clusters by elbow rule.\n",
    "def elbow_plot(data, maxK=15, seed_centroids=None):\n",
    "    \"\"\"\n",
    "        parameters:\n",
    "        - data: pandas DataFrame (data to be fitted)\n",
    "        - maxK (default = 10): integer (maximum number of clusters with which to run k-means)\n",
    "        - seed_centroids (default = None ): float (initial value of centroids for k-means)\n",
    "    \"\"\"\n",
    "    sse = []\n",
    "    K= range(1, maxK)\n",
    "    for k in K:\n",
    "        if seed_centroids is not None:\n",
    "            seeds = seed_centroids.head(k)\n",
    "            kmeans = KMeans(n_clusters=k, max_iter=500, n_init=100, random_state=0, init=np.reshape(seeds, (k,1))).fit(data)\n",
    "            #data[\"clusters\"] = kmeans.labels_\n",
    "        else:\n",
    "            kmeans = KMeans(n_clusters=k, max_iter=300, n_init=100, random_state=0).fit(data)\n",
    "            #data[\"clusters\"] = kmeans.labels_\n",
    "        print(\"k: \", k,\"sse: \",kmeans.inertia_)\n",
    "        # Inertia: Sum of distances of samples to their closest cluster center\n",
    "        sse.append(kmeans.inertia_)\n",
    "    plt.figure()\n",
    "    plt.plot(K,sse,'bx-')\n",
    "    plt.xlabel('k')\n",
    "    plt.ylabel('Sum_of_squared_distances')\n",
    "    plt.title('Elbow Method For Optimal k')\n",
    "    plt.show()\n",
    "    return kmeans.labels_"
   ]
  },
  {
   "cell_type": "code",
   "execution_count": null,
   "id": "6d569936",
   "metadata": {},
   "outputs": [],
   "source": [
    "# Run Elbow for full training data\n",
    "elbow_plot(embedding_range,maxK=10)"
   ]
  },
  {
   "cell_type": "code",
   "execution_count": null,
   "id": "96ff2d19",
   "metadata": {},
   "outputs": [],
   "source": [
    "num_clusters = 2\n",
    "clf = KMeans(n_clusters=num_clusters, \n",
    "            max_iter=100, \n",
    "            init='k-means++', \n",
    "            n_init=1)\n",
    "clf.fit_predict(embedding_range)\n",
    "cluster_assignment = clf.labels_\n",
    "\n",
    "cdf=pd.DataFrame(columns=[\"cluster_id\",\"sentence_id\",\"sentence\"])\n",
    "\n",
    "for i in range(len(cluster_assignment)):\n",
    "    new_row=pd.Series(data={\"cluster_id\":cluster_assignment[i],\n",
    "                                \"sentence_id\":df_range.iloc[i]['index'],\n",
    "                                \"sentence\":df_range.iloc[i]['original_text']\n",
    "                           }\n",
    "                            )\n",
    "    cdf=cdf.append(new_row,ignore_index=True)\n",
    "\n",
    "cdf.head()"
   ]
  },
  {
   "cell_type": "code",
   "execution_count": null,
   "id": "ad04f090",
   "metadata": {},
   "outputs": [],
   "source": [
    "cdf"
   ]
  },
  {
   "cell_type": "code",
   "execution_count": null,
   "id": "3b35aea2",
   "metadata": {},
   "outputs": [],
   "source": [
    "# Using PCA to reduce the dimension to project the result to 2-d scatter plot\n",
    "pca = PCA(n_components=2)\n",
    "principalComponents = pca.fit_transform(embedding_range)\n",
    "\n",
    "df_pca = pd.DataFrame(data = principalComponents\n",
    "             , columns = ['principal component 1', 'principal component 2'])\n",
    "\n",
    "df_pca['sentence_id']=df_range['index']\n",
    "# Combine PCA results with K-means results to see clustering\n",
    "df_k=df_pca.merge(cdf,right_on=['sentence_id'],left_on=['sentence_id'])"
   ]
  },
  {
   "cell_type": "code",
   "execution_count": null,
   "id": "fbb6238e",
   "metadata": {},
   "outputs": [],
   "source": [
    "len(df_k)"
   ]
  },
  {
   "cell_type": "code",
   "execution_count": null,
   "id": "0845a09c",
   "metadata": {},
   "outputs": [],
   "source": [
    "fig, ax = plt.subplots()\n",
    "ls_clusters=pd.unique(df_k[\"cluster_id\"])\n",
    "#ls_colors=df_k[\"cluster_id\"].astype('category').cat.codes\n",
    "for id in range(len(ls_clusters)):\n",
    "    ax.scatter(df_k[df_k['cluster_id']==ls_clusters[id]]['principal component 1'],\n",
    "               df_k[df_k['cluster_id']==ls_clusters[id]]['principal component 2'],label=ls_clusters[id],\n",
    "               alpha=0.3, edgecolors='none')\n",
    "\n",
    "ax.legend()\n",
    "ax.grid(True)\n",
    "\n",
    "plt.show()"
   ]
  },
  {
   "cell_type": "code",
   "execution_count": null,
   "id": "ef726fac",
   "metadata": {},
   "outputs": [],
   "source": [
    "len(df_k[df_k['cluster_id']==0])"
   ]
  },
  {
   "cell_type": "markdown",
   "id": "fb35efd3",
   "metadata": {},
   "source": [
    "#### Spelling error correction"
   ]
  },
  {
   "cell_type": "code",
   "execution_count": null,
   "id": "78a15ccb",
   "metadata": {},
   "outputs": [],
   "source": [
    "# correct spelling error to check whether accuracy could be improved.\n",
    "#from textblob import TextBlob\n",
    "#error_data['correct_text_0'] = error_data['original_text'].apply(lambda x :TextBlob(x).correct())"
   ]
  },
  {
   "cell_type": "code",
   "execution_count": null,
   "id": "0e160051",
   "metadata": {},
   "outputs": [],
   "source": [
    "from autocorrect import Speller\n",
    "import re\n",
    "\n",
    "spell=Speller(lang=\"en\")\n",
    "WORD = re.compile(r'\\w+')\n",
    "def reTokenize(doc):\n",
    "    tokens = WORD.findall(doc)\n",
    "    return tokens\n",
    "\n",
    "text = [\"Hi, welcmoe to speling.\",\"This is jsut an exapmle, but cosnider a veri big coprus.\"]\n",
    "def spell_correct(text):\n",
    "    sptext = []\n",
    "    for doc in text:\n",
    "        sptext.append(' '.join([spell(w).lower() for w in reTokenize(doc)]))      \n",
    "    return sptext    \n",
    "\n",
    "print(spell_correct(text)) "
   ]
  },
  {
   "cell_type": "code",
   "execution_count": null,
   "id": "b79b8b9f",
   "metadata": {},
   "outputs": [],
   "source": [
    "from tqdm import trange\n",
    "correct_text=[]\n",
    "for i in trange(len(error_data)):\n",
    "    correct_text.append(TextBlob(error_data['original_text'].iloc[i]).correct())\n",
    "error_data['correct_text_0'] = correct_text"
   ]
  },
  {
   "cell_type": "code",
   "execution_count": null,
   "id": "32f17be7",
   "metadata": {},
   "outputs": [],
   "source": [
    "from tqdm import trange\n",
    "correct_text=[]\n",
    "for i in trange(len(error_data)):\n",
    "    correct_text.append(' '.join([spell(w).lower() for w in reTokenize(error_data['original_text'].iloc[i])]))\n",
    "error_data['correct_text_1'] = correct_text"
   ]
  },
  {
   "cell_type": "code",
   "execution_count": null,
   "id": "0819fc8c",
   "metadata": {},
   "outputs": [],
   "source": [
    "texts=list(error_data[\"correct_text_0\"])\n",
    "labels=list(error_data[\"label\"])\n",
    "data_evaluation(texts,labels)"
   ]
  },
  {
   "cell_type": "code",
   "execution_count": null,
   "id": "1ead2051",
   "metadata": {},
   "outputs": [],
   "source": [
    "error_data"
   ]
  },
  {
   "cell_type": "code",
   "execution_count": null,
   "id": "8b64ba25",
   "metadata": {},
   "outputs": [],
   "source": [
    "texts=list(error_data[\"correct_text_1\"])\n",
    "labels=list(error_data[\"label\"])\n",
    "data_evaluation(texts,labels)"
   ]
  },
  {
   "cell_type": "markdown",
   "id": "6943046d",
   "metadata": {},
   "source": [
    "##### The above result suggests spelling check could improve 13% accuracy, however, the performance of spelling check is not encouraging."
   ]
  },
  {
   "cell_type": "code",
   "execution_count": null,
   "id": "def19571",
   "metadata": {},
   "outputs": [],
   "source": [
    "#error_data.to_csv(\"./tmp/error_data_20221006.csv\",index=False) # export error data to csv for manual check"
   ]
  },
  {
   "cell_type": "markdown",
   "id": "e097188d",
   "metadata": {},
   "source": [
    "#### Clean text to see whether that would improve accuracy"
   ]
  },
  {
   "cell_type": "code",
   "execution_count": null,
   "id": "a4f8dd67",
   "metadata": {},
   "outputs": [],
   "source": [
    "texts=list(error_data[\"clean_text\"])\n",
    "labels=list(error_data[\"label\"])\n",
    "data_evaluation(texts,labels)"
   ]
  },
  {
   "cell_type": "code",
   "execution_count": null,
   "id": "345b5fff",
   "metadata": {},
   "outputs": [],
   "source": [
    "from text_preprocessing import preprocess_text\n",
    "from text_preprocessing import to_lower, remove_punctuation,remove_special_character,normalize_unicode,check_spelling,remove_stopword,lemmatize_word\n",
    "# Preprocess text using custom preprocess functions in the pipeline \n",
    "STOPWORDS=['-RRB-','-LRB-'] # remove customized stopwords\n",
    "preprocess_functions = [to_lower, remove_punctuation,remove_special_character,normalize_unicode,remove_stopword,lemmatize_word]\n",
    "error_data['preprocess_text'] = error_data['correct_text_1'].apply(lambda x:' '.join(remove_stopword(preprocess_text(x,preprocess_functions),\n",
    "                                                                                          stop_words=STOPWORDS)))"
   ]
  },
  {
   "cell_type": "code",
   "execution_count": null,
   "id": "c2502970",
   "metadata": {},
   "outputs": [],
   "source": [
    "error_data"
   ]
  },
  {
   "cell_type": "code",
   "execution_count": null,
   "id": "b5add739",
   "metadata": {},
   "outputs": [],
   "source": [
    "texts=list(error_data[\"preprocess_text\"])\n",
    "labels=list(error_data[\"label\"])\n",
    "data_evaluation(texts,labels)"
   ]
  },
  {
   "cell_type": "markdown",
   "id": "8b243c6f",
   "metadata": {},
   "source": [
    "#### The accuracy of error list was improved to 34%, and it looks like the preprocessing text do help to improve accuracy. "
   ]
  },
  {
   "cell_type": "code",
   "execution_count": null,
   "id": "59cbfd0b",
   "metadata": {},
   "outputs": [],
   "source": [
    "train_data_path=\"./01_data/WikiLarge_Train.csv\"\n",
    "train_data=pd.read_csv(train_data_path)"
   ]
  },
  {
   "cell_type": "code",
   "execution_count": null,
   "id": "8048d3c3",
   "metadata": {},
   "outputs": [],
   "source": [
    "correct_text=[]\n",
    "for i in trange(len(train_data)):\n",
    "    correct_text.append(' '.join([spell(w).lower() for w in reTokenize(train_data['original_text'].iloc[i])]))\n",
    "train_data['correct_text_1'] = correct_text"
   ]
  },
  {
   "cell_type": "code",
   "execution_count": null,
   "id": "08884ea1",
   "metadata": {},
   "outputs": [],
   "source": [
    "train_data.to_csv(\"./tmp/train_data_correction.csv\",index=False)"
   ]
  },
  {
   "cell_type": "markdown",
   "id": "7692f39f",
   "metadata": {},
   "source": [
    "##### Given the above improvement, and try to apply this to test set"
   ]
  },
  {
   "cell_type": "code",
   "execution_count": null,
   "id": "a8325e36",
   "metadata": {},
   "outputs": [],
   "source": [
    "# Loading the test data for submission\n",
    "sub_data_path=\"./01_data/WikiLarge_Test.csv\"\n",
    "sub_data=pd.read_csv(sub_data_path)"
   ]
  },
  {
   "cell_type": "code",
   "execution_count": null,
   "id": "b3457cb9",
   "metadata": {},
   "outputs": [],
   "source": [
    "correct_text=[]\n",
    "for i in trange(len(sub_data)):\n",
    "    correct_text.append(' '.join([spell(w).lower() for w in reTokenize(sub_data['original_text'].iloc[i])]))\n",
    "sub_data['correct_text_1'] = correct_text"
   ]
  },
  {
   "cell_type": "code",
   "execution_count": null,
   "id": "aee62584",
   "metadata": {},
   "outputs": [],
   "source": [
    "#sub_data['original_text'] = sub_data['correct_text_1'].apply(lambda x:' '.join(remove_stopword(preprocess_text(x,preprocess_functions),\n",
    "#                                                                                          stop_words=STOPWORDS)))"
   ]
  },
  {
   "cell_type": "code",
   "execution_count": null,
   "id": "146cb0e8",
   "metadata": {},
   "outputs": [],
   "source": [
    "sub_data.to_csv(\"./tmp/sub_data_correction.csv\",index=False)"
   ]
  },
  {
   "cell_type": "code",
   "execution_count": null,
   "id": "e17289bf",
   "metadata": {},
   "outputs": [],
   "source": [
    "sub_texts=list(sub_data[\"correct_text_1\"])\n",
    "sub_labels=[1 for i in range(len(sub_texts))]\n",
    "\n",
    "print(\"Submission Test size:\", len(sub_data))"
   ]
  },
  {
   "cell_type": "code",
   "execution_count": null,
   "id": "82aa4915",
   "metadata": {},
   "outputs": [],
   "source": [
    "_, sub_predicted=data_evaluation(sub_texts,sub_labels)"
   ]
  },
  {
   "cell_type": "code",
   "execution_count": null,
   "id": "00ce1271",
   "metadata": {},
   "outputs": [],
   "source": [
    "# Produce the submission file\n",
    "df_sub=pd.DataFrame(columns=[\"id\",\"label\"])\n",
    "df_sub['label']=sub_predicted\n",
    "df_sub['id']=[i for i in range(len(sub_predicted))]\n",
    "df_sub.to_csv(\"./tmp/submission.csv\",index=False)"
   ]
  },
  {
   "cell_type": "markdown",
   "id": "469e40c0",
   "metadata": {},
   "source": [
    "### Embedding-based clustering analysis"
   ]
  },
  {
   "cell_type": "code",
   "execution_count": null,
   "id": "e0b04163",
   "metadata": {},
   "outputs": [],
   "source": [
    "# Other utils\n",
    "from tqdm import tqdm  # Progress bar\n",
    "# Transformers\n",
    "from transformers import pipeline\n",
    "import ipywidgets as widgets\n",
    "from transformers import pipeline\n",
    "from sentence_transformers import SentenceTransformer"
   ]
  },
  {
   "cell_type": "code",
   "execution_count": null,
   "id": "9b6c4c03",
   "metadata": {},
   "outputs": [],
   "source": [
    "#onlinemodel='distiluse-base-multilingual-cased-v2'\n",
    "onlinemodel=\"all-mpnet-base-v2\"\n",
    "embedder = SentenceTransformer(onlinemodel)"
   ]
  },
  {
   "cell_type": "code",
   "execution_count": null,
   "id": "359c7193",
   "metadata": {},
   "outputs": [],
   "source": [
    "queries= list(error_data['original_text'])\n",
    "query_embeddings=embedder.encode(queries)"
   ]
  },
  {
   "cell_type": "code",
   "execution_count": null,
   "id": "2b48efb8",
   "metadata": {},
   "outputs": [],
   "source": [
    "%matplotlib inline\n",
    "import matplotlib.pyplot as plt\n",
    "from sklearn.decomposition import PCA\n",
    "from sklearn.cluster import KMeans\n",
    "\n",
    "# Elbow criterion - Determine optimal numbers of clusters by elbow rule.\n",
    "def elbow_plot(data, maxK=15, seed_centroids=None):\n",
    "    \"\"\"\n",
    "        parameters:\n",
    "        - data: pandas DataFrame (data to be fitted)\n",
    "        - maxK (default = 10): integer (maximum number of clusters with which to run k-means)\n",
    "        - seed_centroids (default = None ): float (initial value of centroids for k-means)\n",
    "    \"\"\"\n",
    "    sse = []\n",
    "    K= range(1, maxK)\n",
    "    for k in K:\n",
    "        if seed_centroids is not None:\n",
    "            seeds = seed_centroids.head(k)\n",
    "            kmeans = KMeans(n_clusters=k, max_iter=500, n_init=100, random_state=0, init=np.reshape(seeds, (k,1))).fit(data)\n",
    "            #data[\"clusters\"] = kmeans.labels_\n",
    "        else:\n",
    "            kmeans = KMeans(n_clusters=k, max_iter=300, n_init=100, random_state=0).fit(data)\n",
    "            #data[\"clusters\"] = kmeans.labels_\n",
    "        print(\"k: \", k,\"sse: \",kmeans.inertia_)\n",
    "        # Inertia: Sum of distances of samples to their closest cluster center\n",
    "        sse.append(kmeans.inertia_)\n",
    "    plt.figure()\n",
    "    plt.plot(K,sse,'bx-')\n",
    "    plt.xlabel('k')\n",
    "    plt.ylabel('Sum_of_squared_distances')\n",
    "    plt.title('Elbow Method For Optimal k')\n",
    "    plt.show()\n",
    "    return kmeans.labels_"
   ]
  },
  {
   "cell_type": "code",
   "execution_count": null,
   "id": "3515b699",
   "metadata": {},
   "outputs": [],
   "source": [
    "# Run Elbow for full training data\n",
    "elbow_plot(query_embeddings)"
   ]
  },
  {
   "cell_type": "code",
   "execution_count": null,
   "id": "dd266e71",
   "metadata": {},
   "outputs": [],
   "source": [
    "# Create clustering dataframe \n",
    "def df_clustering(queries, embeddings, labels=None, clusters=2):\n",
    "    \"\"\"\n",
    "        parameters:\n",
    "        - queries: list of queries\n",
    "        - embeddings: list of embeddings corresponding to queries\n",
    "        - clusters: no. of clusters for kmeans\n",
    "    \"\"\"\n",
    "    num_clusters = clusters\n",
    "    clf = KMeans(n_clusters=num_clusters, \n",
    "                max_iter=100, \n",
    "                init='k-means++', \n",
    "                n_init=1)\n",
    "    clf.fit_predict(embeddings)\n",
    "    cluster_assignment = clf.labels_\n",
    "\n",
    "    cdf=pd.DataFrame(columns=[\"cluster_id\",\"sentence_id\",\"sentence\",'label'])\n",
    "\n",
    "    cdf['cluster_id']=clf.labels_\n",
    "    cdf['sentence_id']=[i for i in range(len(clf.labels_))]\n",
    "    cdf['sentence']=queries\n",
    "    cdf['label']=labels\n",
    "                                            \n",
    "    return cdf"
   ]
  },
  {
   "cell_type": "code",
   "execution_count": null,
   "id": "9775bc7a",
   "metadata": {},
   "outputs": [],
   "source": [
    "num_clusters = 4\n",
    "clf = KMeans(n_clusters=num_clusters, \n",
    "            max_iter=100, \n",
    "            init='k-means++', \n",
    "            n_init=1)\n",
    "clf.fit_predict(query_embeddings)\n",
    "cluster_assignment = clf.labels_\n",
    "\n",
    "cdf=pd.DataFrame(columns=[\"cluster_id\",\"sentence_id\",\"sentence\"])\n",
    "\n",
    "for i in range(len(cluster_assignment)):\n",
    "    new_row=pd.DataFrame({\"cluster_id\":[cluster_assignment[i]],\n",
    "                                \"sentence_id\":[i],\n",
    "                                \"sentence\":[queries[i]]\n",
    "                           })\n",
    "    cdf=pd.concat([cdf,new_row],axis=0,ignore_index=True)\n",
    "\n",
    "cdf.head()"
   ]
  },
  {
   "cell_type": "code",
   "execution_count": null,
   "id": "254067b5",
   "metadata": {},
   "outputs": [],
   "source": [
    "# Using PCA to reduce the dimension to project the result to 2-d scatter plot\n",
    "pca = PCA(n_components=2)\n",
    "principalComponents = pca.fit_transform(query_embeddings)\n",
    "\n",
    "df_pca = pd.DataFrame(data = principalComponents\n",
    "             , columns = ['principal component 1', 'principal component 2'])\n",
    "\n",
    "df_pca['sentence']=queries\n",
    "# Combine PCA results with K-means results to see clustering\n",
    "df_k=df_pca.merge(cdf,right_on=['sentence'],left_on=['sentence'])"
   ]
  },
  {
   "cell_type": "code",
   "execution_count": null,
   "id": "b94adcc3",
   "metadata": {},
   "outputs": [],
   "source": [
    "fig, ax = plt.subplots()\n",
    "ls_clusters=pd.unique(df_k[\"cluster_id\"])\n",
    "ls_colors=['tab:blue', 'tab:orange', 'tab:green','tab:purple']\n",
    "#ls_colors=df_k[\"cluster_id\"].astype('category').cat.codes\n",
    "for id in range(len(ls_clusters)):\n",
    "    ax.scatter(df_k[df_k['cluster_id']==ls_clusters[id]]['principal component 1'],\n",
    "               df_k[df_k['cluster_id']==ls_clusters[id]]['principal component 2'], c=ls_colors[id], label=ls_clusters[id],\n",
    "               alpha=0.9, edgecolors='none')\n",
    "\n",
    "ax.legend()\n",
    "ax.grid(True)\n",
    "\n",
    "plt.show()"
   ]
  },
  {
   "cell_type": "code",
   "execution_count": null,
   "id": "3d6b29b8",
   "metadata": {},
   "outputs": [],
   "source": []
  }
 ],
 "metadata": {
  "kernelspec": {
   "display_name": "Python 3 (ipykernel)",
   "language": "python",
   "name": "python3"
  },
  "language_info": {
   "codemirror_mode": {
    "name": "ipython",
    "version": 3
   },
   "file_extension": ".py",
   "mimetype": "text/x-python",
   "name": "python",
   "nbconvert_exporter": "python",
   "pygments_lexer": "ipython3",
   "version": "3.10.8"
  }
 },
 "nbformat": 4,
 "nbformat_minor": 5
}
