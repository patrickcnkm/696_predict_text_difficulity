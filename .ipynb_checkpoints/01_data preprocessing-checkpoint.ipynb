{
 "cells": [
  {
   "cell_type": "markdown",
   "id": "4f0d962d",
   "metadata": {},
   "source": [
    "## SIADS 696 Milestone II - Predict Text Difficulty\n",
    "####  Part 1 - Data Preprocessing\n",
    "This program aims at preprocessing text data provided in the project guideline for the coming supervised / unsupervised learning"
   ]
  },
  {
   "cell_type": "markdown",
   "id": "4adebe18",
   "metadata": {
    "ExecuteTime": {
     "end_time": "2022-05-18T09:47:02.699991Z",
     "start_time": "2022-05-18T09:47:02.695103Z"
    }
   },
   "source": [
    "##### Load required libraries"
   ]
  },
  {
   "cell_type": "code",
   "execution_count": 1,
   "id": "6f31b039",
   "metadata": {
    "ExecuteTime": {
     "end_time": "2022-05-18T09:47:14.829509Z",
     "start_time": "2022-05-18T09:47:02.706689Z"
    },
    "scrolled": true
   },
   "outputs": [],
   "source": [
    "# Standard libarries\n",
    "from __future__ import print_function\n",
    "import pandas as pd\n",
    "import numpy as np\n",
    "import warnings # Disable warning of 3 types\n",
    "from tqdm import tqdm  # Progress bar\n",
    "import json\n",
    "\n",
    "# Text preprocessing\n",
    "import os,re\n",
    "from bs4 import BeautifulSoup\n",
    "from langdetect import detect\n",
    "\n",
    "#Plotting\n",
    "import matplotlib.pyplot as plt\n",
    "import matplotlib.cm as cm\n",
    "import dtale #EDA tools.\n",
    "\n",
    "# nlp text cleaning\n",
    "import nltk\n",
    "import re\n",
    "import string\n",
    "from nltk.tokenize import word_tokenize, sent_tokenize\n",
    "from nltk.corpus import stopwords\n",
    "from nltk.stem import PorterStemmer # or LancasterStemmer, RegexpStemmer, SnowballStemmer"
   ]
  },
  {
   "cell_type": "markdown",
   "id": "7ba47d7e",
   "metadata": {},
   "source": [
    "#### Pre-settings"
   ]
  },
  {
   "cell_type": "code",
   "execution_count": 2,
   "id": "0f079213",
   "metadata": {
    "ExecuteTime": {
     "end_time": "2022-05-18T09:47:14.845726Z",
     "start_time": "2022-05-18T09:47:14.834407Z"
    }
   },
   "outputs": [],
   "source": [
    "# Set the width to show the column as much as possible.\n",
    "pd.set_option('display.max_colwidth', 200)\n",
    "\n",
    "# Disable 3 types of warning\n",
    "warnings.filterwarnings(\"ignore\",category=DeprecationWarning)\n",
    "warnings.filterwarnings(\"ignore\",category=(FutureWarning))\n",
    "warnings.filterwarnings(\"ignore\",category=(RuntimeWarning))\n",
    "\n",
    "np.random.seed(1337)\n",
    "%matplotlib inline"
   ]
  },
  {
   "cell_type": "markdown",
   "id": "1a9415bf",
   "metadata": {},
   "source": [
    "#### data cleaning "
   ]
  },
  {
   "cell_type": "code",
   "execution_count": 3,
   "id": "1c92f1c6",
   "metadata": {
    "ExecuteTime": {
     "end_time": "2022-05-18T10:00:00.141651Z",
     "start_time": "2022-05-18T09:47:14.852523Z"
    }
   },
   "outputs": [],
   "source": [
    "src_train= './01_data/WikiLarge_Train.csv'\n",
    "src_test='./01_data/WikiLarge_Train.csv'"
   ]
  },
  {
   "cell_type": "code",
   "execution_count": 4,
   "id": "a011b813",
   "metadata": {
    "ExecuteTime": {
     "end_time": "2022-05-18T12:37:56.120256Z",
     "start_time": "2022-05-18T12:37:56.067292Z"
    },
    "scrolled": true
   },
   "outputs": [],
   "source": [
    "train_data = pd.read_csv(src_train)\n",
    "test_data = pd.read_csv(src_test)"
   ]
  },
  {
   "cell_type": "code",
   "execution_count": 5,
   "id": "e02be78e",
   "metadata": {
    "scrolled": true
   },
   "outputs": [
    {
     "data": {
      "text/html": [
       "<div>\n",
       "<style scoped>\n",
       "    .dataframe tbody tr th:only-of-type {\n",
       "        vertical-align: middle;\n",
       "    }\n",
       "\n",
       "    .dataframe tbody tr th {\n",
       "        vertical-align: top;\n",
       "    }\n",
       "\n",
       "    .dataframe thead th {\n",
       "        text-align: right;\n",
       "    }\n",
       "</style>\n",
       "<table border=\"1\" class=\"dataframe\">\n",
       "  <thead>\n",
       "    <tr style=\"text-align: right;\">\n",
       "      <th></th>\n",
       "      <th>original_text</th>\n",
       "      <th>label</th>\n",
       "    </tr>\n",
       "  </thead>\n",
       "  <tbody>\n",
       "    <tr>\n",
       "      <th>0</th>\n",
       "      <td>There is manuscript evidence that Austen continued to work on these pieces as late as the period 1809 â '' 11 , and that her niece and nephew , Anna and James Edward Austen , made further addition...</td>\n",
       "      <td>1</td>\n",
       "    </tr>\n",
       "    <tr>\n",
       "      <th>1</th>\n",
       "      <td>In a remarkable comparative analysis , Mandaean scholar Säve-Söderberg demonstrated that Mani 's Psalms of Thomas were closely related to Mandaean texts .</td>\n",
       "      <td>1</td>\n",
       "    </tr>\n",
       "    <tr>\n",
       "      <th>2</th>\n",
       "      <td>Before Persephone was released to Hermes , who had been sent to retrieve her , Hades tricked her into eating pomegranate seeds , -LRB- six or three according to the telling -RRB- which forced her ...</td>\n",
       "      <td>1</td>\n",
       "    </tr>\n",
       "    <tr>\n",
       "      <th>3</th>\n",
       "      <td>Cogeneration plants are commonly found in district heating systems of cities , hospitals , prisons , oil refineries , paper mills , wastewater treatment plants , thermal enhanced oil recovery well...</td>\n",
       "      <td>1</td>\n",
       "    </tr>\n",
       "    <tr>\n",
       "      <th>4</th>\n",
       "      <td>Geneva -LRB- , ; , ; , ; ; -RRB- is the second-most-populous city in Switzerland -LRB- after Zürich -RRB- and is the most populous city of Romandie -LRB- the French-speaking part of Switzerland -R...</td>\n",
       "      <td>1</td>\n",
       "    </tr>\n",
       "  </tbody>\n",
       "</table>\n",
       "</div>"
      ],
      "text/plain": [
       "                                                                                                                                                                                             original_text  \\\n",
       "0  There is manuscript evidence that Austen continued to work on these pieces as late as the period 1809 â '' 11 , and that her niece and nephew , Anna and James Edward Austen , made further addition...   \n",
       "1                                               In a remarkable comparative analysis , Mandaean scholar Säve-Söderberg demonstrated that Mani 's Psalms of Thomas were closely related to Mandaean texts .   \n",
       "2  Before Persephone was released to Hermes , who had been sent to retrieve her , Hades tricked her into eating pomegranate seeds , -LRB- six or three according to the telling -RRB- which forced her ...   \n",
       "3  Cogeneration plants are commonly found in district heating systems of cities , hospitals , prisons , oil refineries , paper mills , wastewater treatment plants , thermal enhanced oil recovery well...   \n",
       "4  Geneva -LRB- , ; , ; , ; ; -RRB- is the second-most-populous city in Switzerland -LRB- after Zürich -RRB- and is the most populous city of Romandie -LRB- the French-speaking part of Switzerland -R...   \n",
       "\n",
       "   label  \n",
       "0      1  \n",
       "1      1  \n",
       "2      1  \n",
       "3      1  \n",
       "4      1  "
      ]
     },
     "execution_count": 5,
     "metadata": {},
     "output_type": "execute_result"
    }
   ],
   "source": [
    "train_data.head()"
   ]
  },
  {
   "cell_type": "code",
   "execution_count": 6,
   "id": "2f2a73de",
   "metadata": {},
   "outputs": [
    {
     "data": {
      "text/plain": [
       "label\n",
       "0    208384\n",
       "1    208384\n",
       "dtype: int64"
      ]
     },
     "execution_count": 6,
     "metadata": {},
     "output_type": "execute_result"
    }
   ],
   "source": [
    "train_data.groupby(['label']).size()"
   ]
  },
  {
   "cell_type": "markdown",
   "id": "5b4990da",
   "metadata": {},
   "source": [
    "#### Supervise Learning"
   ]
  },
  {
   "cell_type": "markdown",
   "id": "d5674b9d",
   "metadata": {},
   "source": [
    "#### Conventional Text Preprocessing"
   ]
  },
  {
   "cell_type": "code",
   "execution_count": null,
   "id": "a5b5ed63",
   "metadata": {
    "ExecuteTime": {
     "end_time": "2022-05-18T12:46:11.441850Z",
     "start_time": "2022-05-18T12:46:11.417573Z"
    }
   },
   "outputs": [],
   "source": [
    "default_stemmer = PorterStemmer()\n",
    "default_stopwords = stopwords.words('english') # or any other list of your choice\n",
    "def clean_text(text, ):\n",
    "\n",
    "    def tokenize_text(text):\n",
    "        return [w for s in sent_tokenize(text) for w in word_tokenize(s)]\n",
    "\n",
    "    def remove_special_characters(text, characters=string.punctuation.replace('-', '')):\n",
    "        tokens = tokenize_text(text)\n",
    "        pattern = re.compile('[{}]'.format(re.escape(characters)))\n",
    "        return ' '.join(filter(None, [pattern.sub('', t) for t in tokens]))\n",
    "\n",
    "    def stem_text(text, stemmer=default_stemmer):\n",
    "        tokens = tokenize_text(text)\n",
    "        return ' '.join([stemmer.stem(t) for t in tokens])\n",
    "\n",
    "    def remove_stopwords(text, stop_words=default_stopwords):\n",
    "        tokens = [w for w in tokenize_text(text) if w not in stop_words]\n",
    "        return ' '.join(tokens)\n",
    "\n",
    "    text = text.strip(' ') # strip whitespaces\n",
    "    text = text.lower() # lowercase\n",
    "    #text = stem_text(text) # stemming\n",
    "    text = remove_special_characters(text) # remove punctuation and symbols\n",
    "    text = remove_stopwords(text) # remove stopwords\n",
    "    #text.strip(' ') # strip whitespaces again?\n",
    "\n",
    "    return text"
   ]
  },
  {
   "cell_type": "code",
   "execution_count": null,
   "id": "653ea418",
   "metadata": {
    "ExecuteTime": {
     "end_time": "2022-05-18T12:46:15.284696Z",
     "start_time": "2022-05-18T12:46:13.053441Z"
    }
   },
   "outputs": [],
   "source": [
    "# Create column \"description_cln\" to store the result of text cleaning\n",
    "df_main['description_cln']=df_main['description'].apply(lambda x: clean_text(x, ))"
   ]
  },
  {
   "cell_type": "code",
   "execution_count": null,
   "id": "62bf2524",
   "metadata": {},
   "outputs": [],
   "source": []
  }
 ],
 "metadata": {
  "kernelspec": {
   "display_name": "Python 3 (ipykernel)",
   "language": "python",
   "name": "python3"
  },
  "language_info": {
   "codemirror_mode": {
    "name": "ipython",
    "version": 3
   },
   "file_extension": ".py",
   "mimetype": "text/x-python",
   "name": "python",
   "nbconvert_exporter": "python",
   "pygments_lexer": "ipython3",
   "version": "3.10.7"
  }
 },
 "nbformat": 4,
 "nbformat_minor": 5
}
