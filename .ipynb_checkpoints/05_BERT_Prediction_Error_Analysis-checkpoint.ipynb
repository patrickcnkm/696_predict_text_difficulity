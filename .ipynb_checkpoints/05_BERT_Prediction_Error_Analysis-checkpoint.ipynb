{
 "cells": [
  {
   "cell_type": "markdown",
   "id": "6b3c1e9a",
   "metadata": {},
   "source": [
    "# BERT Prediction Error Analysis"
   ]
  },
  {
   "cell_type": "markdown",
   "id": "bb64fc66",
   "metadata": {},
   "source": [
    "As the result of text classification by 3 types of BERT models ( BERT_BASED_UNCASED, BERT_LARGE_UNCASED, DISTILBERT), it is found that:\n",
    " - The smaller the model is, the higher the accuracies. Distilbert achieved 77.8% in contrast that Bert_large_uncased only achieved 70& around.\n",
    "\n",
    "In order to improve the accuracy level, we will perform the further study on those records whose prediction result are wrong, and see whether there are some ways.\n",
    "\n",
    "Given Bert_large_uncased does not achieved high accuracy, in order to save the potential efforts, we take the remaining 2 models for the error analysis."
   ]
  },
  {
   "cell_type": "code",
   "execution_count": 1,
   "id": "bb7d23c3",
   "metadata": {},
   "outputs": [],
   "source": [
    "import warnings\n",
    "# Disable 3 types of warning\n",
    "warnings.filterwarnings(\"ignore\",category=DeprecationWarning)\n",
    "warnings.filterwarnings(\"ignore\",category=(FutureWarning))\n",
    "warnings.filterwarnings(\"ignore\",category=(RuntimeWarning))"
   ]
  },
  {
   "cell_type": "code",
   "execution_count": 2,
   "id": "66d24553",
   "metadata": {},
   "outputs": [],
   "source": [
    "import torch\n",
    "#Enable GPU\n",
    "device = torch.device(\"cuda\" if torch.cuda.is_available() else \"cpu\")"
   ]
  },
  {
   "cell_type": "code",
   "execution_count": 3,
   "id": "e6348b9c",
   "metadata": {},
   "outputs": [],
   "source": [
    "import pandas as pd\n",
    "from sklearn.model_selection import train_test_split\n",
    "\n",
    "RANDOM_STATE=1\n",
    "#################### split data into train,dev,test##################\n",
    "def train_dev_test(dataset,random_state=RANDOM_STATE):\n",
    "    texts=list(dataset[\"original_text\"])\n",
    "    labels=list(dataset[\"label\"])\n",
    "    \n",
    "    target_names = list(set(labels))\n",
    "    label2idx = {label: idx for idx, label in enumerate(target_names)}\n",
    "    print(label2idx)\n",
    "\n",
    "    rest_texts, test_texts, rest_labels, test_labels = train_test_split(texts, labels, test_size=0.1, random_state=RANDOM_STATE)\n",
    "    train_texts, dev_texts, train_labels, dev_labels = train_test_split(rest_texts, rest_labels, test_size=0.1, random_state=RANDOM_STATE)\n",
    "    \n",
    "    print(\"Train size:\", len(train_texts))\n",
    "    print(\"Dev size:\", len(dev_texts))\n",
    "    print(\"Test size:\", len(test_texts))\n",
    "    \n",
    "    #Create dataframe for coming issue analysis\n",
    "    df=pd.DataFrame()\n",
    "    df['original_text']=train_texts+test_texts\n",
    "    df['label']=train_labels+test_labels\n",
    "    df['id']=df.index\n",
    "    return df,(train_texts,dev_texts,test_texts),(train_labels,dev_labels,test_labels),(target_names,label2idx)"
   ]
  },
  {
   "cell_type": "code",
   "execution_count": 4,
   "id": "bc24b893",
   "metadata": {},
   "outputs": [],
   "source": [
    "import logging\n",
    "\n",
    "logging.basicConfig(format = '%(asctime)s - %(levelname)s - %(name)s -   %(message)s',\n",
    "                    datefmt = '%m/%d/%Y %H:%M:%S',\n",
    "                    level = logging.INFO)\n",
    "logger = logging.getLogger(__name__)"
   ]
  },
  {
   "cell_type": "code",
   "execution_count": 5,
   "id": "f57cf17f",
   "metadata": {},
   "outputs": [],
   "source": [
    "import numpy as np\n",
    "#################### Both class and the following function are used to prepare for input items##################\n",
    "\n",
    "class BertInputItem(object):\n",
    "    \"\"\"An item with all the necessary attributes for finetuning BERT.\"\"\"\n",
    "\n",
    "    def __init__(self, text, input_ids, input_mask, segment_ids, label_id):\n",
    "        self.text = text\n",
    "        self.input_ids = input_ids\n",
    "        self.input_mask = input_mask\n",
    "        self.segment_ids = segment_ids\n",
    "        self.label_id = label_id\n",
    "        \n",
    "\n",
    "def convert_examples_to_inputs(example_texts, example_labels, label2idx, max_seq_length, tokenizer):\n",
    "    \"\"\"Loads a data file into a list of `InputBatch`s.\"\"\"\n",
    "    \n",
    "    input_items = []\n",
    "    examples = zip(example_texts, example_labels)\n",
    "    for (ex_index, (text, label)) in enumerate(examples):\n",
    "\n",
    "        # Create a list of token ids\n",
    "        input_ids = tokenizer.encode(f\"[CLS] {text} [SEP]\")\n",
    "        if len(input_ids) > max_seq_length:\n",
    "            input_ids = input_ids[:max_seq_length]\n",
    "\n",
    "        # All our tokens are in the first input segment (id 0).\n",
    "        segment_ids = [0] * len(input_ids)\n",
    "\n",
    "        # The mask has 1 for real tokens and 0 for padding tokens. Only real\n",
    "        # tokens are attended to.\n",
    "        input_mask = [1] * len(input_ids)\n",
    "\n",
    "        # Zero-pad up to the sequence length.\n",
    "        padding = [0] * (max_seq_length - len(input_ids))\n",
    "        input_ids += padding\n",
    "        input_mask += padding\n",
    "        segment_ids += padding\n",
    "\n",
    "        assert len(input_ids) == max_seq_length\n",
    "        assert len(input_mask) == max_seq_length\n",
    "        assert len(segment_ids) == max_seq_length\n",
    "\n",
    "        label_id = label2idx[label]\n",
    "\n",
    "        input_items.append(\n",
    "            BertInputItem(text=text,\n",
    "                          input_ids=input_ids,\n",
    "                          input_mask=input_mask,\n",
    "                          segment_ids=segment_ids,\n",
    "                          label_id=label_id))\n",
    "\n",
    "        \n",
    "    return input_items\n"
   ]
  },
  {
   "cell_type": "code",
   "execution_count": 6,
   "id": "186cc9b5",
   "metadata": {},
   "outputs": [],
   "source": [
    "from torch.utils.data import TensorDataset, DataLoader, SequentialSampler\n",
    "\n",
    "#################### convert data for model input ##################\n",
    "\n",
    "def get_data_loader(features, max_seq_length, batch_size, shuffle=True): \n",
    "\n",
    "    all_input_ids = torch.tensor([f.input_ids for f in features], dtype=torch.long)\n",
    "    all_input_mask = torch.tensor([f.input_mask for f in features], dtype=torch.long)\n",
    "    all_segment_ids = torch.tensor([f.segment_ids for f in features], dtype=torch.long)\n",
    "    all_label_ids = torch.tensor([f.label_id for f in features], dtype=torch.long)\n",
    "    data = TensorDataset(all_input_ids, all_input_mask, all_segment_ids, all_label_ids)\n",
    "\n",
    "    #dataloader = DataLoader(data, shuffle=shuffle, batch_size=batch_size)\n",
    "    # dataloader tuning in https://pytorch.org/tutorials/recipes/recipes/tuning_guide.html\n",
    "   \n",
    "    dataloader = DataLoader(data, shuffle=shuffle, batch_size=batch_size,num_workers=2,pin_memory=True)\n",
    "    return dataloader"
   ]
  },
  {
   "cell_type": "code",
   "execution_count": 7,
   "id": "ead74ab5",
   "metadata": {},
   "outputs": [],
   "source": [
    "from tqdm import trange\n",
    "from tqdm.notebook import tqdm\n",
    "\n",
    "def evaluate(model, dataloader):\n",
    "    model.eval()\n",
    "    \n",
    "    eval_loss = 0\n",
    "    nb_eval_steps = 0\n",
    "    predicted_labels, correct_labels = [], []\n",
    "\n",
    "    for step, batch in enumerate(tqdm(dataloader, desc=\"Evaluation iteration\")):\n",
    "        batch = tuple(t.to(device) for t in batch)\n",
    "        input_ids, input_mask, segment_ids, label_ids = batch\n",
    "\n",
    "        with torch.no_grad():\n",
    "            #tmp_eval_loss, logits = model(input_ids, attention_mask=input_mask,\n",
    "            #                              token_type_ids=segment_ids, labels=label_ids)[:2]\n",
    "            tmp_eval_loss, logits = model(input_ids, attention_mask=input_mask,\n",
    "                                         labels=label_ids)[:2]  # for distilbert\n",
    "        outputs = np.argmax(logits.to('cpu'), axis=1)\n",
    "        label_ids = label_ids.to('cpu').numpy()\n",
    "        \n",
    "        predicted_labels += list(outputs)\n",
    "        correct_labels += list(label_ids)\n",
    "        \n",
    "        eval_loss += tmp_eval_loss.mean().item()\n",
    "        nb_eval_steps += 1\n",
    "\n",
    "    eval_loss = eval_loss / nb_eval_steps\n",
    "    \n",
    "    correct_labels = np.array(correct_labels)\n",
    "    predicted_labels = np.array(predicted_labels)\n",
    "        \n",
    "    return eval_loss, correct_labels, predicted_labels"
   ]
  },
  {
   "cell_type": "code",
   "execution_count": 8,
   "id": "4de74850",
   "metadata": {},
   "outputs": [],
   "source": [
    "import os\n",
    "from tqdm import trange\n",
    "from tqdm.notebook import tqdm\n",
    "from sklearn.metrics import classification_report, precision_recall_fscore_support\n",
    "from transformers import AdamW,get_linear_schedule_with_warmup\n",
    "\n",
    "\n",
    "def train(model_name,train_texts,train_labels,dev_texts,dev_labels,target_names,label2idx,params):\n",
    "    \n",
    "    \n",
    "    ## Initialize bert model   \n",
    "    tokenizer = DistilBertTokenizer.from_pretrained(model_name,target_names=target_names)\n",
    "    # Using trained model\n",
    "    model=DistilBertForSequenceClassification.from_pretrained(model_name,num_labels = len(target_names),\n",
    "                                                             output_attentions = False,\n",
    "                                                             output_hidden_states = False)  \n",
    "    \n",
    "    ## Prepare for data loading and parameter setting for bert model\n",
    "    train_features = convert_examples_to_inputs(train_texts,train_labels, label2idx, params['MAX_SEQ_LENGTH'], tokenizer)\n",
    "    train_dataloader = get_data_loader(train_features, params['MAX_SEQ_LENGTH'], params['BATCH_SIZE'], shuffle=True)\n",
    "    dev_features = convert_examples_to_inputs(dev_texts,dev_labels, label2idx, params['MAX_SEQ_LENGTH'], tokenizer)\n",
    "    dev_dataloader = get_data_loader(dev_features, params['MAX_SEQ_LENGTH'], params['BATCH_SIZE'], shuffle=True)\n",
    "\n",
    "    num_train_steps = int(len(train_dataloader.dataset) / params['BATCH_SIZE'] /params['GRADIENT_ACCUMULATION_STEPS'] * params['NUM_TRAIN_EPOCHS'])\n",
    "    num_warmup_steps = params['NUM_WARMUP_STEPS']\n",
    "\n",
    "    param_optimizer = list(model.named_parameters())\n",
    "    no_decay = ['bias', 'LayerNorm.bias', 'LayerNorm.weight']\n",
    "    optimizer_grouped_parameters = [\n",
    "        {'params': [p for n, p in param_optimizer if not any(nd in n for nd in no_decay)], 'weight_decay': 0.01},\n",
    "        {'params': [p for n, p in param_optimizer if any(nd in n for nd in no_decay)], 'weight_decay': 0.0}\n",
    "        ]\n",
    "\n",
    "    optimizer = AdamW(optimizer_grouped_parameters, lr=params['LEARNING_RATE'], correct_bias=False)\n",
    "    scheduler = get_linear_schedule_with_warmup(optimizer, num_warmup_steps=num_warmup_steps,num_training_steps=num_train_steps)\n",
    "    \n",
    "    ##Enable GPU if has\n",
    "    device = torch.device(\"cuda\" if torch.cuda.is_available() else \"cpu\")\n",
    "    model.to(device)\n",
    "    \n",
    "    ## Start to training \n",
    "    torch.backends.cudnn.benchmark = True # tuning guide:https://pytorch.org/tutorials/recipes/recipes/tuning_guide.html\n",
    "\n",
    "    loss_history = []\n",
    "    no_improvement = 0\n",
    "    PATIENCE=2\n",
    "    for _ in trange(int(params[\"NUM_TRAIN_EPOCHS\"]), desc=\"Epoch\"):\n",
    "        model.train()\n",
    "        tr_loss = 0\n",
    "        nb_tr_examples, nb_tr_steps = 0, 0\n",
    "\n",
    "        for step, batch in enumerate(tqdm(train_dataloader, desc=\"Training iteration\")):\n",
    "            batch = tuple(t.to(device) for t in batch)\n",
    "            input_ids, input_mask, segment_ids, label_ids = batch\n",
    "            #outputs = model(input_ids, attention_mask=input_mask, token_type_ids=segment_ids, labels=label_ids) # non-distillbert\n",
    "            outputs = model(input_ids, attention_mask=input_mask,labels=label_ids)\n",
    "            loss = outputs[0]\n",
    "\n",
    "            if params['GRADIENT_ACCUMULATION_STEPS'] > 1:\n",
    "                loss = loss / params['GRADIENT_ACCUMULATION_STEPS']\n",
    "\n",
    "            loss.backward()\n",
    "            tr_loss += loss.item()\n",
    "\n",
    "            if (step + 1) % params['GRADIENT_ACCUMULATION_STEPS'] == 0:\n",
    "                torch.nn.utils.clip_grad_norm_(model.parameters(),params['MAX_GRAD_NORM'])  \n",
    "\n",
    "                optimizer.step()\n",
    "                optimizer.zero_grad(set_to_none=True)\n",
    "                scheduler.step()\n",
    "        dev_loss, _, _ = evaluate(model, dev_dataloader)\n",
    "            #print(\"Dev loss:\", dev_loss)\n",
    "    \n",
    "        print(\"Loss history:\", loss_history)\n",
    "        print(\"Dev loss:\", dev_loss)\n",
    "\n",
    "        if len(loss_history) == 0 or dev_loss < min(loss_history):\n",
    "            no_improvement = 0\n",
    "            model_to_save = model.module if hasattr(model, 'module') else model\n",
    "            output_model_file = os.path.join(OUTPUT_DIR, MODEL_FILE_NAME)\n",
    "            torch.save(model_to_save.state_dict(), output_model_file)\n",
    "        else:\n",
    "            no_improvement += 1\n",
    "\n",
    "        if no_improvement >= PATIENCE: \n",
    "            print(\"No improvement on development set. Finish training.\")\n",
    "            break\n",
    "\n",
    "\n",
    "        loss_history.append(dev_loss)\n",
    "    "
   ]
  },
  {
   "cell_type": "code",
   "execution_count": 9,
   "id": "5bdf60b1",
   "metadata": {},
   "outputs": [],
   "source": [
    "from transformers import BertForSequenceClassification,DistilBertForSequenceClassification\n",
    "from transformers import BertTokenizer,DistilBertTokenizer\n",
    "import os\n",
    "from sklearn.metrics import classification_report, precision_recall_fscore_support\n",
    "\n",
    "OUTPUT_DIR = \"./tmp/\"\n",
    "MODEL_FILE_NAME = \"pytorch_model.bin\"\n",
    "\n",
    "\n",
    "# Evaluate the dataset based on trained distilbert model\n",
    "def data_evaluation(texts,labels,model_name,params,trained=True,OUTPUT_DIR = OUTPUT_DIR, MODEL_FILE_NAME = MODEL_FILE_NAME):\n",
    "    # Convert test data of submission to features\n",
    "    target_names = list(set(labels))\n",
    "    label2idx = {label: idx for idx, label in enumerate(target_names)}\n",
    "    \n",
    "    # Enable GPU\n",
    "    device = torch.device(\"cuda\" if torch.cuda.is_available() else \"cpu\")\n",
    "    \n",
    "    # Select bert model\n",
    "    #BERT_MODEL = \"distilbert-base-uncased\"\n",
    "    tokenizer = DistilBertTokenizer.from_pretrained(model_name)\n",
    "       \n",
    "    if trained:\n",
    "        # Using trained model\n",
    "        model_state_dict = torch.load(os.path.join(OUTPUT_DIR, MODEL_FILE_NAME), map_location=lambda storage, loc: storage)\n",
    "        model=DistilBertForSequenceClassification.from_pretrained(model_name, state_dict=model_state_dict, num_labels = len(target_names),\n",
    "                                                                 output_attentions = False,\n",
    "                                                                 output_hidden_states = False)\n",
    "    else:\n",
    "        # Using pretrained model without training\n",
    "        model=DistilBertForSequenceClassification.from_pretrained(BERT_MODEL,num_labels = len(target_names),\n",
    "                                                                 output_attentions = False,\n",
    "                                                                 output_hidden_states = False)        \n",
    "    model.to(device)\n",
    "    \n",
    "    # Convert text and labels to embeddings \n",
    "    features = convert_examples_to_inputs(texts, labels, label2idx,  params['MAX_SEQ_LENGTH'], tokenizer)\n",
    "    dataloader = get_data_loader(features, params['MAX_SEQ_LENGTH'], params['BATCH_SIZE'], shuffle=False)\n",
    "    \n",
    "    # Predict the result, and discard the evaluatoin result, only take the prediction result.\n",
    "    _, correct, predicted = evaluate(model, dataloader)\n",
    "    print(\"Errors performance:\", precision_recall_fscore_support(correct, predicted, average=\"micro\"))\n",
    "\n",
    "    bert_accuracy = np.mean(predicted == correct)\n",
    "    \n",
    "    #print(bert_accuracy)\n",
    "    print(classification_report(correct, predicted))\n",
    "\n",
    "    return correct,predicted, bert_accuracy "
   ]
  },
  {
   "cell_type": "markdown",
   "id": "f401eebc",
   "metadata": {},
   "source": [
    "##### Import dataset"
   ]
  },
  {
   "cell_type": "code",
   "execution_count": 10,
   "id": "a80adf3c",
   "metadata": {},
   "outputs": [],
   "source": [
    "import pandas as pd\n",
    "# load train data\n",
    "source_train_data_path=\"./01_data/WikiLarge_Train.csv\"\n",
    "source_train_data=pd.read_csv(source_train_data_path)\n",
    "\n",
    "RANDOM_STATE=1\n",
    "PORTION=0.01\n",
    "size=round(len(source_train_data)*PORTION)\n",
    "train_data=source_train_data.sample(n=size,random_state=RANDOM_STATE)"
   ]
  },
  {
   "cell_type": "code",
   "execution_count": 11,
   "id": "91d20a9b",
   "metadata": {},
   "outputs": [
    {
     "data": {
      "text/plain": [
       "Text(0.5, 0, 'length')"
      ]
     },
     "execution_count": 11,
     "metadata": {},
     "output_type": "execute_result"
    },
    {
     "data": {
      "image/png": "[encoded data removed]",
      "text/plain": [
       "<Figure size 720x576 with 1 Axes>"
      ]
     },
     "metadata": {
      "needs_background": "light"
     },
     "output_type": "display_data"
    }
   ],
   "source": [
    "import matplotlib.pyplot as plt\n",
    "import seaborn as sns\n",
    "# Plot histogram with the length. Truncate max length to 5000 tokens.\n",
    "plt.style.use(\"ggplot\")\n",
    "\n",
    "plt.figure(figsize=(10, 8))\n",
    "train_data['length'] = train_data['original_text'].apply(lambda x: len(x.split()))\n",
    "sns.distplot(train_data[train_data['length'] < 5000]['length'])\n",
    "plt.title('Frequence of sentences of a given length', fontsize=14)\n",
    "plt.xlabel('length', fontsize=14)"
   ]
  },
  {
   "cell_type": "code",
   "execution_count": 12,
   "id": "99bcb0e8",
   "metadata": {},
   "outputs": [
    {
     "name": "stdout",
     "output_type": "stream",
     "text": [
      "count    4168.000000\n",
      "mean       21.913628\n",
      "std        12.775337\n",
      "min         1.000000\n",
      "25%        13.000000\n",
      "50%        20.000000\n",
      "75%        29.000000\n",
      "max        79.000000\n",
      "Name: original_text, dtype: float64\n"
     ]
    }
   ],
   "source": [
    "# BERT token length should not be more than 512.\n",
    "data_describe=train_data['original_text'].apply(lambda x: len(x.split())).describe()\n",
    "print(data_describe)\n",
    "MAX_SEQ_LENGTH=int(data_describe['max'])\n",
    "if MAX_SEQ_LENGTH>512:\n",
    "    MAX_SEQ_LENGTH=512"
   ]
  },
  {
   "cell_type": "code",
   "execution_count": 13,
   "id": "aeec9f27",
   "metadata": {},
   "outputs": [
    {
     "name": "stdout",
     "output_type": "stream",
     "text": [
      "{0: 0, 1: 1}\n",
      "Train size: 3375\n",
      "Dev size: 376\n",
      "Test size: 417\n"
     ]
    }
   ],
   "source": [
    "#Create train, dev, test data\n",
    "df_init,(train_texts,dev_texts,test_texts),(train_labels,dev_labels,test_labels),(target_names,label2idx)=train_dev_test(train_data,random_state=RANDOM_STATE)\n",
    "\n"
   ]
  },
  {
   "cell_type": "code",
   "execution_count": 14,
   "id": "40007d7f",
   "metadata": {},
   "outputs": [],
   "source": [
    "params={\n",
    "        \"GRADIENT_ACCUMULATION_STEPS\":1,\n",
    "        \"NUM_TRAIN_EPOCHS\":8,\n",
    "        \"LEARNING_RATE\":2e-5,\n",
    "        \"WARMUP_PROPORTION\":0.1,\n",
    "        \"MAX_GRAD_NORM\":5,\n",
    "        \"MAX_SEQ_LENGTH\":MAX_SEQ_LENGTH,\n",
    "        \"BATCH_SIZE\":16,\n",
    "        \"NUM_WARMUP_STEPS\":600\n",
    "}\n",
    "BERT_MODEL = \"distilbert-base-uncased\""
   ]
  },
  {
   "cell_type": "markdown",
   "id": "daa5512b",
   "metadata": {},
   "source": [
    "##### Initial accuracy for pretrain model"
   ]
  },
  {
   "cell_type": "code",
   "execution_count": 15,
   "id": "9a955d35",
   "metadata": {},
   "outputs": [
    {
     "name": "stderr",
     "output_type": "stream",
     "text": [
      "Some weights of the model checkpoint at distilbert-base-uncased were not used when initializing DistilBertForSequenceClassification: ['vocab_projector.weight', 'vocab_transform.weight', 'vocab_projector.bias', 'vocab_layer_norm.weight', 'vocab_transform.bias', 'vocab_layer_norm.bias']\n",
      "- This IS expected if you are initializing DistilBertForSequenceClassification from the checkpoint of a model trained on another task or with another architecture (e.g. initializing a BertForSequenceClassification model from a BertForPreTraining model).\n",
      "- This IS NOT expected if you are initializing DistilBertForSequenceClassification from the checkpoint of a model that you expect to be exactly identical (initializing a BertForSequenceClassification model from a BertForSequenceClassification model).\n",
      "Some weights of DistilBertForSequenceClassification were not initialized from the model checkpoint at distilbert-base-uncased and are newly initialized: ['classifier.bias', 'classifier.weight', 'pre_classifier.weight', 'pre_classifier.bias']\n",
      "You should probably TRAIN this model on a down-stream task to be able to use it for predictions and inference.\n"
     ]
    },
    {
     "data": {
      "application/vnd.jupyter.widget-view+json": {
       "model_id": "2461513f659c44b583300def22b4c04b",
       "version_major": 2,
       "version_minor": 0
      },
      "text/plain": [
       "Evaluation iteration:   0%|          | 0/27 [00:00<?, ?it/s]"
      ]
     },
     "metadata": {},
     "output_type": "display_data"
    },
    {
     "name": "stdout",
     "output_type": "stream",
     "text": [
      "Errors performance: (0.47002398081534774, 0.47002398081534774, 0.47002398081534774, None)\n",
      "              precision    recall  f1-score   support\n",
      "\n",
      "           0       0.47      0.98      0.64       196\n",
      "           1       0.50      0.01      0.03       221\n",
      "\n",
      "    accuracy                           0.47       417\n",
      "   macro avg       0.48      0.50      0.33       417\n",
      "weighted avg       0.49      0.47      0.31       417\n",
      "\n"
     ]
    }
   ],
   "source": [
    "_,init_pred,init_acc=data_evaluation(test_texts,test_labels,BERT_MODEL,params,trained=False,OUTPUT_DIR = OUTPUT_DIR, MODEL_FILE_NAME = MODEL_FILE_NAME)"
   ]
  },
  {
   "cell_type": "markdown",
   "id": "1dce00c0",
   "metadata": {},
   "source": [
    "##### Train model without any preprocessing."
   ]
  },
  {
   "cell_type": "code",
   "execution_count": 16,
   "id": "aa80ee52",
   "metadata": {},
   "outputs": [
    {
     "name": "stderr",
     "output_type": "stream",
     "text": [
      "Some weights of the model checkpoint at distilbert-base-uncased were not used when initializing DistilBertForSequenceClassification: ['vocab_projector.weight', 'vocab_transform.weight', 'vocab_projector.bias', 'vocab_layer_norm.weight', 'vocab_transform.bias', 'vocab_layer_norm.bias']\n",
      "- This IS expected if you are initializing DistilBertForSequenceClassification from the checkpoint of a model trained on another task or with another architecture (e.g. initializing a BertForSequenceClassification model from a BertForPreTraining model).\n",
      "- This IS NOT expected if you are initializing DistilBertForSequenceClassification from the checkpoint of a model that you expect to be exactly identical (initializing a BertForSequenceClassification model from a BertForSequenceClassification model).\n",
      "Some weights of DistilBertForSequenceClassification were not initialized from the model checkpoint at distilbert-base-uncased and are newly initialized: ['classifier.bias', 'classifier.weight', 'pre_classifier.weight', 'pre_classifier.bias']\n",
      "You should probably TRAIN this model on a down-stream task to be able to use it for predictions and inference.\n",
      "Epoch:   0%|                                                                                     | 0/8 [00:00<?, ?it/s]"
     ]
    },
    {
     "data": {
      "application/vnd.jupyter.widget-view+json": {
       "model_id": "1613d4763e844b258bd3e626ed77fdb0",
       "version_major": 2,
       "version_minor": 0
      },
      "text/plain": [
       "Training iteration:   0%|          | 0/211 [00:00<?, ?it/s]"
      ]
     },
     "metadata": {},
     "output_type": "display_data"
    },
    {
     "data": {
      "application/vnd.jupyter.widget-view+json": {
       "model_id": "fe967a1b9c8d4518a771bf5208478bb3",
       "version_major": 2,
       "version_minor": 0
      },
      "text/plain": [
       "Evaluation iteration:   0%|          | 0/24 [00:00<?, ?it/s]"
      ]
     },
     "metadata": {},
     "output_type": "display_data"
    },
    {
     "name": "stdout",
     "output_type": "stream",
     "text": [
      "Loss history: []\n",
      "Dev loss: 0.6186180785298347\n"
     ]
    },
    {
     "name": "stderr",
     "output_type": "stream",
     "text": [
      "\r",
      "Epoch:  12%|█████████▋                                                                   | 1/8 [00:40<04:46, 40.88s/it]"
     ]
    },
    {
     "data": {
      "application/vnd.jupyter.widget-view+json": {
       "model_id": "e296aab4c5e0452ea0e9cc9d5a4add97",
       "version_major": 2,
       "version_minor": 0
      },
      "text/plain": [
       "Training iteration:   0%|          | 0/211 [00:00<?, ?it/s]"
      ]
     },
     "metadata": {},
     "output_type": "display_data"
    },
    {
     "data": {
      "application/vnd.jupyter.widget-view+json": {
       "model_id": "aad09b605f3e426e8514b57ebf98e62c",
       "version_major": 2,
       "version_minor": 0
      },
      "text/plain": [
       "Evaluation iteration:   0%|          | 0/24 [00:00<?, ?it/s]"
      ]
     },
     "metadata": {},
     "output_type": "display_data"
    },
    {
     "name": "stdout",
     "output_type": "stream",
     "text": [
      "Loss history: [0.6186180785298347]\n",
      "Dev loss: 0.6083229954044024\n"
     ]
    },
    {
     "name": "stderr",
     "output_type": "stream",
     "text": [
      "\r",
      "Epoch:  25%|███████████████████▎                                                         | 2/8 [01:21<04:05, 40.85s/it]"
     ]
    },
    {
     "data": {
      "application/vnd.jupyter.widget-view+json": {
       "model_id": "1ed1375d6bda47348423a9fa6ef6b09d",
       "version_major": 2,
       "version_minor": 0
      },
      "text/plain": [
       "Training iteration:   0%|          | 0/211 [00:00<?, ?it/s]"
      ]
     },
     "metadata": {},
     "output_type": "display_data"
    },
    {
     "data": {
      "application/vnd.jupyter.widget-view+json": {
       "model_id": "b1f1efb1bd9a47a0a483fc6abc3f8bc9",
       "version_major": 2,
       "version_minor": 0
      },
      "text/plain": [
       "Evaluation iteration:   0%|          | 0/24 [00:00<?, ?it/s]"
      ]
     },
     "metadata": {},
     "output_type": "display_data"
    },
    {
     "name": "stderr",
     "output_type": "stream",
     "text": [
      "\r",
      "Epoch:  38%|████████████████████████████▉                                                | 3/8 [02:02<03:24, 40.81s/it]"
     ]
    },
    {
     "name": "stdout",
     "output_type": "stream",
     "text": [
      "Loss history: [0.6186180785298347, 0.6083229954044024]\n",
      "Dev loss: 0.6732497451206049\n"
     ]
    },
    {
     "data": {
      "application/vnd.jupyter.widget-view+json": {
       "model_id": "7fc8e4a9fda0446e9f16967c03ff189d",
       "version_major": 2,
       "version_minor": 0
      },
      "text/plain": [
       "Training iteration:   0%|          | 0/211 [00:00<?, ?it/s]"
      ]
     },
     "metadata": {},
     "output_type": "display_data"
    },
    {
     "data": {
      "application/vnd.jupyter.widget-view+json": {
       "model_id": "d1db3435a84b47bb9b39e8b6932064b5",
       "version_major": 2,
       "version_minor": 0
      },
      "text/plain": [
       "Evaluation iteration:   0%|          | 0/24 [00:00<?, ?it/s]"
      ]
     },
     "metadata": {},
     "output_type": "display_data"
    },
    {
     "name": "stderr",
     "output_type": "stream",
     "text": [
      "\r",
      "Epoch:  38%|████████████████████████████▉                                                | 3/8 [02:43<04:32, 54.49s/it]"
     ]
    },
    {
     "name": "stdout",
     "output_type": "stream",
     "text": [
      "Loss history: [0.6186180785298347, 0.6083229954044024, 0.6732497451206049]\n",
      "Dev loss: 1.0036601883669694\n",
      "No improvement on development set. Finish training.\n"
     ]
    },
    {
     "name": "stderr",
     "output_type": "stream",
     "text": [
      "\n"
     ]
    }
   ],
   "source": [
    "train(BERT_MODEL,train_texts,train_labels,dev_texts,dev_labels,target_names,label2idx,params)"
   ]
  },
  {
   "cell_type": "markdown",
   "id": "9579a458",
   "metadata": {},
   "source": [
    "##### Accuracy after training"
   ]
  },
  {
   "cell_type": "code",
   "execution_count": 17,
   "id": "825fd931",
   "metadata": {},
   "outputs": [
    {
     "data": {
      "application/vnd.jupyter.widget-view+json": {
       "model_id": "cbf29a211ad0437a834890e45fc9c0db",
       "version_major": 2,
       "version_minor": 0
      },
      "text/plain": [
       "Evaluation iteration:   0%|          | 0/27 [00:00<?, ?it/s]"
      ]
     },
     "metadata": {},
     "output_type": "display_data"
    },
    {
     "name": "stdout",
     "output_type": "stream",
     "text": [
      "Errors performance: (0.6690647482014388, 0.6690647482014388, 0.6690647482014388, None)\n",
      "              precision    recall  f1-score   support\n",
      "\n",
      "           0       0.62      0.74      0.68       196\n",
      "           1       0.72      0.61      0.66       221\n",
      "\n",
      "    accuracy                           0.67       417\n",
      "   macro avg       0.67      0.67      0.67       417\n",
      "weighted avg       0.68      0.67      0.67       417\n",
      "\n"
     ]
    }
   ],
   "source": [
    "_,orig_pred,orig_acc=data_evaluation(test_texts,test_labels,BERT_MODEL,params,trained=True,OUTPUT_DIR = OUTPUT_DIR, MODEL_FILE_NAME = MODEL_FILE_NAME)"
   ]
  },
  {
   "cell_type": "code",
   "execution_count": 18,
   "id": "09cd12f2",
   "metadata": {},
   "outputs": [],
   "source": [
    "# Assign those for future error analysis\n",
    "orig_train_texts,orig_train_labels=train_texts,train_labels\n",
    "orig_dev_texts,orig_dev_labels=dev_texts,dev_labels\n",
    "orig_test_texts,orig_test_labels=test_texts,test_labels"
   ]
  },
  {
   "cell_type": "markdown",
   "id": "22951195",
   "metadata": {},
   "source": [
    "##### Remove stopwords"
   ]
  },
  {
   "cell_type": "code",
   "execution_count": 19,
   "id": "653238e5",
   "metadata": {},
   "outputs": [
    {
     "name": "stderr",
     "output_type": "stream",
     "text": [
      "[nltk_data] Downloading package omw-1.4 to\n",
      "[nltk_data]     C:\\Users\\patri\\AppData\\Roaming\\nltk_data...\n",
      "[nltk_data]   Package omw-1.4 is already up-to-date!\n"
     ]
    }
   ],
   "source": [
    "from text_preprocessing import preprocess_text\n",
    "from text_preprocessing import remove_punctuation,remove_special_character,normalize_unicode,check_spelling,remove_stopword,lemmatize_word\n",
    "# Preprocess text using custom preprocess functions in the pipeline \n",
    "#STOPWORDS=['-RRB-','-LRB-'] # remove customized stopwords\n",
    "#preprocess_functions = [to_lower, remove_punctuation,remove_special_character,normalize_unicode,remove_stopword,lemmatize_word]\n"
   ]
  },
  {
   "cell_type": "code",
   "execution_count": 20,
   "id": "9990af42",
   "metadata": {},
   "outputs": [],
   "source": [
    "process_data=train_data.copy()\n",
    "process_data['original_text'] = process_data['original_text'].apply(lambda x:' '.join(remove_stopword(x)))"
   ]
  },
  {
   "cell_type": "code",
   "execution_count": 21,
   "id": "1bf8bd5b",
   "metadata": {},
   "outputs": [
    {
     "data": {
      "text/html": [
       "<div>\n",
       "<style scoped>\n",
       "    .dataframe tbody tr th:only-of-type {\n",
       "        vertical-align: middle;\n",
       "    }\n",
       "\n",
       "    .dataframe tbody tr th {\n",
       "        vertical-align: top;\n",
       "    }\n",
       "\n",
       "    .dataframe thead th {\n",
       "        text-align: right;\n",
       "    }\n",
       "</style>\n",
       "<table border=\"1\" class=\"dataframe\">\n",
       "  <thead>\n",
       "    <tr style=\"text-align: right;\">\n",
       "      <th></th>\n",
       "      <th>original_text</th>\n",
       "      <th>label</th>\n",
       "      <th>length</th>\n",
       "    </tr>\n",
       "  </thead>\n",
       "  <tbody>\n",
       "    <tr>\n",
       "      <th>314316</th>\n",
       "      <td>The Yarra Trams fleet consists 500 trams , ope...</td>\n",
       "      <td>0</td>\n",
       "      <td>18</td>\n",
       "    </tr>\n",
       "    <tr>\n",
       "      <th>136396</th>\n",
       "      <td>Still Life concept album , explained Åkerfeldt...</td>\n",
       "      <td>1</td>\n",
       "      <td>39</td>\n",
       "    </tr>\n",
       "    <tr>\n",
       "      <th>377680</th>\n",
       "      <td>Romana , short Romanadvoratrelundar , fictiona...</td>\n",
       "      <td>0</td>\n",
       "      <td>20</td>\n",
       "    </tr>\n",
       "    <tr>\n",
       "      <th>280270</th>\n",
       "      <td>A minor scale music theory scale least three s...</td>\n",
       "      <td>0</td>\n",
       "      <td>35</td>\n",
       "    </tr>\n",
       "    <tr>\n",
       "      <th>285587</th>\n",
       "      <td>The show also created character Frasier Crane .</td>\n",
       "      <td>0</td>\n",
       "      <td>9</td>\n",
       "    </tr>\n",
       "    <tr>\n",
       "      <th>...</th>\n",
       "      <td>...</td>\n",
       "      <td>...</td>\n",
       "      <td>...</td>\n",
       "    </tr>\n",
       "    <tr>\n",
       "      <th>145077</th>\n",
       "      <td>In paintball , bunker obstacle field play used...</td>\n",
       "      <td>1</td>\n",
       "      <td>25</td>\n",
       "    </tr>\n",
       "    <tr>\n",
       "      <th>35542</th>\n",
       "      <td>La Ferrière-Harang commune Calvados department...</td>\n",
       "      <td>1</td>\n",
       "      <td>17</td>\n",
       "    </tr>\n",
       "    <tr>\n",
       "      <th>238435</th>\n",
       "      <td>The British Rail Class 325 dual-voltage altern...</td>\n",
       "      <td>0</td>\n",
       "      <td>26</td>\n",
       "    </tr>\n",
       "    <tr>\n",
       "      <th>324621</th>\n",
       "      <td>When Palmengarten returned city 's control 196...</td>\n",
       "      <td>0</td>\n",
       "      <td>21</td>\n",
       "    </tr>\n",
       "    <tr>\n",
       "      <th>38232</th>\n",
       "      <td>Pong -LRB- marketed PONG -RRB- one earliest ar...</td>\n",
       "      <td>1</td>\n",
       "      <td>52</td>\n",
       "    </tr>\n",
       "  </tbody>\n",
       "</table>\n",
       "<p>4168 rows × 3 columns</p>\n",
       "</div>"
      ],
      "text/plain": [
       "                                            original_text  label  length\n",
       "314316  The Yarra Trams fleet consists 500 trams , ope...      0      18\n",
       "136396  Still Life concept album , explained Åkerfeldt...      1      39\n",
       "377680  Romana , short Romanadvoratrelundar , fictiona...      0      20\n",
       "280270  A minor scale music theory scale least three s...      0      35\n",
       "285587    The show also created character Frasier Crane .      0       9\n",
       "...                                                   ...    ...     ...\n",
       "145077  In paintball , bunker obstacle field play used...      1      25\n",
       "35542   La Ferrière-Harang commune Calvados department...      1      17\n",
       "238435  The British Rail Class 325 dual-voltage altern...      0      26\n",
       "324621  When Palmengarten returned city 's control 196...      0      21\n",
       "38232   Pong -LRB- marketed PONG -RRB- one earliest ar...      1      52\n",
       "\n",
       "[4168 rows x 3 columns]"
      ]
     },
     "execution_count": 21,
     "metadata": {},
     "output_type": "execute_result"
    }
   ],
   "source": [
    "process_data"
   ]
  },
  {
   "cell_type": "code",
   "execution_count": 22,
   "id": "cb71c857",
   "metadata": {},
   "outputs": [
    {
     "name": "stdout",
     "output_type": "stream",
     "text": [
      "{0: 0, 1: 1}\n",
      "Train size: 3375\n",
      "Dev size: 376\n",
      "Test size: 417\n"
     ]
    }
   ],
   "source": [
    "df_sw,(train_texts,dev_texts,test_texts),(train_labels,dev_labels,test_labels),(target_names,label2idx)=train_dev_test(process_data,random_state=RANDOM_STATE)"
   ]
  },
  {
   "cell_type": "code",
   "execution_count": 23,
   "id": "62915432",
   "metadata": {},
   "outputs": [
    {
     "name": "stderr",
     "output_type": "stream",
     "text": [
      "Some weights of the model checkpoint at distilbert-base-uncased were not used when initializing DistilBertForSequenceClassification: ['vocab_projector.weight', 'vocab_transform.weight', 'vocab_projector.bias', 'vocab_layer_norm.weight', 'vocab_transform.bias', 'vocab_layer_norm.bias']\n",
      "- This IS expected if you are initializing DistilBertForSequenceClassification from the checkpoint of a model trained on another task or with another architecture (e.g. initializing a BertForSequenceClassification model from a BertForPreTraining model).\n",
      "- This IS NOT expected if you are initializing DistilBertForSequenceClassification from the checkpoint of a model that you expect to be exactly identical (initializing a BertForSequenceClassification model from a BertForSequenceClassification model).\n",
      "Some weights of DistilBertForSequenceClassification were not initialized from the model checkpoint at distilbert-base-uncased and are newly initialized: ['classifier.bias', 'classifier.weight', 'pre_classifier.weight', 'pre_classifier.bias']\n",
      "You should probably TRAIN this model on a down-stream task to be able to use it for predictions and inference.\n",
      "Epoch:   0%|                                                                                     | 0/8 [00:00<?, ?it/s]"
     ]
    },
    {
     "data": {
      "application/vnd.jupyter.widget-view+json": {
       "model_id": "9523032beece4d60839c1859884bfdac",
       "version_major": 2,
       "version_minor": 0
      },
      "text/plain": [
       "Training iteration:   0%|          | 0/211 [00:00<?, ?it/s]"
      ]
     },
     "metadata": {},
     "output_type": "display_data"
    },
    {
     "data": {
      "application/vnd.jupyter.widget-view+json": {
       "model_id": "b649a1dbae364da3a771ae40cea2cdda",
       "version_major": 2,
       "version_minor": 0
      },
      "text/plain": [
       "Evaluation iteration:   0%|          | 0/24 [00:00<?, ?it/s]"
      ]
     },
     "metadata": {},
     "output_type": "display_data"
    },
    {
     "name": "stdout",
     "output_type": "stream",
     "text": [
      "Loss history: []\n",
      "Dev loss: 0.6455226788918177\n"
     ]
    },
    {
     "name": "stderr",
     "output_type": "stream",
     "text": [
      "\r",
      "Epoch:  12%|█████████▋                                                                   | 1/8 [00:41<04:48, 41.15s/it]"
     ]
    },
    {
     "data": {
      "application/vnd.jupyter.widget-view+json": {
       "model_id": "f05abb4c1d6f4d738fc325c6c0e53113",
       "version_major": 2,
       "version_minor": 0
      },
      "text/plain": [
       "Training iteration:   0%|          | 0/211 [00:00<?, ?it/s]"
      ]
     },
     "metadata": {},
     "output_type": "display_data"
    },
    {
     "data": {
      "application/vnd.jupyter.widget-view+json": {
       "model_id": "c5d8e535771e4dbab8447102e9006821",
       "version_major": 2,
       "version_minor": 0
      },
      "text/plain": [
       "Evaluation iteration:   0%|          | 0/24 [00:00<?, ?it/s]"
      ]
     },
     "metadata": {},
     "output_type": "display_data"
    },
    {
     "name": "stdout",
     "output_type": "stream",
     "text": [
      "Loss history: [0.6455226788918177]\n",
      "Dev loss: 0.5838496213157972\n"
     ]
    },
    {
     "name": "stderr",
     "output_type": "stream",
     "text": [
      "\r",
      "Epoch:  25%|███████████████████▎                                                         | 2/8 [01:22<04:07, 41.22s/it]"
     ]
    },
    {
     "data": {
      "application/vnd.jupyter.widget-view+json": {
       "model_id": "9f5ea3f6b52c43d1821d92b752e8b0c7",
       "version_major": 2,
       "version_minor": 0
      },
      "text/plain": [
       "Training iteration:   0%|          | 0/211 [00:00<?, ?it/s]"
      ]
     },
     "metadata": {},
     "output_type": "display_data"
    },
    {
     "data": {
      "application/vnd.jupyter.widget-view+json": {
       "model_id": "7d85250eefc74292897dff29b7ab946b",
       "version_major": 2,
       "version_minor": 0
      },
      "text/plain": [
       "Evaluation iteration:   0%|          | 0/24 [00:00<?, ?it/s]"
      ]
     },
     "metadata": {},
     "output_type": "display_data"
    },
    {
     "name": "stderr",
     "output_type": "stream",
     "text": [
      "\r",
      "Epoch:  38%|████████████████████████████▉                                                | 3/8 [02:03<03:25, 41.18s/it]"
     ]
    },
    {
     "name": "stdout",
     "output_type": "stream",
     "text": [
      "Loss history: [0.6455226788918177, 0.5838496213157972]\n",
      "Dev loss: 0.6413037534803152\n"
     ]
    },
    {
     "data": {
      "application/vnd.jupyter.widget-view+json": {
       "model_id": "1878e3ad44414daca5c46f93ce30f3b5",
       "version_major": 2,
       "version_minor": 0
      },
      "text/plain": [
       "Training iteration:   0%|          | 0/211 [00:00<?, ?it/s]"
      ]
     },
     "metadata": {},
     "output_type": "display_data"
    },
    {
     "data": {
      "application/vnd.jupyter.widget-view+json": {
       "model_id": "c13c000ff5394ef4a6ab632f77c25005",
       "version_major": 2,
       "version_minor": 0
      },
      "text/plain": [
       "Evaluation iteration:   0%|          | 0/24 [00:00<?, ?it/s]"
      ]
     },
     "metadata": {},
     "output_type": "display_data"
    },
    {
     "name": "stderr",
     "output_type": "stream",
     "text": [
      "\r",
      "Epoch:  38%|████████████████████████████▉                                                | 3/8 [02:44<04:34, 54.87s/it]"
     ]
    },
    {
     "name": "stdout",
     "output_type": "stream",
     "text": [
      "Loss history: [0.6455226788918177, 0.5838496213157972, 0.6413037534803152]\n",
      "Dev loss: 1.0052730677028496\n",
      "No improvement on development set. Finish training.\n"
     ]
    },
    {
     "name": "stderr",
     "output_type": "stream",
     "text": [
      "\n"
     ]
    }
   ],
   "source": [
    "train(BERT_MODEL,train_texts,train_labels,dev_texts,dev_labels,target_names,label2idx,params)"
   ]
  },
  {
   "cell_type": "code",
   "execution_count": 24,
   "id": "21b2c6b6",
   "metadata": {},
   "outputs": [
    {
     "data": {
      "application/vnd.jupyter.widget-view+json": {
       "model_id": "4f09b6de69d0488c8b137c67da8f9fb4",
       "version_major": 2,
       "version_minor": 0
      },
      "text/plain": [
       "Evaluation iteration:   0%|          | 0/27 [00:00<?, ?it/s]"
      ]
     },
     "metadata": {},
     "output_type": "display_data"
    },
    {
     "name": "stdout",
     "output_type": "stream",
     "text": [
      "Errors performance: (0.6642685851318945, 0.6642685851318945, 0.6642685851318945, None)\n",
      "              precision    recall  f1-score   support\n",
      "\n",
      "           0       0.63      0.69      0.66       196\n",
      "           1       0.70      0.64      0.67       221\n",
      "\n",
      "    accuracy                           0.66       417\n",
      "   macro avg       0.67      0.67      0.66       417\n",
      "weighted avg       0.67      0.66      0.66       417\n",
      "\n"
     ]
    }
   ],
   "source": [
    "_,sw_pred,sw_acc=data_evaluation(test_texts,test_labels,BERT_MODEL,params,trained=True,OUTPUT_DIR = OUTPUT_DIR, MODEL_FILE_NAME = MODEL_FILE_NAME)"
   ]
  },
  {
   "cell_type": "markdown",
   "id": "59bd3c90",
   "metadata": {},
   "source": [
    "##### Spelling correction "
   ]
  },
  {
   "cell_type": "code",
   "execution_count": 25,
   "id": "9f37dde0",
   "metadata": {},
   "outputs": [],
   "source": [
    "process_data=train_data.copy()\n",
    "process_data['original_text'] = process_data['original_text'].apply(lambda x:' '.join(check_spelling(x)) if type(x)=='str' else x)"
   ]
  },
  {
   "cell_type": "code",
   "execution_count": 26,
   "id": "173b309b",
   "metadata": {},
   "outputs": [
    {
     "data": {
      "text/html": [
       "<div>\n",
       "<style scoped>\n",
       "    .dataframe tbody tr th:only-of-type {\n",
       "        vertical-align: middle;\n",
       "    }\n",
       "\n",
       "    .dataframe tbody tr th {\n",
       "        vertical-align: top;\n",
       "    }\n",
       "\n",
       "    .dataframe thead th {\n",
       "        text-align: right;\n",
       "    }\n",
       "</style>\n",
       "<table border=\"1\" class=\"dataframe\">\n",
       "  <thead>\n",
       "    <tr style=\"text-align: right;\">\n",
       "      <th></th>\n",
       "      <th>original_text</th>\n",
       "      <th>label</th>\n",
       "      <th>length</th>\n",
       "    </tr>\n",
       "  </thead>\n",
       "  <tbody>\n",
       "    <tr>\n",
       "      <th>314316</th>\n",
       "      <td>The Yarra Trams fleet consists of 500 trams , ...</td>\n",
       "      <td>0</td>\n",
       "      <td>18</td>\n",
       "    </tr>\n",
       "    <tr>\n",
       "      <th>136396</th>\n",
       "      <td>Still Life is a concept album , as explained b...</td>\n",
       "      <td>1</td>\n",
       "      <td>39</td>\n",
       "    </tr>\n",
       "    <tr>\n",
       "      <th>377680</th>\n",
       "      <td>Romana , short for Romanadvoratrelundar , is a...</td>\n",
       "      <td>0</td>\n",
       "      <td>20</td>\n",
       "    </tr>\n",
       "    <tr>\n",
       "      <th>280270</th>\n",
       "      <td>A minor scale in music theory is any scale tha...</td>\n",
       "      <td>0</td>\n",
       "      <td>35</td>\n",
       "    </tr>\n",
       "    <tr>\n",
       "      <th>285587</th>\n",
       "      <td>The show also created the character Frasier Cr...</td>\n",
       "      <td>0</td>\n",
       "      <td>9</td>\n",
       "    </tr>\n",
       "    <tr>\n",
       "      <th>...</th>\n",
       "      <td>...</td>\n",
       "      <td>...</td>\n",
       "      <td>...</td>\n",
       "    </tr>\n",
       "    <tr>\n",
       "      <th>145077</th>\n",
       "      <td>In paintball , a bunker is an obstacle on the ...</td>\n",
       "      <td>1</td>\n",
       "      <td>25</td>\n",
       "    </tr>\n",
       "    <tr>\n",
       "      <th>35542</th>\n",
       "      <td>La Ferrière-Harang is a commune in the Calvado...</td>\n",
       "      <td>1</td>\n",
       "      <td>17</td>\n",
       "    </tr>\n",
       "    <tr>\n",
       "      <th>238435</th>\n",
       "      <td>The British Rail Class 325 is a dual-voltage a...</td>\n",
       "      <td>0</td>\n",
       "      <td>26</td>\n",
       "    </tr>\n",
       "    <tr>\n",
       "      <th>324621</th>\n",
       "      <td>When the Palmengarten was returned to the city...</td>\n",
       "      <td>0</td>\n",
       "      <td>21</td>\n",
       "    </tr>\n",
       "    <tr>\n",
       "      <th>38232</th>\n",
       "      <td>Pong -LRB- marketed as PONG -RRB- is one of th...</td>\n",
       "      <td>1</td>\n",
       "      <td>52</td>\n",
       "    </tr>\n",
       "  </tbody>\n",
       "</table>\n",
       "<p>4168 rows × 3 columns</p>\n",
       "</div>"
      ],
      "text/plain": [
       "                                            original_text  label  length\n",
       "314316  The Yarra Trams fleet consists of 500 trams , ...      0      18\n",
       "136396  Still Life is a concept album , as explained b...      1      39\n",
       "377680  Romana , short for Romanadvoratrelundar , is a...      0      20\n",
       "280270  A minor scale in music theory is any scale tha...      0      35\n",
       "285587  The show also created the character Frasier Cr...      0       9\n",
       "...                                                   ...    ...     ...\n",
       "145077  In paintball , a bunker is an obstacle on the ...      1      25\n",
       "35542   La Ferrière-Harang is a commune in the Calvado...      1      17\n",
       "238435  The British Rail Class 325 is a dual-voltage a...      0      26\n",
       "324621  When the Palmengarten was returned to the city...      0      21\n",
       "38232   Pong -LRB- marketed as PONG -RRB- is one of th...      1      52\n",
       "\n",
       "[4168 rows x 3 columns]"
      ]
     },
     "execution_count": 26,
     "metadata": {},
     "output_type": "execute_result"
    }
   ],
   "source": [
    "process_data"
   ]
  },
  {
   "cell_type": "code",
   "execution_count": 27,
   "id": "8ec7c355",
   "metadata": {},
   "outputs": [
    {
     "name": "stdout",
     "output_type": "stream",
     "text": [
      "{0: 0, 1: 1}\n",
      "Train size: 3375\n",
      "Dev size: 376\n",
      "Test size: 417\n"
     ]
    }
   ],
   "source": [
    "df_pc,(train_texts,dev_texts,test_texts),(train_labels,dev_labels,test_labels),(target_names,label2idx)=train_dev_test(process_data,random_state=RANDOM_STATE)"
   ]
  },
  {
   "cell_type": "code",
   "execution_count": 28,
   "id": "43fcbf7a",
   "metadata": {},
   "outputs": [
    {
     "name": "stderr",
     "output_type": "stream",
     "text": [
      "Some weights of the model checkpoint at distilbert-base-uncased were not used when initializing DistilBertForSequenceClassification: ['vocab_projector.weight', 'vocab_transform.weight', 'vocab_projector.bias', 'vocab_layer_norm.weight', 'vocab_transform.bias', 'vocab_layer_norm.bias']\n",
      "- This IS expected if you are initializing DistilBertForSequenceClassification from the checkpoint of a model trained on another task or with another architecture (e.g. initializing a BertForSequenceClassification model from a BertForPreTraining model).\n",
      "- This IS NOT expected if you are initializing DistilBertForSequenceClassification from the checkpoint of a model that you expect to be exactly identical (initializing a BertForSequenceClassification model from a BertForSequenceClassification model).\n",
      "Some weights of DistilBertForSequenceClassification were not initialized from the model checkpoint at distilbert-base-uncased and are newly initialized: ['classifier.bias', 'classifier.weight', 'pre_classifier.weight', 'pre_classifier.bias']\n",
      "You should probably TRAIN this model on a down-stream task to be able to use it for predictions and inference.\n",
      "Epoch:   0%|                                                                                     | 0/8 [00:00<?, ?it/s]"
     ]
    },
    {
     "data": {
      "application/vnd.jupyter.widget-view+json": {
       "model_id": "a6c68de3bf4440bf930d68e5966da0ce",
       "version_major": 2,
       "version_minor": 0
      },
      "text/plain": [
       "Training iteration:   0%|          | 0/211 [00:00<?, ?it/s]"
      ]
     },
     "metadata": {},
     "output_type": "display_data"
    },
    {
     "data": {
      "application/vnd.jupyter.widget-view+json": {
       "model_id": "a9539a4c9420473eb3f7d81e2f71be13",
       "version_major": 2,
       "version_minor": 0
      },
      "text/plain": [
       "Evaluation iteration:   0%|          | 0/24 [00:00<?, ?it/s]"
      ]
     },
     "metadata": {},
     "output_type": "display_data"
    },
    {
     "name": "stdout",
     "output_type": "stream",
     "text": [
      "Loss history: []\n",
      "Dev loss: 0.63196878383557\n"
     ]
    },
    {
     "name": "stderr",
     "output_type": "stream",
     "text": [
      "\r",
      "Epoch:  12%|█████████▋                                                                   | 1/8 [00:41<04:49, 41.41s/it]"
     ]
    },
    {
     "data": {
      "application/vnd.jupyter.widget-view+json": {
       "model_id": "194cf744116245baa6f77aa4180f9c20",
       "version_major": 2,
       "version_minor": 0
      },
      "text/plain": [
       "Training iteration:   0%|          | 0/211 [00:00<?, ?it/s]"
      ]
     },
     "metadata": {},
     "output_type": "display_data"
    },
    {
     "data": {
      "application/vnd.jupyter.widget-view+json": {
       "model_id": "29b3a5327f4e4c8bb6aecff014dd5b67",
       "version_major": 2,
       "version_minor": 0
      },
      "text/plain": [
       "Evaluation iteration:   0%|          | 0/24 [00:00<?, ?it/s]"
      ]
     },
     "metadata": {},
     "output_type": "display_data"
    },
    {
     "name": "stdout",
     "output_type": "stream",
     "text": [
      "Loss history: [0.63196878383557]\n",
      "Dev loss: 0.5948475946982702\n"
     ]
    },
    {
     "name": "stderr",
     "output_type": "stream",
     "text": [
      "\r",
      "Epoch:  25%|███████████████████▎                                                         | 2/8 [01:23<04:09, 41.53s/it]"
     ]
    },
    {
     "data": {
      "application/vnd.jupyter.widget-view+json": {
       "model_id": "5874232515af4ee1b6d5b7b21a65a93b",
       "version_major": 2,
       "version_minor": 0
      },
      "text/plain": [
       "Training iteration:   0%|          | 0/211 [00:00<?, ?it/s]"
      ]
     },
     "metadata": {},
     "output_type": "display_data"
    },
    {
     "data": {
      "application/vnd.jupyter.widget-view+json": {
       "model_id": "ec75d9b440fa49a7a64ced272ef8e54b",
       "version_major": 2,
       "version_minor": 0
      },
      "text/plain": [
       "Evaluation iteration:   0%|          | 0/24 [00:00<?, ?it/s]"
      ]
     },
     "metadata": {},
     "output_type": "display_data"
    },
    {
     "name": "stderr",
     "output_type": "stream",
     "text": [
      "\r",
      "Epoch:  38%|████████████████████████████▉                                                | 3/8 [02:04<03:27, 41.46s/it]"
     ]
    },
    {
     "name": "stdout",
     "output_type": "stream",
     "text": [
      "Loss history: [0.63196878383557, 0.5948475946982702]\n",
      "Dev loss: 0.6735671348869801\n"
     ]
    },
    {
     "data": {
      "application/vnd.jupyter.widget-view+json": {
       "model_id": "3cf260c0b0ea4688a3dab3e852e91e25",
       "version_major": 2,
       "version_minor": 0
      },
      "text/plain": [
       "Training iteration:   0%|          | 0/211 [00:00<?, ?it/s]"
      ]
     },
     "metadata": {},
     "output_type": "display_data"
    },
    {
     "data": {
      "application/vnd.jupyter.widget-view+json": {
       "model_id": "1db75bf8f52749f7b88aaf4e2499766d",
       "version_major": 2,
       "version_minor": 0
      },
      "text/plain": [
       "Evaluation iteration:   0%|          | 0/24 [00:00<?, ?it/s]"
      ]
     },
     "metadata": {},
     "output_type": "display_data"
    },
    {
     "name": "stderr",
     "output_type": "stream",
     "text": [
      "\r",
      "Epoch:  38%|████████████████████████████▉                                                | 3/8 [02:45<04:36, 55.24s/it]"
     ]
    },
    {
     "name": "stdout",
     "output_type": "stream",
     "text": [
      "Loss history: [0.63196878383557, 0.5948475946982702, 0.6735671348869801]\n",
      "Dev loss: 0.9014609083533287\n",
      "No improvement on development set. Finish training.\n"
     ]
    },
    {
     "name": "stderr",
     "output_type": "stream",
     "text": [
      "\n"
     ]
    }
   ],
   "source": [
    "train(BERT_MODEL,train_texts,train_labels,dev_texts,dev_labels,target_names,label2idx,params)"
   ]
  },
  {
   "cell_type": "code",
   "execution_count": 29,
   "id": "3c15b007",
   "metadata": {},
   "outputs": [
    {
     "data": {
      "application/vnd.jupyter.widget-view+json": {
       "model_id": "27db60e8350a40ee9dd4f7753b423121",
       "version_major": 2,
       "version_minor": 0
      },
      "text/plain": [
       "Evaluation iteration:   0%|          | 0/27 [00:00<?, ?it/s]"
      ]
     },
     "metadata": {},
     "output_type": "display_data"
    },
    {
     "name": "stdout",
     "output_type": "stream",
     "text": [
      "Errors performance: (0.6714628297362111, 0.6714628297362111, 0.6714628297362111, None)\n",
      "              precision    recall  f1-score   support\n",
      "\n",
      "           0       0.65      0.67      0.66       196\n",
      "           1       0.70      0.67      0.69       221\n",
      "\n",
      "    accuracy                           0.67       417\n",
      "   macro avg       0.67      0.67      0.67       417\n",
      "weighted avg       0.67      0.67      0.67       417\n",
      "\n"
     ]
    }
   ],
   "source": [
    "_,pc_pred,pc_acc=data_evaluation(test_texts,test_labels,BERT_MODEL,params,trained=True,OUTPUT_DIR = OUTPUT_DIR, MODEL_FILE_NAME = MODEL_FILE_NAME)"
   ]
  },
  {
   "cell_type": "markdown",
   "id": "f2dc8007",
   "metadata": {},
   "source": [
    "##### Lemmatization "
   ]
  },
  {
   "cell_type": "code",
   "execution_count": 30,
   "id": "12b78c53",
   "metadata": {},
   "outputs": [],
   "source": [
    "process_data=train_data.copy()\n",
    "process_data['original_text'] = process_data['original_text'].apply(lambda x:' '.join(lemmatize_word(x)))"
   ]
  },
  {
   "cell_type": "code",
   "execution_count": 31,
   "id": "1fd380f8",
   "metadata": {},
   "outputs": [
    {
     "data": {
      "text/plain": [
       "314316    The Yarra Trams fleet consists of 500 tram , o...\n",
       "136396    Still Life is a concept album , a explained by...\n",
       "377680    Romana , short for Romanadvoratrelundar , is a...\n",
       "280270    A minor scale in music theory is any scale tha...\n",
       "285587    The show also created the character Frasier Cr...\n",
       "                                ...                        \n",
       "145077    In paintball , a bunker is an obstacle on the ...\n",
       "35542     La Ferrière-Harang is a commune in the Calvado...\n",
       "238435    The British Rail Class 325 is a dual-voltage a...\n",
       "324621    When the Palmengarten wa returned to the city ...\n",
       "38232     Pong -LRB- marketed a PONG -RRB- is one of the...\n",
       "Name: original_text, Length: 4168, dtype: object"
      ]
     },
     "execution_count": 31,
     "metadata": {},
     "output_type": "execute_result"
    }
   ],
   "source": [
    "process_data['original_text']"
   ]
  },
  {
   "cell_type": "code",
   "execution_count": 32,
   "id": "b2dffd02",
   "metadata": {},
   "outputs": [
    {
     "name": "stdout",
     "output_type": "stream",
     "text": [
      "{0: 0, 1: 1}\n",
      "Train size: 3375\n",
      "Dev size: 376\n",
      "Test size: 417\n"
     ]
    }
   ],
   "source": [
    "df_lm,(train_texts,dev_texts,test_texts),(train_labels,dev_labels,test_labels),(target_names,label2idx)=train_dev_test(process_data,random_state=RANDOM_STATE)"
   ]
  },
  {
   "cell_type": "code",
   "execution_count": 33,
   "id": "174a5a26",
   "metadata": {},
   "outputs": [
    {
     "name": "stderr",
     "output_type": "stream",
     "text": [
      "Some weights of the model checkpoint at distilbert-base-uncased were not used when initializing DistilBertForSequenceClassification: ['vocab_projector.weight', 'vocab_transform.weight', 'vocab_projector.bias', 'vocab_layer_norm.weight', 'vocab_transform.bias', 'vocab_layer_norm.bias']\n",
      "- This IS expected if you are initializing DistilBertForSequenceClassification from the checkpoint of a model trained on another task or with another architecture (e.g. initializing a BertForSequenceClassification model from a BertForPreTraining model).\n",
      "- This IS NOT expected if you are initializing DistilBertForSequenceClassification from the checkpoint of a model that you expect to be exactly identical (initializing a BertForSequenceClassification model from a BertForSequenceClassification model).\n",
      "Some weights of DistilBertForSequenceClassification were not initialized from the model checkpoint at distilbert-base-uncased and are newly initialized: ['classifier.bias', 'classifier.weight', 'pre_classifier.weight', 'pre_classifier.bias']\n",
      "You should probably TRAIN this model on a down-stream task to be able to use it for predictions and inference.\n",
      "Epoch:   0%|                                                                                     | 0/8 [00:00<?, ?it/s]"
     ]
    },
    {
     "data": {
      "application/vnd.jupyter.widget-view+json": {
       "model_id": "c09d5c8a78094bc1aafe9cfffbaddf38",
       "version_major": 2,
       "version_minor": 0
      },
      "text/plain": [
       "Training iteration:   0%|          | 0/211 [00:00<?, ?it/s]"
      ]
     },
     "metadata": {},
     "output_type": "display_data"
    },
    {
     "data": {
      "application/vnd.jupyter.widget-view+json": {
       "model_id": "e4cf89d4274846dcb13ffa3ff5e2f6bb",
       "version_major": 2,
       "version_minor": 0
      },
      "text/plain": [
       "Evaluation iteration:   0%|          | 0/24 [00:00<?, ?it/s]"
      ]
     },
     "metadata": {},
     "output_type": "display_data"
    },
    {
     "name": "stdout",
     "output_type": "stream",
     "text": [
      "Loss history: []\n",
      "Dev loss: 0.6214689078430334\n"
     ]
    },
    {
     "name": "stderr",
     "output_type": "stream",
     "text": [
      "\r",
      "Epoch:  12%|█████████▋                                                                   | 1/8 [00:41<04:49, 41.38s/it]"
     ]
    },
    {
     "data": {
      "application/vnd.jupyter.widget-view+json": {
       "model_id": "bdb040266c954240b98a3793f641c857",
       "version_major": 2,
       "version_minor": 0
      },
      "text/plain": [
       "Training iteration:   0%|          | 0/211 [00:00<?, ?it/s]"
      ]
     },
     "metadata": {},
     "output_type": "display_data"
    },
    {
     "data": {
      "application/vnd.jupyter.widget-view+json": {
       "model_id": "3a410c361bc34b16b98da39f06ac903b",
       "version_major": 2,
       "version_minor": 0
      },
      "text/plain": [
       "Evaluation iteration:   0%|          | 0/24 [00:00<?, ?it/s]"
      ]
     },
     "metadata": {},
     "output_type": "display_data"
    },
    {
     "name": "stderr",
     "output_type": "stream",
     "text": [
      "\r",
      "Epoch:  25%|███████████████████▎                                                         | 2/8 [01:22<04:07, 41.18s/it]"
     ]
    },
    {
     "name": "stdout",
     "output_type": "stream",
     "text": [
      "Loss history: [0.6214689078430334]\n",
      "Dev loss: 0.644198402762413\n"
     ]
    },
    {
     "data": {
      "application/vnd.jupyter.widget-view+json": {
       "model_id": "1f9f61a4dfab48ecb9e9f68fef1b13fd",
       "version_major": 2,
       "version_minor": 0
      },
      "text/plain": [
       "Training iteration:   0%|          | 0/211 [00:00<?, ?it/s]"
      ]
     },
     "metadata": {},
     "output_type": "display_data"
    },
    {
     "data": {
      "application/vnd.jupyter.widget-view+json": {
       "model_id": "de5f3523d0e1446c88a9ea7d1b400c12",
       "version_major": 2,
       "version_minor": 0
      },
      "text/plain": [
       "Evaluation iteration:   0%|          | 0/24 [00:00<?, ?it/s]"
      ]
     },
     "metadata": {},
     "output_type": "display_data"
    },
    {
     "name": "stderr",
     "output_type": "stream",
     "text": [
      "\r",
      "Epoch:  25%|███████████████████▎                                                         | 2/8 [02:03<06:11, 61.90s/it]"
     ]
    },
    {
     "name": "stdout",
     "output_type": "stream",
     "text": [
      "Loss history: [0.6214689078430334, 0.644198402762413]\n",
      "Dev loss: 0.7345572244375944\n",
      "No improvement on development set. Finish training.\n"
     ]
    },
    {
     "name": "stderr",
     "output_type": "stream",
     "text": [
      "\n"
     ]
    }
   ],
   "source": [
    "train(BERT_MODEL,train_texts,train_labels,dev_texts,dev_labels,target_names,label2idx,params)"
   ]
  },
  {
   "cell_type": "code",
   "execution_count": 34,
   "id": "ceb2278f",
   "metadata": {},
   "outputs": [
    {
     "data": {
      "application/vnd.jupyter.widget-view+json": {
       "model_id": "3c576e0184014bb0b6096b19dafaca6b",
       "version_major": 2,
       "version_minor": 0
      },
      "text/plain": [
       "Evaluation iteration:   0%|          | 0/27 [00:00<?, ?it/s]"
      ]
     },
     "metadata": {},
     "output_type": "display_data"
    },
    {
     "name": "stdout",
     "output_type": "stream",
     "text": [
      "Errors performance: (0.6546762589928058, 0.6546762589928058, 0.6546762589928058, None)\n",
      "              precision    recall  f1-score   support\n",
      "\n",
      "           0       0.64      0.61      0.62       196\n",
      "           1       0.67      0.69      0.68       221\n",
      "\n",
      "    accuracy                           0.65       417\n",
      "   macro avg       0.65      0.65      0.65       417\n",
      "weighted avg       0.65      0.65      0.65       417\n",
      "\n"
     ]
    }
   ],
   "source": [
    "_,lm_pred,lm_acc=data_evaluation(test_texts,test_labels,BERT_MODEL,params,trained=True,OUTPUT_DIR = OUTPUT_DIR, MODEL_FILE_NAME = MODEL_FILE_NAME)"
   ]
  },
  {
   "cell_type": "markdown",
   "id": "9c8bf41f",
   "metadata": {},
   "source": [
    "##### Check the duplicated data and create the data set without duplicates"
   ]
  },
  {
   "cell_type": "code",
   "execution_count": 35,
   "id": "767783f8",
   "metadata": {},
   "outputs": [],
   "source": [
    "train_data_unique=train_data.copy()\n",
    "train_data_unique['duplicated']=train_data_unique.duplicated(subset=['original_text'])\n",
    "#train_data_unique=train_data[train_data['duplicated']==False]\n",
    "#print(\"Duplicated records: %.2f%%\" %(100*(len(train_data)-len(train_data_unique))/len(train_data)))"
   ]
  },
  {
   "cell_type": "code",
   "execution_count": 36,
   "id": "f66e4835",
   "metadata": {},
   "outputs": [
    {
     "data": {
      "text/html": [
       "<div>\n",
       "<style scoped>\n",
       "    .dataframe tbody tr th:only-of-type {\n",
       "        vertical-align: middle;\n",
       "    }\n",
       "\n",
       "    .dataframe tbody tr th {\n",
       "        vertical-align: top;\n",
       "    }\n",
       "\n",
       "    .dataframe thead th {\n",
       "        text-align: right;\n",
       "    }\n",
       "</style>\n",
       "<table border=\"1\" class=\"dataframe\">\n",
       "  <thead>\n",
       "    <tr style=\"text-align: right;\">\n",
       "      <th></th>\n",
       "      <th>original_text</th>\n",
       "      <th>label</th>\n",
       "      <th>length</th>\n",
       "      <th>duplicated</th>\n",
       "    </tr>\n",
       "  </thead>\n",
       "  <tbody>\n",
       "    <tr>\n",
       "      <th>314316</th>\n",
       "      <td>The Yarra Trams fleet consists of 500 trams , ...</td>\n",
       "      <td>0</td>\n",
       "      <td>18</td>\n",
       "      <td>False</td>\n",
       "    </tr>\n",
       "    <tr>\n",
       "      <th>136396</th>\n",
       "      <td>Still Life is a concept album , as explained b...</td>\n",
       "      <td>1</td>\n",
       "      <td>39</td>\n",
       "      <td>False</td>\n",
       "    </tr>\n",
       "    <tr>\n",
       "      <th>377680</th>\n",
       "      <td>Romana , short for Romanadvoratrelundar , is a...</td>\n",
       "      <td>0</td>\n",
       "      <td>20</td>\n",
       "      <td>False</td>\n",
       "    </tr>\n",
       "    <tr>\n",
       "      <th>280270</th>\n",
       "      <td>A minor scale in music theory is any scale tha...</td>\n",
       "      <td>0</td>\n",
       "      <td>35</td>\n",
       "      <td>False</td>\n",
       "    </tr>\n",
       "    <tr>\n",
       "      <th>285587</th>\n",
       "      <td>The show also created the character Frasier Cr...</td>\n",
       "      <td>0</td>\n",
       "      <td>9</td>\n",
       "      <td>False</td>\n",
       "    </tr>\n",
       "    <tr>\n",
       "      <th>...</th>\n",
       "      <td>...</td>\n",
       "      <td>...</td>\n",
       "      <td>...</td>\n",
       "      <td>...</td>\n",
       "    </tr>\n",
       "    <tr>\n",
       "      <th>145077</th>\n",
       "      <td>In paintball , a bunker is an obstacle on the ...</td>\n",
       "      <td>1</td>\n",
       "      <td>25</td>\n",
       "      <td>False</td>\n",
       "    </tr>\n",
       "    <tr>\n",
       "      <th>35542</th>\n",
       "      <td>La Ferrière-Harang is a commune in the Calvado...</td>\n",
       "      <td>1</td>\n",
       "      <td>17</td>\n",
       "      <td>False</td>\n",
       "    </tr>\n",
       "    <tr>\n",
       "      <th>238435</th>\n",
       "      <td>The British Rail Class 325 is a dual-voltage a...</td>\n",
       "      <td>0</td>\n",
       "      <td>26</td>\n",
       "      <td>False</td>\n",
       "    </tr>\n",
       "    <tr>\n",
       "      <th>324621</th>\n",
       "      <td>When the Palmengarten was returned to the city...</td>\n",
       "      <td>0</td>\n",
       "      <td>21</td>\n",
       "      <td>False</td>\n",
       "    </tr>\n",
       "    <tr>\n",
       "      <th>38232</th>\n",
       "      <td>Pong -LRB- marketed as PONG -RRB- is one of th...</td>\n",
       "      <td>1</td>\n",
       "      <td>52</td>\n",
       "      <td>False</td>\n",
       "    </tr>\n",
       "  </tbody>\n",
       "</table>\n",
       "<p>4168 rows × 4 columns</p>\n",
       "</div>"
      ],
      "text/plain": [
       "                                            original_text  label  length  \\\n",
       "314316  The Yarra Trams fleet consists of 500 trams , ...      0      18   \n",
       "136396  Still Life is a concept album , as explained b...      1      39   \n",
       "377680  Romana , short for Romanadvoratrelundar , is a...      0      20   \n",
       "280270  A minor scale in music theory is any scale tha...      0      35   \n",
       "285587  The show also created the character Frasier Cr...      0       9   \n",
       "...                                                   ...    ...     ...   \n",
       "145077  In paintball , a bunker is an obstacle on the ...      1      25   \n",
       "35542   La Ferrière-Harang is a commune in the Calvado...      1      17   \n",
       "238435  The British Rail Class 325 is a dual-voltage a...      0      26   \n",
       "324621  When the Palmengarten was returned to the city...      0      21   \n",
       "38232   Pong -LRB- marketed as PONG -RRB- is one of th...      1      52   \n",
       "\n",
       "        duplicated  \n",
       "314316       False  \n",
       "136396       False  \n",
       "377680       False  \n",
       "280270       False  \n",
       "285587       False  \n",
       "...            ...  \n",
       "145077       False  \n",
       "35542        False  \n",
       "238435       False  \n",
       "324621       False  \n",
       "38232        False  \n",
       "\n",
       "[4168 rows x 4 columns]"
      ]
     },
     "execution_count": 36,
     "metadata": {},
     "output_type": "execute_result"
    }
   ],
   "source": [
    "train_data_unique"
   ]
  },
  {
   "cell_type": "code",
   "execution_count": 37,
   "id": "e5f5cc20",
   "metadata": {},
   "outputs": [],
   "source": [
    "process_data=train_data_unique.copy()\n",
    "process_data=process_data[(process_data['duplicated']==False)]"
   ]
  },
  {
   "cell_type": "code",
   "execution_count": 38,
   "id": "5dbf6f5d",
   "metadata": {},
   "outputs": [
    {
     "name": "stdout",
     "output_type": "stream",
     "text": [
      "{0: 0, 1: 1}\n",
      "Train size: 3319\n",
      "Dev size: 369\n",
      "Test size: 410\n"
     ]
    }
   ],
   "source": [
    "df_dup,(train_texts,dev_texts,test_texts),(train_labels,dev_labels,test_labels),(target_names,label2idx)=train_dev_test(process_data,random_state=RANDOM_STATE)"
   ]
  },
  {
   "cell_type": "code",
   "execution_count": 39,
   "id": "c397613f",
   "metadata": {},
   "outputs": [
    {
     "name": "stderr",
     "output_type": "stream",
     "text": [
      "Some weights of the model checkpoint at distilbert-base-uncased were not used when initializing DistilBertForSequenceClassification: ['vocab_projector.weight', 'vocab_transform.weight', 'vocab_projector.bias', 'vocab_layer_norm.weight', 'vocab_transform.bias', 'vocab_layer_norm.bias']\n",
      "- This IS expected if you are initializing DistilBertForSequenceClassification from the checkpoint of a model trained on another task or with another architecture (e.g. initializing a BertForSequenceClassification model from a BertForPreTraining model).\n",
      "- This IS NOT expected if you are initializing DistilBertForSequenceClassification from the checkpoint of a model that you expect to be exactly identical (initializing a BertForSequenceClassification model from a BertForSequenceClassification model).\n",
      "Some weights of DistilBertForSequenceClassification were not initialized from the model checkpoint at distilbert-base-uncased and are newly initialized: ['classifier.bias', 'classifier.weight', 'pre_classifier.weight', 'pre_classifier.bias']\n",
      "You should probably TRAIN this model on a down-stream task to be able to use it for predictions and inference.\n",
      "Epoch:   0%|                                                                                     | 0/8 [00:00<?, ?it/s]"
     ]
    },
    {
     "data": {
      "application/vnd.jupyter.widget-view+json": {
       "model_id": "7a85fb003d00469bac410910d8aad5c0",
       "version_major": 2,
       "version_minor": 0
      },
      "text/plain": [
       "Training iteration:   0%|          | 0/208 [00:00<?, ?it/s]"
      ]
     },
     "metadata": {},
     "output_type": "display_data"
    },
    {
     "data": {
      "application/vnd.jupyter.widget-view+json": {
       "model_id": "4afa0a488db64f6ca9eeb03b24c91519",
       "version_major": 2,
       "version_minor": 0
      },
      "text/plain": [
       "Evaluation iteration:   0%|          | 0/24 [00:00<?, ?it/s]"
      ]
     },
     "metadata": {},
     "output_type": "display_data"
    },
    {
     "name": "stdout",
     "output_type": "stream",
     "text": [
      "Loss history: []\n",
      "Dev loss: 0.6572580635547638\n"
     ]
    },
    {
     "name": "stderr",
     "output_type": "stream",
     "text": [
      "\r",
      "Epoch:  12%|█████████▋                                                                   | 1/8 [00:40<04:43, 40.57s/it]"
     ]
    },
    {
     "data": {
      "application/vnd.jupyter.widget-view+json": {
       "model_id": "8edbabe74c5644bd814aea6172c3d2f1",
       "version_major": 2,
       "version_minor": 0
      },
      "text/plain": [
       "Training iteration:   0%|          | 0/208 [00:00<?, ?it/s]"
      ]
     },
     "metadata": {},
     "output_type": "display_data"
    },
    {
     "data": {
      "application/vnd.jupyter.widget-view+json": {
       "model_id": "ead8e35d27e64043b3890965e71e9a7f",
       "version_major": 2,
       "version_minor": 0
      },
      "text/plain": [
       "Evaluation iteration:   0%|          | 0/24 [00:00<?, ?it/s]"
      ]
     },
     "metadata": {},
     "output_type": "display_data"
    },
    {
     "name": "stdout",
     "output_type": "stream",
     "text": [
      "Loss history: [0.6572580635547638]\n",
      "Dev loss: 0.5631706981609265\n"
     ]
    },
    {
     "name": "stderr",
     "output_type": "stream",
     "text": [
      "\r",
      "Epoch:  25%|███████████████████▎                                                         | 2/8 [01:20<04:02, 40.42s/it]"
     ]
    },
    {
     "data": {
      "application/vnd.jupyter.widget-view+json": {
       "model_id": "f7a6a9c06800465e94b06f18b012bdda",
       "version_major": 2,
       "version_minor": 0
      },
      "text/plain": [
       "Training iteration:   0%|          | 0/208 [00:00<?, ?it/s]"
      ]
     },
     "metadata": {},
     "output_type": "display_data"
    },
    {
     "data": {
      "application/vnd.jupyter.widget-view+json": {
       "model_id": "f4517f9459af43bb894ba9f492a80bb4",
       "version_major": 2,
       "version_minor": 0
      },
      "text/plain": [
       "Evaluation iteration:   0%|          | 0/24 [00:00<?, ?it/s]"
      ]
     },
     "metadata": {},
     "output_type": "display_data"
    },
    {
     "name": "stderr",
     "output_type": "stream",
     "text": [
      "\r",
      "Epoch:  38%|████████████████████████████▉                                                | 3/8 [02:01<03:21, 40.38s/it]"
     ]
    },
    {
     "name": "stdout",
     "output_type": "stream",
     "text": [
      "Loss history: [0.6572580635547638, 0.5631706981609265]\n",
      "Dev loss: 0.573878655831019\n"
     ]
    },
    {
     "data": {
      "application/vnd.jupyter.widget-view+json": {
       "model_id": "3744409cf6774382ac6f4ed49be7fa2c",
       "version_major": 2,
       "version_minor": 0
      },
      "text/plain": [
       "Training iteration:   0%|          | 0/208 [00:00<?, ?it/s]"
      ]
     },
     "metadata": {},
     "output_type": "display_data"
    },
    {
     "data": {
      "application/vnd.jupyter.widget-view+json": {
       "model_id": "5dd7272fe1e24e459310308e5d06e68c",
       "version_major": 2,
       "version_minor": 0
      },
      "text/plain": [
       "Evaluation iteration:   0%|          | 0/24 [00:00<?, ?it/s]"
      ]
     },
     "metadata": {},
     "output_type": "display_data"
    },
    {
     "name": "stderr",
     "output_type": "stream",
     "text": [
      "\r",
      "Epoch:  38%|████████████████████████████▉                                                | 3/8 [02:41<04:29, 53.84s/it]"
     ]
    },
    {
     "name": "stdout",
     "output_type": "stream",
     "text": [
      "Loss history: [0.6572580635547638, 0.5631706981609265, 0.573878655831019]\n",
      "Dev loss: 0.8223935291171074\n",
      "No improvement on development set. Finish training.\n"
     ]
    },
    {
     "name": "stderr",
     "output_type": "stream",
     "text": [
      "\n"
     ]
    }
   ],
   "source": [
    "train(BERT_MODEL,train_texts,train_labels,dev_texts,dev_labels,target_names,label2idx,params)"
   ]
  },
  {
   "cell_type": "code",
   "execution_count": 40,
   "id": "18f1c6c0",
   "metadata": {},
   "outputs": [
    {
     "data": {
      "application/vnd.jupyter.widget-view+json": {
       "model_id": "8ff9c53e9ab34586ad308555a88e0b0d",
       "version_major": 2,
       "version_minor": 0
      },
      "text/plain": [
       "Evaluation iteration:   0%|          | 0/26 [00:00<?, ?it/s]"
      ]
     },
     "metadata": {},
     "output_type": "display_data"
    },
    {
     "name": "stdout",
     "output_type": "stream",
     "text": [
      "Errors performance: (0.6707317073170732, 0.6707317073170732, 0.6707317073170732, None)\n",
      "              precision    recall  f1-score   support\n",
      "\n",
      "           0       0.67      0.66      0.66       201\n",
      "           1       0.67      0.68      0.68       209\n",
      "\n",
      "    accuracy                           0.67       410\n",
      "   macro avg       0.67      0.67      0.67       410\n",
      "weighted avg       0.67      0.67      0.67       410\n",
      "\n"
     ]
    }
   ],
   "source": [
    "_,dup_pred,dup_acc=data_evaluation(test_texts,test_labels,BERT_MODEL,params,trained=True,OUTPUT_DIR = OUTPUT_DIR, MODEL_FILE_NAME = MODEL_FILE_NAME)"
   ]
  },
  {
   "cell_type": "markdown",
   "id": "39051967",
   "metadata": {},
   "source": [
    "##### Remove the records which have the different labels\n",
    "The sentences with different labels should impact the train performance as well as prediction results "
   ]
  },
  {
   "cell_type": "code",
   "execution_count": 41,
   "id": "621ce4be",
   "metadata": {},
   "outputs": [],
   "source": [
    "# look for the records with different labels \n",
    "def duple_labels(data):\n",
    "    df_by=pd.DataFrame(data.groupby(['original_text','label']).count().reset_index()[[\"original_text\",\"label\"]])\n",
    "    df_by=df_by.groupby(by='original_text').count().sort_values('label',ascending=False).reset_index()\n",
    "    diff_labels=df_by[df_by['label']>1]\n",
    "    print(\"Records with different labels: %.2f%%\" %(100*len(diff_labels)/len(data)))\n",
    "    return diff_labels"
   ]
  },
  {
   "cell_type": "code",
   "execution_count": 42,
   "id": "6f886a9c",
   "metadata": {},
   "outputs": [
    {
     "name": "stdout",
     "output_type": "stream",
     "text": [
      "Records with different labels: 0.02%\n"
     ]
    }
   ],
   "source": [
    "df_duple_labels=duple_labels(train_data)"
   ]
  },
  {
   "cell_type": "code",
   "execution_count": 43,
   "id": "9b3d15d4",
   "metadata": {},
   "outputs": [],
   "source": [
    "# Indentify double labels in data\n",
    "train_data_unique=train_data_unique.merge(df_duple_labels,how=\"left\",left_on=\"original_text\",right_on=\"original_text\")\n",
    "train_data_unique['label_y']=train_data_unique['label_y'].apply(lambda x: '0' if pd.isnull(x) else '1') # 0 means 1 label, 1 means 2 labels\n",
    "train_data_unique=pd.DataFrame(train_data_unique[['original_text','label_x','label_y','duplicated']])\n",
    "train_data_unique.columns=['original_text','label','dulabel','duplicated']"
   ]
  },
  {
   "cell_type": "code",
   "execution_count": 44,
   "id": "25546482",
   "metadata": {},
   "outputs": [
    {
     "data": {
      "text/html": [
       "<div>\n",
       "<style scoped>\n",
       "    .dataframe tbody tr th:only-of-type {\n",
       "        vertical-align: middle;\n",
       "    }\n",
       "\n",
       "    .dataframe tbody tr th {\n",
       "        vertical-align: top;\n",
       "    }\n",
       "\n",
       "    .dataframe thead th {\n",
       "        text-align: right;\n",
       "    }\n",
       "</style>\n",
       "<table border=\"1\" class=\"dataframe\">\n",
       "  <thead>\n",
       "    <tr style=\"text-align: right;\">\n",
       "      <th></th>\n",
       "      <th>original_text</th>\n",
       "      <th>label</th>\n",
       "      <th>dulabel</th>\n",
       "      <th>duplicated</th>\n",
       "    </tr>\n",
       "  </thead>\n",
       "  <tbody>\n",
       "    <tr>\n",
       "      <th>0</th>\n",
       "      <td>The Yarra Trams fleet consists of 500 trams , ...</td>\n",
       "      <td>0</td>\n",
       "      <td>0</td>\n",
       "      <td>False</td>\n",
       "    </tr>\n",
       "    <tr>\n",
       "      <th>1</th>\n",
       "      <td>Still Life is a concept album , as explained b...</td>\n",
       "      <td>1</td>\n",
       "      <td>0</td>\n",
       "      <td>False</td>\n",
       "    </tr>\n",
       "    <tr>\n",
       "      <th>2</th>\n",
       "      <td>Romana , short for Romanadvoratrelundar , is a...</td>\n",
       "      <td>0</td>\n",
       "      <td>0</td>\n",
       "      <td>False</td>\n",
       "    </tr>\n",
       "    <tr>\n",
       "      <th>3</th>\n",
       "      <td>A minor scale in music theory is any scale tha...</td>\n",
       "      <td>0</td>\n",
       "      <td>0</td>\n",
       "      <td>False</td>\n",
       "    </tr>\n",
       "    <tr>\n",
       "      <th>4</th>\n",
       "      <td>The show also created the character Frasier Cr...</td>\n",
       "      <td>0</td>\n",
       "      <td>0</td>\n",
       "      <td>False</td>\n",
       "    </tr>\n",
       "    <tr>\n",
       "      <th>...</th>\n",
       "      <td>...</td>\n",
       "      <td>...</td>\n",
       "      <td>...</td>\n",
       "      <td>...</td>\n",
       "    </tr>\n",
       "    <tr>\n",
       "      <th>4163</th>\n",
       "      <td>In paintball , a bunker is an obstacle on the ...</td>\n",
       "      <td>1</td>\n",
       "      <td>0</td>\n",
       "      <td>False</td>\n",
       "    </tr>\n",
       "    <tr>\n",
       "      <th>4164</th>\n",
       "      <td>La Ferrière-Harang is a commune in the Calvado...</td>\n",
       "      <td>1</td>\n",
       "      <td>0</td>\n",
       "      <td>False</td>\n",
       "    </tr>\n",
       "    <tr>\n",
       "      <th>4165</th>\n",
       "      <td>The British Rail Class 325 is a dual-voltage a...</td>\n",
       "      <td>0</td>\n",
       "      <td>0</td>\n",
       "      <td>False</td>\n",
       "    </tr>\n",
       "    <tr>\n",
       "      <th>4166</th>\n",
       "      <td>When the Palmengarten was returned to the city...</td>\n",
       "      <td>0</td>\n",
       "      <td>0</td>\n",
       "      <td>False</td>\n",
       "    </tr>\n",
       "    <tr>\n",
       "      <th>4167</th>\n",
       "      <td>Pong -LRB- marketed as PONG -RRB- is one of th...</td>\n",
       "      <td>1</td>\n",
       "      <td>0</td>\n",
       "      <td>False</td>\n",
       "    </tr>\n",
       "  </tbody>\n",
       "</table>\n",
       "<p>4168 rows × 4 columns</p>\n",
       "</div>"
      ],
      "text/plain": [
       "                                          original_text  label dulabel  \\\n",
       "0     The Yarra Trams fleet consists of 500 trams , ...      0       0   \n",
       "1     Still Life is a concept album , as explained b...      1       0   \n",
       "2     Romana , short for Romanadvoratrelundar , is a...      0       0   \n",
       "3     A minor scale in music theory is any scale tha...      0       0   \n",
       "4     The show also created the character Frasier Cr...      0       0   \n",
       "...                                                 ...    ...     ...   \n",
       "4163  In paintball , a bunker is an obstacle on the ...      1       0   \n",
       "4164  La Ferrière-Harang is a commune in the Calvado...      1       0   \n",
       "4165  The British Rail Class 325 is a dual-voltage a...      0       0   \n",
       "4166  When the Palmengarten was returned to the city...      0       0   \n",
       "4167  Pong -LRB- marketed as PONG -RRB- is one of th...      1       0   \n",
       "\n",
       "      duplicated  \n",
       "0          False  \n",
       "1          False  \n",
       "2          False  \n",
       "3          False  \n",
       "4          False  \n",
       "...          ...  \n",
       "4163       False  \n",
       "4164       False  \n",
       "4165       False  \n",
       "4166       False  \n",
       "4167       False  \n",
       "\n",
       "[4168 rows x 4 columns]"
      ]
     },
     "execution_count": 44,
     "metadata": {},
     "output_type": "execute_result"
    }
   ],
   "source": [
    "train_data_unique"
   ]
  },
  {
   "cell_type": "markdown",
   "id": "8326ebf4",
   "metadata": {},
   "source": [
    "##### Accuracy of removing records with duplicate text or different label"
   ]
  },
  {
   "cell_type": "code",
   "execution_count": 45,
   "id": "ae5660aa",
   "metadata": {},
   "outputs": [],
   "source": [
    "process_data=train_data_unique.copy()\n",
    "process_data=process_data[(process_data['dulabel']=='0')]"
   ]
  },
  {
   "cell_type": "code",
   "execution_count": 46,
   "id": "6b7dcb2d",
   "metadata": {},
   "outputs": [
    {
     "data": {
      "text/html": [
       "<div>\n",
       "<style scoped>\n",
       "    .dataframe tbody tr th:only-of-type {\n",
       "        vertical-align: middle;\n",
       "    }\n",
       "\n",
       "    .dataframe tbody tr th {\n",
       "        vertical-align: top;\n",
       "    }\n",
       "\n",
       "    .dataframe thead th {\n",
       "        text-align: right;\n",
       "    }\n",
       "</style>\n",
       "<table border=\"1\" class=\"dataframe\">\n",
       "  <thead>\n",
       "    <tr style=\"text-align: right;\">\n",
       "      <th></th>\n",
       "      <th>original_text</th>\n",
       "      <th>label</th>\n",
       "      <th>dulabel</th>\n",
       "      <th>duplicated</th>\n",
       "    </tr>\n",
       "  </thead>\n",
       "  <tbody>\n",
       "    <tr>\n",
       "      <th>0</th>\n",
       "      <td>The Yarra Trams fleet consists of 500 trams , ...</td>\n",
       "      <td>0</td>\n",
       "      <td>0</td>\n",
       "      <td>False</td>\n",
       "    </tr>\n",
       "    <tr>\n",
       "      <th>1</th>\n",
       "      <td>Still Life is a concept album , as explained b...</td>\n",
       "      <td>1</td>\n",
       "      <td>0</td>\n",
       "      <td>False</td>\n",
       "    </tr>\n",
       "    <tr>\n",
       "      <th>2</th>\n",
       "      <td>Romana , short for Romanadvoratrelundar , is a...</td>\n",
       "      <td>0</td>\n",
       "      <td>0</td>\n",
       "      <td>False</td>\n",
       "    </tr>\n",
       "    <tr>\n",
       "      <th>3</th>\n",
       "      <td>A minor scale in music theory is any scale tha...</td>\n",
       "      <td>0</td>\n",
       "      <td>0</td>\n",
       "      <td>False</td>\n",
       "    </tr>\n",
       "    <tr>\n",
       "      <th>4</th>\n",
       "      <td>The show also created the character Frasier Cr...</td>\n",
       "      <td>0</td>\n",
       "      <td>0</td>\n",
       "      <td>False</td>\n",
       "    </tr>\n",
       "    <tr>\n",
       "      <th>...</th>\n",
       "      <td>...</td>\n",
       "      <td>...</td>\n",
       "      <td>...</td>\n",
       "      <td>...</td>\n",
       "    </tr>\n",
       "    <tr>\n",
       "      <th>4163</th>\n",
       "      <td>In paintball , a bunker is an obstacle on the ...</td>\n",
       "      <td>1</td>\n",
       "      <td>0</td>\n",
       "      <td>False</td>\n",
       "    </tr>\n",
       "    <tr>\n",
       "      <th>4164</th>\n",
       "      <td>La Ferrière-Harang is a commune in the Calvado...</td>\n",
       "      <td>1</td>\n",
       "      <td>0</td>\n",
       "      <td>False</td>\n",
       "    </tr>\n",
       "    <tr>\n",
       "      <th>4165</th>\n",
       "      <td>The British Rail Class 325 is a dual-voltage a...</td>\n",
       "      <td>0</td>\n",
       "      <td>0</td>\n",
       "      <td>False</td>\n",
       "    </tr>\n",
       "    <tr>\n",
       "      <th>4166</th>\n",
       "      <td>When the Palmengarten was returned to the city...</td>\n",
       "      <td>0</td>\n",
       "      <td>0</td>\n",
       "      <td>False</td>\n",
       "    </tr>\n",
       "    <tr>\n",
       "      <th>4167</th>\n",
       "      <td>Pong -LRB- marketed as PONG -RRB- is one of th...</td>\n",
       "      <td>1</td>\n",
       "      <td>0</td>\n",
       "      <td>False</td>\n",
       "    </tr>\n",
       "  </tbody>\n",
       "</table>\n",
       "<p>4165 rows × 4 columns</p>\n",
       "</div>"
      ],
      "text/plain": [
       "                                          original_text  label dulabel  \\\n",
       "0     The Yarra Trams fleet consists of 500 trams , ...      0       0   \n",
       "1     Still Life is a concept album , as explained b...      1       0   \n",
       "2     Romana , short for Romanadvoratrelundar , is a...      0       0   \n",
       "3     A minor scale in music theory is any scale tha...      0       0   \n",
       "4     The show also created the character Frasier Cr...      0       0   \n",
       "...                                                 ...    ...     ...   \n",
       "4163  In paintball , a bunker is an obstacle on the ...      1       0   \n",
       "4164  La Ferrière-Harang is a commune in the Calvado...      1       0   \n",
       "4165  The British Rail Class 325 is a dual-voltage a...      0       0   \n",
       "4166  When the Palmengarten was returned to the city...      0       0   \n",
       "4167  Pong -LRB- marketed as PONG -RRB- is one of th...      1       0   \n",
       "\n",
       "      duplicated  \n",
       "0          False  \n",
       "1          False  \n",
       "2          False  \n",
       "3          False  \n",
       "4          False  \n",
       "...          ...  \n",
       "4163       False  \n",
       "4164       False  \n",
       "4165       False  \n",
       "4166       False  \n",
       "4167       False  \n",
       "\n",
       "[4165 rows x 4 columns]"
      ]
     },
     "execution_count": 46,
     "metadata": {},
     "output_type": "execute_result"
    }
   ],
   "source": [
    "process_data"
   ]
  },
  {
   "cell_type": "code",
   "execution_count": 47,
   "id": "0dc61e90",
   "metadata": {},
   "outputs": [
    {
     "name": "stdout",
     "output_type": "stream",
     "text": [
      "{0: 0, 1: 1}\n",
      "Train size: 3373\n",
      "Dev size: 375\n",
      "Test size: 417\n"
     ]
    }
   ],
   "source": [
    "df_duo,(train_texts,dev_texts,test_texts),(train_labels,dev_labels,test_labels),(target_names,label2idx)=train_dev_test(process_data,random_state=RANDOM_STATE)"
   ]
  },
  {
   "cell_type": "code",
   "execution_count": 48,
   "id": "d9b9215c",
   "metadata": {},
   "outputs": [
    {
     "name": "stderr",
     "output_type": "stream",
     "text": [
      "Some weights of the model checkpoint at distilbert-base-uncased were not used when initializing DistilBertForSequenceClassification: ['vocab_projector.weight', 'vocab_transform.weight', 'vocab_projector.bias', 'vocab_layer_norm.weight', 'vocab_transform.bias', 'vocab_layer_norm.bias']\n",
      "- This IS expected if you are initializing DistilBertForSequenceClassification from the checkpoint of a model trained on another task or with another architecture (e.g. initializing a BertForSequenceClassification model from a BertForPreTraining model).\n",
      "- This IS NOT expected if you are initializing DistilBertForSequenceClassification from the checkpoint of a model that you expect to be exactly identical (initializing a BertForSequenceClassification model from a BertForSequenceClassification model).\n",
      "Some weights of DistilBertForSequenceClassification were not initialized from the model checkpoint at distilbert-base-uncased and are newly initialized: ['classifier.bias', 'classifier.weight', 'pre_classifier.weight', 'pre_classifier.bias']\n",
      "You should probably TRAIN this model on a down-stream task to be able to use it for predictions and inference.\n",
      "Epoch:   0%|                                                                                     | 0/8 [00:00<?, ?it/s]"
     ]
    },
    {
     "data": {
      "application/vnd.jupyter.widget-view+json": {
       "model_id": "7d96cf3274e7418ca301f5046f0325bb",
       "version_major": 2,
       "version_minor": 0
      },
      "text/plain": [
       "Training iteration:   0%|          | 0/211 [00:00<?, ?it/s]"
      ]
     },
     "metadata": {},
     "output_type": "display_data"
    },
    {
     "data": {
      "application/vnd.jupyter.widget-view+json": {
       "model_id": "2680c5cbb14d4f60931390e0f3dc1e18",
       "version_major": 2,
       "version_minor": 0
      },
      "text/plain": [
       "Evaluation iteration:   0%|          | 0/24 [00:00<?, ?it/s]"
      ]
     },
     "metadata": {},
     "output_type": "display_data"
    },
    {
     "name": "stdout",
     "output_type": "stream",
     "text": [
      "Loss history: []\n",
      "Dev loss: 0.6135546068350474\n"
     ]
    },
    {
     "name": "stderr",
     "output_type": "stream",
     "text": [
      "\r",
      "Epoch:  12%|█████████▋                                                                   | 1/8 [00:41<04:49, 41.35s/it]"
     ]
    },
    {
     "data": {
      "application/vnd.jupyter.widget-view+json": {
       "model_id": "4e447e33e13c456b91e4a1be491c60b1",
       "version_major": 2,
       "version_minor": 0
      },
      "text/plain": [
       "Training iteration:   0%|          | 0/211 [00:00<?, ?it/s]"
      ]
     },
     "metadata": {},
     "output_type": "display_data"
    },
    {
     "data": {
      "application/vnd.jupyter.widget-view+json": {
       "model_id": "15223fd3dcec4197b3dfd4a8fdb5762f",
       "version_major": 2,
       "version_minor": 0
      },
      "text/plain": [
       "Evaluation iteration:   0%|          | 0/24 [00:00<?, ?it/s]"
      ]
     },
     "metadata": {},
     "output_type": "display_data"
    },
    {
     "name": "stdout",
     "output_type": "stream",
     "text": [
      "Loss history: [0.6135546068350474]\n",
      "Dev loss: 0.5786453348894914\n"
     ]
    },
    {
     "name": "stderr",
     "output_type": "stream",
     "text": [
      "\r",
      "Epoch:  25%|███████████████████▎                                                         | 2/8 [01:22<04:08, 41.45s/it]"
     ]
    },
    {
     "data": {
      "application/vnd.jupyter.widget-view+json": {
       "model_id": "782822af19024e868777487979b63e40",
       "version_major": 2,
       "version_minor": 0
      },
      "text/plain": [
       "Training iteration:   0%|          | 0/211 [00:00<?, ?it/s]"
      ]
     },
     "metadata": {},
     "output_type": "display_data"
    },
    {
     "data": {
      "application/vnd.jupyter.widget-view+json": {
       "model_id": "d224c3da8b8b4da88e979f51d78aa7d7",
       "version_major": 2,
       "version_minor": 0
      },
      "text/plain": [
       "Evaluation iteration:   0%|          | 0/24 [00:00<?, ?it/s]"
      ]
     },
     "metadata": {},
     "output_type": "display_data"
    },
    {
     "name": "stderr",
     "output_type": "stream",
     "text": [
      "\r",
      "Epoch:  38%|████████████████████████████▉                                                | 3/8 [02:04<03:27, 41.41s/it]"
     ]
    },
    {
     "name": "stdout",
     "output_type": "stream",
     "text": [
      "Loss history: [0.6135546068350474, 0.5786453348894914]\n",
      "Dev loss: 0.5971092892189821\n"
     ]
    },
    {
     "data": {
      "application/vnd.jupyter.widget-view+json": {
       "model_id": "7cbc40cac71a4660a46e2c9c6ff4b208",
       "version_major": 2,
       "version_minor": 0
      },
      "text/plain": [
       "Training iteration:   0%|          | 0/211 [00:00<?, ?it/s]"
      ]
     },
     "metadata": {},
     "output_type": "display_data"
    },
    {
     "data": {
      "application/vnd.jupyter.widget-view+json": {
       "model_id": "4735b46fef694d04959cc1d34121b9eb",
       "version_major": 2,
       "version_minor": 0
      },
      "text/plain": [
       "Evaluation iteration:   0%|          | 0/24 [00:00<?, ?it/s]"
      ]
     },
     "metadata": {},
     "output_type": "display_data"
    },
    {
     "name": "stderr",
     "output_type": "stream",
     "text": [
      "\r",
      "Epoch:  38%|████████████████████████████▉                                                | 3/8 [02:44<04:34, 54.99s/it]"
     ]
    },
    {
     "name": "stdout",
     "output_type": "stream",
     "text": [
      "Loss history: [0.6135546068350474, 0.5786453348894914, 0.5971092892189821]\n",
      "Dev loss: 0.8266282541056474\n",
      "No improvement on development set. Finish training.\n"
     ]
    },
    {
     "name": "stderr",
     "output_type": "stream",
     "text": [
      "\n"
     ]
    }
   ],
   "source": [
    "train(BERT_MODEL,train_texts,train_labels,dev_texts,dev_labels,target_names,label2idx,params)"
   ]
  },
  {
   "cell_type": "code",
   "execution_count": 49,
   "id": "5f800100",
   "metadata": {},
   "outputs": [
    {
     "data": {
      "application/vnd.jupyter.widget-view+json": {
       "model_id": "706e3e7a3fb24124a1c71d480c53791e",
       "version_major": 2,
       "version_minor": 0
      },
      "text/plain": [
       "Evaluation iteration:   0%|          | 0/27 [00:00<?, ?it/s]"
      ]
     },
     "metadata": {},
     "output_type": "display_data"
    },
    {
     "name": "stdout",
     "output_type": "stream",
     "text": [
      "Errors performance: (0.697841726618705, 0.697841726618705, 0.697841726618705, None)\n",
      "              precision    recall  f1-score   support\n",
      "\n",
      "           0       0.76      0.57      0.66       209\n",
      "           1       0.66      0.82      0.73       208\n",
      "\n",
      "    accuracy                           0.70       417\n",
      "   macro avg       0.71      0.70      0.69       417\n",
      "weighted avg       0.71      0.70      0.69       417\n",
      "\n"
     ]
    }
   ],
   "source": [
    "_,duo_pred,duo_acc=data_evaluation(test_texts,test_labels,BERT_MODEL,params,trained=True,OUTPUT_DIR = OUTPUT_DIR, MODEL_FILE_NAME = MODEL_FILE_NAME)"
   ]
  },
  {
   "cell_type": "markdown",
   "id": "78183ee2",
   "metadata": {},
   "source": [
    "##### Compare the results from different text processing"
   ]
  },
  {
   "cell_type": "code",
   "execution_count": 50,
   "id": "0dc7f0bb",
   "metadata": {},
   "outputs": [],
   "source": [
    "df_acc=pd.DataFrame(columns=['description','accuracy'])\n",
    "df_acc['description']=['Pretrain','Fine tune without preprocessing',\n",
    "                       'Removal of stopwords','Correction of spelling',\n",
    "                      'Lemmatization','Removal of duplicate records',\n",
    "                      'Removal of mislabeling']\n",
    "df_acc['accuracy']=[init_acc,orig_acc,sw_acc,pc_acc,lm_acc,dup_acc,duo_acc]"
   ]
  },
  {
   "cell_type": "code",
   "execution_count": 51,
   "id": "08ca85fa",
   "metadata": {},
   "outputs": [
    {
     "data": {
      "text/plain": [
       "<AxesSubplot:xlabel='accuracy', ylabel='description'>"
      ]
     },
     "execution_count": 51,
     "metadata": {},
     "output_type": "execute_result"
    },
    {
     "data": {
      "image/png": "[encoded data removed]",
      "text/plain": [
       "<Figure size 432x288 with 1 Axes>"
      ]
     },
     "metadata": {
      "needs_background": "light"
     },
     "output_type": "display_data"
    }
   ],
   "source": [
    "sns.barplot(data=df_acc, y=\"description\", x=\"accuracy\")"
   ]
  },
  {
   "cell_type": "markdown",
   "id": "83a0ccb2",
   "metadata": {},
   "source": [
    "##### Impact investigation on similar text"
   ]
  },
  {
   "cell_type": "code",
   "execution_count": 52,
   "id": "8cdd5154",
   "metadata": {},
   "outputs": [],
   "source": [
    "df_test=pd.DataFrame(columns=['original_text','label','err','init_pred','best_pred','cnt_1','cnt_0','avg_1','avg_0'])"
   ]
  },
  {
   "cell_type": "code",
   "execution_count": 53,
   "id": "a8585b26",
   "metadata": {},
   "outputs": [
    {
     "ename": "NameError",
     "evalue": "name 'orig_texts' is not defined",
     "output_type": "error",
     "traceback": [
      "\u001b[1;31m---------------------------------------------------------------------------\u001b[0m",
      "\u001b[1;31mNameError\u001b[0m                                 Traceback (most recent call last)",
      "\u001b[1;32m~\\AppData\\Local\\Temp\\ipykernel_5908\\1739399224.py\u001b[0m in \u001b[0;36m<cell line: 1>\u001b[1;34m()\u001b[0m\n\u001b[1;32m----> 1\u001b[1;33m \u001b[0mdf_test\u001b[0m\u001b[1;33m[\u001b[0m\u001b[1;34m'original_text'\u001b[0m\u001b[1;33m]\u001b[0m\u001b[1;33m=\u001b[0m\u001b[0morig_texts\u001b[0m\u001b[1;33m\u001b[0m\u001b[1;33m\u001b[0m\u001b[0m\n\u001b[0m\u001b[0;32m      2\u001b[0m \u001b[0mdf_test\u001b[0m\u001b[1;33m[\u001b[0m\u001b[1;34m'label'\u001b[0m\u001b[1;33m]\u001b[0m\u001b[1;33m=\u001b[0m\u001b[0morig_labels\u001b[0m\u001b[1;33m\u001b[0m\u001b[1;33m\u001b[0m\u001b[0m\n\u001b[0;32m      3\u001b[0m \u001b[0mdf_test\u001b[0m\u001b[1;33m[\u001b[0m\u001b[1;34m'init_pred'\u001b[0m\u001b[1;33m]\u001b[0m\u001b[1;33m=\u001b[0m\u001b[0minit_pred\u001b[0m\u001b[1;33m\u001b[0m\u001b[1;33m\u001b[0m\u001b[0m\n\u001b[0;32m      4\u001b[0m \u001b[0mdf_test\u001b[0m\u001b[1;33m[\u001b[0m\u001b[1;34m'best_pred'\u001b[0m\u001b[1;33m]\u001b[0m\u001b[1;33m=\u001b[0m\u001b[0morig_pred\u001b[0m\u001b[1;33m\u001b[0m\u001b[1;33m\u001b[0m\u001b[0m\n\u001b[0;32m      5\u001b[0m \u001b[0mdf_test\u001b[0m\u001b[1;33m[\u001b[0m\u001b[1;34m'err'\u001b[0m\u001b[1;33m]\u001b[0m\u001b[1;33m=\u001b[0m\u001b[0mdf_test\u001b[0m\u001b[1;33m[\u001b[0m\u001b[1;34m'best_pred'\u001b[0m\u001b[1;33m]\u001b[0m\u001b[1;33m-\u001b[0m\u001b[0mdf_test\u001b[0m\u001b[1;33m[\u001b[0m\u001b[1;34m'label'\u001b[0m\u001b[1;33m]\u001b[0m\u001b[1;33m\u001b[0m\u001b[1;33m\u001b[0m\u001b[0m\n",
      "\u001b[1;31mNameError\u001b[0m: name 'orig_texts' is not defined"
     ]
    }
   ],
   "source": [
    "df_test['original_text']=orig_test_texts\n",
    "df_test['label']=orig_test_labels\n",
    "df_test['init_pred']=init_pred\n",
    "df_test['best_pred']=orig_pred\n",
    "df_test['err']=df_test['best_pred']-df_test['label']\n",
    "df_test['err']=df_test['err'].apply(lambda x: 1 if x!=0 else x)"
   ]
  },
  {
   "cell_type": "code",
   "execution_count": null,
   "id": "91f2c56e",
   "metadata": {},
   "outputs": [],
   "source": [
    "df_test"
   ]
  },
  {
   "cell_type": "markdown",
   "id": "d4b3d9f7",
   "metadata": {},
   "source": [
    "##### Display the length of test data and error data in test set"
   ]
  },
  {
   "cell_type": "code",
   "execution_count": null,
   "id": "4e599de7",
   "metadata": {},
   "outputs": [],
   "source": [
    "# Plot histogram with the length. Truncate max length to 5000 tokens.\n",
    "plt.style.use(\"ggplot\")\n",
    "\n",
    "plt.figure(figsize=(10, 8))\n",
    "df_test['length'] = df_test['original_text'].apply(lambda x: len(x.split()))\n",
    "sns.distplot(df_test[df_test['length'] < 5000]['length'])\n",
    "plt.title('Frequence of sentences of a given length', fontsize=14)\n",
    "plt.xlabel('length', fontsize=14)"
   ]
  },
  {
   "cell_type": "code",
   "execution_count": null,
   "id": "c8ed60d3",
   "metadata": {},
   "outputs": [],
   "source": [
    "sns.distplot(df_test[(df_test['length'] < 5000) & (df_test['err']==1)]['length'])\n",
    "plt.title('Frequence of sentences of a given length', fontsize=14)\n",
    "plt.xlabel('length', fontsize=14)"
   ]
  },
  {
   "cell_type": "code",
   "execution_count": null,
   "id": "8f9eb464",
   "metadata": {},
   "outputs": [],
   "source": [
    "from sentence_transformers import SentenceTransformer\n",
    "onlinemodel='all-mpnet-base-v2'\n",
    "embedder = SentenceTransformer(onlinemodel)"
   ]
  },
  {
   "cell_type": "code",
   "execution_count": null,
   "id": "2d2241a0",
   "metadata": {},
   "outputs": [],
   "source": [
    "from sklearn.metrics.pairwise import cosine_similarity\n",
    "# work out the similarity and identify the record of self\n",
    "#str_to_predict=df_test['original_text'].iloc[11]\n",
    "#print(str_to_predict)\n",
    "query_embeddings=embedder.encode(df_test['original_text'])\n",
    "#sim=cosine_similarity([embedder.encode(str_to_predict)],query_embeddings)\n",
    "#j=np.argmax(sim)\n",
    "#sim.argsort()[-3:][::-1][0][:-1]"
   ]
  },
  {
   "cell_type": "markdown",
   "id": "2a459ffc",
   "metadata": {},
   "source": [
    "Compare the embeddings between error records in test set with training set + test set ( including error record), find out the similar \n",
    "records,display the numbers of different labels to check whether the portion of label could impact the classification records."
   ]
  },
  {
   "cell_type": "code",
   "execution_count": null,
   "id": "ed73410c",
   "metadata": {},
   "outputs": [],
   "source": [
    "#Create the dataset for comparison,remove duplicate and different label\n",
    "#df_train=train_data_unique[(train_data_unique['duplicated']==False) | (train_data_unique['dulabel']=='0')]\n",
    "df_train=train_data_unique.copy()\n",
    "df_comp=pd.concat([pd.DataFrame(df_train[['original_text','label']]),pd.DataFrame()],\n",
    "                  ignore_index=True)\n",
    "\n",
    "#Assign the index to identify each row\n",
    "#df_comp=df_train.copy()\n",
    "df_comp=df_comp.reset_index()\n",
    "\n",
    "\n",
    "# Create the embedding for comparison dataset\n",
    "query_embeddings=embedder.encode(df_comp['original_text'])"
   ]
  },
  {
   "cell_type": "code",
   "execution_count": null,
   "id": "f7b6c62e",
   "metadata": {},
   "outputs": [],
   "source": [
    "df_test['id']=df_test.index\n",
    "df_test['id']=df_test['id'].apply(lambda x: 'e'+str(x))"
   ]
  },
  {
   "cell_type": "code",
   "execution_count": null,
   "id": "99f30372",
   "metadata": {},
   "outputs": [],
   "source": [
    "df_test"
   ]
  },
  {
   "cell_type": "code",
   "execution_count": null,
   "id": "f043ede5",
   "metadata": {},
   "outputs": [],
   "source": [
    "# Set the simlarity threshold \n",
    "THRESHOLD=0.5\n",
    "\n",
    "#Create dateset to cluster the similar sentence\n",
    "err_cluster=pd.DataFrame(columns=list(df_comp.columns)+['score','cluster'])\n",
    "\n",
    "df_err=df_test[df_test['err']==1]\n",
    "for i in trange(len(df_err)):\n",
    "    #print(df_test[df_test['err']==1]['original_text'].iloc[i])\n",
    "    df_temp=pd.DataFrame(columns=err_cluster.columns)\n",
    "    str_to_predict=df_test[df_test['err']==1]['original_text'].iloc[i]\n",
    "    #print(str_to_predict)\n",
    "    sim=cosine_similarity([embedder.encode(str_to_predict)],query_embeddings)\n",
    "    j=np.argmax(sim)\n",
    "    sim_rows=list(np.where(sim[0]>THRESHOLD)[0])\n",
    "    if sim_rows !=[]:\n",
    "        #print(set(np.where(sim[0]>THRESHOLD)[0]))\n",
    "        \n",
    "        if err_cluster.empty:\n",
    "            df_temp=df_comp.iloc[sim_rows]\n",
    "        else:\n",
    "            #print(set(err_cluster['index']))\n",
    "            #df_temp=df_comp.iloc[list(set(sim_rows)-set(list(err_cluster['index'])))]\n",
    "            df_temp=df_comp.iloc[sim_rows]\n",
    "            # (df_temp)\n",
    "        \n",
    "        if df_temp.empty== False:\n",
    "            #print(sim[0][sim_rows])\n",
    "            df_temp['score']=sim[0][sim_rows]\n",
    "            df_temp['cluster']=df_err['id'].iloc[i]\n",
    "            \n",
    "            \n",
    "            err_cluster=pd.concat([err_cluster,df_temp],axis=0,ignore_index=True)\n",
    "            #print(df_temp)"
   ]
  },
  {
   "cell_type": "code",
   "execution_count": null,
   "id": "f3a3593c",
   "metadata": {},
   "outputs": [],
   "source": [
    "err_cluster"
   ]
  },
  {
   "cell_type": "code",
   "execution_count": null,
   "id": "35e06216",
   "metadata": {},
   "outputs": [],
   "source": [
    "#Display the records whose similar recods have 2 diferent labels\n",
    "df_group=err_cluster.groupby(['cluster','label']).count().reset_index().groupby('cluster').count()\n",
    "df_group[df_group['label']>1]"
   ]
  },
  {
   "cell_type": "code",
   "execution_count": null,
   "id": "14d47a8e",
   "metadata": {},
   "outputs": [],
   "source": [
    "err_cluster[err_cluster['cluster']=='e100']"
   ]
  },
  {
   "cell_type": "code",
   "execution_count": null,
   "id": "cf298801",
   "metadata": {},
   "outputs": [],
   "source": [
    "df_err[df_err['id']=='e100']"
   ]
  },
  {
   "cell_type": "markdown",
   "id": "0ab38f65",
   "metadata": {},
   "source": [
    "Change label and retrain the model ,see whether it could impact the evluation result."
   ]
  },
  {
   "cell_type": "code",
   "execution_count": null,
   "id": "ce0b84da",
   "metadata": {},
   "outputs": [],
   "source": [
    "#Create train, dev, test data\n",
    "df_comp.iloc[4088]"
   ]
  },
  {
   "cell_type": "code",
   "execution_count": null,
   "id": "b30313fa",
   "metadata": {},
   "outputs": [],
   "source": [
    "df_comp.at[4088,'label']=0"
   ]
  },
  {
   "cell_type": "code",
   "execution_count": null,
   "id": "fe1cc024",
   "metadata": {},
   "outputs": [],
   "source": [
    "df_comp.at[4088,'label']"
   ]
  },
  {
   "cell_type": "code",
   "execution_count": null,
   "id": "52d791f1",
   "metadata": {},
   "outputs": [],
   "source": [
    "orig_train_text=df_comp['original_text']\n",
    "orig_train_label=df_comp['label']"
   ]
  },
  {
   "cell_type": "code",
   "execution_count": null,
   "id": "5edb42f7",
   "metadata": {},
   "outputs": [],
   "source": [
    "train(BERT_MODEL,orig_train_texts,orig_train_labels,orig_dev_texts,orig_dev_labels,target_names,label2idx,params)"
   ]
  },
  {
   "cell_type": "code",
   "execution_count": null,
   "id": "88824f48",
   "metadata": {},
   "outputs": [],
   "source": [
    "_,orig_pred,orig_acc=data_evaluation(orig_test_texts,orig_test_labels,BERT_MODEL,params,trained=True,OUTPUT_DIR = OUTPUT_DIR, MODEL_FILE_NAME = MODEL_FILE_NAME)"
   ]
  },
  {
   "cell_type": "code",
   "execution_count": null,
   "id": "4523835c",
   "metadata": {},
   "outputs": [],
   "source": [
    "orig_test_texts[100],orig_pred[100]"
   ]
  },
  {
   "cell_type": "markdown",
   "id": "f2c27505",
   "metadata": {},
   "source": [
    "Apparently, after chaning one record's label from 1 to 0, the result of evaluation is changed as well.\n",
    "Let's change the label back, and take further test again."
   ]
  },
  {
   "cell_type": "code",
   "execution_count": null,
   "id": "7589057b",
   "metadata": {},
   "outputs": [],
   "source": [
    "df_comp.at[4088,'label']=1"
   ]
  },
  {
   "cell_type": "code",
   "execution_count": null,
   "id": "64cc9427",
   "metadata": {},
   "outputs": [],
   "source": [
    "df_comp.at[4088,'label']"
   ]
  },
  {
   "cell_type": "code",
   "execution_count": null,
   "id": "d272ea9f",
   "metadata": {},
   "outputs": [],
   "source": [
    "err_cluster[err_cluster['cluster']=='e9']"
   ]
  },
  {
   "cell_type": "code",
   "execution_count": null,
   "id": "ee2a26e6",
   "metadata": {},
   "outputs": [],
   "source": [
    "df_err[df_err['id']=='e9']"
   ]
  },
  {
   "cell_type": "code",
   "execution_count": null,
   "id": "adc522e7",
   "metadata": {},
   "outputs": [],
   "source": [
    "df_comp.at[3467,'label']=0\n",
    "df_comp.at[642,'label']=0"
   ]
  },
  {
   "cell_type": "code",
   "execution_count": null,
   "id": "0c7a9d0b",
   "metadata": {},
   "outputs": [],
   "source": [
    "df_comp.at[3467,'label'],df_comp.at[642,'label']"
   ]
  },
  {
   "cell_type": "code",
   "execution_count": null,
   "id": "b94d06a9",
   "metadata": {},
   "outputs": [],
   "source": [
    "orig_train_text=df_comp['original_text']\n",
    "orig_train_label=df_comp['label']"
   ]
  },
  {
   "cell_type": "code",
   "execution_count": null,
   "id": "29617a1a",
   "metadata": {},
   "outputs": [],
   "source": [
    "train(BERT_MODEL,orig_train_texts,orig_train_labels,orig_dev_texts,orig_dev_labels,target_names,label2idx,params)"
   ]
  },
  {
   "cell_type": "code",
   "execution_count": null,
   "id": "4cabef8b",
   "metadata": {},
   "outputs": [],
   "source": [
    "_,orig_pred,orig_acc=data_evaluation(orig_test_texts,orig_test_labels,BERT_MODEL,params,trained=True,OUTPUT_DIR = OUTPUT_DIR, MODEL_FILE_NAME = MODEL_FILE_NAME)"
   ]
  },
  {
   "cell_type": "code",
   "execution_count": null,
   "id": "84d3661e",
   "metadata": {},
   "outputs": [],
   "source": [
    "orig_test_texts[9],orig_pred[9]"
   ]
  },
  {
   "cell_type": "code",
   "execution_count": null,
   "id": "f492b2c0",
   "metadata": {},
   "outputs": [],
   "source": []
  },
  {
   "cell_type": "code",
   "execution_count": null,
   "id": "9eeeba4b",
   "metadata": {},
   "outputs": [],
   "source": [
    "err_cluster[err_cluster['cluster']=='e103']"
   ]
  },
  {
   "cell_type": "code",
   "execution_count": null,
   "id": "fcad0d58",
   "metadata": {},
   "outputs": [],
   "source": [
    "df_err[df_err['id']=='e103']"
   ]
  },
  {
   "cell_type": "code",
   "execution_count": null,
   "id": "a9cbfcf1",
   "metadata": {},
   "outputs": [],
   "source": [
    "err_cluster[err_cluster['cluster']=='e111']"
   ]
  },
  {
   "cell_type": "code",
   "execution_count": null,
   "id": "7a227c69",
   "metadata": {},
   "outputs": [],
   "source": [
    "df_err[df_err['id']=='e111']"
   ]
  },
  {
   "cell_type": "markdown",
   "id": "37ab05ab",
   "metadata": {},
   "source": [
    "##### Final report 5.3 - Unsupervised learning"
   ]
  },
  {
   "cell_type": "markdown",
   "id": "881744b1",
   "metadata": {},
   "source": [
    "Step 1. Create dataset for unsupervised learning"
   ]
  },
  {
   "cell_type": "code",
   "execution_count": null,
   "id": "fd2bfed7",
   "metadata": {},
   "outputs": [],
   "source": [
    "# Create the embedding for comparison dataset\n",
    "df_train=train_data_unique.copy()\n",
    "df_train['type']='train'\n",
    "df_train['err']='0'\n",
    "df_test['type']='test'\n",
    "df_cluster=pd.concat([pd.DataFrame(df_train[['original_text','label','type','err']]),\n",
    "                   pd.DataFrame(df_test[['original_text','label','type','err']])],\n",
    "                  ignore_index=True)\n",
    "\n",
    "#Assign the index to identify each row\n",
    "df_cluster=df_cluster.reset_index()\n"
   ]
  },
  {
   "cell_type": "markdown",
   "id": "92ed1443",
   "metadata": {},
   "source": [
    "Step 2. Using sentence-BERT to create the embeddings."
   ]
  },
  {
   "cell_type": "code",
   "execution_count": null,
   "id": "859dda3a",
   "metadata": {},
   "outputs": [],
   "source": [
    "cluster_embeddings=embedder.encode(df_cluster['original_text'])"
   ]
  },
  {
   "cell_type": "markdown",
   "id": "9d65885c",
   "metadata": {},
   "source": [
    "Step 3. Run PCA"
   ]
  },
  {
   "cell_type": "code",
   "execution_count": null,
   "id": "4109f2f2",
   "metadata": {},
   "outputs": [],
   "source": [
    "# Clustering algorithms\n",
    "from sklearn.decomposition import PCA\n",
    "from sklearn.cluster import KMeans, MiniBatchKMeans\n",
    "from sklearn.metrics.pairwise import cosine_similarity\n",
    "\n",
    "# Using PCA to reduce the dimension to project the result to 2-d scatter plot\n",
    "pca = PCA(n_components=2)\n",
    "principalComponents = pca.fit_transform(cluster_embeddings)"
   ]
  },
  {
   "cell_type": "code",
   "execution_count": null,
   "id": "886fb438",
   "metadata": {},
   "outputs": [],
   "source": [
    "df_pca = pd.DataFrame(data = principalComponents\n",
    "             , columns = ['principal component 1', 'principal component 2'])\n",
    "\n",
    "df_pca['sentence_id']=df_cluster.index"
   ]
  },
  {
   "cell_type": "markdown",
   "id": "82dabdd3",
   "metadata": {},
   "source": [
    "Step 4. Run Elbow method to find out optimal K."
   ]
  },
  {
   "cell_type": "code",
   "execution_count": null,
   "id": "b98d7e7e",
   "metadata": {},
   "outputs": [],
   "source": [
    "# Elbow criterion - Determine optimal numbers of clusters by elbow rule.\n",
    "def elbow_plot(data, maxK=15, seed_centroids=None):\n",
    "    \"\"\"\n",
    "        parameters:\n",
    "        - data: pandas DataFrame (data to be fitted)\n",
    "        - maxK (default = 10): integer (maximum number of clusters with which to run k-means)\n",
    "        - seed_centroids (default = None ): float (initial value of centroids for k-means)\n",
    "    \"\"\"\n",
    "    sse = []\n",
    "    K= range(1, maxK)\n",
    "    for k in K:\n",
    "        if seed_centroids is not None:\n",
    "            seeds = seed_centroids.head(k)\n",
    "            kmeans = KMeans(n_clusters=k, max_iter=500, n_init=100, random_state=0, init=np.reshape(seeds, (k,1))).fit(data)\n",
    "            #data[\"clusters\"] = kmeans.labels_\n",
    "        else:\n",
    "            kmeans = KMeans(n_clusters=k, max_iter=300, n_init=100, random_state=0).fit(data)\n",
    "            #data[\"clusters\"] = kmeans.labels_\n",
    "        print(\"k: \", k,\"sse: \",kmeans.inertia_)\n",
    "        # Inertia: Sum of distances of samples to their closest cluster center\n",
    "        sse.append(kmeans.inertia_)\n",
    "    plt.figure()\n",
    "    plt.plot(K,sse,'bx-')\n",
    "    plt.xlabel('k')\n",
    "    plt.ylabel('Sum_of_squared_distances')\n",
    "    plt.title('Elbow Method For Optimal k')\n",
    "    plt.show()\n",
    "    return kmeans.labels_"
   ]
  },
  {
   "cell_type": "code",
   "execution_count": null,
   "id": "f64b04e1",
   "metadata": {},
   "outputs": [],
   "source": [
    "# Run Elbow for full training data\n",
    "elbow_plot(principalComponents,maxK=15)"
   ]
  },
  {
   "cell_type": "markdown",
   "id": "85959e16",
   "metadata": {},
   "source": [
    "Step 5. Run Kmeans to cluster the embeddings"
   ]
  },
  {
   "cell_type": "code",
   "execution_count": null,
   "id": "87d523da",
   "metadata": {},
   "outputs": [],
   "source": [
    "num_clusters = 2\n",
    "clf = KMeans(n_clusters=num_clusters, \n",
    "            max_iter=100, \n",
    "            init='k-means++', \n",
    "            n_init=1)\n",
    "clf.fit_predict(cluster_embeddings)\n",
    "cluster_assignment = clf.labels_\n",
    "\n",
    "cdf=pd.DataFrame(columns=[\"cluster_id\",\"sentence_id\",\"sentence\"])\n",
    "\n",
    "for i in range(len(cluster_assignment)):\n",
    "    new_row=pd.Series(data={\"cluster_id\":cluster_assignment[i],\n",
    "                                \"sentence_id\":i,\n",
    "                                \"sentence\":df_cluster.iloc[i]['original_text'],\n",
    "                                \"label\":df_cluster.iloc[i]['label'],\n",
    "                                \"err\":str(df_cluster.iloc[i]['err'])\n",
    "                           }\n",
    "                            )\n",
    "    cdf=cdf.append(new_row,ignore_index=True)\n",
    "\n",
    "cdf.head()"
   ]
  },
  {
   "cell_type": "code",
   "execution_count": null,
   "id": "4fcd4879",
   "metadata": {},
   "outputs": [],
   "source": [
    "# Combine PCA results with K-means results to see clustering\n",
    "df_k=df_pca.merge(cdf,right_on=['sentence_id'],left_on=['sentence_id'])"
   ]
  },
  {
   "cell_type": "code",
   "execution_count": null,
   "id": "0f2a6cf4",
   "metadata": {},
   "outputs": [],
   "source": [
    "df_k"
   ]
  },
  {
   "cell_type": "markdown",
   "id": "b14e72aa",
   "metadata": {},
   "source": [
    "Step 6. Plot clustering results"
   ]
  },
  {
   "cell_type": "code",
   "execution_count": null,
   "id": "6cb7ae59",
   "metadata": {},
   "outputs": [],
   "source": [
    "import altair as alt\n",
    "\n",
    "alt.Chart(df_k).mark_point(size=60).encode(\n",
    "    x='principal component 1',\n",
    "    y='principal component 2',\n",
    "    shape='err:N',\n",
    "    color=alt.Color('cluster_id', scale=alt.Scale(scheme='category20c')),\n",
    "    tooltip=['sentence','sentence_id','label']\n",
    ").properties(title='PCA & Kmeans',height=400,width=500).interactive()"
   ]
  },
  {
   "cell_type": "markdown",
   "id": "ffdf35cc",
   "metadata": {},
   "source": [
    "Using UMAP & HDBSCAN  "
   ]
  },
  {
   "cell_type": "code",
   "execution_count": null,
   "id": "53d26170",
   "metadata": {},
   "outputs": [],
   "source": [
    "import umap\n",
    "umap_embeddings = umap.UMAP(n_neighbors=30, \n",
    "                            n_components=2, \n",
    "                            metric='cosine').fit_transform(cluster_embeddings)"
   ]
  },
  {
   "cell_type": "code",
   "execution_count": null,
   "id": "175351bf",
   "metadata": {},
   "outputs": [],
   "source": [
    "import hdbscan\n",
    "cluster = hdbscan.HDBSCAN(min_cluster_size=2,\n",
    "                          metric='euclidean',                      \n",
    "                          cluster_selection_method='eom').fit(umap_embeddings)"
   ]
  },
  {
   "cell_type": "code",
   "execution_count": null,
   "id": "3bc88e69",
   "metadata": {},
   "outputs": [],
   "source": [
    "umap_embeddings"
   ]
  },
  {
   "cell_type": "code",
   "execution_count": null,
   "id": "689ea577",
   "metadata": {},
   "outputs": [],
   "source": [
    "df_uh = pd.DataFrame(data = umap_embeddings\n",
    "             , columns = ['UMAP component 1', 'UMAP component 2'])\n",
    "\n",
    "df_uh['sentence_id']=df_cluster.index"
   ]
  },
  {
   "cell_type": "code",
   "execution_count": null,
   "id": "128a19cd",
   "metadata": {},
   "outputs": [],
   "source": [
    "uh_cluster_assignment = cluster.labels_\n",
    "\n",
    "uh_cdf=pd.DataFrame(columns=[\"cluster_id\",\"sentence_id\",\"sentence\"])\n",
    "\n",
    "for i in range(len(uh_cluster_assignment)):\n",
    "    new_row=pd.Series(data={\"cluster_id\":uh_cluster_assignment[i],\n",
    "                                \"sentence_id\":i,\n",
    "                                \"sentence\":df_cluster.iloc[i]['original_text'],\n",
    "                                \"label\":df_cluster.iloc[i]['label'],\n",
    "                                \"err\":str(df_cluster.iloc[i]['err'])\n",
    "                           }\n",
    "                            )\n",
    "    uh_cdf=uh_cdf.append(new_row,ignore_index=True)\n",
    "\n",
    "uh_cdf.head()"
   ]
  },
  {
   "cell_type": "code",
   "execution_count": null,
   "id": "3440d5c1",
   "metadata": {},
   "outputs": [],
   "source": [
    "# Combine PCA results with K-means results to see clustering\n",
    "df_uh_c=df_uh.merge(uh_cdf,right_on=['sentence_id'],left_on=['sentence_id'])"
   ]
  },
  {
   "cell_type": "code",
   "execution_count": null,
   "id": "86c7cf92",
   "metadata": {},
   "outputs": [],
   "source": [
    "alt.Chart(df_uh_c).mark_point(size=60).encode(\n",
    "    x='UMAP component 1',\n",
    "    y='UMAP component 2',\n",
    "    shape='err:N',\n",
    "    color=alt.Color('cluster_id', scale=alt.Scale(scheme='category20c')),\n",
    "    tooltip=['sentence','label']\n",
    ").properties(title='UMAP & HBDSCAN',height=400,width=500).interactive()"
   ]
  },
  {
   "cell_type": "code",
   "execution_count": null,
   "id": "81b0806f",
   "metadata": {},
   "outputs": [],
   "source": [
    "df_uh_c[df_uh_c['sentence_id']==4257]"
   ]
  },
  {
   "cell_type": "code",
   "execution_count": null,
   "id": "90052e9f",
   "metadata": {},
   "outputs": [],
   "source": []
  }
 ],
 "metadata": {
  "kernelspec": {
   "display_name": "Python 3 (ipykernel)",
   "language": "python",
   "name": "python3"
  },
  "language_info": {
   "codemirror_mode": {
    "name": "ipython",
    "version": 3
   },
   "file_extension": ".py",
   "mimetype": "text/x-python",
   "name": "python",
   "nbconvert_exporter": "python",
   "pygments_lexer": "ipython3",
   "version": "3.10.8"
  }
 },
 "nbformat": 4,
 "nbformat_minor": 5
}
